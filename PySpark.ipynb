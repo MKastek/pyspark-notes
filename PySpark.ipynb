{
  "nbformat": 4,
  "nbformat_minor": 0,
  "metadata": {
    "colab": {
      "provenance": [],
      "toc_visible": true,
      "authorship_tag": "ABX9TyOkiDsu5LWHGmuY+fstZVnm",
      "include_colab_link": true
    },
    "kernelspec": {
      "name": "python3",
      "display_name": "Python 3"
    },
    "language_info": {
      "name": "python"
    }
  },
  "cells": [
    {
      "cell_type": "markdown",
      "metadata": {
        "id": "view-in-github",
        "colab_type": "text"
      },
      "source": [
        "<a href=\"https://colab.research.google.com/github/MKastek/pyspark-notes/blob/main/PySpark.ipynb\" target=\"_parent\"><img src=\"https://colab.research.google.com/assets/colab-badge.svg\" alt=\"Open In Colab\"/></a>"
      ]
    },
    {
      "cell_type": "markdown",
      "source": [
        "### Resource  \n",
        "https://jacobcelestine.com/knowledge_repo/colab_and_pyspark/#prerequisite  "
      ],
      "metadata": {
        "id": "7FrMiVgaA-oL"
      }
    },
    {
      "cell_type": "markdown",
      "source": [
        "### Installing PySpark\n"
      ],
      "metadata": {
        "id": "DVI37Vp9HaPi"
      }
    },
    {
      "cell_type": "code",
      "source": [
        "!apt-get install openjdk-8-jdk-headless -qq > /dev/null\n",
        "!wget -q http://archive.apache.org/dist/spark/spark-3.5.1/spark-3.5.1-bin-hadoop3.tgz\n",
        "!tar xf spark-3.5.1-bin-hadoop3.tgz\n",
        "!pip install -q findspark\n"
      ],
      "metadata": {
        "id": "n-QbDa13Suu8"
      },
      "execution_count": null,
      "outputs": []
    },
    {
      "cell_type": "code",
      "source": [
        "!ls"
      ],
      "metadata": {
        "colab": {
          "base_uri": "https://localhost:8080/"
        },
        "id": "KzTKP38zUDtO",
        "outputId": "5c0d186d-bb16-4f34-dfee-1a5ef5c6b979"
      },
      "execution_count": null,
      "outputs": [
        {
          "output_type": "stream",
          "name": "stdout",
          "text": [
            "sample_data  spark-3.5.1-bin-hadoop3  spark-3.5.1-bin-hadoop3.tgz\n"
          ]
        }
      ]
    },
    {
      "cell_type": "code",
      "source": [
        "import os\n",
        "os.environ[\"JAVA_HOME\"] = \"/usr/lib/jvm/java-8-openjdk-amd64\"\n",
        "os.environ[\"SPARK_HOME\"] = \"/content/spark-3.5.1-bin-hadoop3\""
      ],
      "metadata": {
        "id": "oUuDpOV7UUhl"
      },
      "execution_count": null,
      "outputs": []
    },
    {
      "cell_type": "code",
      "execution_count": null,
      "metadata": {
        "colab": {
          "base_uri": "https://localhost:8080/",
          "height": 219
        },
        "id": "gMPv1PmNGk5W",
        "outputId": "d32d6d06-9507-46eb-e630-b243ec0e6db6"
      },
      "outputs": [
        {
          "output_type": "execute_result",
          "data": {
            "text/plain": [
              "<pyspark.sql.session.SparkSession at 0x7963c3753010>"
            ],
            "text/html": [
              "\n",
              "            <div>\n",
              "                <p><b>SparkSession - in-memory</b></p>\n",
              "                \n",
              "        <div>\n",
              "            <p><b>SparkContext</b></p>\n",
              "\n",
              "            <p><a href=\"http://acf82574a96c:4040\">Spark UI</a></p>\n",
              "\n",
              "            <dl>\n",
              "              <dt>Version</dt>\n",
              "                <dd><code>v3.5.1</code></dd>\n",
              "              <dt>Master</dt>\n",
              "                <dd><code>local[*]</code></dd>\n",
              "              <dt>AppName</dt>\n",
              "                <dd><code>PySparkHelloWorld</code></dd>\n",
              "            </dl>\n",
              "        </div>\n",
              "        \n",
              "            </div>\n",
              "        "
            ]
          },
          "metadata": {},
          "execution_count": 4
        }
      ],
      "source": [
        "import findspark\n",
        "findspark.init()\n",
        "\n",
        "\n",
        "import pyspark\n",
        "\n",
        "from pyspark.sql import DataFrame, SparkSession\n",
        "from typing import List\n",
        "import pyspark.sql.types as T\n",
        "import pyspark.sql.functions as F\n",
        "\n",
        "spark= SparkSession \\\n",
        "       .builder \\\n",
        "       .appName(\"PySparkHelloWorld\") \\\n",
        "       .getOrCreate()\n",
        "spark.conf.set(\"spark.sql.repl.eagerEval.enabled\", True) # Property used to format output tables better\n",
        "spark"
      ]
    },
    {
      "cell_type": "code",
      "source": [
        "sc = spark.sparkContext"
      ],
      "metadata": {
        "id": "WYvcpaNPI0F-"
      },
      "execution_count": null,
      "outputs": []
    },
    {
      "cell_type": "markdown",
      "source": [
        "**Example list of data 1000 numbers**"
      ],
      "metadata": {
        "id": "mVgldFQfUuqP"
      }
    },
    {
      "cell_type": "code",
      "source": [
        "numbers = list(range(0, 10 ** 3))"
      ],
      "metadata": {
        "id": "tqTp3EGNJAwX"
      },
      "execution_count": null,
      "outputs": []
    },
    {
      "cell_type": "markdown",
      "source": [
        "**Default Parallelism**"
      ],
      "metadata": {
        "id": "KVkBDlFIJceR"
      }
    },
    {
      "cell_type": "code",
      "source": [
        "sc.defaultParallelism"
      ],
      "metadata": {
        "id": "UL9uTszVJKMv",
        "colab": {
          "base_uri": "https://localhost:8080/"
        },
        "outputId": "f1366274-d110-4312-9c24-629b24bd337e"
      },
      "execution_count": null,
      "outputs": [
        {
          "output_type": "execute_result",
          "data": {
            "text/plain": [
              "2"
            ]
          },
          "metadata": {},
          "execution_count": 7
        }
      ]
    },
    {
      "cell_type": "markdown",
      "source": [
        "**Partition**"
      ],
      "metadata": {
        "id": "vKKbVhI0NsNf"
      }
    },
    {
      "cell_type": "code",
      "source": [
        "nums_rdd = sc.parallelize(numbers)"
      ],
      "metadata": {
        "id": "D6Qrn2JBJjLR"
      },
      "execution_count": null,
      "outputs": []
    },
    {
      "cell_type": "code",
      "source": [
        "nums_rdd.getNumPartitions()"
      ],
      "metadata": {
        "id": "kfp5X35KJ_fQ",
        "colab": {
          "base_uri": "https://localhost:8080/"
        },
        "outputId": "4cd266e8-0cb3-4d20-be1c-a60f9c7c1a22"
      },
      "execution_count": null,
      "outputs": [
        {
          "output_type": "execute_result",
          "data": {
            "text/plain": [
              "2"
            ]
          },
          "metadata": {},
          "execution_count": 9
        }
      ]
    },
    {
      "cell_type": "code",
      "source": [
        "nums_rdd_repartition = nums_rdd.repartition(16)"
      ],
      "metadata": {
        "id": "S-Nuv3MiKPYr"
      },
      "execution_count": null,
      "outputs": []
    },
    {
      "cell_type": "code",
      "source": [
        "nums_rdd_repartition.getNumPartitions()"
      ],
      "metadata": {
        "id": "XOZAX4rNKZtR",
        "colab": {
          "base_uri": "https://localhost:8080/"
        },
        "outputId": "70b47693-84cf-427a-e786-94fcb5d495bc"
      },
      "execution_count": null,
      "outputs": [
        {
          "output_type": "execute_result",
          "data": {
            "text/plain": [
              "16"
            ]
          },
          "metadata": {},
          "execution_count": 11
        }
      ]
    },
    {
      "cell_type": "code",
      "source": [
        "%timeit num_rdd_squared = nums_rdd_repartition.map(lambda x: x**2)"
      ],
      "metadata": {
        "id": "dbxN5O6UKb4I",
        "colab": {
          "base_uri": "https://localhost:8080/"
        },
        "outputId": "ef1cc834-ecb2-4934-8055-cc43c781f3c8"
      },
      "execution_count": null,
      "outputs": [
        {
          "output_type": "stream",
          "name": "stdout",
          "text": [
            "375 µs ± 70.2 µs per loop (mean ± std. dev. of 7 runs, 1000 loops each)\n"
          ]
        }
      ]
    },
    {
      "cell_type": "code",
      "source": [
        "%timeit nums_rdd_repartition.collect()"
      ],
      "metadata": {
        "id": "yYFJF_qqOAPV",
        "colab": {
          "base_uri": "https://localhost:8080/"
        },
        "outputId": "924849b7-c282-4f7c-cd55-b893927cb5b7"
      },
      "execution_count": null,
      "outputs": [
        {
          "output_type": "stream",
          "name": "stdout",
          "text": [
            "347 ms ± 117 ms per loop (mean ± std. dev. of 7 runs, 1 loop each)\n"
          ]
        }
      ]
    },
    {
      "cell_type": "markdown",
      "source": [
        "# Import Data from API into Dataframe"
      ],
      "metadata": {
        "id": "73mZfl9VKpRf"
      }
    },
    {
      "cell_type": "code",
      "source": [
        "import requests\n",
        "response = requests.get(\"https://public-esa.ose.gov.pl/api/v1/smog\")\n",
        "list_json = [school['school'] | school['data'] | {'timestamp': school['timestamp']} for school in response.json()['smog_data']]"
      ],
      "metadata": {
        "id": "hF5xrbqdRNpP"
      },
      "execution_count": null,
      "outputs": []
    },
    {
      "cell_type": "markdown",
      "source": [
        "**Create DataFrame from parallelized lists of json**"
      ],
      "metadata": {
        "id": "gz80XSQLGc6A"
      }
    },
    {
      "cell_type": "code",
      "source": [
        "smog_df = spark.createDataFrame(sc.parallelize(list_json))"
      ],
      "metadata": {
        "id": "v_Yq0jE4Fu47"
      },
      "execution_count": null,
      "outputs": []
    },
    {
      "cell_type": "markdown",
      "source": [
        "**Viewing the DataFrame**  \n",
        "There are a couple of ways to view your dataframe(DF) in PySpark:  \n",
        "- `df.take(5)` will return a list of five Row objects.  \n",
        "- `df.collect()` will get all of the data from the entire DataFrame. Be really careful when using it, because if you have a large data set, you can easily crash the driver node.  \n",
        "- `df.show()` view a dataframe, parametrs (number of rows, truncaiton). Example: `df.show(5, truncate=False)`.  \n",
        "- `df.limit(5)` will return a new DataFrame by taking the first n rows. As spark is distributed in nature, there is no guarantee that df.limit() will give you the same results each time.\n"
      ],
      "metadata": {
        "id": "CmTrOU6hGvq1"
      }
    },
    {
      "cell_type": "code",
      "source": [
        "smog_df.show(5, truncate=False)"
      ],
      "metadata": {
        "id": "Myott0v-VkKg",
        "colab": {
          "base_uri": "https://localhost:8080/"
        },
        "outputId": "875e411c-a36d-4adf-bc0b-649105de5b52"
      },
      "execution_count": null,
      "outputs": [
        {
          "output_type": "stream",
          "name": "stdout",
          "text": [
            "+-----------------+-----------------+---------+----------+------------------------------------------------------------------------------------+------------------+------------------+---------+------------------+------------------------+------------------+-------------------+\n",
            "|city             |humidity_avg     |latitude |longitude |name                                                                                |pm10_avg          |pm25_avg          |post_code|pressure_avg      |street                  |temperature_avg   |timestamp          |\n",
            "+-----------------+-----------------+---------+----------+------------------------------------------------------------------------------------+------------------+------------------+---------+------------------+------------------------+------------------+-------------------+\n",
            "|KRASZEWICE       |91.98333333333333|51.51563 |18.22403  |SZKOŁA PODSTAWOWA IM. MARIANA FALSKIEGO W KRASZEWICACH                              |3.99              |2.3166666666666664|63-522   |992.9533333333334 |UL. SZKOLNA             |11.676666666666668|2024-10-13 14:41:48|\n",
            "|WRZĄSOWICE       |69.7             |49.96103 |19.94282  |SZKOŁA PODSTAWOWA WE WRZĄSOWICACH                                                   |2.1999999999999997|2.1999999999999997|32-040   |970.1666666666666 |UL. SZKOLNA             |14.775            |2024-10-13 14:41:48|\n",
            "|STRZELCE OPOLSKIE|99.90000000000002|50.503431|18.314889 |PUBLICZNA SZKOŁA PODSTAWOWA NR 2 IM. KAZIMIERZA MALCZEWSKIEGO W STRZELCACH OPOLSKICH|1.0               |0.5366666666666666|47-100   |1023.9333333333334|UL. WAWRZYŃCA ŚWIERZEGO |6.8999999999999995|2024-10-13 14:41:48|\n",
            "|PSZCZYNA         |91.67            |49.965883|18.9457058|ZESPÓŁ SZKÓŁ NR 1 W PSZCZYNIE                                                       |5.66              |3.513333333333333 |43-200   |978.3033333333333 |UL. KAZIMIERZA WIELKIEGO|12.57             |2024-10-13 14:41:48|\n",
            "|JANKÓW PRZYGODZKI|99.7             |51.596172|17.7889069|ZESPÓŁ SZKÓŁ IM. POWSTAŃCÓW WIELKOPOLSKICH W JANKOWIE PRZYGODZKIM                   |13.799999999999999|7.68              |63-421   |991.3333333333334 |SZKOLNA                 |10.1              |2024-10-13 14:41:48|\n",
            "+-----------------+-----------------+---------+----------+------------------------------------------------------------------------------------+------------------+------------------+---------+------------------+------------------------+------------------+-------------------+\n",
            "only showing top 5 rows\n",
            "\n"
          ]
        }
      ]
    },
    {
      "cell_type": "code",
      "source": [
        "smog_df.show(5)"
      ],
      "metadata": {
        "id": "HV2A-5-MH130",
        "colab": {
          "base_uri": "https://localhost:8080/"
        },
        "outputId": "9aab8986-d16f-4bee-a9ea-a3187687ef77"
      },
      "execution_count": null,
      "outputs": [
        {
          "output_type": "stream",
          "name": "stdout",
          "text": [
            "+-----------------+-----------------+---------+----------+--------------------+------------------+------------------+---------+------------------+--------------------+------------------+-------------------+\n",
            "|             city|     humidity_avg| latitude| longitude|                name|          pm10_avg|          pm25_avg|post_code|      pressure_avg|              street|   temperature_avg|          timestamp|\n",
            "+-----------------+-----------------+---------+----------+--------------------+------------------+------------------+---------+------------------+--------------------+------------------+-------------------+\n",
            "|       KRASZEWICE|91.98333333333333| 51.51563|  18.22403|SZKOŁA PODSTAWOWA...|              3.99|2.3166666666666664|   63-522| 992.9533333333334|         UL. SZKOLNA|11.676666666666668|2024-10-13 14:41:48|\n",
            "|       WRZĄSOWICE|             69.7| 49.96103|  19.94282|SZKOŁA PODSTAWOWA...|2.1999999999999997|2.1999999999999997|   32-040| 970.1666666666666|         UL. SZKOLNA|            14.775|2024-10-13 14:41:48|\n",
            "|STRZELCE OPOLSKIE|99.90000000000002|50.503431| 18.314889|PUBLICZNA SZKOŁA ...|               1.0|0.5366666666666666|   47-100|1023.9333333333334|UL. WAWRZYŃCA ŚWI...|6.8999999999999995|2024-10-13 14:41:48|\n",
            "|         PSZCZYNA|            91.67|49.965883|18.9457058|ZESPÓŁ SZKÓŁ NR 1...|              5.66| 3.513333333333333|   43-200| 978.3033333333333|UL. KAZIMIERZA WI...|             12.57|2024-10-13 14:41:48|\n",
            "|JANKÓW PRZYGODZKI|             99.7|51.596172|17.7889069|ZESPÓŁ SZKÓŁ IM. ...|13.799999999999999|              7.68|   63-421| 991.3333333333334|             SZKOLNA|              10.1|2024-10-13 14:41:48|\n",
            "+-----------------+-----------------+---------+----------+--------------------+------------------+------------------+---------+------------------+--------------------+------------------+-------------------+\n",
            "only showing top 5 rows\n",
            "\n"
          ]
        }
      ]
    },
    {
      "cell_type": "code",
      "source": [
        "smog_df.limit(5)"
      ],
      "metadata": {
        "id": "MW9_dVfCH9lq",
        "colab": {
          "base_uri": "https://localhost:8080/",
          "height": 260
        },
        "outputId": "35359825-7330-4a71-80a9-e195783b39ae"
      },
      "execution_count": null,
      "outputs": [
        {
          "output_type": "execute_result",
          "data": {
            "text/plain": [
              "+-----------------+-----------------+---------+----------+--------------------+------------------+------------------+---------+------------------+--------------------+------------------+-------------------+\n",
              "|             city|     humidity_avg| latitude| longitude|                name|          pm10_avg|          pm25_avg|post_code|      pressure_avg|              street|   temperature_avg|          timestamp|\n",
              "+-----------------+-----------------+---------+----------+--------------------+------------------+------------------+---------+------------------+--------------------+------------------+-------------------+\n",
              "|       KRASZEWICE|91.98333333333333| 51.51563|  18.22403|SZKOŁA PODSTAWOWA...|              3.99|2.3166666666666664|   63-522| 992.9533333333334|         UL. SZKOLNA|11.676666666666668|2024-10-13 14:41:48|\n",
              "|       WRZĄSOWICE|             69.7| 49.96103|  19.94282|SZKOŁA PODSTAWOWA...|2.1999999999999997|2.1999999999999997|   32-040| 970.1666666666666|         UL. SZKOLNA|            14.775|2024-10-13 14:41:48|\n",
              "|STRZELCE OPOLSKIE|99.90000000000002|50.503431| 18.314889|PUBLICZNA SZKOŁA ...|               1.0|0.5366666666666666|   47-100|1023.9333333333334|UL. WAWRZYŃCA ŚWI...|6.8999999999999995|2024-10-13 14:41:48|\n",
              "|         PSZCZYNA|            91.67|49.965883|18.9457058|ZESPÓŁ SZKÓŁ NR 1...|              5.66| 3.513333333333333|   43-200| 978.3033333333333|UL. KAZIMIERZA WI...|             12.57|2024-10-13 14:41:48|\n",
              "|JANKÓW PRZYGODZKI|             99.7|51.596172|17.7889069|ZESPÓŁ SZKÓŁ IM. ...|13.799999999999999|              7.68|   63-421| 991.3333333333334|             SZKOLNA|              10.1|2024-10-13 14:41:48|\n",
              "+-----------------+-----------------+---------+----------+--------------------+------------------+------------------+---------+------------------+--------------------+------------------+-------------------+"
            ],
            "text/html": [
              "<table border='1'>\n",
              "<tr><th>city</th><th>humidity_avg</th><th>latitude</th><th>longitude</th><th>name</th><th>pm10_avg</th><th>pm25_avg</th><th>post_code</th><th>pressure_avg</th><th>street</th><th>temperature_avg</th><th>timestamp</th></tr>\n",
              "<tr><td>KRASZEWICE</td><td>91.98333333333333</td><td>51.51563</td><td>18.22403</td><td>SZKOŁA PODSTAWOWA...</td><td>3.99</td><td>2.3166666666666664</td><td>63-522</td><td>992.9533333333334</td><td>UL. SZKOLNA</td><td>11.676666666666668</td><td>2024-10-13 14:41:48</td></tr>\n",
              "<tr><td>WRZĄSOWICE</td><td>69.7</td><td>49.96103</td><td>19.94282</td><td>SZKOŁA PODSTAWOWA...</td><td>2.1999999999999997</td><td>2.1999999999999997</td><td>32-040</td><td>970.1666666666666</td><td>UL. SZKOLNA</td><td>14.775</td><td>2024-10-13 14:41:48</td></tr>\n",
              "<tr><td>STRZELCE OPOLSKIE</td><td>99.90000000000002</td><td>50.503431</td><td>18.314889</td><td>PUBLICZNA SZKOŁA ...</td><td>1.0</td><td>0.5366666666666666</td><td>47-100</td><td>1023.9333333333334</td><td>UL. WAWRZYŃCA ŚWI...</td><td>6.8999999999999995</td><td>2024-10-13 14:41:48</td></tr>\n",
              "<tr><td>PSZCZYNA</td><td>91.67</td><td>49.965883</td><td>18.9457058</td><td>ZESP&Oacute;Ł SZK&Oacute;Ł NR 1...</td><td>5.66</td><td>3.513333333333333</td><td>43-200</td><td>978.3033333333333</td><td>UL. KAZIMIERZA WI...</td><td>12.57</td><td>2024-10-13 14:41:48</td></tr>\n",
              "<tr><td>JANK&Oacute;W PRZYGODZKI</td><td>99.7</td><td>51.596172</td><td>17.7889069</td><td>ZESP&Oacute;Ł SZK&Oacute;Ł IM. ...</td><td>13.799999999999999</td><td>7.68</td><td>63-421</td><td>991.3333333333334</td><td>SZKOLNA</td><td>10.1</td><td>2024-10-13 14:41:48</td></tr>\n",
              "</table>\n"
            ]
          },
          "metadata": {},
          "execution_count": 18
        }
      ]
    },
    {
      "cell_type": "code",
      "source": [
        "smog_df.take(5)"
      ],
      "metadata": {
        "id": "4QpWCwPfIEPB",
        "colab": {
          "base_uri": "https://localhost:8080/"
        },
        "outputId": "763aa830-d9ae-4d96-dc6a-bb35f6bc202d"
      },
      "execution_count": null,
      "outputs": [
        {
          "output_type": "execute_result",
          "data": {
            "text/plain": [
              "[Row(city='KRASZEWICE', humidity_avg=91.98333333333333, latitude='51.51563', longitude='18.22403', name='SZKOŁA PODSTAWOWA IM. MARIANA FALSKIEGO W KRASZEWICACH', pm10_avg=3.99, pm25_avg=2.3166666666666664, post_code='63-522', pressure_avg=992.9533333333334, street='UL. SZKOLNA', temperature_avg=11.676666666666668, timestamp='2024-10-13 14:41:48'),\n",
              " Row(city='WRZĄSOWICE', humidity_avg=69.7, latitude='49.96103', longitude='19.94282', name='SZKOŁA PODSTAWOWA WE WRZĄSOWICACH', pm10_avg=2.1999999999999997, pm25_avg=2.1999999999999997, post_code='32-040', pressure_avg=970.1666666666666, street='UL. SZKOLNA', temperature_avg=14.775, timestamp='2024-10-13 14:41:48'),\n",
              " Row(city='STRZELCE OPOLSKIE', humidity_avg=99.90000000000002, latitude='50.503431', longitude='18.314889', name='PUBLICZNA SZKOŁA PODSTAWOWA NR 2 IM. KAZIMIERZA MALCZEWSKIEGO W STRZELCACH OPOLSKICH', pm10_avg=1.0, pm25_avg=0.5366666666666666, post_code='47-100', pressure_avg=1023.9333333333334, street='UL. WAWRZYŃCA ŚWIERZEGO', temperature_avg=6.8999999999999995, timestamp='2024-10-13 14:41:48'),\n",
              " Row(city='PSZCZYNA', humidity_avg=91.67, latitude='49.965883', longitude='18.9457058', name='ZESPÓŁ SZKÓŁ NR 1 W PSZCZYNIE', pm10_avg=5.66, pm25_avg=3.513333333333333, post_code='43-200', pressure_avg=978.3033333333333, street='UL. KAZIMIERZA WIELKIEGO', temperature_avg=12.57, timestamp='2024-10-13 14:41:48'),\n",
              " Row(city='JANKÓW PRZYGODZKI', humidity_avg=99.7, latitude='51.596172', longitude='17.7889069', name='ZESPÓŁ SZKÓŁ IM. POWSTAŃCÓW WIELKOPOLSKICH W JANKOWIE PRZYGODZKIM', pm10_avg=13.799999999999999, pm25_avg=7.68, post_code='63-421', pressure_avg=991.3333333333334, street='SZKOLNA', temperature_avg=10.1, timestamp='2024-10-13 14:41:48')]"
            ]
          },
          "metadata": {},
          "execution_count": 19
        }
      ]
    },
    {
      "cell_type": "code",
      "source": [
        "smog_df.collect()"
      ],
      "metadata": {
        "id": "RUOQFpiIIK1v",
        "colab": {
          "base_uri": "https://localhost:8080/"
        },
        "outputId": "9f5a619d-eb63-4521-e684-79060da70e22"
      },
      "execution_count": null,
      "outputs": [
        {
          "output_type": "execute_result",
          "data": {
            "text/plain": [
              "[Row(city='KRASZEWICE', humidity_avg=91.98333333333333, latitude='51.51563', longitude='18.22403', name='SZKOŁA PODSTAWOWA IM. MARIANA FALSKIEGO W KRASZEWICACH', pm10_avg=3.99, pm25_avg=2.3166666666666664, post_code='63-522', pressure_avg=992.9533333333334, street='UL. SZKOLNA', temperature_avg=11.676666666666668, timestamp='2024-10-13 14:41:48'),\n",
              " Row(city='WRZĄSOWICE', humidity_avg=69.7, latitude='49.96103', longitude='19.94282', name='SZKOŁA PODSTAWOWA WE WRZĄSOWICACH', pm10_avg=2.1999999999999997, pm25_avg=2.1999999999999997, post_code='32-040', pressure_avg=970.1666666666666, street='UL. SZKOLNA', temperature_avg=14.775, timestamp='2024-10-13 14:41:48'),\n",
              " Row(city='STRZELCE OPOLSKIE', humidity_avg=99.90000000000002, latitude='50.503431', longitude='18.314889', name='PUBLICZNA SZKOŁA PODSTAWOWA NR 2 IM. KAZIMIERZA MALCZEWSKIEGO W STRZELCACH OPOLSKICH', pm10_avg=1.0, pm25_avg=0.5366666666666666, post_code='47-100', pressure_avg=1023.9333333333334, street='UL. WAWRZYŃCA ŚWIERZEGO', temperature_avg=6.8999999999999995, timestamp='2024-10-13 14:41:48'),\n",
              " Row(city='PSZCZYNA', humidity_avg=91.67, latitude='49.965883', longitude='18.9457058', name='ZESPÓŁ SZKÓŁ NR 1 W PSZCZYNIE', pm10_avg=5.66, pm25_avg=3.513333333333333, post_code='43-200', pressure_avg=978.3033333333333, street='UL. KAZIMIERZA WIELKIEGO', temperature_avg=12.57, timestamp='2024-10-13 14:41:48'),\n",
              " Row(city='JANKÓW PRZYGODZKI', humidity_avg=99.7, latitude='51.596172', longitude='17.7889069', name='ZESPÓŁ SZKÓŁ IM. POWSTAŃCÓW WIELKOPOLSKICH W JANKOWIE PRZYGODZKIM', pm10_avg=13.799999999999999, pm25_avg=7.68, post_code='63-421', pressure_avg=991.3333333333334, street='SZKOLNA', temperature_avg=10.1, timestamp='2024-10-13 14:41:48'),\n",
              " Row(city='ĆWIKLICE', humidity_avg=99.7, latitude='49.971937', longitude='18.989839', name='SZKOŁA PODSTAWOWA NR 7 IM. ŻOŁNIERZY WRZEŚNIA W ĆWIKLICACH', pm10_avg=6.766666666666667, pm25_avg=3.7066666666666666, post_code='43-229', pressure_avg=978.9, street='UL. MĘCZENNIKÓW OŚWIĘCIMSKICH', temperature_avg=12.5, timestamp='2024-10-13 14:41:48'),\n",
              " Row(city='STUDZIONKA', humidity_avg=99.20333333333333, latitude='49.9603559', longitude='18.774985', name='SZKOŁA PODSTAWOWA NR 12 W STUDZIONCE', pm10_avg=8.209999999999999, pm25_avg=4.57, post_code='43-245', pressure_avg=981.5533333333333, street='UL. JORDANA', temperature_avg=11.973333333333334, timestamp='2024-10-13 14:41:48'),\n",
              " Row(city='PIASEK', humidity_avg=99.90000000000002, latitude='50.00955', longitude='18.94634', name='ZESPÓŁ SZKOLNO-PRZEDSZKOLNY W PIASKU', pm10_avg=0.03333333333333333, pm25_avg=0.016666666666666666, post_code='43-211', pressure_avg=986.2666666666668, street='SZKOLNA', temperature_avg=12.433333333333332, timestamp='2024-10-13 14:41:48'),\n",
              " Row(city='ŁĄKA', humidity_avg=91.88999999999999, latitude='49.9582444', longitude='18.906757', name='ZESPÓŁ SZKOLNO-PRZEDSZKOLNY W ŁĄCE', pm10_avg=5.6000000000000005, pm25_avg=3.3033333333333332, post_code='43-241', pressure_avg=983.7366666666667, street='FITELBERGA', temperature_avg=12.366666666666667, timestamp='2024-10-13 14:41:48'),\n",
              " Row(city='LUBOŃ', humidity_avg=99.13333333333333, latitude='52.3481', longitude='16.8968', name='SZKOŁA PODSTAWOWA NR 3 W LUBONIU', pm10_avg=1.5666666666666667, pm25_avg=0.8700000000000001, post_code='62-030', pressure_avg=989.1333333333333, street='ARMII POZNAŃ', temperature_avg=11.666666666666666, timestamp='2024-10-13 14:41:48'),\n",
              " Row(city='OSTROWIEC ŚWIĘTOKRZYSKI', humidity_avg=82.2525, latitude='50.9312', longitude='21.418144', name='SPECJALNY OŚRODEK WYCHOWAWCZY NR 1 W OSTROWCU ŚWIĘTOKRZYSKIM', pm10_avg=9.584999999999999, pm25_avg=5.49, post_code='27-400', pressure_avg=976.825, street='SZKOLNA', temperature_avg=11.8775, timestamp='2024-10-13 14:41:48'),\n",
              " Row(city='PRZYGODZICE', humidity_avg=99.9, latitude='51.59023', longitude='17.822685', name='ZESPÓŁ SZKÓŁ PONADGIMNAZJALNYCH CENTRUM KSZTAŁCENIA USTAWICZNEGO W PRZYGODZICACH', pm10_avg=2.875, pm25_avg=1.6175, post_code='63-421', pressure_avg=992.5, street='PTR', temperature_avg=9.3, timestamp='2024-10-13 14:41:48'),\n",
              " Row(city='ODOLANÓW', humidity_avg=81.66666666666667, latitude='51.58063', longitude='17.66024', name='LICEUM OGÓLNOKSZTAŁCĄCE IM. WŁADYSŁAWA JAGIEŁŁY W ODOLANOWIE', pm10_avg=2.6, pm25_avg=1.4666666666666668, post_code='63-430', pressure_avg=990.5666666666666, street='KROTOSZYŃSKA', temperature_avg=10.1, timestamp='2024-10-13 14:41:48'),\n",
              " Row(city='PIOTRÓW', humidity_avg=75.63333333333333, latitude='51.81570', longitude='18.05485', name='ZESPÓŁ SZKÓŁ W PIOTROWIE', pm10_avg=1.5, pm25_avg=0.7933333333333333, post_code='62-814', pressure_avg=991.5, street=None, temperature_avg=12.1, timestamp='2024-10-13 14:41:48'),\n",
              " Row(city='CZARNYLAS', humidity_avg=99.90000000000002, latitude='51.508366', longitude='17.762604', name='SZKOŁA PODSTAWOWA W CZARNYMLESIE', pm10_avg=21.833333333333332, pm25_avg=12.42, post_code='63-421', pressure_avg=988.3666666666667, street=None, temperature_avg=10.299999999999999, timestamp='2024-10-13 14:41:48'),\n",
              " Row(city='LUBOŃ', humidity_avg=79.23333333333333, latitude='52.346672', longitude='16.878431', name='SZKOŁA PODSTAWOWA NR 2 IM. AUGUSTA HR. CIESZKOWSKIEGO W LUBONIU', pm10_avg=1.5666666666666667, pm25_avg=0.9266666666666667, post_code='62-030', pressure_avg=997.8000000000001, street='ŻABIKOWSKA', temperature_avg=11.933333333333332, timestamp='2024-10-13 14:41:48'),\n",
              " Row(city='DORUCHÓW', humidity_avg=92.17666666666666, latitude='51.4189', longitude='18.0786', name='SZKOŁA PODSTAWOWA IM. POWSTAŃCÓW WIELKOPOLSKICH W DORUCHOWIE', pm10_avg=4.0200000000000005, pm25_avg=2.123333333333333, post_code='63-505', pressure_avg=992.3466666666667, street='KALISKA', temperature_avg=11.586666666666666, timestamp='2024-10-13 14:41:48'),\n",
              " Row(city='BUKOWIEC', humidity_avg=99.90000000000002, latitude='51.6918', longitude='19.6757', name='SZKOŁA PODSTAWOWA IM. MIKOŁAJA KOPERNIKA W BUKOWCU', pm10_avg=8.733333333333333, pm25_avg=4.846666666666667, post_code='95-006', pressure_avg=976.6, street='SZKOLNA', temperature_avg=10.0, timestamp='2024-10-13 14:41:48'),\n",
              " Row(city='KOTLIN', humidity_avg=87.65666666666668, latitude='51.91866', longitude='17.645437', name='SZKOŁA PODSTAWOWA IM. MARII KONOPNICKIEJ W KOTLINIE', pm10_avg=4.483333333333333, pm25_avg=2.466666666666667, post_code='63-220', pressure_avg=993.6233333333333, street='MARII KONOPNICKIEJ', temperature_avg=11.833333333333334, timestamp='2024-10-13 14:41:48'),\n",
              " Row(city='OTMUCHÓW', humidity_avg=99.90000000000002, latitude='50.46535', longitude='17.213', name='SZKOŁA PODSTAWOWA NR 2 W OTMUCHOWIE', pm10_avg=1.7666666666666666, pm25_avg=0.9533333333333333, post_code='48-385', pressure_avg=988.4333333333334, street='KALINOWA', temperature_avg=9.200000000000001, timestamp='2024-10-13 14:41:48'),\n",
              " Row(city='KAŁKÓW', humidity_avg=93.71, latitude='50.40420', longitude='17.185241', name='SZKOŁA PODSTAWOWA IM. BOHATERÓW POWSTAŃ ŚLĄSKICH W KAŁKOWIE', pm10_avg=3.983333333333333, pm25_avg=2.2933333333333334, post_code='48-364', pressure_avg=990.5766666666667, street=None, temperature_avg=11.64, timestamp='2024-10-13 14:41:48'),\n",
              " Row(city='MACIEJOWICE', humidity_avg=99.90000000000002, latitude='50.4998', longitude='17.13497', name='SZKOŁA PODSTAWOWA W MACIEJOWICACH', pm10_avg=1.5, pm25_avg=0.96, post_code='48-385', pressure_avg=973.9666666666667, street=None, temperature_avg=10.133333333333333, timestamp='2024-10-13 14:41:48'),\n",
              " Row(city='TestCity', humidity_avg=83.83666666666666, latitude='1.8586845937815497', longitude='-157.52969778504766', name='Test Szkoła', pm10_avg=5.346666666666667, pm25_avg=2.9933333333333336, post_code='00-000', pressure_avg=974.4466666666667, street='ul Testowa', temperature_avg=13.216666666666667, timestamp='2024-10-13 14:41:48'),\n",
              " Row(city='KONOTOP', humidity_avg=99.3, latitude='51.93023', longitude='15.9031', name='ZESPÓŁ EDUKACYJNY W KONOTOPIE', pm10_avg=18.166666666666668, pm25_avg=10.493333333333334, post_code='67-416', pressure_avg=998.9, street='PL. POWSTAŃCÓW WIELKOPOLSKICH', temperature_avg=11.366666666666667, timestamp='2024-10-13 14:41:48'),\n",
              " Row(city='BOCHNIA', humidity_avg=84.93333333333334, latitude='49.96533', longitude='20.4415', name='PRZEDSZKOLE NR 6 W BOCHNI', pm10_avg=0.0, pm25_avg=0.0, post_code='32-700', pressure_avg=982.9666666666667, street='MUROWIANKA', temperature_avg=16.133333333333333, timestamp='2024-10-13 14:41:48'),\n",
              " Row(city='SZYMISZÓW', humidity_avg=99.90000000000002, latitude='50.53656', longitude='18.21983', name='PUBLICZNA SZKOŁA PODSTAWOWA W SZYMISZOWIE', pm10_avg=0.7000000000000001, pm25_avg=0.3633333333333333, post_code='47-161', pressure_avg=987.3333333333334, street='SZKOLNA', temperature_avg=8.1, timestamp='2024-10-13 14:41:48'),\n",
              " Row(city='ROZMIERKA', humidity_avg=93.35666666666667, latitude='50.560720', longitude='18.26905', name='PUBLICZNA SZKOŁA PODSTAWOWA W ROZMIERCE', pm10_avg=3.89, pm25_avg=2.18, post_code='47-171', pressure_avg=979.0133333333333, street='SZKOLNA', temperature_avg=12.21, timestamp='2024-10-13 14:41:48'),\n",
              " Row(city='DZIEWKOWICE', humidity_avg=93.35666666666667, latitude='50.51530', longitude='18.34475', name='PUBLICZNA SZKOŁA PODSTAWOWA W DZIEWKOWICACH', pm10_avg=3.89, pm25_avg=2.18, post_code='47-100', pressure_avg=979.0133333333333, street='STRZELECKA', temperature_avg=12.21, timestamp='2024-10-13 14:41:48'),\n",
              " Row(city='WOLA RAKOWA', humidity_avg=99.90000000000002, latitude='51.67447', longitude='19.61157', name='SZKOŁA PODSTAWOWA IM. ORŁA BIAŁEGO W KUROWICACH FILIA W WOLI RAKOWEJ', pm10_avg=4.566666666666667, pm25_avg=2.4433333333333334, post_code='95-006', pressure_avg=982.7666666666668, street='SZKOLNA', temperature_avg=8.933333333333334, timestamp='2024-10-13 14:41:48'),\n",
              " Row(city='WŁADYSŁAWÓW', humidity_avg=90.79666666666667, latitude='52.10134', longitude='18.4688', name='SZKOŁA PODSTAWOWA IM. KS. JANA TWARDOWSKIEGO WE WŁADYSŁAWOWIE', pm10_avg=3.6333333333333333, pm25_avg=1.9033333333333333, post_code='62-610', pressure_avg=992.3800000000001, street='KALISKA', temperature_avg=11.486666666666666, timestamp='2024-10-13 14:41:48'),\n",
              " Row(city='RUDOŁTOWICE', humidity_avg=1.0, latitude='49.95711', longitude='19.00171', name='SZKOŁA PODSTAWOWA NR 8 IM. JÓZEFA WESZKI W RUDOŁTOWICACH', pm10_avg=3.6999999999999997, pm25_avg=1.93, post_code='43-220', pressure_avg=982.7666666666668, street='KRZYWOŃ', temperature_avg=12.4, timestamp='2024-10-13 14:41:48'),\n",
              " Row(city='WISŁA WIELKA', humidity_avg=99.9, latitude='49.95291', longitude='18.85320', name='ZESPÓŁ SZKOLNO-PRZEDSZKOLNY W WIŚLE WIELKIEJ', pm10_avg=5.425, pm25_avg=3.4025, post_code='43-243', pressure_avg=982.775, street='HODOWCÓW', temperature_avg=11.8, timestamp='2024-10-13 14:41:48'),\n",
              " Row(city='JEMIELNICA', humidity_avg=93.22333333333334, latitude='50.548993', longitude='18.380122', name='SZKOŁA PODSTAWOWA IM. MARKA PRAWEGO W JEMIELNICY', pm10_avg=3.953333333333333, pm25_avg=2.2133333333333334, post_code='47-133', pressure_avg=979.0233333333334, street='SZKOLNA', temperature_avg=12.24, timestamp='2024-10-13 14:41:48'),\n",
              " Row(city='PSZCZYNA', humidity_avg=89.73333333333333, latitude='49.992568', longitude='18.947994', name='SZKOŁA PODSTAWOWA NR 2 IM. ŚW. JADWIGI ŚLĄSKIEJ W PSZCZYNIE', pm10_avg=5.6000000000000005, pm25_avg=3.356666666666667, post_code='43-200', pressure_avg=986.5666666666666, street='KATOWICKA', temperature_avg=11.133333333333333, timestamp='2024-10-13 14:41:48'),\n",
              " Row(city='OSTROWIEC ŚWIĘTOKRZYSKI', humidity_avg=82.91499999999999, latitude='50.942931', longitude='21.386931', name='ZESPÓŁ SZKÓŁ SPECJALNYCH W OSTROWCU ŚWIĘTOKRZYSKIM', pm10_avg=9.43, pm25_avg=5.3525, post_code='27-400', pressure_avg=976.4575, street='IŁZECKA', temperature_avg=11.8475, timestamp='2024-10-13 14:41:48'),\n",
              " Row(city='CZARKÓW', humidity_avg=84.25, latitude='50.011713', longitude='18.909560', name='SZKOŁA PODSTAWOWA NR 6 IM. KORNELA MAKUSZYŃSKIEGO W CZARKOWIE', pm10_avg=6.4433333333333325, pm25_avg=3.5833333333333335, post_code='43-211', pressure_avg=974.5633333333334, street='POWSTAŃCÓW ŚLĄSKICH', temperature_avg=12.9, timestamp='2024-10-13 14:41:48'),\n",
              " Row(city='JANKOWICE', humidity_avg=77.58999999999999, latitude='50.002529', longitude='18.989423', name='ZESPÓŁ SZKOLNO-PRZEDSZKOLNY W JANKOWICACH', pm10_avg=5.31, pm25_avg=2.97, post_code='43-215', pressure_avg=977.2933333333334, street='BAZIOWA', temperature_avg=14.01, timestamp='2024-10-13 14:41:48'),\n",
              " Row(city='KAZIMIERZ BISKUPI', humidity_avg=99.90000000000002, latitude='52.307454', longitude='18.164476', name='SZKOŁA PODSTAWOWA IM. JANA PAWŁA II W KAZIMIERZU BISKUPIM', pm10_avg=4.266666666666667, pm25_avg=2.4233333333333333, post_code='62-530', pressure_avg=990.9333333333334, street='WĘGLEWSKA', temperature_avg=10.533333333333333, timestamp='2024-10-13 14:41:48'),\n",
              " Row(city='PSZCZYNA', humidity_avg=99.90000000000002, latitude='49.971182', longitude='18.961125', name='SZKOŁA PODSTAWOWA NR 4 IM. JÓZEFA PUKOWCA W PSZCZYNIE', pm10_avg=2.6666666666666665, pm25_avg=1.53, post_code='43-200', pressure_avg=981.4333333333334, street='ZYGMUNTA KRASIŃSKIEGO', temperature_avg=12.266666666666666, timestamp='2024-10-13 14:41:48'),\n",
              " Row(city='OTMUCHÓW', humidity_avg=93.71, latitude='50.4705', longitude='17.167634', name='ZESPÓŁ SZKÓŁ W OTMUCHOWIE', pm10_avg=3.983333333333333, pm25_avg=2.2933333333333334, post_code='48-385', pressure_avg=990.5766666666667, street='KRAKOWSKA', temperature_avg=11.64, timestamp='2024-10-13 14:41:48'),\n",
              " Row(city='CZECHWICE-DZIEDZICE', humidity_avg=87.66666666666667, latitude='49.899404', longitude='19.016493', name='SZKOŁA PODSTAWOWA NR 6\\xa0IM. IGNACEGO ŁUKASZEWICZA W CZECHOWICACH-DZIEDZICACH', pm10_avg=3.1666666666666665, pm25_avg=1.6766666666666667, post_code='43-502', pressure_avg=958.3333333333334, street='UL. ŁUKASIEWICZA', temperature_avg=12.966666666666667, timestamp='2024-10-13 14:41:48'),\n",
              " Row(city='SŁUPSK', humidity_avg=99.90000000000002, latitude='54.475286', longitude='17.005017', name='SZKOŁA PODSTAWOWA NR 4 IM. GUSTAWA MORCINKA W SŁUPSKU', pm10_avg=4.3999999999999995, pm25_avg=2.3266666666666667, post_code='76-200', pressure_avg=993.8000000000001, street='UL. LESZCZYŃSKIEGO', temperature_avg=10.266666666666667, timestamp='2024-10-13 14:41:48'),\n",
              " Row(city='KLESZCZÓW', humidity_avg=99.66666666666667, latitude='50.344057', longitude='18.527510', name='SZKOŁA PODSTAWOWA W KLESZCZOWIE', pm10_avg=1.0, pm25_avg=0.65, post_code='44-164', pressure_avg=982.1333333333333, street='UL. SZKOLNA', temperature_avg=10.566666666666666, timestamp='2024-10-13 14:41:48'),\n",
              " Row(city='SŁUPSK', humidity_avg=99.90000000000002, latitude='54.455744', longitude='17.062723', name='SZKOŁA PODSTAWOWA NR 5 IM. GRYFITÓW W SŁUPSKU', pm10_avg=2.1333333333333333, pm25_avg=1.22, post_code='76-200', pressure_avg=992.5333333333333, street='UL. HUBALCZYKÓW', temperature_avg=9.033333333333333, timestamp='2024-10-13 14:41:48'),\n",
              " Row(city='POTĘPA', humidity_avg=99.90000000000002, latitude='50.565309', longitude='18.662519', name='ZESPÓŁ SZKOLNO-PRZEDSZKOLNY W POTĘPIE', pm10_avg=2.733333333333333, pm25_avg=1.54, post_code='42-693', pressure_avg=975.7666666666668, street='UL. TARNOGÓRSKA', temperature_avg=7.733333333333333, timestamp='2024-10-13 14:41:48'),\n",
              " Row(city='LIGOTA', humidity_avg=77.71666666666667, latitude='49.878509', longitude='18.951023', name='SZKOŁA PODSTAWOWA NR 1 IM. KS. PROF. JÓZEFA TISCHNERA\\xa0W LIGOCIE', pm10_avg=2.25, pm25_avg=1.2066666666666668, post_code='43-518', pressure_avg=976.2733333333332, street='UL. BIELSKA', temperature_avg=13.780000000000001, timestamp='2024-10-13 14:41:48'),\n",
              " Row(city='GORZYCZKI', humidity_avg=99.90000000000002, latitude='49.944774', longitude='18.399689', name='SZKOŁA PODSTAWOWA IM. MIKOŁAJA REJA W GORZYCZKACH', pm10_avg=12.5, pm25_avg=7.116666666666667, post_code='44-350', pressure_avg=979.4, street='UL. WIEJSKA', temperature_avg=12.6, timestamp='2024-10-13 14:41:48'),\n",
              " Row(city='SŁUPSK', humidity_avg=99.90000000000002, latitude='54.465980', longitude='17.023811', name='SZKOŁA PODSTAWOWA NR 6 IM. LUDWIKA WARYŃSKIEGO W SŁUPSKU', pm10_avg=0.6666666666666666, pm25_avg=0.3933333333333333, post_code='76-200', pressure_avg=997.2333333333332, street='UL. STARZYŃSKIEGO', temperature_avg=9.666666666666666, timestamp='2024-10-13 14:41:48'),\n",
              " Row(city='KOBIÓR', humidity_avg=99.90000000000002, latitude='50.060752', longitude='18.930274', name='SZKOŁA PODSTAWOWA IM. JANA BRZECHWY W KOBIÓRZE', pm10_avg=9.233333333333334, pm25_avg=4.676666666666667, post_code='43-210', pressure_avg=982.0, street='UL. TUWIMA', temperature_avg=12.966666666666667, timestamp='2024-10-13 14:41:48'),\n",
              " Row(city='PONISZOWICE', humidity_avg=99.86666666666667, latitude='50.409220', longitude='18.458674', name='SZKOŁA PODSTAWOWA W PONISZOWICACH', pm10_avg=0.5333333333333333, pm25_avg=0.3233333333333333, post_code='44-172', pressure_avg=981.3666666666667, street='UL. GLIWICKA', temperature_avg=10.166666666666666, timestamp='2024-10-13 14:41:48'),\n",
              " Row(city='SOKOŁOWICE', humidity_avg=81.89666666666666, latitude='51.245', longitude='17.4469', name='SZKOŁA PODSTAWOWA IM. ORŁA BIAŁEGO W SOKOŁOWICACH', pm10_avg=3.7266666666666666, pm25_avg=2.14, post_code='56-400', pressure_avg=990.88, street='SOKOŁOWICE', temperature_avg=12.876666666666667, timestamp='2024-10-13 14:41:48'),\n",
              " Row(city='LIGOTA POLSKA', humidity_avg=99.90000000000002, latitude='51.239942', longitude='17.542356', name='SZKOŁA PODSTAWOWA W LIGOCIE POLSKIEJ', pm10_avg=0.7000000000000001, pm25_avg=0.42, post_code='56-400', pressure_avg=986.6, street='LIGOTA POLSKA', temperature_avg=12.033333333333333, timestamp='2024-10-13 14:41:48'),\n",
              " Row(city='SMOLNA', humidity_avg=99.90000000000002, latitude='51.158266', longitude='17.429288', name='SZKOŁA PODSTAWOWA IM. KAWALERÓW ORDERU UŚMIECHU W SMOLNEJ', pm10_avg=11.133333333333333, pm25_avg=5.8500000000000005, post_code='56-400', pressure_avg=992.1666666666666, street='SMOLNA', temperature_avg=11.6, timestamp='2024-10-13 14:41:48'),\n",
              " Row(city='WSZECHŚWIĘTE', humidity_avg=99.90000000000002, latitude='51.191751', longitude='17.484968', name='SZKOŁA PODSTAWOWA WE WSZECHŚWIĘTEM', pm10_avg=1.9000000000000001, pm25_avg=0.9666666666666668, post_code='56-400', pressure_avg=985.9333333333334, street='WSZECHŚWIĘTE', temperature_avg=13.766666666666666, timestamp='2024-10-13 14:41:48'),\n",
              " Row(city='OLEŚNICA', humidity_avg=87.23333333333335, latitude='51.2095', longitude='17.41034', name='SZKOŁA PODSTAWOWA GMINY OLEŚNICA W OLEŚNICY', pm10_avg=0.13333333333333333, pm25_avg=0.08, post_code='56-400', pressure_avg=987.7333333333332, street='WILEŃSKA', temperature_avg=17.466666666666665, timestamp='2024-10-13 14:41:48'),\n",
              " Row(city='BRZEŹCE', humidity_avg=97.90000000000002, latitude='49.984943', longitude='18.832539', name='SZKOŁA PODSTAWOWA NR 19 W BRZEŹCACH', pm10_avg=10.966666666666667, pm25_avg=6.54, post_code='43-200', pressure_avg=982.2333333333332, street='POKOJU', temperature_avg=11.766666666666666, timestamp='2024-10-13 14:41:48'),\n",
              " Row(city='RADOSTÓW ŚREDNI', humidity_avg=99.90000000000002, latitude='51.12153', longitude='15.36293', name='ZESPÓŁ SZKOLNO-PRZEDSZKOLNY W RADOSTOWIE ŚREDNIM', pm10_avg=0.8666666666666666, pm25_avg=0.69, post_code='59-800', pressure_avg=980.9, street='RADOSTÓW ŚREDNI', temperature_avg=12.766666666666666, timestamp='2024-10-13 14:41:48'),\n",
              " Row(city='KOŚCIELNIK', humidity_avg=77.98666666666666, latitude='51.08393', longitude='15.29682', name='ZESPÓŁ SZKOLNO-PRZEDSZKOLNY W KOŚCIELNIKU', pm10_avg=2.216666666666667, pm25_avg=1.2233333333333334, post_code='59-800', pressure_avg=999.0366666666667, street='KOŚCIELNIK', temperature_avg=13.33, timestamp='2024-10-13 14:41:48'),\n",
              " Row(city='MIASTKO', humidity_avg=64.25666666666667, latitude='53.99424', longitude='16.97385', name='SZKOŁA PODSTAWOWA NR 2 IM. BOLESŁAWA CHROBREGO W MIASTKU', pm10_avg=0.48, pm25_avg=0.26, post_code='77-200', pressure_avg=997.0799999999999, street='KUJAWSKA', temperature_avg=15.056666666666667, timestamp='2024-10-13 14:41:48'),\n",
              " Row(city='MIASTKO', humidity_avg=58.95666666666667, latitude='54.00061', longitude='16.97198', name='ZESPÓŁ SZKÓŁ OGÓLNOKSZTAŁCĄCYCH I TECHNICZNYCH W MIASTKU', pm10_avg=0.49, pm25_avg=0.26333333333333336, post_code='77-200', pressure_avg=997.09, street='MŁODZIEŻOWA', temperature_avg=15.69, timestamp='2024-10-13 14:41:48'),\n",
              " Row(city='KOBIERZYCE', humidity_avg=99.90000000000002, latitude='50.971851', longitude='16.933169', name='SZKOŁA PODSTAWOWA IM. POLSKICH ODKRYWCÓW I PODRÓŻNIKÓW W KOBIERZYCACH', pm10_avg=0.5, pm25_avg=0.25, post_code='55-040', pressure_avg=981.0333333333333, street='PARKOWA', temperature_avg=12.200000000000001, timestamp='2024-10-13 14:41:48'),\n",
              " Row(city='PUSTKÓW WILCZKOWSKI', humidity_avg=99.9, latitude='50.906166', longitude='16.881039', name='SZKOŁA PODSTAWOWA W PUSTKOWIE WILCZKOWSKIM', pm10_avg=0.0, pm25_avg=0.0, post_code='55-040', pressure_avg=989.725, street='KŁODZKA', temperature_avg=12.0, timestamp='2024-10-13 14:41:48'),\n",
              " Row(city='BIELANY WROCŁAWSKIE', humidity_avg=99.63333333333333, latitude='51.038120', longitude='16.971022', name='SZKOŁA PODSTAWOWA IM. UNICEF W BIELANACH WROCŁAWSKICH', pm10_avg=0.6333333333333333, pm25_avg=0.39333333333333337, post_code='55-040', pressure_avg=994.7666666666668, street='AKACJOWA', temperature_avg=11.333333333333334, timestamp='2024-10-13 14:41:48'),\n",
              " Row(city='WYSOKA', humidity_avg=87.39999999999999, latitude='51.047504', longitude='17.007729', name='SZKOŁA PODSTAWOWA IM. JANUSZA KORCZAKA W WYSOKIEJ', pm10_avg=3.3433333333333337, pm25_avg=1.9933333333333334, post_code='52-200', pressure_avg=993.9166666666666, street='CHABROWA', temperature_avg=12.186666666666667, timestamp='2024-10-13 14:41:48'),\n",
              " Row(city='TYNIEC MAŁY', humidity_avg=87.23333333333335, latitude='51.021600', longitude='16.909195', name='SZKOŁA PODSTAWOWA IM. TADEUSZA MAZOWIECKIEGO W TYŃCU MAŁYM', pm10_avg=0.26666666666666666, pm25_avg=0.15333333333333335, post_code='55-040', pressure_avg=988.9, street='SZKOLNA', temperature_avg=11.200000000000001, timestamp='2024-10-13 14:41:48'),\n",
              " Row(city='PUSTKÓW ŻURAWSKI', humidity_avg=90.40000000000002, latitude='50.958878', longitude='16.859465', name='SZKOŁA PODSTAWOWA IM. ROMUALDA TRAUGUTTA W PUSTKOWIE ŻURAWSKIM', pm10_avg=1.7, pm25_avg=0.8566666666666668, post_code='55-040', pressure_avg=989.8000000000001, street='KOLEJOWA', temperature_avg=10.766666666666666, timestamp='2024-10-13 14:41:48'),\n",
              " Row(city='SŁUPNO', humidity_avg=96.60333333333334, latitude='52.5041', longitude='19.84527', name='SZKOŁA PODSTAWOWA IM. ABP. ANTONIEGO JULIANA NOWOWIEJSKIEGO W SŁUPNIE', pm10_avg=14.540000000000001, pm25_avg=8.53, post_code='09-472', pressure_avg=993.1233333333333, street='KOŚCIELNA', temperature_avg=9.973333333333334, timestamp='2024-10-13 14:41:48'),\n",
              " Row(city='PRUSZCZ GDAŃSKI', humidity_avg=77.93333333333334, latitude='54.261512', longitude='18.650575', name='SZKOŁA PODSTAWOWA NR 1 IM. MARII KONOPNICKIEJ W ZESPOLE SZKÓŁ OGÓLNOKSZTAŁCĄCYCH NR 1 IM. MARII KONOPNICKIEJ W PRUSZCZU GDAŃSKIM', pm10_avg=6.433333333333334, pm25_avg=3.626666666666667, post_code='83-000', pressure_avg=1006.5333333333333, street='NIEMCEWICZA', temperature_avg=11.9, timestamp='2024-10-13 14:41:48'),\n",
              " Row(city='PRUSZCZ GDAŃSKI', humidity_avg=85.46666666666665, latitude='54.260787', longitude='18.628278', name='SZKOŁA PODSTAWOWA NR 2 IM. MIKOŁAJA KOPERNIKA W PRUSZCZU GDAŃSKIM', pm10_avg=6.866666666666667, pm25_avg=4.196666666666666, post_code='83-000', pressure_avg=999.5, street='TYSIĄCLECIA', temperature_avg=11.866666666666667, timestamp='2024-10-13 14:41:48'),\n",
              " Row(city='PRUSZCZ GDAŃSKI', humidity_avg=99.90000000000002, latitude='54.255547', longitude='18.636981', name='SZKOŁA PODSTAWOWA NR 3 IM. JANA MATEJKI W PRUSZCZU GDAŃSKIM', pm10_avg=8.866666666666667, pm25_avg=5.133333333333333, post_code='83-000', pressure_avg=1002.3000000000001, street='MATEJKI', temperature_avg=10.5, timestamp='2024-10-13 14:41:48'),\n",
              " Row(city='PRUSZCZ GDAŃSKI', humidity_avg=78.56666666666666, latitude='54.263405', longitude='18.670231', name='SZKOŁA PODSTAWOWA NR 4 IM. IGNACEGO JANA PADEREWSKIEGO W PRUSZCZU GDAŃSKIM', pm10_avg=13.666666666666666, pm25_avg=8.553333333333333, post_code='83-000', pressure_avg=1002.0, street='KASPROWICZA', temperature_avg=12.233333333333334, timestamp='2024-10-13 14:41:48'),\n",
              " Row(city='WISŁA MAŁA', humidity_avg=99.90000000000002, latitude='49.93368', longitude='18.793987', name='SZKOŁA PODSTAWOWA NR 13 W WIŚLE MAŁEJ', pm10_avg=0.03333333333333333, pm25_avg=0.02, post_code='43-243', pressure_avg=987.1333333333333, street='SOKOLA', temperature_avg=12.299999999999999, timestamp='2024-10-13 14:41:48'),\n",
              " Row(city='STUDZIENICE', humidity_avg=99.83333333333333, latitude='50.016514', longitude='18.983576', name='ZESPÓŁ SZKOLNO-PRZEDSZKOLNY W STUDZIENICACH', pm10_avg=1.8333333333333333, pm25_avg=1.0166666666666666, post_code='43-215', pressure_avg=990.6333333333332, street='ŚW. JANA PAWŁA II 74', temperature_avg=12.299999999999999, timestamp='2024-10-13 14:41:48'),\n",
              " Row(city='SUSZEC', humidity_avg=99.90000000000002, latitude='50.03719', longitude='18.79149', name='SZKOŁA PODSTAWOWA IM. JANUSZA KORCZAKA W SUSZCU', pm10_avg=4.633333333333333, pm25_avg=2.4766666666666666, post_code='43-267', pressure_avg=975.2999999999998, street='SZKOLNA', temperature_avg=11.799999999999999, timestamp='2024-10-13 14:41:48'),\n",
              " Row(city='PORĘBA', humidity_avg=94.80333333333333, latitude='49.984417', longitude='18.876488', name='SZKOŁA PODSTAWOWA NR 11 W PORĘBIE', pm10_avg=4.226666666666667, pm25_avg=2.4066666666666667, post_code='43-200', pressure_avg=983.13, street='SZKOLNA', temperature_avg=12.333333333333334, timestamp='2024-10-13 14:41:48'),\n",
              " Row(city='WYSOCKO MAŁE', humidity_avg=99.9, latitude='51.61033', longitude='17.84109', name='SZKOŁA PODSTAWOWA IM. MIKOŁAJA KOPERNIKA W WYSOCKU MAŁYM', pm10_avg=3.95, pm25_avg=1.9324999999999999, post_code='63-421', pressure_avg=984.75, street='KOŚCIELNA', temperature_avg=10.875, timestamp='2024-10-13 14:41:48'),\n",
              " Row(city='NOWA SÓL', humidity_avg=71.23333333333333, latitude='51.82115', longitude='15.71186', name='SZKOŁA PODSTAWOWA NR 3 IM. JULIANA TUWIMA W NOWEJ SOLI', pm10_avg=1.7333333333333334, pm25_avg=1.0133333333333334, post_code='67-100', pressure_avg=1002.7666666666668, street='BOTANICZNA', temperature_avg=11.9, timestamp='2024-10-13 14:41:48'),\n",
              " Row(city='JANKÓW PIERWSZY', humidity_avg=82.8, latitude='51.902107', longitude='17.987951', name='ZESPÓŁ SZKÓŁ W JANKOWIE PIERWSZYM', pm10_avg=6.1000000000000005, pm25_avg=3.8200000000000003, post_code='62-814', pressure_avg=988.1666666666666, street='JANKÓW PIERWSZY', temperature_avg=9.799999999999999, timestamp='2024-10-13 14:41:48'),\n",
              " Row(city='MESZNO', humidity_avg=93.39333333333333, latitude='50.43684', longitude='17.15378', name='ZESPÓŁ SZKOLNO-PRZEDSZKOLNY W MESZNIE', pm10_avg=4.4799999999999995, pm25_avg=2.56, post_code='48-385', pressure_avg=990.2566666666667, street='MESZNO', temperature_avg=11.446666666666665, timestamp='2024-10-13 14:41:48'),\n",
              " Row(city='GRUPA', humidity_avg=87.89666666666666, latitude='53.506348', longitude='18.643229', name='SZKOŁA PODSTAWOWA IM. 16. PUŁKU UŁANÓW WIELKOPOLSKICH W GRUPIE', pm10_avg=2.2433333333333336, pm25_avg=1.1366666666666667, post_code='86-134', pressure_avg=999.1933333333333, street='SZKOLNA', temperature_avg=12.42, timestamp='2024-10-13 14:41:48'),\n",
              " Row(city='KUROWICE', humidity_avg=90.13333333333333, latitude='51.6648927', longitude='19.6897942', name='SZKOŁA PODSTAWOWA IM. ORŁA BIAŁEGO W KUROWICACH', pm10_avg=17.533333333333335, pm25_avg=8.623333333333333, post_code='95-006', pressure_avg=983.3666666666667, street='SZKOLNA', temperature_avg=13.166666666666666, timestamp='2024-10-13 14:41:48'),\n",
              " Row(city='BUDZYŃ', humidity_avg=79.29666666666667, latitude='52.8847', longitude='16.983885', name='SZKOŁA PODSTAWOWA IM. POWSTAŃCÓW WIELKOPOLSKICH W BUDZYNIU', pm10_avg=2.27, pm25_avg=1.2933333333333332, post_code='64-840', pressure_avg=997.4, street='ROGOZIŃSKA', temperature_avg=12.846666666666666, timestamp='2024-10-13 14:41:48'),\n",
              " Row(city='SWORNEGACIE', humidity_avg=81.63333333333333, latitude='53.86227', longitude='17.503073', name='SZKOŁA PODSTAWOWA W SWORNEGACIACH', pm10_avg=1.9066666666666665, pm25_avg=1.0333333333333334, post_code='89-608', pressure_avg=1001.4733333333334, street='SZKOLNA', temperature_avg=12.746666666666664, timestamp='2024-10-13 14:41:48'),\n",
              " Row(city='RASZÓWKA', humidity_avg=66.93333333333334, latitude='51.30514', longitude='16.18346', name='SZKOŁA PODSTAWOWA IM. ORŁA BIAŁEGO W RASZÓWCE', pm10_avg=0.3666666666666667, pm25_avg=0.22666666666666668, post_code='59-307', pressure_avg=996.4333333333334, street='1 MAJA', temperature_avg=15.466666666666667, timestamp='2024-10-13 14:41:48'),\n",
              " Row(city='MUNINA', humidity_avg=99.90000000000002, latitude='49.997936', longitude='22.725977', name='SZKOŁA PODSTAWOWA IM. TADEUSZA KOŚCIUSZKI W MUNINIE', pm10_avg=3.9333333333333336, pm25_avg=2.1166666666666667, post_code='37-514', pressure_avg=986.9333333333334, street='3-GO MAJA', temperature_avg=15.733333333333334, timestamp='2024-10-13 14:41:48'),\n",
              " Row(city='SUROCHÓW', humidity_avg=68.0, latitude='50.02385', longitude='22.7635', name='SZKOŁA PODSTAWOWA IM. ALEKSANDRA FREDRY W SUROCHOWIE', pm10_avg=3.5566666666666666, pm25_avg=1.9333333333333333, post_code='37-500', pressure_avg=987.5066666666667, street='SUROCHÓW', temperature_avg=16.37, timestamp='2024-10-13 14:41:48'),\n",
              " Row(city='IŁOWA', humidity_avg=76.21333333333332, latitude='51.50227', longitude='15.20461', name='SZKOŁA PODSTAWOWA IM. LOTNIKÓW ALIANCKICH W IŁOWEJ', pm10_avg=1.5866666666666667, pm25_avg=0.9066666666666666, post_code='68-120', pressure_avg=997.3366666666667, street='PIASKOWA', temperature_avg=13.836666666666666, timestamp='2024-10-13 14:41:48'),\n",
              " Row(city='BOŻEJOWICE', humidity_avg=84.85000000000001, latitude='51.244331', longitude='15.541525', name='ZESPÓŁ SZKOLNO-PRZEDSZKOLNY W BOŻEJOWICACH', pm10_avg=1.33, pm25_avg=0.7266666666666667, post_code='59-700', pressure_avg=998.8166666666666, street='BOŻEJOWICE', temperature_avg=12.563333333333333, timestamp='2024-10-13 14:41:48'),\n",
              " Row(city='BRZEŹNIK', humidity_avg=64.56666666666666, latitude='51.243537', longitude='15.467881', name='ZESPÓŁ SZKOLNO-PRZEDSZKOLNY W BRZEŹNIKU', pm10_avg=1.9666666666666668, pm25_avg=1.0633333333333332, post_code='59-700', pressure_avg=988.6999999999999, street='BRZEŹNIK', temperature_avg=9.166666666666666, timestamp='2024-10-13 14:41:48'),\n",
              " Row(city='DĄBROWA BOLESŁAWIECKA', humidity_avg=84.24, latitude='51.325929', longitude='15.57337', name='SZKOŁA PODSTAWOWA W DĄBROWIE BOLESŁAWIECKIEJ', pm10_avg=1.695, pm25_avg=0.7875000000000001, post_code='59-700', pressure_avg=994.4300000000001, street='DĄBROWA BOLESŁAWIECKA', temperature_avg=11.485, timestamp='2024-10-13 14:41:48'),\n",
              " Row(city='KRAŚNIK DOLNY', humidity_avg=83.155, latitude='51.307800', longitude='15.607869', name='ZESPÓŁ SZKOLNO-PRZEDSZKOLNY W KRAŚNIKU DOLNYM', pm10_avg=1.495, pm25_avg=0.8625, post_code='59-700', pressure_avg=997.23, street='KRAŚNIK DOLNY', temperature_avg=12.940000000000001, timestamp='2024-10-13 14:41:48'),\n",
              " Row(city='KRUSZYN', humidity_avg=80.94666666666666, latitude='51.260563', longitude='15.619282', name='ZESPÓŁ SZKOLNO-PRZEDSZKOLNY W KRUSZYNIE', pm10_avg=1.6600000000000001, pm25_avg=0.96, post_code='59-700', pressure_avg=997.2133333333333, street='KASZTANOWA', temperature_avg=13.14, timestamp='2024-10-13 14:41:48'),\n",
              " Row(city='OCICE', humidity_avg=83.155, latitude='51.201123', longitude='15.492642', name='ZESPÓŁ SZKOLNO-PRZEDSZKOLNY W OCICACH', pm10_avg=1.495, pm25_avg=0.8625, post_code='59-730', pressure_avg=997.23, street='OCICE', temperature_avg=12.940000000000001, timestamp='2024-10-13 14:41:48'),\n",
              " Row(city='TRZEBIEŃ', humidity_avg=79.4725, latitude='51.390285', longitude='15.599295', name='ZESPÓŁ SZKOLNO-PRZEDSZKOLNY W TRZEBIENIU', pm10_avg=1.125, pm25_avg=0.595, post_code='59-700', pressure_avg=998.675, street='LEŚNA', temperature_avg=12.5325, timestamp='2024-10-13 14:41:48'),\n",
              " Row(city='ŻELISZÓW', humidity_avg=81.37, latitude='51.188462', longitude='15.636493', name='ZESPÓŁ SZKOLNO-PRZEDSZKOLNY W ŻELISZOWIE', pm10_avg=1.07, pm25_avg=0.64, post_code='59-700', pressure_avg=998.6933333333333, street='ŻELISZÓW', temperature_avg=12.903333333333334, timestamp='2024-10-13 14:41:48'),\n",
              " Row(city='KAWĘCZYN', humidity_avg=90.1825, latitude='51.90873', longitude='18.53126', name='SZKOŁA PODSTAWOWA IM. MARII SKŁODOWSKIEJ-CURIE W KAWĘCZYNIE', pm10_avg=3.555, pm25_avg=2.28, post_code='62-704', pressure_avg=992.8175, street='KAWĘCZYN', temperature_avg=11.65, timestamp='2024-10-13 14:41:48'),\n",
              " Row(city='JORDANÓW ŚLĄSKI', humidity_avg=87.71333333333332, latitude='50.8654', longitude='16.8656', name='PUBLICZNA SZKOŁA PODSTAWOWA IM. MARII KONOPNICKIEJ W JORDANOWIE ŚLĄSKIM', pm10_avg=2.9033333333333338, pm25_avg=1.8566666666666667, post_code='55-065', pressure_avg=996.91, street='WROCŁAWSKA', temperature_avg=12.020000000000001, timestamp='2024-10-13 14:41:48'),\n",
              " Row(city='RUDNA', humidity_avg=85.715, latitude='51.51127', longitude='16.26114', name='SZKOŁA PODSTAWOWA IM. JANA PAWŁA II W RUDNEJ', pm10_avg=1.7850000000000001, pm25_avg=1.025, post_code='59-305', pressure_avg=997.3275, street='PIASKOWA', temperature_avg=12.3225, timestamp='2024-10-13 14:41:48'),\n",
              " Row(city='CHOBIENIA', humidity_avg=78.15, latitude='51.54124', longitude='16.44566', name='SZKOŁA PODSTAWOWA IM. BOHATERÓW WESTERPLATTE W CHOBIENI', pm10_avg=1.055, pm25_avg=0.5725, post_code='59-305', pressure_avg=994.2149999999999, street='SZKOLNA', temperature_avg=13.2225, timestamp='2024-10-13 14:41:48'),\n",
              " Row(city='ŚWIEBODZICE', humidity_avg=79.7, latitude='50.859905', longitude='16.322191', name='SZKOŁA PODSTAWOWA NR 3 IM. WŁADYSŁAWA BRONIEWSKIEGO W ŚWIEBODZICACH', pm10_avg=3.1666666666666665, pm25_avg=1.9433333333333334, post_code='58-160', pressure_avg=976.7333333333332, street='ŚWIDNICKA', temperature_avg=11.9, timestamp='2024-10-13 14:41:48'),\n",
              " Row(city='KOŹMIN WIELKOPOLSKI', humidity_avg=73.46666666666667, latitude='51.83286', longitude='17.447794', name='SZKOŁA PODSTAWOWA NR 3 IM. KORNELA MAKUSZYŃSKIEGO W KOŹMINIE WIELKOPOLSKIM', pm10_avg=0.26666666666666666, pm25_avg=0.15666666666666665, post_code='63-720', pressure_avg=994.4, street='KOPERNIKA', temperature_avg=11.4, timestamp='2024-10-13 14:41:48'),\n",
              " Row(city='NOWA SÓL', humidity_avg=99.9, latitude='51.78292', longitude='15.72476', name='PUBLICZNA SZKOŁA PODSTAWOWA NR 5 IM. WŁADYSŁAWA BRONIEWSKIEGO W NOWEJ SOLI', pm10_avg=4.725, pm25_avg=2.695, post_code='67-100', pressure_avg=998.95, street='WALKI MŁODYCH', temperature_avg=11.45, timestamp='2024-10-13 14:41:48'),\n",
              " Row(city='KOLSKO', humidity_avg=86.37333333333333, latitude='51.960693', longitude='15.961961', name='ZESPÓŁ EDUKACYJNY W KOLSKU', pm10_avg=3.436666666666667, pm25_avg=2.01, post_code='67-415', pressure_avg=1002.88, street='PIASTOWSKA', temperature_avg=12.39, timestamp='2024-10-13 14:41:48'),\n",
              " Row(city='KOŁO', humidity_avg=89.95333333333333, latitude='52.201656', longitude='18.63092', name='SZKOŁA PODSTAWOWA NR 3 IM. MARII KONOPNICKIEJ W KOLE', pm10_avg=14.196666666666667, pm25_avg=9.626666666666667, post_code='62-600', pressure_avg=992.7666666666668, street='TORUŃSKA', temperature_avg=10.573333333333332, timestamp='2024-10-13 14:41:48'),\n",
              " Row(city='MIKORZYN', humidity_avg=91.91499999999999, latitude='51.36473', longitude='18.026148', name='SZKOŁA PODSTAWOWA IM. JANA PAWŁA II W MIKORZYNIE', pm10_avg=4.3775, pm25_avg=2.2925, post_code='63-600', pressure_avg=992.2674999999999, street='MIKORZYN', temperature_avg=11.6, timestamp='2024-10-13 14:41:48'),\n",
              " Row(city='KĘPNO', humidity_avg=85.45, latitude='51.27619', longitude='17.987194', name='SZKOŁA PODSTAWOWA NR 1 IM. BOHATERÓW WESTERPLATTE W KĘPNIE', pm10_avg=0.8, pm25_avg=0.41, post_code='63-600', pressure_avg=994.925, street='HENRYKA SIENKIEWICZA', temperature_avg=13.174999999999999, timestamp='2024-10-13 14:41:48'),\n",
              " Row(city='CZĄSTKÓW MAZOWIECKI', humidity_avg=90.13333333333333, latitude='52.39131', longitude='20.746943', name='SZKOŁA PODSTAWOWA IM. PREZYDENTA GABRIELA NARUTOWICZA W CZĄSTKOWIE MAZOWIECKIM', pm10_avg=7.0, pm25_avg=4.003333333333333, post_code='05-152', pressure_avg=994.8000000000001, street='CZĄSTKÓW MAZOWIECKI', temperature_avg=11.866666666666667, timestamp='2024-10-13 14:41:48'),\n",
              " Row(city='BUDY SIENNICKIE', humidity_avg=60.5, latitude='52.544962', longitude='20.787657', name='SZKOŁA PODSTAWOWA IM. PIERRE\"A DE COUBERTINA W BUDACH SIENNICKICH', pm10_avg=12.533333333333333, pm25_avg=6.626666666666666, post_code='05-190', pressure_avg=991.1333333333333, street='BUDY SIENNICKIE', temperature_avg=10.1, timestamp='2024-10-13 14:41:48'),\n",
              " Row(city='SZKLARY GÓRNE', humidity_avg=71.33333333333333, latitude='51.44225', longitude='16.08945', name='SZKOŁA PODSTAWOWA IM. JANA BRZECHWY W SZKLARACH GÓRNYCH', pm10_avg=0.06666666666666667, pm25_avg=0.03666666666666667, post_code='59-335', pressure_avg=989.4, street='SZKLARY GÓRNE', temperature_avg=14.0, timestamp='2024-10-13 14:41:48'),\n",
              " Row(city='GÓRNE GRĄDY', humidity_avg=99.90000000000002, latitude='52.11447', longitude='17.74012', name='SAMORZĄDOWA SZKOŁA PODSTAWOWA W GÓRNYCH GRĄDACH', pm10_avg=2.966666666666667, pm25_avg=1.8133333333333332, post_code='62-310', pressure_avg=991.64, street='GÓRNE GRĄDY', temperature_avg=13.5, timestamp='2024-10-13 14:41:48'),\n",
              " Row(city='CIĄŻEŃ', humidity_avg=99.90000000000002, latitude='52.21152', longitude='17.816093', name='SZKOŁA PODSTAWOWA IM. KRZYSZTOFA KAMILA BACZYŃSKIEGO W CIĄŻENIU', pm10_avg=1.1333333333333335, pm25_avg=0.6233333333333334, post_code='62-404', pressure_avg=993.6666666666666, street='WOLNOŚCI', temperature_avg=11.700000000000001, timestamp='2024-10-13 14:41:48'),\n",
              " Row(city='LĄDEK', humidity_avg=80.9, latitude='52.20916', longitude='17.924826', name='SZKOŁA PODSTAWOWA IM. WOJSKA POLSKIEGO W LĄDKU', pm10_avg=3.0666666666666664, pm25_avg=1.6266666666666667, post_code='62-406', pressure_avg=996.4666666666667, street='PYZDERSKA', temperature_avg=9.933333333333332, timestamp='2024-10-13 14:41:48'),\n",
              " Row(city='KOŹMIN WIELKOPOLSKI', humidity_avg=85.06666666666666, latitude='51.82566', longitude='17.45651', name='SZKOŁA PODSTAWOWA NR 1 IM. STRAJKU DZIECI KOŹMIŃSKICH 1906/1907 W KOŹMINIE WIELKOPOLSKIM', pm10_avg=6.0, pm25_avg=3.4166666666666665, post_code='63-720', pressure_avg=994.2333333333332, street='GLINKI', temperature_avg=12.299999999999999, timestamp='2024-10-13 14:41:48'),\n",
              " Row(city='EŁK', humidity_avg=99.23333333333333, latitude='53.82862', longitude='22.365547', name='SZKOŁA PODSTAWOWA SPORTOWA NR 6 W EŁKU', pm10_avg=1.3666666666666665, pm25_avg=0.8666666666666667, post_code='19-300', pressure_avg=993.52, street='SUWALSKA', temperature_avg=12.883333333333333, timestamp='2024-10-13 14:41:48'),\n",
              " Row(city='STAROGARD GDAŃSKI', humidity_avg=87.83333333333333, latitude='53.98333', longitude='18.491356', name='SZKOŁA PODSTAWOWA NR 6 IM. JANA PAWŁA II W STAROGARDZIE GDAŃSKIM', pm10_avg=6.766666666666667, pm25_avg=3.7066666666666666, post_code='83-250', pressure_avg=990.0333333333333, street='BP. DOMINIKA', temperature_avg=11.5, timestamp='2024-10-13 14:41:48'),\n",
              " Row(city='RUDZICZKA (SUSZEC)', humidity_avg=63.9, latitude='50.03935', longitude='18.7549', name='PUBLICZNA SZKOLA PODSTAWOWA IM. BOHATEROW OŚWIĘCIMSKICH W RUDZICZCE', pm10_avg=14.4, pm25_avg=8.8, post_code='43-267', pressure_avg=983.2999999999998, street='WOSZCZYCKA', temperature_avg=29.3, timestamp='2024-10-13 14:41:48'),\n",
              " Row(city='CHOJNÓW', humidity_avg=99.90000000000002, latitude='51.26856', longitude='15.9396', name='SZKOŁA PODSTAWOWA NR 4 IM. JANUSZA KORCZAKA W CHOJNOWIE', pm10_avg=1.5333333333333332, pm25_avg=0.7733333333333333, post_code='59-225', pressure_avg=992.3666666666667, street='JANA KILIŃSKIEGO', temperature_avg=10.866666666666667, timestamp='2024-10-13 14:41:48'),\n",
              " Row(city='KOŁO', humidity_avg=82.6475, latitude='52.2088', longitude='18.62956', name='ZESPÓŁ SZKÓŁ TECHNICZNYCH W KOLE', pm10_avg=5.75, pm25_avg=3.5300000000000002, post_code='62-600', pressure_avg=992.115, street='KOLEJOWA', temperature_avg=11.715, timestamp='2024-10-13 14:41:48'),\n",
              " Row(city='WARKA', humidity_avg=5.0, latitude='51.78638', longitude='21.188357', name='PUBLICZNA SZKOŁA PODSTAWOWA NR 2 IM. KAZIMIERZA PUŁASKIEGO W WARCE', pm10_avg=12.233333333333334, pm25_avg=7.283333333333334, post_code='05-660', pressure_avg=993.2666666666668, street='POLNA', temperature_avg=11.966666666666667, timestamp='2024-10-13 14:41:48'),\n",
              " Row(city='NASIELSK', humidity_avg=46.1, latitude='52.589717', longitude='20.801001', name='SZKOŁA PODSTAWOWA NR 2 IM. STEFANA STARZYŃSKIEGO W NASIELSKU', pm10_avg=16.866666666666667, pm25_avg=10.866666666666667, post_code='05-190', pressure_avg=992.7666666666668, street='KOŚCIUSZKI', temperature_avg=9.799999999999999, timestamp='2024-10-13 14:41:48'),\n",
              " Row(city='KAZUŃ NOWY', humidity_avg=85.72333333333334, latitude='52.419853', longitude='20.68265', name='ZESPÓŁ SZKOLNO-PRZEDSZKOLNY W KAZUNIU NOWYM', pm10_avg=13.296666666666667, pm25_avg=7.4366666666666665, post_code='05-152', pressure_avg=997.1999999999999, street='GŁÓWNA', temperature_avg=10.780000000000001, timestamp='2024-10-13 14:41:48'),\n",
              " Row(city='CIEKSYN', humidity_avg=86.44333333333333, latitude='52.572132', longitude='20.666605', name='SZKOŁA PODSTAWOWA IM. MIKOŁAJA KOPERNIKA W CIEKSYNIE', pm10_avg=11.886666666666668, pm25_avg=6.760000000000001, post_code='05-192', pressure_avg=998.3466666666667, street='MARSZ. JÓZEFA PIŁSUDSKIEGO', temperature_avg=10.79, timestamp='2024-10-13 14:41:48'),\n",
              " Row(city='CZECHOWICE-DZIEDZICE', humidity_avg=75.87333333333333, latitude='49.908154', longitude='19.003326', name='SZKOŁA PODSTAWOWA NR 5 IM MIKOŁAJA KOPERNIKA W CZECHOWICACH-DZIEDZICACH', pm10_avg=8.463333333333333, pm25_avg=4.95, post_code='43-502', pressure_avg=977.6133333333333, street='KLASZTORNA', temperature_avg=13.453333333333333, timestamp='2024-10-13 14:41:48'),\n",
              " Row(city='ZABRZEG', humidity_avg=80.405, latitude='49.91564', longitude='18.9401', name='SZKOŁA PODSTAWOWA IM. KS. JÓZEFA LONDZINA W ZABRZEGU', pm10_avg=3.7249999999999996, pm25_avg=2.08, post_code='43-516', pressure_avg=980.5825, street='KAROLA PYTLA', temperature_avg=13.295, timestamp='2024-10-13 14:41:48'),\n",
              " Row(city='NOWA WIEŚ', humidity_avg=77.0, latitude='52.14079879793492', longitude='20.793608032839607', name='GMINNE PRZEDSZKOLE W NOWEJ WSI', pm10_avg=8.299999999999999, pm25_avg=4.6066666666666665, post_code='05-806', pressure_avg=999.4333333333334, street='UL. GŁÓWNA', temperature_avg=12.333333333333334, timestamp='2024-10-13 14:41:48'),\n",
              " Row(city='MICHAŁOWICE', humidity_avg=79.60000000000001, latitude='52.16806240949327', longitude='20.8894743996203', name='SZKOŁA PODSTAWOWA IM. JANA PAWŁA II W MICHAŁOWICACH', pm10_avg=5.0, pm25_avg=2.5066666666666664, post_code='05-816', pressure_avg=997.9333333333334, street='UL. SZKOLNA', temperature_avg=11.566666666666668, timestamp='2024-10-13 14:41:48'),\n",
              " Row(city='KOMORÓW', humidity_avg=99.43333333333334, latitude='52.14696671968943', longitude='20.814969926602924', name='SZKOŁA PODSTAWOWA IM. MARII DĄBROWSKIEJ W KOMOROWIE', pm10_avg=9.033333333333333, pm25_avg=5.283333333333334, post_code='05-806', pressure_avg=998.1999999999999, street='UL. M. DĄBROWSKIEJ', temperature_avg=10.566666666666666, timestamp='2024-10-13 14:41:48'),\n",
              " Row(city='NOWA WIEŚ', humidity_avg=77.0, latitude='52.134787344746286', longitude='20.80065871311049', name='SZKOŁA PODSTAWOWA IM. MIKOŁAJA KOPERNIKA W NOWEJ WSI', pm10_avg=8.299999999999999, pm25_avg=4.6066666666666665, post_code='05-806', pressure_avg=999.4333333333334, street='UL. GŁÓWNA', temperature_avg=12.333333333333334, timestamp='2024-10-13 14:41:48'),\n",
              " Row(city='MICHAŁOWICE', humidity_avg=79.60000000000001, latitude='52.16924425690457', longitude='20.8908240883606', name='GMINNE PRZEDSZKOLE W MICHAŁOWICACH', pm10_avg=5.0, pm25_avg=2.5066666666666664, post_code='05-816', pressure_avg=997.9333333333334, street='UL. SZKOLNA', temperature_avg=11.566666666666668, timestamp='2024-10-13 14:41:48'),\n",
              " Row(city='SMOŁDZINO', humidity_avg=71.23333333333333, latitude='54.66198055959346', longitude='17.217509899999996', name='ZESPÓŁ SZKOLNO-PRZEDSZKOLNY W SMOŁDZINIE', pm10_avg=2.1333333333333333, pm25_avg=1.1566666666666665, post_code='76-214', pressure_avg=997.8666666666667, street='BOHATERÓW WARSZAWY', temperature_avg=11.266666666666666, timestamp='2024-10-13 14:41:48'),\n",
              " Row(city='DOBRZYKOWICE', humidity_avg=87.60000000000001, latitude='51.092059', longitude='17.185415', name='ZESPÓŁ SZKOLNO- PRZEDSZKOLNY W\\xa0DOBRZYKOWICACH', pm10_avg=22.0, pm25_avg=13.19, post_code='55-002', pressure_avg=984.8000000000001, street='UL. SUKCESU', temperature_avg=10.733333333333334, timestamp='2024-10-13 14:41:48'),\n",
              " Row(city='CZERNICA', humidity_avg=80.36666666666666, latitude='51.092542', longitude='17.292154', name='SZKOŁA PODSTAWOWA IM. PIASTÓW ŚLĄSKICH W CHRZĄSTAWIE WIELKIEJ', pm10_avg=3.6666666666666665, pm25_avg=1.9799999999999998, post_code='55-003', pressure_avg=986.3233333333334, street='UL. WROCŁAWSKA', temperature_avg=13.966666666666669, timestamp='2024-10-13 14:41:48'),\n",
              " Row(city='CZERNICA', humidity_avg=87.09333333333332, latitude=' 51.0473805', longitude='17.248533', name='ZESPÓŁ SZKOLNO-PRZEDSZKOLNY IM. PAPIEŻA JANA PAWŁA II W CZERNICY', pm10_avg=3.41, pm25_avg=1.8766666666666667, post_code='55-003', pressure_avg=988.6533333333333, street='UL. ŚW. BRATA ALBERTA ADAMA CHMIELOWSKIEGO\\xa0', temperature_avg=12.410000000000002, timestamp='2024-10-13 14:41:48'),\n",
              " Row(city='CZERNICA', humidity_avg=99.90000000000002, latitude=' 51.033897', longitude='17.266850', name='SZKOŁA PODSTAWOWA IM. JANUSZA KORCZAKA W RATOWICACH', pm10_avg=0.9333333333333332, pm25_avg=0.5666666666666668, post_code='55-003', pressure_avg=981.2666666666668, street='UL. WROCŁAWSKA', temperature_avg=10.066666666666666, timestamp='2024-10-13 14:41:48'),\n",
              " Row(city='KAMIENIEC WROCŁAWSKI', humidity_avg=86.23333333333333, latitude=' 51.077638', longitude='17.173628', name='SZKOŁA PODSTAWOWA IM. BOLESŁAW KRZYWOUSTEGO W KAMIEŃCU WROCŁAWSKIM', pm10_avg=0.5333333333333333, pm25_avg=0.3133333333333333, post_code='55-002', pressure_avg=984.1999999999999, street='UL. KOLEJOWA', temperature_avg=12.1, timestamp='2024-10-13 14:41:48'),\n",
              " Row(city='KONSTANCIN-JEZIORNA', humidity_avg=99.90000000000002, latitude='52.060898677662806', longitude='21.15329336951058', name='SZKOŁA PODSTAWOWA NR 4 IM. JANA MEJSTERA W SŁOMCZYNIE', pm10_avg=11.6, pm25_avg=6.5, post_code='05-520', pressure_avg=996.0666666666666, street='WILANOWSKA', temperature_avg=9.433333333333334, timestamp='2024-10-13 14:41:48'),\n",
              " Row(city='TOMASZÓW', humidity_avg=42.333333333333336, latitude='51.622513710796575', longitude='15.404658513741197', name='PUBLICZNA SZKOŁA PODSTAWOWA W TOMASZOWIE', pm10_avg=1.9000000000000001, pm25_avg=1.1566666666666665, post_code='68-114', pressure_avg=987.3333333333334, street='LEŚNA', temperature_avg=13.066666666666668, timestamp='2024-10-13 14:41:48'),\n",
              " Row(city='ZŁOCZEW', humidity_avg=83.45, latitude='51.4178804156053', longitude='18.6090799115871', name='ZESPÓŁ SZKOLNO - PRZEDSZKOLNY W ZŁOCZEWIE', pm10_avg=9.833333333333334, pm25_avg=7.333333333333333, post_code='98-270', pressure_avg=986.0, street='UL. BURZENIŃSKA', temperature_avg=8.283333333333333, timestamp='2024-10-13 14:41:48'),\n",
              " Row(city='GŁOWNO', humidity_avg=78.18333333333332, latitude='51.9623804301233', longitude='19.6933836827724', name='SZKOŁA PODSTAWOWA NR 3 IM. TADEUSZA KOŚCIUSZKI W GŁOWNIE', pm10_avg=9.583333333333334, pm25_avg=8.166666666666666, post_code='95-015', pressure_avg=989.9166666666666, street='KARASICKA', temperature_avg=10.35, timestamp='2024-10-13 14:41:48'),\n",
              " Row(city='LUBLIN', humidity_avg=62.75, latitude='51.2433286093504', longitude='22.5237824136724', name='SZKOŁA PODSTAWOWA NR 29 W LUBLINIE', pm10_avg=8.166666666666666, pm25_avg=6.5, post_code='20-604', pressure_avg=983.75, street='WAJDELOTY', temperature_avg=13.216666666666667, timestamp='2024-10-13 14:41:48'),\n",
              " Row(city='LUBLIN', humidity_avg=70.0, latitude='51.2606404685152', longitude='22.5413696849013', name='SZKOŁA PODSTAWOWA NR 34 IM. KORNELA MAKUSZYŃSKIEGO W LUBLINIE', pm10_avg=7.0, pm25_avg=6.416666666666667, post_code='20-815', pressure_avg=984.3333333333334, street='IRENY KOSMOWSKIEJ', temperature_avg=12.025, timestamp='2024-10-13 14:41:48'),\n",
              " Row(city='BUDY GŁOGOWSKIE', humidity_avg=64.66666666666667, latitude='50.1600258408686', longitude='21.9052064322315', name='SZKOŁA PODSTAWOWA IM. MARII KONOPNICKIEJ W BUDACH GŁOGOWSKICH', pm10_avg=8.083333333333334, pm25_avg=6.666666666666667, post_code='36-060', pressure_avg=981.3333333333334, street='BUDY GŁOGOWSKIE', temperature_avg=13.991666666666667, timestamp='2024-10-13 14:41:48'),\n",
              " Row(city='SIETESZ', humidity_avg=59.03333333333333, latitude='49.9901875306008', longitude='22.3548248494236', name='SZKOŁA PODSTAWOWA IM. ŚW. JADWIGI KRÓLOWEJ W SIETESZY', pm10_avg=5.083333333333333, pm25_avg=4.333333333333333, post_code='37-206', pressure_avg=978.4166666666666, street='SIETESZ', temperature_avg=14.0, timestamp='2024-10-13 14:41:48'),\n",
              " Row(city='MŁODÓW', humidity_avg=34.666666666666664, latitude='50.1612772043517', longitude='23.1625474248211', name='SZKOŁA PODSTAWOWA IM. MARII KONOPNICKIEJ W MŁODOWIE', pm10_avg=4.333333333333333, pm25_avg=3.6666666666666665, post_code='37-600', pressure_avg=984.5833333333334, street='UL. SZKOLNA', temperature_avg=23.46666666666667, timestamp='2024-10-13 14:41:48'),\n",
              " Row(city='BACHÓRZEC', humidity_avg=70.0909090909091, latitude='49.82477572297', longitude='22.334908846237', name='PUBLICZNA SZKOŁA PODSTAWOWA W BACHÓRCU', pm10_avg=6.909090909090909, pm25_avg=5.636363636363637, post_code='37-750', pressure_avg=980.9090909090909, street='BACHÓRZEC', temperature_avg=13.436363636363637, timestamp='2024-10-13 14:41:48'),\n",
              " Row(city='PRZEMYŚL', humidity_avg=50.76666666666667, latitude='49.7813808269014', longitude='22.7790441750718', name='SZKOŁA PODSTAWOWA STOWARZYSZENIA ABSOLWENTÓW I LO W PRZEMYŚLU', pm10_avg=6.333333333333333, pm25_avg=5.666666666666667, post_code='37-700', pressure_avg=987.0, street='UL. DWORSKIEGO', temperature_avg=15.858333333333334, timestamp='2024-10-13 14:41:48'),\n",
              " Row(city='STRASZYDLE', humidity_avg=45.99090909090909, latitude='49.8988952858278', longitude='21.9835224420105', name='SZKOŁA PODSTAWOWA IM. JANA PAWŁA II W STRASZYDLU', pm10_avg=6.181818181818182, pm25_avg=5.181818181818182, post_code='36-043', pressure_avg=979.2727272727273, street='STRASZYDLE', temperature_avg=17.972727272727273, timestamp='2024-10-13 14:41:48'),\n",
              " Row(city='PRZEMYŚL', humidity_avg=55.19166666666666, latitude='49.7739137681101', longitude='22.8836889838114', name='SZKOŁA PODSTAWOWA W SIEDLISKACH', pm10_avg=5.0, pm25_avg=4.416666666666667, post_code='37-731', pressure_avg=983.8333333333334, street='SIEDLISKA', temperature_avg=15.883333333333333, timestamp='2024-10-13 14:41:48'),\n",
              " Row(city='ROPCZYCE', humidity_avg=54.00909090909091, latitude='50.0389694490123', longitude='21.5832672438671', name='SZKOŁA PODSTAWOWA NR 3 IM. JANA PAWŁA II W ROPCZYCACH', pm10_avg=7.454545454545454, pm25_avg=6.545454545454546, post_code='39-100', pressure_avg=983.0, street='3 MAJA', temperature_avg=15.109090909090911, timestamp='2024-10-13 14:41:48'),\n",
              " Row(city='KAMIENNA GÓRA', humidity_avg=29.916666666666668, latitude='50.7839631113426', longitude='16.0229361940264', name='SZKOŁA PODSTAWOWA NR 2 IM. \"TKACZY ŚLĄSKICH\" W KAMIENNEJ GÓRZE', pm10_avg=3.9166666666666665, pm25_avg=3.0833333333333335, post_code='58-400', pressure_avg=956.25, street='JELENIOGÓRSKA', temperature_avg=23.483333333333334, timestamp='2024-10-13 14:41:48'),\n",
              " Row(city='SOSNOWIEC', humidity_avg=76.52727272727272, latitude='50.2878010895257', longitude='19.1269172651723', name='SZKOŁA PODSTAWOWA NR 10 IM. ORŁA BIAŁEGO W SOSNOWCU', pm10_avg=8.818181818181818, pm25_avg=7.636363636363637, post_code='41-200', pressure_avg=978.0909090909091, street='REYMONTA', temperature_avg=11.818181818181818, timestamp='2024-10-13 14:41:48'),\n",
              " Row(city='KRAKÓW', humidity_avg=71.83333333333333, latitude='50.1000269916206', longitude='20.0188257572655', name='SZKOŁA PODSTAWOWA NR 89 IM. KORNELA MAKUSZYŃSKIEGO W KRAKOWIE', pm10_avg=3.3333333333333335, pm25_avg=3.1666666666666665, post_code='31-624', pressure_avg=980.0, street='OS. PIASTÓW', temperature_avg=12.950000000000001, timestamp='2024-10-13 14:41:48'),\n",
              " Row(city='LIBIĄŻ', humidity_avg=76.63333333333334, latitude='50.0995764389139', longitude='19.3064540609702', name='SZKOŁA PODSTAWOWA NR 2 IM. BŁ. JANA PAWŁA II W LIBIĄŻU', pm10_avg=4.25, pm25_avg=3.0833333333333335, post_code='32-590', pressure_avg=976.0, street='PLAC ZWYCIĘSTWA', temperature_avg=12.016666666666666, timestamp='2024-10-13 14:41:48'),\n",
              " Row(city='BOCHNIA', humidity_avg=52.98333333333333, latitude='49.9702658831946', longitude='20.4250867479996', name='SZKOŁA PODSTAWOWA NR 2  IM. KAZIMIERZA BRODZIŃSKIEGO W BOCHNI', pm10_avg=4.583333333333333, pm25_avg=4.0, post_code='32-700', pressure_avg=982.0833333333334, street='ORACKA', temperature_avg=17.125, timestamp='2024-10-13 14:41:48'),\n",
              " Row(city='OSIEK', humidity_avg=65.95833333333333, latitude='49.9511789367323', longitude='19.2631410879493', name='SZKOŁA PODSTAWOWA NR 1 IM. WŁADYSŁAWA JAGIEŁŁY W OSIEKU', pm10_avg=3.4166666666666665, pm25_avg=2.9166666666666665, post_code='32-608', pressure_avg=979.5833333333334, street='GŁÓWNA', temperature_avg=15.083333333333334, timestamp='2024-10-13 14:41:48'),\n",
              " Row(city='ŁOZINA', humidity_avg=99.90000000000002, latitude='51.23388117656271', longitude='17.180298682797538', name='SZKOŁA PODSTAWOWA IM. KAZIMIERZA GÓRSKIEGO W ŁOZINIE', pm10_avg=26.633333333333336, pm25_avg=15.496666666666668, post_code='55-095', pressure_avg=990.0, street='MILICKA', temperature_avg=9.700000000000001, timestamp='2024-10-13 14:41:48'),\n",
              " Row(city='KIEŁCZÓW', humidity_avg=81.10000000000001, latitude='51.1371047031024', longitude='17.19065006929958', name='PRZEDSZKOLE W KIEŁCZOWIE', pm10_avg=0.7333333333333334, pm25_avg=0.39666666666666667, post_code='55-093', pressure_avg=989.1666666666666, street='WROCŁAWSKA', temperature_avg=12.533333333333333, timestamp='2024-10-13 14:41:48'),\n",
              " Row(city='LISZYNO', humidity_avg=96.61, latitude='52.49033616836436', longitude='19.817459454245913', name='SZKOŁA PODSTAWOWA W LISZYNIE', pm10_avg=14.75, pm25_avg=8.64, post_code='09-408', pressure_avg=993.0933333333332, street='UL. WAWRZYŃCA SIKORY', temperature_avg=9.983333333333333, timestamp='2024-10-13 14:41:48'),\n",
              " Row(city='BLIZNE JASIŃSKIEGO', humidity_avg=91.93333333333334, latitude='52.2438730196329', longitude='20.881159640505192', name='PRZEDSZKOLE W BLIZNEM JASIŃSKIEGO', pm10_avg=12.266666666666666, pm25_avg=7.02, post_code='05-082', pressure_avg=999.6999999999999, street='UL. TADEUSZA KOŚCIUSZKI', temperature_avg=11.200000000000001, timestamp='2024-10-13 14:41:48'),\n",
              " Row(city='PRUDNIK', humidity_avg=99.5, latitude='50.32109542835716', longitude='17.571637628835184', name='ZESPÓŁ SZKÓŁ W PRUDNIKU', pm10_avg=0.43333333333333335, pm25_avg=0.26666666666666666, post_code='48-200', pressure_avg=982.1, street='UL. DĄBROWSKIEGO', temperature_avg=10.033333333333333, timestamp='2024-10-13 14:41:48'),\n",
              " Row(city='OSTRORÓG', humidity_avg=99.90000000000002, latitude='52.62862454862175', longitude='16.446531842328756', name='PRZEDSZKOLE ,,MIŚ USZATEK\" W OSTROROGU', pm10_avg=2.1333333333333333, pm25_avg=1.0799999999999998, post_code='64-560', pressure_avg=992.2000000000002, street='UL. WRONIECKA', temperature_avg=9.866666666666667, timestamp='2024-10-13 14:41:48'),\n",
              " Row(city='TOSZEK', humidity_avg=99.90000000000002, latitude='50.454108128948924', longitude='18.527405971163624', name='SZKOŁA PODSTAWOWA NR 2 IM. GUSTAWA MORCINKA W TOSZKU', pm10_avg=3.0666666666666664, pm25_avg=1.8333333333333333, post_code='44-180', pressure_avg=983.7666666666668, street='UL. WILKOWICKA', temperature_avg=6.666666666666667, timestamp='2024-10-13 14:41:48'),\n",
              " Row(city='ROSZOWICKI LAS', humidity_avg=74.76666666666667, latitude='50.26168468', longitude='18.21990066', name='PUBLICZNA SZKOŁA PODSTAWOWA IM. JANA PAWŁA II W ROSZOWICKIM LESIE', pm10_avg=1.1833333333333333, pm25_avg=0.8250000000000001, post_code='47-253', pressure_avg=991.4333333333334, street='UL. SZKOLNA', temperature_avg=10.133333333333333, timestamp='2024-10-13 14:41:48'),\n",
              " Row(city='RACIMIERZ', humidity_avg=88.2875, latitude='53.7423708', longitude='14.65747308', name='SZKOŁA PODSTAWOWA IM. KS. JANA TWARDOWSKIEGO W RACIMIERZU', pm10_avg=2.3375, pm25_avg=2.0875, post_code='72-111', pressure_avg=1002.0875, street='UL. NIEPODLEGŁOŚCI', temperature_avg=8.75, timestamp='2024-10-13 14:41:48'),\n",
              " Row(city='PUŁAWY', humidity_avg=58.14166666666667, latitude='51.41935824', longitude='21.95614207', name='I KATOLICKIE SPOŁECZNE LICEUM OGÓLNOKSZTAŁCACE IM.ŚW.BRATA ALBERTA CHMIELOWSKIEGO W PUŁAWACH', pm10_avg=4.25, pm25_avg=4.25, post_code='24-100', pressure_avg=988.8666666666667, street='UL. STANISŁAWA EUSTACHIEWICZA', temperature_avg=15.366666666666667, timestamp='2024-10-13 14:41:48'),\n",
              " Row(city='PUŁAWY', humidity_avg=53.90833333333333, latitude='51.41823622', longitude='21.97667461', name='TECHNIKUM NR 4 W ZESPOLE SZKÓŁ TECHNICZNYCH IM.M. SKŁODOWSKIEJ-CURIE W PUŁAWACH', pm10_avg=4.683333333333334, pm25_avg=4.683333333333334, post_code='24-100', pressure_avg=988.1, street='UL. WOJSKA POLSKIEGO', temperature_avg=16.191666666666666, timestamp='2024-10-13 14:41:48'),\n",
              " Row(city='PUŁAWY', humidity_avg=54.23333333333333, latitude='51.41579363', longitude='21.96276919', name='SZKOŁA PODSTAWOWA NR 2 IM. KRZYSZTOFA KAMILA BACZYŃSKIEGO W PUŁAWACH', pm10_avg=3.6999999999999997, pm25_avg=3.6999999999999997, post_code='24-100', pressure_avg=988.1166666666667, street='AL. MAŁA', temperature_avg=16.075, timestamp='2024-10-13 14:41:48'),\n",
              " Row(city='JAWIDZ', humidity_avg=68.01666666666667, latitude='51.3706852', longitude='22.72203892', name='SZKOŁA PODSTAWOWA IM. HANSA CHRISTIANA ANDERSENA W JAWIDZU', pm10_avg=6.258333333333333, pm25_avg=5.916666666666667, post_code='21-077', pressure_avg=991.1833333333334, street=None, temperature_avg=15.633333333333333, timestamp='2024-10-13 14:41:48'),\n",
              " Row(city='ŁĘCZNA', humidity_avg=66.98333333333333, latitude='51.29206273', longitude='22.88259013', name='SZKOŁA PODSTAWOWA NR 4 IM. PAPIEŻA JANA PAWŁA II W ŁĘCZNEJ', pm10_avg=4.416666666666667, pm25_avg=4.416666666666667, post_code='21-010', pressure_avg=986.8249999999999, street='UL. JAŚMINOWA', temperature_avg=13.799999999999999, timestamp='2024-10-13 14:41:48'),\n",
              " Row(city='JAKUBOWICE KONIŃSKIE', humidity_avg=70.99166666666666, latitude='51.31010447', longitude='22.52628594', name='SZKOŁA PODSTAWOWA IM.JOACHIMA LELEWELA W JAKUBOWICACH KONIŃSKICH', pm10_avg=4.425, pm25_avg=4.425, post_code='21-003', pressure_avg=983.9083333333333, street='UL. SZKOLNA', temperature_avg=12.991666666666667, timestamp='2024-10-13 14:41:48'),\n",
              " Row(city='KŁODNICA DOLNA', humidity_avg=68.75, latitude='51.06632652', longitude='22.28477957', name='SZKOŁA PODSTAWOWA W KŁODNICY DOLNEJ', pm10_avg=9.225, pm25_avg=7.941666666666666, post_code='24-224', pressure_avg=982.1416666666668, street=None, temperature_avg=13.566666666666668, timestamp='2024-10-13 14:41:48'),\n",
              " Row(city='CHEŁM', humidity_avg=56.474999999999994, latitude='51.126339150220325 ', longitude='23.479142939944662', name='SZKOŁA PODSTAWOWA NR 6 IM. IRENY SENDLEROWEJ W CHEŁMIE', pm10_avg=3.216666666666667, pm25_avg=3.216666666666667, post_code='22-100', pressure_avg=983.125, street='UL. POWSTAŃCÓW WARSZAWY', temperature_avg=16.158333333333335, timestamp='2024-10-13 14:41:48'),\n",
              " Row(city='BIAŁA PODLASKA', humidity_avg=63.916666666666664, latitude='52.03658476', longitude='23.1240646', name='SZKOŁA PODSTAWOWA NR 4 IM. KORNELA MAKUSZYŃSKIEGO W BIAŁEJ PODLASKIEJ', pm10_avg=24.458333333333332, pm25_avg=24.291666666666668, post_code='21-500', pressure_avg=988.4666666666667, street='UL. STANISŁAWA MONIUSZKI', temperature_avg=13.525, timestamp='2024-10-13 14:41:48'),\n",
              " Row(city='CZACHÓWEK', humidity_avg=85.18333333333334, latitude='51.96101922', longitude='21.0884246', name='SZKOŁA PODSTAWOWA IM.KSIĘDZA JANA TWARDOWSKIEGO W CZACHÓWKU', pm10_avg=16.075, pm25_avg=15.958333333333334, post_code='05-530', pressure_avg=991.475, street='UL. GŁÓWNA', temperature_avg=10.408333333333333, timestamp='2024-10-13 14:41:48'),\n",
              " Row(city='DOBIESZ', humidity_avg=81.075, latitude='51.99418033', longitude='21.10090802', name='SZKOŁA PODSTAWOWA IM. KARDYNAŁA STEFANA WYSZYŃSKIEGO W DOBIESZU', pm10_avg=8.966666666666667, pm25_avg=8.933333333333334, post_code='05-530', pressure_avg=990.6416666666668, street='UL. WOLSKA', temperature_avg=10.416666666666666, timestamp='2024-10-13 14:41:48'),\n",
              " Row(city='LIPSKO', humidity_avg=65.625, latitude='51.16209825', longitude='21.65162688', name='LICEUM OGÓLNOKSZTAŁCĄCE W LIPSKU', pm10_avg=11.775, pm25_avg=11.208333333333334, post_code='27-300', pressure_avg=985.225, street='UL. ZWOLEŃSKA', temperature_avg=14.816666666666668, timestamp='2024-10-13 14:41:48'),\n",
              " Row(city='GARWOLIN', humidity_avg=73.20833333333333, latitude='51.89704263', longitude='21.5953052', name='TECHNIKUM NR 2 W GARWOLINIE', pm10_avg=8.200000000000001, pm25_avg=8.166666666666666, post_code='08-400', pressure_avg=989.0500000000001, street='UL. ŻOŁNIERZY II ARMII WOJSKA POLSKIEGO', temperature_avg=12.299999999999999, timestamp='2024-10-13 14:41:48'),\n",
              " Row(city='MARIAŃSKIE PORZECZE', humidity_avg=81.43333333333334, latitude='51.88402213', longitude='21.33261521', name='PUBLICZNA SZKOŁA PODSTAWOWA IM. O. STANISŁAWA PAPCZYŃSKIEGO W MARIAŃSKIM PORZECZU', pm10_avg=11.066666666666668, pm25_avg=11.066666666666668, post_code='08-470', pressure_avg=992.2666666666668, street=None, temperature_avg=10.733333333333334, timestamp='2024-10-13 14:41:48'),\n",
              " Row(city='GARWOLIN', humidity_avg=71.14999999999999, latitude='51.89874672', longitude='21.61280145', name='SZKOŁA MUZYCZNA I ST. W GARWOLINIE', pm10_avg=6.533333333333334, pm25_avg=6.533333333333334, post_code='08-400', pressure_avg=988.725, street='UL. JANA PAWŁA II', temperature_avg=12.741666666666667, timestamp='2024-10-13 14:41:48'),\n",
              " Row(city='KONSTANCIN-JEZIORNA', humidity_avg=82.56666666666666, latitude='52.07946519', longitude='21.12317779', name='SZKOŁA PODSTAWOWA NR 2 W KONSTANCINIE-JEZIORNEJ', pm10_avg=8.299999999999999, pm25_avg=8.283333333333333, post_code='05-510', pressure_avg=991.6833333333334, street='UL. STEFANA ŻEROMSKIEGO', temperature_avg=10.508333333333333, timestamp='2024-10-13 14:41:48'),\n",
              " Row(city='PIASECZNO', humidity_avg=91.375, latitude='52.0540252', longitude='21.02070292', name='TECHNIKUM NR 2 IM. EMILII PLATER W PIASECZNIE', pm10_avg=9.333333333333334, pm25_avg=9.291666666666666, post_code='05-501', pressure_avg=992.15, street='UL. ALEJA BRZÓZ', temperature_avg=10.225, timestamp='2024-10-13 14:41:48'),\n",
              " Row(city='KĄTY', humidity_avg=80.11666666666666, latitude='52.00208981', longitude='21.17263735', name='SZKOŁA PODSTAWOWA IM. BŁOGOSŁAWIONEGO OJCA STANISŁAWA PAPCZYŃSKIEGO W KĄTACH', pm10_avg=11.549999999999999, pm25_avg=11.35, post_code='05-532', pressure_avg=990.1416666666668, street='UL. PUŁAWSKA', temperature_avg=10.583333333333334, timestamp='2024-10-13 14:41:48'),\n",
              " Row(city='OSTROŁĘKA', humidity_avg=89.68181818181819, latitude='53.05404225', longitude='21.60307406', name='SZKOŁA PODSTAWOWA NR 3 IM. ADAMA MICKIEWICZA W OSTROŁĘCE', pm10_avg=24.2, pm25_avg=21.918181818181818, post_code='07-417', pressure_avg=993.5727272727272, street='UL. IGNACEGO JERZEGO SKOWROŃSKIEGO', temperature_avg=9.299999999999999, timestamp='2024-10-13 14:41:48'),\n",
              " Row(city='GDYNIA', humidity_avg=88.14999999999999, latitude='54.52508818', longitude='18.51581066', name='TECHNIKUM GASTRONOMICZNE W GDYNI', pm10_avg=7.066666666666666, pm25_avg=7.058333333333334, post_code='81-222', pressure_avg=994.4916666666667, street='UL. MORSKA', temperature_avg=10.266666666666667, timestamp='2024-10-13 14:41:48'),\n",
              " Row(city='ZŁOTOKŁOS', humidity_avg=91.10833333333333, latitude='52.00962311', longitude='20.90784407', name='SZKOŁA PODSTAWOWA W ZŁOTOKŁOSIE', pm10_avg=9.083333333333334, pm25_avg=9.041666666666666, post_code='05-504', pressure_avg=990.3083333333334, street='UL. TRAUGUTTA', temperature_avg=10.008333333333333, timestamp='2024-10-13 14:41:48'),\n",
              " Row(city='CENDROWICE', humidity_avg=79.93333333333334, latitude='51.96755856', longitude='21.13239127', name='SZKOŁA PODSTAWOWA IM. FELIKSA KAPACKIEGO W CENDROWICACH', pm10_avg=10.308333333333334, pm25_avg=10.174999999999999, post_code='05-530', pressure_avg=988.1666666666666, street='UL. SZKOLNA', temperature_avg=10.791666666666666, timestamp='2024-10-13 14:41:48'),\n",
              " Row(city='BIAŁA PODLASKA', humidity_avg=67.35833333333333, latitude='52.03188711', longitude='23.1217813', name='II LICEUM OGÓLNOKSZTAŁCĄCE IM. EMILII PLATER W BIAŁEJ PODLASKIEJ', pm10_avg=8.983333333333333, pm25_avg=7.816666666666666, post_code='21-500', pressure_avg=991.3249999999999, street='UL. GABRIELA NARUTOWICZA', temperature_avg=12.991666666666667, timestamp='2024-10-13 14:41:48'),\n",
              " Row(city='BIAŁUSNY LASEK', humidity_avg=85.06666666666668, latitude='53.35698702', longitude='21.30430342', name='SZKOŁA PODSTAWOWA W BIAŁUSNYM LASKU', pm10_avg=5.966666666666666, pm25_avg=5.116666666666666, post_code='07-430', pressure_avg=990.9499999999999, street=None, temperature_avg=8.233333333333333, timestamp='2024-10-13 14:41:48'),\n",
              " Row(city='TUŁOWICE', humidity_avg=76.73333333333333, latitude='50.59142765', longitude='17.65698382', name='PUBLICZNE TECHNIKUM LEŚNE ZESPOŁU SZKÓŁ W TUŁOWICACH', pm10_avg=4.033333333333333, pm25_avg=3.1916666666666664, post_code='49-130', pressure_avg=990.875, street='UL. ZAMKOWA', temperature_avg=9.333333333333334, timestamp='2024-10-13 14:41:48'),\n",
              " Row(city='RYDUŁTOWY', humidity_avg=79.675, latitude='50.05843382', longitude='18.41959735', name='SZKOŁA PODSTAWOWA NR 1 IM.KAROLA MIARKI W RYDUŁTOWACH', pm10_avg=17.891666666666666, pm25_avg=16.78333333333333, post_code='44-280', pressure_avg=978.0833333333334, street='UL. ŚW. MAKSYMILIANA KOLBE', temperature_avg=12.416666666666666, timestamp='2024-10-13 14:41:48'),\n",
              " Row(city='RYDUŁTOWY', humidity_avg=87.00833333333333, latitude='50.07171957', longitude='18.42658537', name='TECHNIKUM W RYDUŁTOWACH', pm10_avg=10.883333333333333, pm25_avg=9.441666666666666, post_code='44-280', pressure_avg=976.1750000000001, street='UL. OBYWATELSKA', temperature_avg=12.508333333333333, timestamp='2024-10-13 14:41:48'),\n",
              " Row(city='TELATYN', humidity_avg=59.166666666666664, latitude='50.52250671', longitude='23.8446095', name='SZKOŁA PODSTAWOWA IM.KARDYNAŁA STEFANA WYSZYŃSKIEGO W TELATYNIE', pm10_avg=3.8333333333333335, pm25_avg=3.8166666666666664, post_code='22-652', pressure_avg=981.7583333333333, street='UL. KARDYNAŁA STEFANA WYSZYŃSKIEGO', temperature_avg=15.799999999999999, timestamp='2024-10-13 14:41:48'),\n",
              " Row(city='ŚWIDNIK', humidity_avg=59.375, latitude='51.22672919', longitude='22.69752657', name='TECHNIKUM NR 1 W ŚWIDNIKU', pm10_avg=4.166666666666667, pm25_avg=4.166666666666667, post_code='21-045', pressure_avg=981.4666666666667, street='UL. SZKOLNA', temperature_avg=15.200000000000001, timestamp='2024-10-13 14:41:48'),\n",
              " Row(city='CHEŁM', humidity_avg=54.35, latitude='51.134834775533534', longitude='23.477739357670377', name='I LICEUM OGÓLNOKSZTAŁCĄCE IM. STEFANA CZARNIECKIEGO W CHEŁMIE', pm10_avg=4.958333333333333, pm25_avg=4.883333333333334, post_code='22-100', pressure_avg=984.4833333333332, street='UL. STEFANA CZARNIECKIEGO', temperature_avg=16.95, timestamp='2024-10-13 14:41:48'),\n",
              " Row(city='OŁDAKI', humidity_avg=74.95833333333333, latitude='53.095518', longitude='21.692978', name='SZKOŁA PODSTAWOWA W OŁDAKACH', pm10_avg=8.325000000000001, pm25_avg=7.483333333333333, post_code='07-411', pressure_avg=992.9333333333334, street=None, temperature_avg=10.066666666666666, timestamp='2024-10-13 14:41:48'),\n",
              " Row(city='BYTÓW', humidity_avg=80.175, latitude='54.16585829', longitude='17.48812443', name='TECHNIKUM NR 2 W BYTOWIE', pm10_avg=2.625, pm25_avg=1.8, post_code='77-100', pressure_avg=986.0333333333333, street='UL. HIERONIMA DERDOWSKIEGO', temperature_avg=9.258333333333335, timestamp='2024-10-13 14:41:48'),\n",
              " Row(city='ŁĄKA PRUDNICKA', humidity_avg=84.98181818181818, latitude='50.313494', longitude='17.528406', name='SZKOŁA PODSTAWOWA STOWARZYSZENIA \"ZŁOTY POTOK\" W ŁĄCE PRUDNICKIEJ', pm10_avg=0.6727272727272727, pm25_avg=0.3181818181818182, post_code='48-200', pressure_avg=979.3090909090909, street='UL. GŁUCHOŁASKA', temperature_avg=8.581818181818182, timestamp='2024-10-13 14:41:48'),\n",
              " Row(city='ŁUBNO', humidity_avg=86.74166666666667, latitude='54.15365707', longitude='17.22653098', name='SZKOŁA PODSTAWOWA W ŁUBNIE', pm10_avg=0.6333333333333333, pm25_avg=0.5083333333333333, post_code='77-140', pressure_avg=985.2083333333334, street=None, temperature_avg=8.425, timestamp='2024-10-13 14:41:48'),\n",
              " Row(city='BIAŁA PODLASKA', humidity_avg=62.15, latitude='52.022177', longitude='23.119378', name='SZKOŁA PODSTAWOWA NR 3 IM. MARII KONOPNICKIEJ W BIAŁEJ PODLASKIEJ', pm10_avg=8.3, pm25_avg=8.24, post_code='21-500', pressure_avg=988.3799999999999, street='UL. SPORTOWA', temperature_avg=13.830000000000002, timestamp='2024-10-13 14:41:48'),\n",
              " Row(city='JANUSZKOWICE', humidity_avg=73.26666666666667, latitude='50.3898439', longitude='18.1356599', name='PUBLICZNA SZKOŁA PODSTAWOWA IM. KSIĘDZA JANA TWARDOWSKIEGO W JANUSZKOWICACH', pm10_avg=3.733333333333333, pm25_avg=2.783333333333333, post_code='47-330', pressure_avg=990.2333333333332, street='UL. LESIAŃSKA', temperature_avg=11.25, timestamp='2024-10-13 14:41:48'),\n",
              " Row(city='BALIN', humidity_avg=86.0909090909091, latitude='50.171073102747464 ', longitude='19.373681797572548', name='SZKOŁA PODSTAWOWA IM. MIKOŁAJA KOPERNIKA W BALINIE', pm10_avg=5.4818181818181815, pm25_avg=4.972727272727273, post_code='32-500', pressure_avg=970.2636363636364, street='UL. JAWORZNICKA', temperature_avg=11.881818181818181, timestamp='2024-10-13 14:41:48'),\n",
              " Row(city='KLUCZBORK', humidity_avg=92.48333333333333, latitude='50.97669665', longitude='18.20597356', name='TECHNIKUM NR 2 IM. BOHATERÓW WESTERPLATTE W KLUCZBORKU', pm10_avg=2.6416666666666666, pm25_avg=2.45, post_code='46-200', pressure_avg=987.8000000000001, street='UL. BYCZYŃSKA', temperature_avg=7.866666666666667, timestamp='2024-10-13 14:41:48'),\n",
              " Row(city='MOSZCZANKA', humidity_avg=84.31666666666666, latitude='50.295686', longitude='17.483901', name='PUBLICZNA SZKOŁA PODSTAWOWA IM.HALINY SEMENOWICZ W MOSZCZANCE', pm10_avg=4.391666666666667, pm25_avg=3.5083333333333333, post_code='48-200', pressure_avg=975.0333333333333, street=None, temperature_avg=9.025, timestamp='2024-10-13 14:41:48'),\n",
              " Row(city='ŁASKARZEW', humidity_avg=74.35000000000001, latitude='51.788404', longitude='21.599958', name='BRANŻOWA SZKOŁA I STOPNIA W ŁASKARZEWIE', pm10_avg=5.75, pm25_avg=5.75, post_code='08-450', pressure_avg=987.7833333333333, street='UL. KOLEJOWA', temperature_avg=12.233333333333334, timestamp='2024-10-13 14:41:48'),\n",
              " Row(city='CHEŁM', humidity_avg=59.23333333333333, latitude='51.134591', longitude='23.481093', name='SZKOŁA PODSTAWOWA NR 5 IM. MARII KONOPNICKIEJ W CHEŁMIE', pm10_avg=3.716666666666667, pm25_avg=3.716666666666667, post_code='22-100', pressure_avg=983.8249999999999, street='UL. I PUŁKU SZWOLEŻERÓW', temperature_avg=15.233333333333334, timestamp='2024-10-13 14:41:48'),\n",
              " Row(city='CHEŁM', humidity_avg=57.24285714285714, latitude='51.13815167', longitude='23.47575683', name='SZKOŁA PODSTAWOWA NR 2 IM. KS. STANISŁAWA STASZICA W CHEŁMIE', pm10_avg=4.628571428571428, pm25_avg=4.6000000000000005, post_code='22-100', pressure_avg=984.8714285714286, street='UL. OBŁOŃSKA', temperature_avg=16.185714285714287, timestamp='2024-10-13 14:41:48'),\n",
              " Row(city='DZIEPÓŁĆ', humidity_avg=87.4125, latitude='51.0531482', longitude='19.5287876', name='PUBLICZNA SZKOŁA PODSTAWOWA W DZIEPÓŁCI', pm10_avg=3.775, pm25_avg=3.775, post_code='97-500', pressure_avg=974.2875, street=None, temperature_avg=10.55, timestamp='2024-10-13 14:41:48'),\n",
              " Row(city='ZAMOŚĆ', humidity_avg=59.0, latitude='50.72103172968299 ', longitude='23.256959617892495', name='SZKOŁA PODSTAWOWA NR 10 Z ODDZIAŁAMI INTEGRACYJNYMI IM. WALERIANA ŁUKASIŃSKIEGO W ZAMOŚCIU', pm10_avg=3.033333333333333, pm25_avg=3.033333333333333, post_code='22-400', pressure_avg=981.5583333333334, street='UL. PEOWIAKÓW', temperature_avg=15.658333333333333, timestamp='2024-10-13 14:41:48'),\n",
              " Row(city='BOGUCICE', humidity_avg=62.125, latitude='50.057389', longitude='20.498337', name='ZESPÓŁ SZKÓŁ GMINNYCH IM. HENRYKA SIENKIEWICZA W BOGUCICACH SZKOŁA PODSTAWOWA W BOGUCICACH', pm10_avg=2.408333333333333, pm25_avg=2.408333333333333, post_code='32-711', pressure_avg=985.7916666666666, street=None, temperature_avg=16.308333333333334, timestamp='2024-10-13 14:41:48'),\n",
              " Row(city='KLEMENTOWICE', humidity_avg=69.93333333333334, latitude='51.362926', longitude='22.113069', name='TECHNIKUM W ZESPOLE SZKÓŁ AGROBIZNESU IM.MACIEJA RATAJA W KLEMENTOWICACH', pm10_avg=2.783333333333333, pm25_avg=1.95, post_code='24-170', pressure_avg=985.9166666666666, street=None, temperature_avg=13.4, timestamp='2024-10-13 14:41:48'),\n",
              " Row(city='BORZECHÓW-KOLONIA', humidity_avg=59.76666666666667, latitude='51.09246552', longitude='22.2853918', name='PUBLICZNA SZKOŁA PODSTAWOWA IM. KAZIMIERZA RASŁAWSKIEGO W BORZECHOWIE ', pm10_avg=4.408333333333333, pm25_avg=4.408333333333333, post_code='24-224', pressure_avg=981.5416666666666, street=None, temperature_avg=15.583333333333334, timestamp='2024-10-13 14:41:48'),\n",
              " Row(city='KRAKÓW-PODGÓRZE', humidity_avg=72.05833333333334, latitude='50.01317838097981', longitude='20.006872057670375', name='SZKOŁA PODSTAWOWA NR 117 IM. KRAKOWSKIEJ KONGREGACJI KUPIECKIEJ W KRAKOWIE', pm10_avg=2.0083333333333333, pm25_avg=1.8916666666666666, post_code='30-868', pressure_avg=982.475, street='UL. JANA KURCZABA', temperature_avg=14.85, timestamp='2024-10-13 14:41:48'),\n",
              " Row(city='LUBLIN', humidity_avg=82.05000000000001, latitude='51.216809', longitude='22.577994', name='VI LICEUM OGÓLNOKSZTAŁCĄCE IM. HUGONA KOŁŁĄTAJA W LUBLINIE', pm10_avg=5.050000000000001, pm25_avg=5.050000000000001, post_code='20-466', pressure_avg=986.25, street='UL. ADAMA MICKIEWICZA', temperature_avg=13.9, timestamp='2024-10-13 14:41:48'),\n",
              " Row(city='NASIELSK', humidity_avg=81.63333333333334, latitude='52.59533614', longitude='20.7955019', name='LICEUM OGÓLNOKSZTAŁCĄCE IM. MIKOŁAJA KOPERNIKA W NASIELSKU', pm10_avg=9.725, pm25_avg=9.700000000000001, post_code='05-190', pressure_avg=990.2166666666667, street='UL. LIPOWA', temperature_avg=9.691666666666666, timestamp='2024-10-13 14:41:48'),\n",
              " Row(city='ORŁO', humidity_avg=79.57, latitude='52.732095', longitude='21.989508', name='SZKOŁA PODSTAWOWA W ORLE', pm10_avg=8.6, pm25_avg=8.58, post_code='07-320', pressure_avg=990.1700000000001, street=None, temperature_avg=9.84, timestamp='2024-10-13 14:41:48'),\n",
              " Row(city='GROMNIK', humidity_avg=69.70833333333333, latitude='49.840276', longitude='20.959304', name='SZKOŁA PODSTAWOWA IM. WINCENTEGO WITOSA W GROMNIKU', pm10_avg=4.2, pm25_avg=4.0, post_code='33-180', pressure_avg=981.0833333333334, street='UL. WITOSA', temperature_avg=15.924999999999999, timestamp='2024-10-13 14:41:48'),\n",
              " Row(city='KADZIDŁO', humidity_avg=85.81666666666666, latitude='53.231522', longitude='21.450353', name='AKADEMIA NAJMŁODSZYCH KRZYSZTOF GOŁAŚ NIEPUBLICZNA SZKOŁA PODSTAWOWA W KADZIDLE', pm10_avg=10.475, pm25_avg=8.866666666666667, post_code='07-420', pressure_avg=992.9, street='UL. BRZOZOWA', temperature_avg=9.508333333333335, timestamp='2024-10-13 14:41:48'),\n",
              " Row(city='KRAKÓW', humidity_avg=76.00833333333334, latitude='50.076299', longitude='19.916426', name='SZKOŁA PODSTAWOWA SPECJALNA NR 44 IM. JANA BRZECHWY W KRAKOWIE', pm10_avg=2.225, pm25_avg=1.7583333333333335, post_code='30-076', pressure_avg=985.1750000000001, street='UL. ZAKĄTEK', temperature_avg=14.333333333333334, timestamp='2024-10-13 14:41:48'),\n",
              " Row(city='PODWILK', humidity_avg=75.06666666666666, latitude='49.547978', longitude='19.7397286', name='SZKOŁA PODSTAWOWA NR 1 IM. ŚW. JADWIGI KRÓLOWEJ W PODWILKU', pm10_avg=5.808333333333334, pm25_avg=5.8, post_code='34-722', pressure_avg=929.3416666666667, street=None, temperature_avg=11.308333333333332, timestamp='2024-10-13 14:41:48'),\n",
              " Row(city='LIPINY', humidity_avg=90.2, latitude='51.54591', longitude='20.511418', name='LICEUM OGÓLNOKSZTAŁCĄCE KADETÓW RZECZYPOSPOLITEJ POLSKIEJ W LIPINACH', pm10_avg=13.408333333333333, pm25_avg=12.275, post_code='26-425', pressure_avg=986.65, street=None, temperature_avg=10.383333333333333, timestamp='2024-10-13 14:41:48'),\n",
              " Row(city='TOMASZÓW MAZOWIECKI', humidity_avg=86.34166666666665, latitude='51.5251204', longitude='20.0210344', name='SZKOŁA PODSTAWOWA NR 12 IM. JANA PAWŁA II W TOMASZOWIE MAZOWIECKIM', pm10_avg=8.299999999999999, pm25_avg=8.299999999999999, post_code='97-200', pressure_avg=982.6916666666666, street='UL. WIEJSKA', temperature_avg=11.116666666666667, timestamp='2024-10-13 14:41:48'),\n",
              " Row(city='BIAŁY BÓR', humidity_avg=84.23333333333333, latitude='53.89895274', longitude='16.84535152', name='SZKOŁA PODSTAWOWA NR 1 W BIAŁYM BORZE', pm10_avg=1.4749999999999999, pm25_avg=1.1666666666666667, post_code='78-425', pressure_avg=981.7333333333332, street='UL. DWORCOWA', temperature_avg=8.033333333333333, timestamp='2024-10-13 14:41:48'),\n",
              " Row(city='POŁCZYN-ZDRÓJ', humidity_avg=76.66363636363636, latitude='53.767893339499636', longitude='16.095199000000004', name='SZKOŁA PODSTAWOWA NR 1 IM. ADAMA MICKIEWICZA W POŁCZYNIE-ZDROJU', pm10_avg=3.5727272727272723, pm25_avg=3.963636363636364, post_code='78-320', pressure_avg=991.8909090909091, street='UL. GRUNWALDZKA', temperature_avg=8.681818181818182, timestamp='2024-10-13 14:41:48'),\n",
              " Row(city='DARGIŃ', humidity_avg=84.3, latitude='54.0157172', longitude='16.3943428', name='SZKOŁA PODSTAWOWA W DARGINI', pm10_avg=0.0, pm25_avg=0.0, post_code='76-020', pressure_avg=990.1, street=None, temperature_avg=8.7, timestamp='2024-10-13 14:41:48'),\n",
              " Row(city='KRAKÓW-PODGÓRZE', humidity_avg=68.06666666666666, latitude='50.020869', longitude='19.988467', name='ARCHIDIECEZJALNA SZKOŁA MUZYCZNA II ST. IM. KS. KARD. FRANCISZKA MACHARSKIEGO W KRAKOWIE', pm10_avg=1.8499999999999999, pm25_avg=1.5916666666666668, post_code='30-814', pressure_avg=984.9583333333334, street='UL. PROSTA', temperature_avg=16.150000000000002, timestamp='2024-10-13 14:41:48'),\n",
              " Row(city='TARNÓW', humidity_avg=69.52499999999999, latitude='50.01473267', longitude='20.98127883', name='SPOŁECZNA SZKOŁA PODSTAWOWA NR 2 SPOŁECZNEGO TOWARZYSTWA OŚWIATOWEGO W TARNOWIE', pm10_avg=4.775, pm25_avg=4.758333333333334, post_code='33-100', pressure_avg=985.6, street='UL. JANA MATEJKI', temperature_avg=16.241666666666667, timestamp='2024-10-13 14:41:48'),\n",
              " Row(city='TARNÓW', humidity_avg=63.224999999999994, latitude='50.015268', longitude='20.975575', name='XII LICEUM OGÓLNOKSZTAŁCĄCE W ZESPOLE SZKÓŁ MECHANICZNO-ELEKTRYCZNYCH W TARNOWIE', pm10_avg=5.808333333333334, pm25_avg=5.416666666666667, post_code='33-100', pressure_avg=986.475, street='UL. JÓZEFA SZUJSKIEGO', temperature_avg=15.941666666666668, timestamp='2024-10-13 14:41:48'),\n",
              " Row(city='TARNÓW', humidity_avg=67.03333333333333, latitude='50.01387361', longitude='20.9172948', name='TECHNIKUM NR 1 W ZESPOLE SZKÓŁ TECHNICZNYCH IM.IGNACEGO MOŚCICKIEGO W TARNOWIE', pm10_avg=3.7083333333333335, pm25_avg=3.4250000000000003, post_code='33-101', pressure_avg=987.4, street='UL. EUGENIUSZA KWIATKOWSKIEGO', temperature_avg=17.241666666666667, timestamp='2024-10-13 14:41:48'),\n",
              " Row(city='PRUDNIK', humidity_avg=89.74, latitude='50.32052', longitude='17.595989', name='PUBLICZNA SZKOŁA PODSTAWOWA NR 1 IM.BOHATERÓW WESTERPLATTE W PRUDNIKU', pm10_avg=2.3600000000000003, pm25_avg=1.8400000000000003, post_code='48-200', pressure_avg=978.0, street='UL. PODGÓRNA', temperature_avg=8.620000000000001, timestamp='2024-10-13 14:41:48'),\n",
              " Row(city='GAWŁÓW', humidity_avg=59.041666666666664, latitude='50.026547', longitude='20.463199', name='ZESPÓŁ SZKÓŁ GMINNYCH IM. MIKOŁAJA KOPERNIKA W GAWŁOWIE SZKOŁA PODSTAWOWA Z ODDZIAŁAMI SPORTOWYMI W GAWŁOWIE', pm10_avg=2.7083333333333335, pm25_avg=2.7083333333333335, post_code='32-711', pressure_avg=983.475, street=None, temperature_avg=16.375, timestamp='2024-10-13 14:41:48'),\n",
              " Row(city='GRÓJEC', humidity_avg=85.02499999999999, latitude='51.862928', longitude='20.863021', name='SZKOŁA PODSTAWOWA SPECJALNA W GRÓJCU', pm10_avg=11.333333333333334, pm25_avg=11.299999999999999, post_code='05-600', pressure_avg=984.9499999999999, street='UL. POLNA', temperature_avg=10.641666666666667, timestamp='2024-10-13 14:41:48'),\n",
              " Row(city='SUCHA', humidity_avg=83.14999999999999, latitude='51.617246', longitude='20.953664', name='PUBLICZNA SZKOŁA PODSTAWOWA W SUCHEJ', pm10_avg=6.941666666666666, pm25_avg=6.933333333333334, post_code='26-800', pressure_avg=988.7833333333333, street='UL. SZLACHECKA', temperature_avg=11.291666666666666, timestamp='2024-10-13 14:41:48'),\n",
              " Row(city='WARKA', humidity_avg=81.83333333333333, latitude='51.79066', longitude='21.182782', name='TECHNIKUM W WARCE', pm10_avg=8.025, pm25_avg=8.025, post_code='05-660', pressure_avg=989.8249999999999, street='UL. OBWODOWA', temperature_avg=11.016666666666666, timestamp='2024-10-13 14:41:48'),\n",
              " Row(city='RYDUŁTOWY', humidity_avg=85.11666666666666, latitude='50.06633209', longitude='18.417777', name='SZKOŁA PODSTAWOWA NR 4 W RYDUŁTOWACH', pm10_avg=13.6, pm25_avg=12.191666666666668, post_code='44-280', pressure_avg=976.5666666666666, street='UL. STRZELCÓW BYTOMSKICH', temperature_avg=12.399999999999999, timestamp='2024-10-13 14:41:48'),\n",
              " Row(city='KOŻUCHÓW', humidity_avg=69.38333333333334, latitude='51.7425702', longitude='15.5962077', name='PUBLICZNA SZKOŁA PODSTAWOWA NR 1 IM. BOLESŁAWA KRZYWOUSTEGO W KOŻUCHOWIE', pm10_avg=1.8500000000000003, pm25_avg=1.7666666666666666, post_code='67-120', pressure_avg=992.1500000000001, street='UL. CHOPINA', temperature_avg=11.35, timestamp='2024-10-13 14:41:48'),\n",
              " Row(city='BIAŁOBRZEGI', humidity_avg=86.01666666666667, latitude='51.64505952', longitude='20.9533613', name='PUBLICZNA SZKOŁA PODSTAWOWA NR 1 IM. KOMISJI EDUKACJI NARODOWEJ W BIAŁOBRZEGACH', pm10_avg=9.275, pm25_avg=9.216666666666667, post_code='26-800', pressure_avg=990.025, street='UL. RZEMIEŚLNICZA', temperature_avg=9.916666666666666, timestamp='2024-10-13 14:41:48'),\n",
              " Row(city='BRODNICA', humidity_avg=82.04166666666667, latitude='53.2579165', longitude='19.4065091', name='TECHNIKUM IM. ZESŁAŃCÓW SYBIRU W BRODNICY', pm10_avg=8.891666666666667, pm25_avg=8.766666666666667, post_code='87-300', pressure_avg=991.0583333333334, street='UL. KARBOWSKA', temperature_avg=10.741666666666667, timestamp='2024-10-13 14:41:48'),\n",
              " Row(city='GNIEWOSZÓW', humidity_avg=65.86666666666666, latitude='51.471874', longitude='21.8112', name='PUBLICZNA SZKOŁA PODSTAWOWA W GNIEWOSZOWIE', pm10_avg=9.950000000000001, pm25_avg=9.924999999999999, post_code='26-920', pressure_avg=989.0416666666666, street='UL. KONOPNICKIEJ', temperature_avg=14.125, timestamp='2024-10-13 14:41:48'),\n",
              " Row(city='GOSZCZYN', humidity_avg=83.05833333333334, latitude='51.73236675', longitude='20.85589777', name='PUBLICZNA SZKOŁA PODSTAWOWA W GOSZCZYNIE', pm10_avg=8.158333333333333, pm25_avg=8.158333333333333, post_code='05-610', pressure_avg=985.2916666666666, street='UL. ARMII KRAJOWEJ', temperature_avg=11.016666666666666, timestamp='2024-10-13 14:41:48'),\n",
              " Row(city='NIECZAJNA GÓRNA', humidity_avg=68.55833333333334, latitude='50.180347', longitude='21.052364', name='SZKOŁA PODSTAWOWA IM. BŁOGOSŁAWIONEGO KS. JERZEGO POPIEŁUSZKI W NIECZAJNIE GÓRNEJ', pm10_avg=5.116666666666666, pm25_avg=4.283333333333333, post_code='33-205', pressure_avg=987.1583333333333, street=None, temperature_avg=16.383333333333333, timestamp='2024-10-13 14:41:48'),\n",
              " Row(city='KRAKÓW-NOWA HUTA', humidity_avg=73.39999999999999, latitude='50.084753', longitude='20.027067', name='SZKOŁA PODSTAWOWA NR 86 IM. POWSTAŃCÓW ŚLĄSKICH W KRAKOWIE', pm10_avg=2.3666666666666667, pm25_avg=2.0083333333333333, post_code='31-833', pressure_avg=983.525, street='OS. OSIEDLE JAGIELLOŃSKIE', temperature_avg=14.441666666666668, timestamp='2024-10-13 14:41:48'),\n",
              " Row(city='RAJBROT', humidity_avg=61.18333333333334, latitude='49.82154633', longitude='20.48706815', name='PUBLICZNA SZKOŁA PODSTAWOWA IM. JANA PAWŁA II W RAJBROCIE', pm10_avg=3.9583333333333335, pm25_avg=3.941666666666667, post_code='32-725', pressure_avg=966.8666666666667, street=None, temperature_avg=15.466666666666667, timestamp='2024-10-13 14:41:48'),\n",
              " Row(city='JAWORZE GÓRNE', humidity_avg=70.50833333333334, latitude='49.94549', longitude='21.354123', name='PUBLICZNA SZKOŁA PODSTAWOWA W JAWORZU GÓRNYM', pm10_avg=5.191666666666666, pm25_avg=4.383333333333334, post_code='39-223', pressure_avg=983.375, street=None, temperature_avg=14.491666666666667, timestamp='2024-10-13 14:41:48'),\n",
              " Row(city='WARSZAWA', humidity_avg=79.60000000000001, latitude='52.238891020514885 ', longitude='21.01075177068874', name='XI LICEUM OGÓLNOKSZTAŁCĄCE IM. MIKOŁAJA REJA W WARSZAWIE', pm10_avg=8.481818181818182, pm25_avg=8.463636363636363, post_code='00-063', pressure_avg=989.3818181818183, street='PL. PLAC STANISŁAWA MAŁACHOWSKIEGO', temperature_avg=10.818181818181818, timestamp='2024-10-13 14:41:48'),\n",
              " Row(city='LISIA GÓRA', humidity_avg=59.18333333333334, latitude='50.081408096695185 ', longitude='21.04434023989556', name='SZKOŁA PODSTAWOWA IM. ŚW. JADWIGI KRÓLOWEJ POLSKI W LISIEJ GÓRZE', pm10_avg=4.841666666666667, pm25_avg=4.208333333333333, post_code='33-140', pressure_avg=981.025, street='UL. SZKOLNA', temperature_avg=15.15, timestamp='2024-10-13 14:41:48'),\n",
              " Row(city='GDAŃSK', humidity_avg=87.175, latitude='54.422398', longitude='18.5764229', name='SZKOŁA PODSTAWOWA NR 89 IM. TADEUSZA MAZOWIECKIEGO W GDAŃSKU', pm10_avg=18.133333333333333, pm25_avg=16.55, post_code='80-335', pressure_avg=997.3166666666666, street='UL. SZYPRÓW', temperature_avg=9.758333333333333, timestamp='2024-10-13 14:41:48'),\n",
              " Row(city='GDAŃSK', humidity_avg=85.925, latitude='54.3881906', longitude='18.4834117', name='SZKOŁA PODSTAWOWA NR 82 IM. PROF. JANA CZOCHRALSKIEGO W GDAŃSKU', pm10_avg=4.991666666666666, pm25_avg=4.9750000000000005, post_code='80-298', pressure_avg=979.3083333333334, street='UL. RADAROWA', temperature_avg=9.35, timestamp='2024-10-13 14:41:48'),\n",
              " Row(city='WOLA FILIPOWSKA', humidity_avg=84.2, latitude='50.1324622', longitude='19.5849512', name='ZESPÓŁ PLACÓWEK OŚWIATOWYCH SZKOŁA PODSTAWOWA IM. JÓZEFA BEMA W WOLI FILIPOWSKIEJ', pm10_avg=3.516666666666667, pm25_avg=3.516666666666667, post_code='32-065', pressure_avg=974.3083333333334, street='UL. SZKOLNA', temperature_avg=13.041666666666666, timestamp='2024-10-13 14:41:48'),\n",
              " Row(city='NOWE ŁUBKI', humidity_avg=88.9, latitude='52.5782308', longitude='20.0336032', name='SZKOŁA PODSTAWOWA W NOWYCH ŁUBKACH', pm10_avg=13.9, pm25_avg=13.8, post_code='09-454', pressure_avg=984.8, street=None, temperature_avg=10.3, timestamp='2024-10-13 14:41:48'),\n",
              " Row(city='CHODKOWO-DZIAŁKI', humidity_avg=90.10000000000001, latitude='52.4989335', longitude='20.0374191', name='SZKOŁA PODSTAWOWA IM. KPR. FELIKSA IGNACEGO GRABOWSKIEGO W ZESPOLE PLACÓWEK OŚWIATOWYCH W BODZANOWIE', pm10_avg=9.841666666666667, pm25_avg=9.808333333333334, post_code='09-470', pressure_avg=987.1583333333333, street='UL. WYSZOGRODZKA', temperature_avg=9.966666666666667, timestamp='2024-10-13 14:41:48'),\n",
              " Row(city='ZABRZE', humidity_avg=73.10833333333333, latitude='50.30422484', longitude='18.78893235', name='SZKOŁA PODSTAWOWA NR 36 IM. JULIANA TUWIMA W ZABRZU', pm10_avg=5.266666666666667, pm25_avg=5.258333333333334, post_code='41-800', pressure_avg=976.5, street='PL. PLAC WARSZAWSKI', temperature_avg=12.4, timestamp='2024-10-13 14:41:48'),\n",
              " Row(city='ZABRZE', humidity_avg=75.1, latitude='50.29655227', longitude='18.7957049', name='III LICEUM OGÓLNOKSZTAŁCĄCE Z ODDZIAŁAMI DWUJĘZYCZNYMI W ZABRZU', pm10_avg=11.0, pm25_avg=10.9, post_code='41-800', pressure_avg=973.8399999999999, street='UL. HENRYKA SIENKIEWICZA', temperature_avg=13.26, timestamp='2024-10-13 14:41:48'),\n",
              " Row(city='ZABRZE', humidity_avg=74.25, latitude='50.343641', longitude='18.76624', name='SZKOŁA PODSTAWOWA NR 48 W ZABRZU W CENTRUM KSZTAŁCENIA OGÓLNEGO I ZAWODOWEGO W ZABRZU', pm10_avg=2.45, pm25_avg=2.45, post_code='41-807', pressure_avg=977.05, street='UL. ZWROTNICZA', temperature_avg=11.55, timestamp='2024-10-13 14:41:48'),\n",
              " Row(city='ZABRZE', humidity_avg=74.64166666666667, latitude='50.29894695', longitude='18.76296398', name='BRANŻOWA SZKOŁA I STOPNIA NR 6 W ZABRZU W ZABRZAŃSKIM CENTRUM KSZTAŁCENIA OGÓLNEGO I ZAWODOWEGO W ZABRZU', pm10_avg=3.9499999999999997, pm25_avg=3.9333333333333336, post_code='41-800', pressure_avg=978.0333333333333, street='UL. MARSZAŁKA JÓZEFA PIŁSUDSKIEGO', temperature_avg=12.5, timestamp='2024-10-13 14:41:48'),\n",
              " Row(city='ZABRZE', humidity_avg=76.675, latitude='50.364381', longitude='18.791604', name='SZKOŁA PODSTAWOWA NR 29 W ZABRZU', pm10_avg=3.908333333333333, pm25_avg=3.891666666666667, post_code='41-808', pressure_avg=974.4333333333334, street='UL. BUDOWLANA', temperature_avg=10.875, timestamp='2024-10-13 14:41:48'),\n",
              " Row(city='ZABRZE', humidity_avg=75.90833333333333, latitude='50.369265', longitude='18.795194', name='IV LICEUM OGÓLNOKSZTAŁCĄCE IM. MIKOŁAJA REJA W ZABRZU', pm10_avg=4.558333333333334, pm25_avg=4.541666666666667, post_code='41-808', pressure_avg=974.2666666666668, street='UL. GEN. WŁADYSŁAWA ANDERSA', temperature_avg=11.125, timestamp='2024-10-13 14:41:48'),\n",
              " Row(city='GLIWICE', humidity_avg=77.33, latitude='50.274791', longitude='18.6561', name='SZKOŁA PODSTAWOWA NR 41 IM. WŁADYSŁAWA BRONIEWSKIEGO W GLIWICACH', pm10_avg=2.85, pm25_avg=2.85, post_code='44-100', pressure_avg=977.8399999999999, street='UL. KORMORANÓW', temperature_avg=11.89, timestamp='2024-10-13 14:41:48'),\n",
              " Row(city='GLIWICE', humidity_avg=75.63333333333334, latitude='50.306626', longitude='18.684621', name='SZKOŁA PODSTAWOWA NR 7 IM. ADAMA MICKIEWICZA W GLIWICACH', pm10_avg=2.433333333333333, pm25_avg=2.433333333333333, post_code='44-100', pressure_avg=977.65, street='UL. TARNOGÓRSKA', temperature_avg=11.424999999999999, timestamp='2024-10-13 14:41:48'),\n",
              " Row(city='KNURÓW', humidity_avg=74.49166666666666, latitude='50.223275', longitude='18.664685', name='MIEJSKA SZKOŁA PODSTAWOWA Z ODDZIAŁAMI INTEGRACYJNYMI NR 2 IM. KAROLA MIARKI W KNUROWIE', pm10_avg=3.7916666666666665, pm25_avg=3.7916666666666665, post_code='44-190', pressure_avg=978.4166666666666, street='UL. WILSONA', temperature_avg=12.958333333333334, timestamp='2024-10-13 14:41:48'),\n",
              " Row(city='JAROSTY', humidity_avg=82.2, latitude='51.45636536', longitude='19.68775849', name='SZKOŁA PODSTAWOWA IM. MARGARETHY KAMPRAD W JAROSTACH', pm10_avg=4.02, pm25_avg=4.02, post_code='97-310', pressure_avg=981.1200000000001, street='UL. LEŚNA', temperature_avg=9.68, timestamp='2024-10-13 14:41:48'),\n",
              " Row(city='KSAWERÓW', humidity_avg=84.36666666666666, latitude='51.68227822', longitude='19.39486431', name='SZKOŁA PODSTAWOWA IM. DR HENRYKA JORDANA W KSAWEROWIE', pm10_avg=7.283333333333334, pm25_avg=7.216666666666666, post_code='95-054', pressure_avg=981.4333333333334, street='UL. ZACHODNIA', temperature_avg=9.441666666666666, timestamp='2024-10-13 14:41:48'),\n",
              " Row(city='OPOCZNO', humidity_avg=93.1, latitude='51.37764127', longitude='20.27237638', name='BRANŻOWA SZKOŁA I STOPNIA NR 1 W OPOCZNIE', pm10_avg=12.5, pm25_avg=12.5, post_code='26-300', pressure_avg=984.6, street='UL. WOJCIECHA KOSSAKA', temperature_avg=9.649999999999999, timestamp='2024-10-13 14:41:48'),\n",
              " Row(city='KRAKÓW-PODGÓRZE', humidity_avg=63.291666666666664, latitude='50.006338', longitude='20.00607', name='SZKOŁA PODSTAWOWA NR 157 IM. IGNACEGO JANA PADEREWSKIEGO W KRAKOWIE', pm10_avg=1.3166666666666667, pm25_avg=1.1583333333333334, post_code='30-695', pressure_avg=982.4583333333334, street='UL. LUDWIKA RYDYGIERA', temperature_avg=17.108333333333334, timestamp='2024-10-13 14:41:48'),\n",
              " Row(city='PABIANICE', humidity_avg=82.7, latitude='51.65677453', longitude='19.32977177', name='I LICEUM OGÓLNOKSZTAŁCĄCE IM. JĘDRZEJA ŚNIADECKIEGO W PABIANICACH', pm10_avg=4.8, pm25_avg=4.6, post_code='95-200', pressure_avg=981.2, street='UL. STANISŁAWA MONIUSZKI', temperature_avg=9.0, timestamp='2024-10-13 14:41:48'),\n",
              " Row(city='ROZTOKA', humidity_avg=63.63333333333333, latitude='49.6263815', longitude='20.4571424', name='SZKOŁA PODSTAWOWA IM.MARII KONOPNICKIEJ W ROZTOCE', pm10_avg=2.2083333333333335, pm25_avg=1.7249999999999999, post_code='34-606', pressure_avg=948.2166666666667, street=None, temperature_avg=13.783333333333333, timestamp='2024-10-13 14:41:48'),\n",
              " Row(city='STOBIECKO SZLACHECKIE', humidity_avg=79.3, latitude='51.10621326', longitude='19.38629184', name='PUBLICZNA SZKOŁA PODSTAWOWA W STOBIECKU SZLACHECKIM', pm10_avg=3.0500000000000003, pm25_avg=3.0500000000000003, post_code='97-561', pressure_avg=977.9416666666666, street=None, temperature_avg=10.433333333333334, timestamp='2024-10-13 14:41:48'),\n",
              " Row(city='USTKÓW', humidity_avg=88.025, latitude='51.766123', longitude='18.600692', name='SZKOŁA PODSTAWOWA IM. JANA PAWŁA II W USTKOWIE', pm10_avg=2.0, pm25_avg=1.975, post_code='98-290', pressure_avg=987.8375, street=None, temperature_avg=9.35, timestamp='2024-10-13 14:41:48'),\n",
              " Row(city='KRAKÓW-ŚRÓDMIEŚCIE', humidity_avg=78.20833333333333, latitude='50.088055', longitude='19.970521', name='SZKOŁA PODSTAWOWA NR 60 IM. STANISŁAWA WYSPIAŃSKIEGO W KRAKOWIE', pm10_avg=3.0083333333333333, pm25_avg=2.5166666666666666, post_code='31-481', pressure_avg=983.9, street='UL. KAZIMIERZA ODNOWICIELA', temperature_avg=14.65, timestamp='2024-10-13 14:41:48'),\n",
              " Row(city='WARTKOWICE', humidity_avg=80.02499999999999, latitude='51.97577194', longitude='19.00434298', name='SZKOŁA PODSTAWOWA IM. MARSZAŁKA JÓZEFA PIŁSUDSKIEGO W WARTKOWICACH', pm10_avg=1.875, pm25_avg=1.875, post_code='99-220', pressure_avg=989.9583333333334, street='UL. LEGIONÓW POLSKICH', temperature_avg=9.458333333333334, timestamp='2024-10-13 14:41:48'),\n",
              " Row(city='MĘCINA', humidity_avg=69.025, latitude='49.7016283', longitude='20.5404381', name='SZKOŁA PODSTAWOWA NR 2 IM. KONSTYTUCJI 3-GO MAJA W MĘCINIE', pm10_avg=4.1, pm25_avg=4.2, post_code='34-654', pressure_avg=954.1750000000001, street=None, temperature_avg=13.55, timestamp='2024-10-13 14:41:48'),\n",
              " Row(city='GORLICE', humidity_avg=68.99166666666666, latitude='49.66959', longitude='21.173963', name='BRANŻOWA SZKOŁA I STOPNIA NR 2 W GORLICACH', pm10_avg=3.975, pm25_avg=4.241666666666666, post_code='38-300', pressure_avg=978.3000000000001, street='UL. JÓZEFA MICHALUSA', temperature_avg=14.616666666666667, timestamp='2024-10-13 14:41:48'),\n",
              " Row(city='PRZYSZOWA', humidity_avg=70.24166666666666, latitude='49.6603381', longitude='20.4806341', name='SZKOŁA PODSTAWOWA NR 2 IM HENRYKA SIENKIEWICZA W PRZYSZOWEJ', pm10_avg=7.2250000000000005, pm25_avg=6.708333333333333, post_code='34-604', pressure_avg=952.4083333333333, street=None, temperature_avg=14.033333333333333, timestamp='2024-10-13 14:41:48'),\n",
              " Row(city='WYSOKIE', humidity_avg=81.0, latitude='49.6552386', longitude='20.5394861', name='SZKOŁA PODSTAWOWA IM. KRÓLOWEJ JADWIGI W WYSOKIEM', pm10_avg=0.0, pm25_avg=0.0, post_code='34-600', pressure_avg=1100.0, street=None, temperature_avg=10.200000000000001, timestamp='2024-10-13 14:41:48'),\n",
              " Row(city='RACIBÓRZ', humidity_avg=69.99166666666666, latitude='50.0999982', longitude='18.2321525', name='SZKOŁA PODSTAWOWA NR 1 Z ODDZIAŁAMI INTEGRACYJNYMI W RACIBORZU', pm10_avg=5.3, pm25_avg=4.825, post_code='47-400', pressure_avg=988.625, street='UL. CECYLII', temperature_avg=14.241666666666667, timestamp='2024-10-13 14:41:48'),\n",
              " Row(city='BIEŃKOWICE', humidity_avg=74.75, latitude='50.0252972', longitude='18.2107215', name='SZKOŁA PODSTAWOWA IM. BOHATERÓW WESTERPLATTE W BIEŃKOWICACH', pm10_avg=6.6499999999999995, pm25_avg=6.175, post_code='47-451', pressure_avg=984.6999999999999, street='UL. SZKOLNA', temperature_avg=13.633333333333333, timestamp='2024-10-13 14:41:48'),\n",
              " Row(city='NOWA WIEŚ SZLACHECKA', humidity_avg=75.45833333333333, latitude='50.026212', longitude='19.6970908', name='SZKOŁA PODSTAWOWA IM. ŚW. STANISŁAWA KOSTKI W NOWEJ WSI SZLACHECKIEJ', pm10_avg=4.291666666666667, pm25_avg=4.291666666666667, post_code='32-060', pressure_avg=976.6083333333332, street='UL. SZKOLNA', temperature_avg=13.933333333333332, timestamp='2024-10-13 14:41:48'),\n",
              " Row(city='RESZEL', humidity_avg=81.5, latitude='54.052554', longitude='21.1486175', name='SZKOŁA PODSTAWOWA NR 3 IM. MARII DĄBROWSKIEJ W RESZLU', pm10_avg=5.325, pm25_avg=5.108333333333333, post_code='11-440', pressure_avg=990.8666666666667, street='UL. MARII KONOPNICKIEJ', temperature_avg=8.975, timestamp='2024-10-13 14:41:48'),\n",
              " Row(city='WĘGORZEWO', humidity_avg=70.31666666666666, latitude='54.2136049', longitude='21.7379192', name='SZKOŁA PODSTAWOWA NR 1 IM. MIKOŁAJA KOPERNIKA W WĘGORZEWIE', pm10_avg=4.316666666666666, pm25_avg=3.7583333333333333, post_code='11-600', pressure_avg=991.0166666666668, street='UL. PIONIERÓW', temperature_avg=12.733333333333334, timestamp='2024-10-13 14:41:48'),\n",
              " Row(city='BOCHNIA', humidity_avg=60.25833333333333, latitude='49.965508', longitude='20.421654', name='TECHNIKUM NR 3 W ZESPOLE SZKÓŁ NR 3 IM. KS. PROF. JÓZEFA TISCHNERA W BOCHNI', pm10_avg=2.858333333333333, pm25_avg=2.858333333333333, post_code='32-700', pressure_avg=979.7666666666668, street='UL. KRAKOWSKA', temperature_avg=16.783333333333335, timestamp='2024-10-13 14:41:48'),\n",
              " Row(city='ŁÓDŹ-ŚRÓDMIEŚCIE', humidity_avg=38.775, latitude='51.77789288', longitude='19.47642378', name='SZKOŁA PODSTAWOWA NR 94 W ŁODZI', pm10_avg=3.725, pm25_avg=3.6999999999999997, post_code='90-228', pressure_avg=994.875, street='UL. ZACISZE', temperature_avg=24.333333333333332, timestamp='2024-10-13 14:41:48'),\n",
              " Row(city='ŻUROMIN', humidity_avg=89.64166666666667, latitude='53.071036', longitude='19.911175', name='SZKOŁA PODSTAWOWA NR 1 IM. STEFANA ŻEROMSKIEGO W ŻUROMINIE', pm10_avg=19.608333333333334, pm25_avg=19.275000000000002, post_code='09-300', pressure_avg=984.8000000000001, street='UL. WYZWOLENIA', temperature_avg=9.941666666666666, timestamp='2024-10-13 14:41:48'),\n",
              " Row(city='STUDZIENIEC', humidity_avg=83.0, latitude='52.877888', longitude='19.640243', name='TECHNIKUM IM. WINCENTEGO WITOSA W STUDZIEŃCU', pm10_avg=4.5249999999999995, pm25_avg=4.516666666666667, post_code='09-200', pressure_avg=988.775, street=None, temperature_avg=10.325000000000001, timestamp='2024-10-13 14:41:48'),\n",
              " Row(city='ZBROSŁAWICE', humidity_avg=77.66666666666667, latitude='50.415455', longitude='18.74511', name='SZKOŁA PODSTAWOWA IM. TADEUSZA KOŚCIUSZKI W ZBROSŁAWICACH', pm10_avg=2.191666666666667, pm25_avg=1.8916666666666666, post_code='42-674', pressure_avg=978.2916666666666, street='UL. WOLNOŚCI', temperature_avg=9.408333333333333, timestamp='2024-10-13 14:41:48'),\n",
              " Row(city='ŻORY', humidity_avg=85.49166666666667, latitude='50.039349', longitude='18.687221', name='SZKOŁA PODSTAWOWA NR 4 Z ODDZIAŁAMI SPORTOWYMI I MISTRZOSTWA SPORTOWEGO W ŻORACH', pm10_avg=4.133333333333334, pm25_avg=3.7583333333333333, post_code='44-240', pressure_avg=977.35, street='UL. BORYŃSKA', temperature_avg=12.441666666666668, timestamp='2024-10-13 14:41:48'),\n",
              " Row(city='ZDUŃSKA WOLA', humidity_avg=87.16666666666667, latitude='51.60020179', longitude='18.95037552', name='SZKOŁA PODSTAWOWA NR 10 IM. MARII SKŁODOWSKIEJ-CURIE W ZDUŃSKIEJ WOLI', pm10_avg=8.945833333333333, pm25_avg=9.0375, post_code='98-220', pressure_avg=985.3208333333333, street='UL. ZIELONA', temperature_avg=10.295833333333333, timestamp='2024-10-13 14:41:48'),\n",
              " Row(city='ORZESZE', humidity_avg=84.075, latitude='50.145788', longitude='18.746978', name='SZKOŁA PODSTAWOWA NR 4 IM.FRANCISZKA STUSKA W ORZESZU JAŚKOWICACH', pm10_avg=6.708333333333333, pm25_avg=6.666666666666667, post_code='43-180', pressure_avg=974.1833333333334, street='UL. STUSKA', temperature_avg=12.200000000000001, timestamp='2024-10-13 14:41:48'),\n",
              " Row(city='GLIWICE', humidity_avg=78.15714285714286, latitude='50.298038', longitude='18.654651', name='IV LICEUM OGÓLNOKSZTAŁCĄCE IM. ORLĄT LWOWSKICH W GLIWICACH', pm10_avg=3.8857142857142857, pm25_avg=3.8857142857142857, post_code='44-100', pressure_avg=980.2428571428571, street='UL. KOZIELSKA', temperature_avg=12.614285714285714, timestamp='2024-10-13 14:41:48'),\n",
              " Row(city='PIASTÓW', humidity_avg=88.95833333333333, latitude='52.178313490439706', longitude='20.841563186509138', name='SZKOŁA PODSTAWOWA NR 3 I. BOHATERÓW POWSTANIA WARSZAWSKIEGO Z ODDZIAŁAMI INTEGRACYJNYMI W PIASTOWIE', pm10_avg=8.616666666666667, pm25_avg=8.591666666666667, post_code='05-820', pressure_avg=992.4250000000001, street='UL. ALEJA TYSIĄCLECIA', temperature_avg=10.0, timestamp='2024-10-13 14:41:48'),\n",
              " Row(city='BIECZ', humidity_avg=65.14999999999999, latitude='49.73291457112003', longitude='21.255765242327236', name='TECHNIKUM W BIECZU', pm10_avg=5.866666666666667, pm25_avg=5.108333333333333, post_code='38-340', pressure_avg=979.9416666666666, street='UL. KAZIMIERZA WIELKIEGO', temperature_avg=14.516666666666666, timestamp='2024-10-13 14:41:48'),\n",
              " Row(city='RUDA ŚLĄSKA', humidity_avg=77.75833333333334, latitude='50.268433', longitude='18.88033', name='SZKOŁA PODSTAWOWA NR 16 IM. JANUSZA KORCZAKA W RUDZIE ŚLĄSKIEJ', pm10_avg=4.783333333333333, pm25_avg=4.7749999999999995, post_code='41-710', pressure_avg=976.15, street='UL. KUKUŁCZA', temperature_avg=12.791666666666666, timestamp='2024-10-13 14:41:48'),\n",
              " Row(city='SZCZEJKOWICE', humidity_avg=83.09166666666667, latitude='50.095496', longitude='18.679024', name='SZKOŁA PODSTAWOWA IM. WŁADYSŁAWA BRONIEWSKIEGO W SZCZEJKOWICACH', pm10_avg=4.075, pm25_avg=4.066666666666666, post_code='44-246', pressure_avg=974.75, street='UL. WIEJSKA', temperature_avg=12.491666666666667, timestamp='2024-10-13 14:41:48'),\n",
              " Row(city='BEŁK', humidity_avg=78.7, latitude='50.134061', longitude='18.712687', name='SZKOŁA PODSTAWOWA IM. FRANCISZKA RDUCHA W BEŁKU', pm10_avg=3.8249999999999997, pm25_avg=3.8249999999999997, post_code='44-237', pressure_avg=976.5083333333333, street='UL. SZYMOCHY', temperature_avg=12.533333333333333, timestamp='2024-10-13 14:41:48'),\n",
              " Row(city='PONIATOWO', humidity_avg=90.13333333333333, latitude='53.041259', longitude='19.864252', name='SZKOŁA PODSTAWOWA W PONIATOWIE', pm10_avg=9.225, pm25_avg=9.200000000000001, post_code='09-300', pressure_avg=985.2083333333334, street='UL. SZKOLNA', temperature_avg=10.166666666666666, timestamp='2024-10-13 14:41:48'),\n",
              " Row(city='ŚWIECIE', humidity_avg=81.64999999999999, latitude='53.4022885304552', longitude='18.404523109363243', name='SZKOŁA PODSTAWOWA NR 5 IM. POLSKICH OLIMPIJCZYKÓW W ŚWIECIU', pm10_avg=3.85, pm25_avg=3.8166666666666664, post_code='86-105', pressure_avg=996.0333333333333, street='UL. WOJSKA POLSKIEGO', temperature_avg=10.5, timestamp='2024-10-13 14:41:48'),\n",
              " Row(city='KĘTRZYN', humidity_avg=85.55, latitude='54.0772049', longitude='21.3575617', name='TECHNIKUM NR 2 W KĘTRZYNIE', pm10_avg=8.899999999999999, pm25_avg=7.85, post_code='11-400', pressure_avg=994.3, street='UL. POZNAŃSKA', temperature_avg=9.15, timestamp='2024-10-13 14:41:48'),\n",
              " Row(city='KĘTRZYN', humidity_avg=81.44166666666668, latitude='54.0774004', longitude='21.3725281', name='I LICEUM OGÓLNOKSZTAŁCĄCE IM. WOJCIECHA KĘTRZYŃSKIEGO W KĘTRZYNIE', pm10_avg=2.475, pm25_avg=2.225, post_code='11-400', pressure_avg=990.2416666666667, street='UL. POWSTAŃCÓW WARSZAWY', temperature_avg=8.991666666666667, timestamp='2024-10-13 14:41:48'),\n",
              " Row(city='ŻORY', humidity_avg=80.71666666666667, latitude='50.03250482', longitude='18.68289226', name='SZKOŁA PODSTAWOWA NR 13 Z ODDZIAŁAMI SPORTOWYMI I MISTRZOSTWA SPORTOWEGO IM. POLSKICH OLIMPIJCZYKÓW W ŻORACH', pm10_avg=3.9499999999999997, pm25_avg=3.9499999999999997, post_code='44-240', pressure_avg=973.8916666666668, street='OS. OSIEDLE PAWLIKOWSKIEGO', temperature_avg=12.9, timestamp='2024-10-13 14:41:48'),\n",
              " Row(city='DŁUGOWOLA PIERWSZA', humidity_avg=85.95833333333333, latitude='51.096311', longitude='21.621011', name='PUBLICZNA SZKOŁA PODSTAWOWA W DŁUGOWOLI', pm10_avg=3.7416666666666667, pm25_avg=3.7416666666666667, post_code='27-300', pressure_avg=985.0, street=None, temperature_avg=13.858333333333334, timestamp='2024-10-13 14:41:48'),\n",
              " Row(city='GŁOSKÓW', humidity_avg=68.94166666666668, latitude='51.932915', longitude='21.693825', name='PUBLICZNA SZKOŁA PODSTAWOWA IM KARDYNAŁA STEFANA WYSZYŃSKIEGO W GŁOSKOWIE', pm10_avg=7.783333333333334, pm25_avg=7.675, post_code='08-412', pressure_avg=986.5583333333334, street=None, temperature_avg=13.25, timestamp='2024-10-13 14:41:48'),\n",
              " Row(city='PRUSZKÓW', humidity_avg=85.90833333333335, latitude='52.18859558069476', longitude='20.815629142327243', name='SZKOŁA PODSTAWOWA NR 5 IM I. J. PADEREWSKIEGO W PRUSZKOWIE', pm10_avg=10.208333333333334, pm25_avg=10.166666666666666, post_code='05-804', pressure_avg=990.9250000000001, street='UL. JANA DŁUGOSZA', temperature_avg=10.158333333333333, timestamp='2024-10-13 14:41:48'),\n",
              " Row(city='STARY KĘBŁÓW', humidity_avg=63.75, latitude='51.791451', longitude='21.862929', name='SZKOŁA PODSTAWOWA IM. HENRYKA SIENKIEWICZA W STARYM KĘBŁOWIE', pm10_avg=4.391666666666667, pm25_avg=4.383333333333333, post_code='08-430', pressure_avg=984.6833333333334, street=None, temperature_avg=13.674999999999999, timestamp='2024-10-13 14:41:48'),\n",
              " Row(city='ŻELECHÓW', humidity_avg=63.00833333333333, latitude='51.812356', longitude='21.898786', name='TECHNIKUM W ŻELECHOWIE', pm10_avg=8.341666666666667, pm25_avg=8.333333333333334, post_code='08-430', pressure_avg=984.0749999999999, street='UL. MARSZAŁKA JÓZEFA PIŁSUDSKIEGO', temperature_avg=13.616666666666667, timestamp='2024-10-13 14:41:48'),\n",
              " Row(city='JÓZEFÓW', humidity_avg=94.26666666666667, latitude='52.128054', longitude='21.234656', name='SZKOŁA PODSTAWOWA W ZESPOLE SZKÓŁ OGÓLNOKSZTAŁCĄCYCH W MAZOWIECKIM CENTRUM NEUROPSYCHIATRII W JÓZEFOWIE ', pm10_avg=10.133333333333333, pm25_avg=9.908333333333333, post_code='05-420', pressure_avg=995.9083333333333, street='UL. 3 MAJA', temperature_avg=10.6, timestamp='2024-10-13 14:41:48'),\n",
              " Row(city='CHEŁM', humidity_avg=59.35, latitude='51.14267385', longitude='23.45593021', name='II LICEUM OGÓLNOKSZTAŁCĄCE IM. GEN. GUSTAWA ORLICZ-DRESZERA W CHEŁMIE', pm10_avg=6.683333333333334, pm25_avg=6.658333333333332, post_code='22-100', pressure_avg=984.4499999999999, street='UL. SZPITALNA', temperature_avg=15.200000000000001, timestamp='2024-10-13 14:41:48'),\n",
              " Row(city='KUKLÓWKA RADZIEJOWICKA', humidity_avg=86.7, latitude='52.04408065', longitude='20.59054414', name='SZKOŁA PODSTAWOWA IM.J.CHEŁMOŃSKIEGO W KUKLÓWCE RADZIEJOWICKIEJ', pm10_avg=6.529999999999999, pm25_avg=6.51, post_code='96-325', pressure_avg=990.7299999999999, street='UL. SZKOLNA', temperature_avg=10.45, timestamp='2024-10-13 14:41:48'),\n",
              " Row(city='CIECHANÓW', humidity_avg=87.375, latitude='52.882394549980845', longitude='20.631842155818422', name='SZKOŁA PODSTAWOWA NR 3 IM. ORŁA BIAŁEGO W CIECHANOWIE', pm10_avg=9.641666666666667, pm25_avg=11.258333333333333, post_code='06-400', pressure_avg=988.9, street='UL. POWSTAŃCÓW WIELKOPOLSKICH', temperature_avg=9.116666666666665, timestamp='2024-10-13 14:41:48'),\n",
              " Row(city='TARNOWSKIE GÓRY', humidity_avg=84.44166666666666, latitude='50.43256357', longitude='18.80622755', name='SALEZJAŃSKA SZKOŁA PODSTAWOWA Z ODDZIAŁAMI INTEGRACYJNYMI W SALEZJAŃSKIM OŚRODKU SZKOLNO-WYCHOWAWCZYM W TARNOWSKICH GÓRACH', pm10_avg=2.408333333333333, pm25_avg=1.8499999999999999, post_code='42-604', pressure_avg=932.5, street='UL. JANA ŚNIADECKIEGO', temperature_avg=9.158333333333333, timestamp='2024-10-13 14:41:48'),\n",
              " Row(city='SULEJÓWEK', humidity_avg=83.55833333333334, latitude='52.24433487687851', longitude='21.26694575396344', name='SZKOŁA PODSTAWOWA NR 1 IM PIERWSZEGO MARSZAŁKA POLSKI JÓZEFA PIŁSUDSKIEGO W SULEJÓWKU', pm10_avg=0.0, pm25_avg=0.0, post_code='05-070', pressure_avg=993.5166666666668, street='UL. IDZIKOWSKIEGO', temperature_avg=9.533333333333333, timestamp='2024-10-13 14:41:48'),\n",
              " Row(city='MYSIADŁO', humidity_avg=84.31666666666666, latitude='52.099954', longitude='21.005366', name='NIEPUBLICZNA INTEGRACYJNA SZKOŁA PODSTAWOWA W MYSIADLE', pm10_avg=10.316666666666666, pm25_avg=10.291666666666666, post_code='05-515', pressure_avg=992.0583333333334, street='UL. KRÓTKA', temperature_avg=10.158333333333333, timestamp='2024-10-13 14:41:48'),\n",
              " Row(city='GÓZD', humidity_avg=79.74166666666666, latitude='51.376315985021016', longitude='21.378914500000004', name='PUBLICZNA SZKOŁA PODSTAWOWA IM. JANUSZA KORCZAKA W GOŹDZIE', pm10_avg=7.316666666666666, pm25_avg=7.316666666666666, post_code='26-634', pressure_avg=983.2083333333334, street='UL. STAROWIEJSKA', temperature_avg=11.908333333333333, timestamp='2024-10-13 14:41:48'),\n",
              " Row(city='PRUSZKÓW', humidity_avg=89.3, latitude='52.16432045510862', longitude='20.81122021534552', name='SZKOŁA PODSTAWOWA NR 4 IM. JANA PAWŁA II, Z ODDZIAŁAMI PRZEDSZKOLNYMI I ODDZIAŁAMI SPORTOWYMI W PRUSZKOWIE ', pm10_avg=21.900000000000002, pm25_avg=19.658333333333335, post_code='05-800', pressure_avg=993.1999999999999, street='UL. HUBALA', temperature_avg=9.633333333333333, timestamp='2024-10-13 14:41:48'),\n",
              " Row(city='OTWOCK WIELKI', humidity_avg=87.11666666666667, latitude='52.054498', longitude='21.249772', name='SZKOŁA PODSTAWOWA W OTWOCKU WIELKIM', pm10_avg=15.1, pm25_avg=12.833333333333334, post_code='05-480', pressure_avg=996.0416666666666, street='UL. ZAMKOWA', temperature_avg=9.833333333333334, timestamp='2024-10-13 14:41:48'),\n",
              " Row(city='WIELICZKA', humidity_avg=71.28333333333333, latitude='49.98203058', longitude='20.05646002', name='NIEPUBLICZNA SZKOŁA PODSTAWOWA WIELICZKA MONTESSORI SCHOOL W WIELICKIEJ SZKOLE MONTESSORI', pm10_avg=3.4583333333333335, pm25_avg=3.1999999999999997, post_code='32-020', pressure_avg=979.9583333333334, street='UL. JANA MIKOŁAJA DANIŁOWICZA', temperature_avg=14.950000000000001, timestamp='2024-10-13 14:41:48'),\n",
              " Row(city='OBRAZÓW', humidity_avg=62.75833333333333, latitude='50.69068702480904', longitude='21.657963199999998', name='PUBLICZNA SZKOŁA PODSTAWOWA W OBRAZOWIE', pm10_avg=3.733333333333333, pm25_avg=3.8083333333333336, post_code='27-641', pressure_avg=984.35, street=None, temperature_avg=13.741666666666667, timestamp='2024-10-13 14:41:48'),\n",
              " Row(city='BRZOZOWO', humidity_avg=83.53333333333333, latitude='53.314175', longitude='18.4238755', name='SZKOŁA PODSTAWOWA W BRZOZOWIE', pm10_avg=1.7666666666666666, pm25_avg=1.7666666666666666, post_code='86-200', pressure_avg=988.3666666666667, street='UL. MIODOWA', temperature_avg=9.858333333333334, timestamp='2024-10-13 14:41:48'),\n",
              " Row(city='ŁÓDŹ-WIDZEW', humidity_avg=85.01666666666667, latitude='51.75675184434886 ', longitude='19.531114643683964', name='SZKOŁA PODSTAWOWA NR 199 IM. JULIANA TUWIMA W ŁODZI', pm10_avg=3.858333333333333, pm25_avg=3.0833333333333335, post_code='92-504', pressure_avg=978.475, street='UL. JÓZEFA ELSNERA', temperature_avg=9.333333333333334, timestamp='2024-10-13 14:41:48'),\n",
              " Row(city='BORZYMIN', humidity_avg=82.7, latitude='53.0561291', longitude='19.3345342', name='SZKOŁA PODSTAWOWA IM. KS. KARD. STEFANA WYSZYŃSKIEGO W BORZYMINIE', pm10_avg=3.7083333333333335, pm25_avg=3.6999999999999997, post_code='87-500', pressure_avg=984.4833333333332, street=None, temperature_avg=10.299999999999999, timestamp='2024-10-13 14:41:48'),\n",
              " Row(city='ŁĘTOWICE', humidity_avg=76.49166666666666, latitude='49.994632', longitude='20.845262', name='SZKOŁA PODSTAWOWA IM. TADEUSZA KOŚCIUSZKI W ŁĘTOWICACH', pm10_avg=5.966666666666666, pm25_avg=5.391666666666667, post_code='33-121', pressure_avg=985.8583333333332, street=None, temperature_avg=16.066666666666666, timestamp='2024-10-13 14:41:48'),\n",
              " Row(city='BĘCZKÓW', humidity_avg=80.7, latitude='50.87879103', longitude='20.80287618', name='SZKOŁA PODSTAWOWA IM. PIOTRA ŚCIEGIENNEGO W BĘCZKOWIE', pm10_avg=16.041666666666668, pm25_avg=12.883333333333333, post_code='26-008', pressure_avg=973.525, street='UL. JANA PAWŁA II', temperature_avg=11.308333333333332, timestamp='2024-10-13 14:41:48'),\n",
              " Row(city='BĘCZARKA', humidity_avg=64.36666666666666, latitude='49.8750803', longitude='19.8615647', name='SZKOŁA PODSTAWOWA IM. JANA KOCHANOWSKIEGO W BĘCZARCE', pm10_avg=2.8249999999999997, pm25_avg=2.8166666666666664, post_code='32-444', pressure_avg=967.65, street=None, temperature_avg=15.083333333333334, timestamp='2024-10-13 14:41:48'),\n",
              " Row(city='NAKŁO ŚLĄSKIE', humidity_avg=86.95, latitude='50.436198', longitude='18.899961', name='TECHNIKUM W NAKLE ŚLĄSKIM', pm10_avg=5.325, pm25_avg=4.808333333333334, post_code='42-620', pressure_avg=972.7166666666667, street='UL. GUSTAWA MORCINKA', temperature_avg=9.85, timestamp='2024-10-13 14:41:48'),\n",
              " Row(city='WARCINO', humidity_avg=100.0, latitude='54.22542881', longitude='16.85729458', name='SZKOŁA PODSTAWOWA W WARCINIE IM. KS. PRAŁATA ALFREDA OSIPOWICZA W WARCINIE', pm10_avg=0.03636363636363637, pm25_avg=0.018181818181818184, post_code='77-230', pressure_avg=991.9090909090909, street=None, temperature_avg=8.745454545454546, timestamp='2024-10-13 14:41:48'),\n",
              " Row(city='GDAŃSK', humidity_avg=88.34, latitude='54.402127', longitude='18.662468', name='ZESPÓŁ SZKÓŁ OGÓLNOKSZTAŁCĄCYCH NR 5 - IV LICEUM OGÓLNOKSZTAŁCĄCE Z ODDZIAŁAMI MISTRZOSTWA SPORTOWEGO IM. MARYNARZY WOJSK OCHRONY POGRANICZA W GDAŃSKU', pm10_avg=8.76, pm25_avg=8.66, post_code='80-546', pressure_avg=996.86, street='UL. NA ZASPĘ', temperature_avg=10.02, timestamp='2024-10-13 14:41:48'),\n",
              " Row(city='DROGINIA', humidity_avg=62.199999999999996, latitude='49.8469429', longitude='20.008008', name='SZKOŁA PODSTAWOWA IM. JANA DUNIN-BRZEZIŃSKIEGO W DROGINI ', pm10_avg=2.7916666666666665, pm25_avg=2.7916666666666665, post_code='32-400', pressure_avg=973.0916666666667, street=None, temperature_avg=15.375, timestamp='2024-10-13 14:41:48'),\n",
              " Row(city='TARNÓW', humidity_avg=68.575, latitude='50.01968672', longitude='21.00415196', name='SZKOŁA PODSTAWOWA NR 8 IM. KRZYSZTOFA KAMILA BACZYŃSKIEGO W TARNOWIE', pm10_avg=4.216666666666667, pm25_avg=3.5, post_code='33-100', pressure_avg=982.5583333333334, street='UL. BITWY POD STUDZIANKAMI', temperature_avg=15.525, timestamp='2024-10-13 14:41:48'),\n",
              " Row(city='GŁOGOCZÓW', humidity_avg=63.324999999999996, latitude='49.8949648', longitude='19.8764713', name='SZKOŁA PODSTAWOWA IM.TADEUSZA KOŚCIUSZKI W GŁOGOCZOWIE', pm10_avg=2.3, pm25_avg=2.3, post_code='32-444', pressure_avg=977.4, street=None, temperature_avg=15.6, timestamp='2024-10-13 14:41:48'),\n",
              " Row(city='RACIECHOWICE', humidity_avg=66.89999999999999, latitude='49.8447436', longitude='20.1425376', name='SZKOŁA PODSTAWOWA IM JANA KOCHANOWSKIEGO W RACIECHOWICACH', pm10_avg=5.075, pm25_avg=4.633333333333334, post_code='32-415', pressure_avg=970.8916666666668, street=None, temperature_avg=14.183333333333332, timestamp='2024-10-13 14:41:48'),\n",
              " Row(city='SPYTKOWICE', humidity_avg=65.28, latitude='49.5891356', longitude='19.8620555', name='SZKOŁA PODSTAWOWA NR 2 IM. 12 PUŁKU PIECHOTY W SPYTKOWICACH', pm10_avg=3.8899999999999997, pm25_avg=3.8899999999999997, post_code='34-745', pressure_avg=948.3799999999999, street=None, temperature_avg=14.24, timestamp='2024-10-13 14:41:48'),\n",
              " Row(city='WIELICZKA', humidity_avg=75.71666666666667, latitude='49.98142573025661', longitude='20.04131557116481', name='NIEPUBLICZNA SZKOŁA PODSTAWOWA MONTESSORI W WIELICZCE', pm10_avg=4.5, pm25_avg=3.7916666666666665, post_code='32-020', pressure_avg=978.2916666666666, street='UL. JASNA', temperature_avg=14.391666666666666, timestamp='2024-10-13 14:41:48'),\n",
              " Row(city='SUŁKOWICE', humidity_avg=67.425, latitude='49.83879', longitude='19.79959', name='TECHNIKUM IM. KAROLA WOJTYŁY W SUŁKOWICACH', pm10_avg=2.058333333333333, pm25_avg=2.058333333333333, post_code='32-440', pressure_avg=973.4416666666666, street='UL. SZKOLNA', temperature_avg=14.725, timestamp='2024-10-13 14:41:48'),\n",
              " Row(city='KRZESZOWICE', humidity_avg=83.85000000000001, latitude='50.14192', longitude='19.63231', name='SZKOŁA PODSTAWOWA NR 1 IM. ADAMA MICKIEWICZA W KRZESZOWICACH', pm10_avg=1.1333333333333333, pm25_avg=1.1083333333333334, post_code='32-065', pressure_avg=982.4666666666667, street='UL. DŁUGA', temperature_avg=9.166666666666666, timestamp='2024-10-13 14:41:48'),\n",
              " Row(city='MNIKÓW', humidity_avg=77.29166666666667, latitude='50.0603945', longitude='19.7203981', name='SZKOŁA PODSTAWOWA IM. KSIĘCIA JÓZEFA PONIATOWSKIEGO W MNIKOWIE', pm10_avg=4.1499999999999995, pm25_avg=4.125, post_code='32-084', pressure_avg=979.0583333333334, street=None, temperature_avg=13.6, timestamp='2024-10-13 14:41:48'),\n",
              " Row(city='TARNÓW', humidity_avg=68.43333333333334, latitude='50.00592873', longitude='20.97230288', name='RZEMIEŚLNICZA BRANŻOWA SZKOŁA I STOPNIA W TARNOWIE', pm10_avg=4.066666666666666, pm25_avg=4.091666666666666, post_code='33-100', pressure_avg=985.6666666666666, street='PL. DWORCOWY', temperature_avg=16.191666666666666, timestamp='2024-10-13 14:41:48'),\n",
              " Row(city='STALOWA WOLA', humidity_avg=69.30833333333334, latitude='50.566117', longitude='22.049257', name='PUBLICZNA SZKOŁA PODSTAWOWA NR4 IM. EUGENIUSZA KWIATKOWSKIEGO W STALOWEJ WOLI', pm10_avg=5.808333333333334, pm25_avg=5.633333333333333, post_code='37-450', pressure_avg=991.1583333333333, street='UL. NIEZŁOMNYCH', temperature_avg=15.008333333333333, timestamp='2024-10-13 14:41:48'),\n",
              " Row(city='RADOM', humidity_avg=79.675, latitude='51.43197508', longitude='21.15801836', name='PUBLICZNA SZKOŁA PODSTAWOWA NR 30 IM. KRÓLOWEJ JADWIGI W RADOMIU', pm10_avg=8.808333333333334, pm25_avg=8.783333333333333, post_code='26-600', pressure_avg=986.65, street='UL. PIASTOWSKA', temperature_avg=11.9, timestamp='2024-10-13 14:41:48'),\n",
              " Row(city='BLIŻYN', humidity_avg=78.95, latitude='51.10539138', longitude='20.7611656', name='SZKOŁA PODSTAWOWA IM. GENERAŁA STANISŁAWA MACZKA W BLIŻYNIE', pm10_avg=5.3999999999999995, pm25_avg=4.608333333333333, post_code='26-120', pressure_avg=977.15, street='UL. PIASKOWA', temperature_avg=11.4, timestamp='2024-10-13 14:41:48'),\n",
              " Row(city='OKSA', humidity_avg=82.56666666666666, latitude='50.72821359', longitude='20.10227008', name='SZKOŁA PODSTAWOWA W OKSIE', pm10_avg=5.5, pm25_avg=5.916666666666667, post_code='28-363', pressure_avg=978.8416666666667, street='UL. PL. M. REJA', temperature_avg=12.791666666666666, timestamp='2024-10-13 14:41:48'),\n",
              " Row(city='PSZCZYNA', humidity_avg=82.59166666666667, latitude='49.965741', longitude='18.945466', name='III LICEUM OGÓLNOKSZTAŁCĄCE W ZESPOLE SZKÓŁ NR 1 W PSZCZYNIE ', pm10_avg=3.65, pm25_avg=3.65, post_code='43-200', pressure_avg=976.4250000000001, street='UL. KAZIMIERZA WIELKIEGO', temperature_avg=12.633333333333333, timestamp='2024-10-13 14:41:48'),\n",
              " Row(city='SKARŻYSKO-KAMIENNA', humidity_avg=82.06363636363636, latitude='51.1416602921439 ', longitude='20.875901311108976', name='SZKOŁA PODSTAWOWA NR 4 W SKARŻYSKU-KAMIENNEJ', pm10_avg=12.581818181818182, pm25_avg=11.754545454545456, post_code='26-110', pressure_avg=980.1636363636363, street='UL. KSIĄŻĘCA', temperature_avg=11.30909090909091, timestamp='2024-10-13 14:41:48'),\n",
              " Row(city='TARNÓW', humidity_avg=69.41111111111111, latitude='50.00814381', longitude='21.00131621', name='SPOŁECZNA SZKOŁA PODSTAWOWA NR 1 IM. KS.PROF. JÓZEFA TISCHNERA W TARNOWIE', pm10_avg=4.655555555555555, pm25_avg=4.411111111111111, post_code='33-100', pressure_avg=985.7666666666667, street='UL. GUMNISKA', temperature_avg=15.566666666666666, timestamp='2024-10-13 14:41:48'),\n",
              " Row(city='ZAWIDZ KOŚCIELNY', humidity_avg=84.175, latitude='52.82718910632357', longitude='19.870229928959297', name='SZKOŁA PODSTAWOWA W ZAWIDZU KOŚCIELNYM', pm10_avg=7.1, pm25_avg=6.8999999999999995, post_code='09-226', pressure_avg=985.75, street='UL. MAZOWIECKA', temperature_avg=10.5, timestamp='2024-10-13 14:41:48'),\n",
              " Row(city='POLICHNO', humidity_avg=72.61666666666666, latitude='50.82155974', longitude='20.3964092', name='SZKOŁA PODSTAWOWA IM. GEN. STANISŁAWA SKALSKIEGO W POLICHNIE', pm10_avg=14.683333333333332, pm25_avg=13.483333333333334, post_code='26-060', pressure_avg=980.0, street=None, temperature_avg=13.775, timestamp='2024-10-13 14:41:48'),\n",
              " Row(city='RACIĄŻ', humidity_avg=85.825, latitude='52.778712', longitude='20.127731', name='TECHNIKUM W RACIĄŻU', pm10_avg=9.941666666666666, pm25_avg=9.924999999999999, post_code='09-140', pressure_avg=988.2416666666667, street='UL. KILIŃSKIEGO', temperature_avg=10.341666666666667, timestamp='2024-10-13 14:41:48'),\n",
              " Row(city='MYŚLISZEWICE', humidity_avg=82.53333333333333, latitude='51.413341302261024', longitude='21.290531299999998', name='PUBLICZNA SZKOŁA PODSTAWOWA IM.HENRYKA SIENKIEWICZA W MYŚLISZEWICACH', pm10_avg=7.875, pm25_avg=5.95, post_code='26-630', pressure_avg=987.1083333333332, street=None, temperature_avg=10.416666666666666, timestamp='2024-10-13 14:41:48'),\n",
              " Row(city='ZABRZE', humidity_avg=75.35833333333333, latitude='50.318177', longitude='18.813383', name='SZKOŁA PODSTAWOWA NR 20 IM. POLSKICH HIMALAISTÓW W ZABRZU', pm10_avg=4.391666666666667, pm25_avg=4.341666666666667, post_code='41-800', pressure_avg=976.525, street='UL. JANA KASPROWICZA', temperature_avg=11.549999999999999, timestamp='2024-10-13 14:41:48'),\n",
              " Row(city='ZABRZE', humidity_avg=72.56666666666668, latitude='50.302103', longitude='18.777957', name='IX LICEUM OGÓLNOKSZTAŁCĄCE W ZABRZU W CENTRUM EDUKACJI W ZABRZU', pm10_avg=4.5, pm25_avg=4.5, post_code='41-800', pressure_avg=976.775, street='UL. 1 MAJA', temperature_avg=12.424999999999999, timestamp='2024-10-13 14:41:48'),\n",
              " Row(city='LUBOWIDZ', humidity_avg=94.39999999999999, latitude='53.120566', longitude='19.842984', name='SZKOŁA PODSTAWOWA W LUBOWIDZU', pm10_avg=28.3, pm25_avg=25.675, post_code='09-304', pressure_avg=985.6, street='UL. JANA PAWŁA II', temperature_avg=9.266666666666667, timestamp='2024-10-13 14:41:48'),\n",
              " Row(city='KRAKÓW-PODGÓRZE', humidity_avg=74.3, latitude='50.043104', longitude='19.917813', name='KATOLICKA SZKOŁA PODSTAWOWA MONTESSORI W KRAKOWIE', pm10_avg=1.9916666666666665, pm25_avg=1.8666666666666665, post_code='30-320', pressure_avg=985.7583333333333, street='UL. KS. STEFANA PAWLICKIEGO', temperature_avg=14.941666666666668, timestamp='2024-10-13 14:41:48'),\n",
              " Row(city='GORZYCE', humidity_avg=60.00833333333333, latitude='50.67218435', longitude='21.83097317', name='SZKOŁA PODSTAWOWA NR 2 IM. JANA PAWŁA II W GORZYCACH', pm10_avg=8.416666666666666, pm25_avg=7.983333333333333, post_code='39-432', pressure_avg=990.7666666666668, street='UL. EDUKACJI NARODOWEJ', temperature_avg=15.233333333333334, timestamp='2024-10-13 14:41:48'),\n",
              " Row(city='NIWKA', humidity_avg=53.824999999999996, latitude='50.056594', longitude='20.853454', name='NIEPUBLICZNA SZKOŁA PODSTAWOWA W NIWCE', pm10_avg=28.133333333333336, pm25_avg=22.891666666666666, post_code='33-130', pressure_avg=986.1416666666668, street=None, temperature_avg=19.233333333333334, timestamp='2024-10-13 14:41:48'),\n",
              " Row(city='CZĘSTOCHOWA', humidity_avg=79.69166666666666, latitude='50.7931394', longitude='19.1485028', name='TECHNIKUM NR 2 W CZĘSTOCHOWIE', pm10_avg=3.391666666666667, pm25_avg=3.3833333333333333, post_code='42-200', pressure_avg=977.1, street='UL. WARSZAWSKA', temperature_avg=10.083333333333334, timestamp='2024-10-13 14:41:48'),\n",
              " Row(city='SZCZYTNA', humidity_avg=59.89, latitude='50.41610314', longitude='16.44633002', name='SZKOŁA PODSTAWOWA IM. ORŁA BIAŁEGO W SZCZYTNEJ', pm10_avg=2.15, pm25_avg=2.12, post_code='57-330', pressure_avg=952.2, street='UL. KOŚCIELNA', temperature_avg=12.98, timestamp='2024-10-13 14:41:48'),\n",
              " Row(city='BIERZWNICA', humidity_avg=88.68333333333334, latitude='53.7221891', longitude='15.9112181', name='PUBLICZNA SZKOŁA PODSTAWOWA W BIERZWNICY', pm10_avg=0.24166666666666667, pm25_avg=0.1416666666666667, post_code='78-324', pressure_avg=984.3000000000001, street=None, temperature_avg=6.833333333333333, timestamp='2024-10-13 14:41:48'),\n",
              " Row(city='KŁODZKO', humidity_avg=60.208333333333336, latitude='50.4373', longitude='16.651149', name='I LICEUM OGÓLNOKSZTAŁCĄCE IM. BOLESŁAWA CHROBREGO W KŁODZKU', pm10_avg=6.05, pm25_avg=5.933333333333334, post_code='57-300', pressure_avg=971.7833333333333, street='UL. WOJSKA POLSKIEGO', temperature_avg=12.775, timestamp='2024-10-13 14:41:48'),\n",
              " Row(city='BIENIOWICE', humidity_avg=60.96666666666667, latitude='51.258614', longitude='16.256564', name='SZKOŁA PODSTAWOWA W BIENIOWICACH', pm10_avg=1.125, pm25_avg=1.0833333333333333, post_code='59-216', pressure_avg=992.8000000000001, street=None, temperature_avg=12.883333333333333, timestamp='2024-10-13 14:41:48'),\n",
              " Row(city='ŻERNIKI WROCŁAWSKIE', humidity_avg=57.93333333333334, latitude='51.0305737', longitude='17.0609105', name='SZKOŁA PODSTAWOWA IM. ŚW. JADWIGI ŚLĄSKIEJ W ŻERNIKACH WROCŁAWSKICH', pm10_avg=1.4666666666666668, pm25_avg=1.3916666666666666, post_code='55-010', pressure_avg=990.3666666666667, street='UL. KOLEJOWA', temperature_avg=13.174999999999999, timestamp='2024-10-13 14:41:48'),\n",
              " Row(city='WĘDRZYN', humidity_avg=70.875, latitude='52.44755351', longitude='15.17882328', name='SZKOŁA PODSTAWOWA IM. ŻOŁNIERZA POLSKIEGO W WĘDRZYNIE', pm10_avg=1.5166666666666666, pm25_avg=1.2916666666666667, post_code='69-211', pressure_avg=988.9333333333334, street=None, temperature_avg=10.858333333333334, timestamp='2024-10-13 14:41:48'),\n",
              " Row(city='WĄPIELSK', humidity_avg=78.66666666666667, latitude='53.1322293', longitude='19.2928961', name='SZKOŁA PODSTAWOWA IM. STANISŁWA STASZICA W WĄPIELSKU', pm10_avg=2.766666666666667, pm25_avg=2.766666666666667, post_code='87-337', pressure_avg=989.525, street=None, temperature_avg=10.191666666666666, timestamp='2024-10-13 14:41:48'),\n",
              " Row(city='BIELAWA', humidity_avg=64.25, latitude='50.6662832', longitude='16.6008348', name='SZKOŁA PODSTAWOWA NR 4 Z ODDZIAŁAMI INTEGRACYJNYMI W BIELAWIE', pm10_avg=0.8500000000000001, pm25_avg=0.8500000000000001, post_code='58-260', pressure_avg=962.2, street='UL. LUDWIKA WARYŃSKIEGO', temperature_avg=10.8, timestamp='2024-10-13 14:41:48'),\n",
              " Row(city='GRODZISZCZE', humidity_avg=52.65833333333333, latitude='50.798212', longitude='16.560664', name='SZKOŁA PODSTAWOWA IM. JANA PAWŁA II W GRODZISZCZU', pm10_avg=2.441666666666667, pm25_avg=2.35, post_code='58-112', pressure_avg=978.0083333333333, street=None, temperature_avg=12.808333333333332, timestamp='2024-10-13 14:41:48'),\n",
              " Row(city='ŚRODA ŚLĄSKA', humidity_avg=59.06666666666666, latitude='51.158652', longitude='16.5994053', name='LICEUM OGÓLNOKSZTAŁCĄCE W ŚRODZIE ŚLĄSKIEJ', pm10_avg=6.641666666666667, pm25_avg=6.4750000000000005, post_code='55-300', pressure_avg=990.3000000000001, street='UL. WROCŁAWSKA', temperature_avg=13.049999999999999, timestamp='2024-10-13 14:41:48'),\n",
              " Row(city='ŁÓDŹ-BAŁUTY', humidity_avg=82.175, latitude='51.7848081', longitude='19.421884', name='BRANŻOWA SZKOŁA I STOPNIA NR 6 W ZESPOLE SZKÓŁ PRZEMYSŁU SPOŻYWCZEGO IM. POWSTAŃCÓW WIELKOPOLSKICH W ŁODZI', pm10_avg=3.0749999999999997, pm25_avg=3.0749999999999997, post_code='91-845', pressure_avg=978.5666666666666, street='UL. FRANCISZKAŃSKA', temperature_avg=9.725, timestamp='2024-10-13 14:41:48'),\n",
              " Row(city='BOCHNIA', humidity_avg=68.08333333333333, latitude='49.966639', longitude='20.416325', name='TECHNIKUM NR 1 W ZESPOLE SZKÓŁ NR 1 IM. STANISŁAWA STASZICA W BOCHNI', pm10_avg=2.775, pm25_avg=2.775, post_code='32-700', pressure_avg=977.5583333333334, street='UL. EDWARDA WINDAKIEWICZA', temperature_avg=15.541666666666666, timestamp='2024-10-13 14:41:48'),\n",
              " Row(city='KOŚCIELEC', humidity_avg=70.64999999999999, latitude='50.2001419', longitude='20.3906858', name='SZKOŁA PODSTAWOWA IM. M. KOPERNIKA W KOŚCIELCU', pm10_avg=4.541666666666667, pm25_avg=3.775, post_code='32-100', pressure_avg=983.525, street=None, temperature_avg=16.375, timestamp='2024-10-13 14:41:48'),\n",
              " Row(city='ŁASZEWO', humidity_avg=89.24444444444445, latitude='52.858682', longitude='20.090492', name='SZKOŁA PODSTAWOWA IM. JANA PAWŁA II W ŁASZEWIE', pm10_avg=11.044444444444444, pm25_avg=10.744444444444445, post_code='09-135', pressure_avg=984.0888888888888, street=None, temperature_avg=9.877777777777778, timestamp='2024-10-13 14:41:48'),\n",
              " Row(city='LIPINY', humidity_avg=82.0, latitude='51.80665653', longitude='19.67220915', name='SZKOŁA PODSTAWOWA IM. MARII KONOPNICKIEJ W LIPINACH', pm10_avg=7.933333333333334, pm25_avg=7.8999999999999995, post_code='92-701', pressure_avg=976.125, street=None, temperature_avg=10.183333333333334, timestamp='2024-10-13 14:41:48'),\n",
              " Row(city='GORLICE', humidity_avg=69.72500000000001, latitude='49.659518', longitude='21.155748', name='I LICEUM OGÓLNOKSZTAŁCĄCE IM. MARCINA KROMERA W GORLICACH', pm10_avg=7.0249999999999995, pm25_avg=5.825, post_code='38-300', pressure_avg=975.4666666666667, street='UL. MARCINA KROMERA', temperature_avg=14.658333333333333, timestamp='2024-10-13 14:41:48'),\n",
              " Row(city='KOBYLANKA', humidity_avg=63.39166666666667, latitude='49.669007', longitude='21.222151', name='SZKOŁA PODSTAWOWA IM. IGNACEGO ŁUKASIEWICZA W KOBYLANCE', pm10_avg=8.408333333333333, pm25_avg=7.875, post_code='38-303', pressure_avg=977.5749999999999, street=None, temperature_avg=13.816666666666668, timestamp='2024-10-13 14:41:48'),\n",
              " Row(city='KORCZYNA', humidity_avg=71.425, latitude='49.702509', longitude='21.255204', name='SZKOŁA PODSTAWOWA IM.ŚWIĘTEJ KINGI W KORCZYNIE', pm10_avg=7.075, pm25_avg=6.4750000000000005, post_code='38-340', pressure_avg=974.1750000000001, street=None, temperature_avg=13.091666666666667, timestamp='2024-10-13 14:41:48'),\n",
              " Row(city='GOŁOTCZYZNA', humidity_avg=81.00833333333334, latitude='52.79264333773238', longitude='20.68880627301113', name='TECHNIKUM W GOŁOTCZYŹNIE', pm10_avg=14.266666666666666, pm25_avg=11.033333333333333, post_code='06-430', pressure_avg=991.6750000000001, street='UL. CIECHANOWSKA', temperature_avg=10.525, timestamp='2024-10-13 14:41:48'),\n",
              " Row(city='RADZIKI DUŻE', humidity_avg=81.10833333333333, latitude='53.1659113', longitude='19.278172', name='SZKOŁA PODSTAWOWA W RADZIKACH DUŻYCH', pm10_avg=3.4416666666666664, pm25_avg=3.4416666666666664, post_code='87-337', pressure_avg=987.2833333333333, street=None, temperature_avg=10.558333333333334, timestamp='2024-10-13 14:41:48'),\n",
              " Row(city='MARKI', humidity_avg=90.2625, latitude='52.31729535665526', longitude='\\t21.103744271164814', name='SZKOŁA PODSTAWOWA NR 2 Z ODDZIAŁAMI INTEGRACYJNYMI IM. ŻOŁNIERZY A.K. II REJONU CELKÓW W MARKACH', pm10_avg=13.9875, pm25_avg=11.3625, post_code='05-270', pressure_avg=995.6625, street='UL. SZKOLNA', temperature_avg=9.0875, timestamp='2024-10-13 14:41:48'),\n",
              " Row(city='ZAWADY', humidity_avg=80.83333333333333, latitude='53.15651651', longitude='22.66793745', name='SZKOŁA PODSTAWOWA IM.ŚW.JANA PAWŁA II W ZAWADACH', pm10_avg=6.033333333333334, pm25_avg=4.983333333333333, post_code='16-075', pressure_avg=994.0333333333333, street='UL. KOŚCIUSZKI', temperature_avg=9.808333333333334, timestamp='2024-10-13 14:41:48'),\n",
              " Row(city='CZECHOWICE-DZIEDZICE', humidity_avg=83.29166666666667, latitude='49.9283149', longitude='19.0071238', name='SZKOŁA PODSTAWOWA NR 2 IM. KRÓLOWEJ JADWIGI W CZECHOWICACH-DZIEDZICACH', pm10_avg=13.575000000000001, pm25_avg=12.666666666666666, post_code='43-502', pressure_avg=976.9, street='UL. WĘGLOWA', temperature_avg=12.975, timestamp='2024-10-13 14:41:48'),\n",
              " Row(city='MOGIELNICA', humidity_avg=85.05, latitude='51.6909326', longitude='20.72027', name='PUBLICZNA SZKOŁA PODSTAWOWA NR 1 Z ODDZIAŁAMI DWUJĘZYCZNYMI W MOGIELNICY', pm10_avg=8.341666666666667, pm25_avg=8.333333333333334, post_code='05-640', pressure_avg=985.9416666666666, street='UL. NOWOMIEJSKA', temperature_avg=11.333333333333334, timestamp='2024-10-13 14:41:48'),\n",
              " Row(city='NOWY WIŚNICZ', humidity_avg=67.41666666666667, latitude='49.911873', longitude='20.464022', name='SZKOŁA PODSTAWOWA IM. STANISŁAWA LUBOMIRSKIEGO W NOWYM WIŚNICZU', pm10_avg=3.9333333333333336, pm25_avg=3.9250000000000003, post_code='32-720', pressure_avg=976.025, street='UL. SZKOLNA', temperature_avg=15.325000000000001, timestamp='2024-10-13 14:41:48'),\n",
              " Row(city='RZESZÓW', humidity_avg=48.96666666666667, latitude='50.04931405', longitude='22.00675633', name='SZKOŁA PODSTAWOWA NR 29 IM. TADEUSZA KOŚCIUSZKI W RZESZOWIE', pm10_avg=3.3249999999999997, pm25_avg=3.3249999999999997, post_code='35-234', pressure_avg=983.0583333333334, street='UL. PARTYZANTÓW', temperature_avg=18.099999999999998, timestamp='2024-10-13 14:41:48'),\n",
              " Row(city='GŁOWACZÓW', humidity_avg=81.29166666666667, latitude='51.6220175', longitude='21.3187284', name='PUBLICZNA SZKOŁA PODSTAWOWA IM.T. KOŚCIUSZKI W GŁOWACZOWIE', pm10_avg=11.683333333333332, pm25_avg=11.633333333333333, post_code='26-903', pressure_avg=989.0500000000001, street='UL. WARECKA', temperature_avg=11.241666666666667, timestamp='2024-10-13 14:41:48'),\n",
              " Row(city='KRAKÓW-PODGÓRZE', humidity_avg=70.425, latitude='50.02147308570759', longitude='19.98983357116481', name='SZKOŁA PODSTAWOWA SPECJALNA NR 150 W KRAKOWIE', pm10_avg=0.7583333333333333, pm25_avg=0.6, post_code='30-820', pressure_avg=984.4666666666667, street='AL. ALEJA ADOLFA DYGASIŃSKIEGO', temperature_avg=14.891666666666666, timestamp='2024-10-13 14:41:48'),\n",
              " Row(city='OROŃSKO', humidity_avg=81.73333333333333, latitude='51.315665', longitude='20.98980054', name='PUBLICZNA SZKOŁA PODSTAWOWA IM. JÓZEFA BRANDTA W OROŃSKU', pm10_avg=8.875, pm25_avg=8.866666666666667, post_code='26-505', pressure_avg=982.0666666666666, street='UL. SZKOLNA', temperature_avg=11.950000000000001, timestamp='2024-10-13 14:41:48'),\n",
              " Row(city='GÓZD', humidity_avg=82.40833333333333, latitude='50.98368833', longitude='20.765636', name='SZKOŁA PODSTAWOWA IM. E. G. KASZYŃSKIEGO \"NURTA\" W GOŹDZIE', pm10_avg=6.925, pm25_avg=6.083333333333333, post_code='26-140', pressure_avg=965.275, street=None, temperature_avg=10.275, timestamp='2024-10-13 14:41:48'),\n",
              " Row(city='KLECZANÓW', humidity_avg=75.625, latitude='50.71737244', longitude='21.57103098', name='PUBLICZNA SZKOŁA PODSTAWOWA IM. BATALIONÓW CHŁOPSKICH W KLECZANOWIE', pm10_avg=3.4333333333333336, pm25_avg=2.975, post_code='27-641', pressure_avg=979.4583333333334, street=None, temperature_avg=13.075000000000001, timestamp='2024-10-13 14:41:48'),\n",
              " Row(city='STAROCHĘCINY', humidity_avg=76.94166666666666, latitude='50.77685204', longitude='20.48081695', name='SZKOŁA PODSTAWOWA W STAROCHĘCINACH', pm10_avg=7.158333333333334, pm25_avg=5.983333333333333, post_code='26-060', pressure_avg=981.4250000000001, street=None, temperature_avg=12.608333333333334, timestamp='2024-10-13 14:41:48'),\n",
              " Row(city='PSZCZYNA', humidity_avg=85.46666666666665, latitude='49.965097', longitude='18.936162', name='SZKOŁA PODSTAWOWA NR 6 IM. KS. JANA TWARDOWSKIEGO W PSZCZYNIE', pm10_avg=4.258333333333334, pm25_avg=4.216666666666667, post_code='43-200', pressure_avg=979.0166666666668, street='UL. KSIĘŻYCOWA', temperature_avg=11.958333333333334, timestamp='2024-10-13 14:41:48'),\n",
              " Row(city='JADAMWOLA', humidity_avg=69.96153846153847, latitude='49.58092142', longitude='20.51122243', name='SZKOŁA PODSTAWOWA IM.KAZIMIERZA PUŁASKIEGO W JADAMWOLI', pm10_avg=2.5, pm25_avg=2.4461538461538463, post_code='34-606', pressure_avg=961.8846153846154, street=None, temperature_avg=15.238461538461538, timestamp='2024-10-13 14:41:48'),\n",
              " Row(city='ŻYRARDÓW', humidity_avg=81.7, latitude='52.05842119', longitude='20.43801027', name='SZKOŁA PODSTAWOWA NR 2 IM. MARII KONOPNICKIEJ W ŻYRARDOWIE', pm10_avg=8.475, pm25_avg=8.450000000000001, post_code='96-300', pressure_avg=988.775, street='UL. GABRIELA NARUTOWICZA', temperature_avg=11.041666666666666, timestamp='2024-10-13 14:41:48'),\n",
              " Row(city='CIECHANÓW', humidity_avg=84.60000000000001, latitude='52.88501004', longitude='20.59878057', name='I LICEUM OGÓLNOKSZTAŁCĄCE IM. ZYGMUNTA KRASIŃSKIEGO W CIECHANOWIE', pm10_avg=20.016666666666666, pm25_avg=15.183333333333332, post_code='06-400', pressure_avg=989.3916666666668, street='UL. 17 STYCZNIA', temperature_avg=9.275, timestamp='2024-10-13 14:41:48'),\n",
              " Row(city='ŁUKOWA', humidity_avg=78.90833333333333, latitude='50.72732867', longitude='20.53811566', name='SZKOŁA PODSTAWOWA W ŁUKOWEJ', pm10_avg=4.983333333333333, pm25_avg=4.0249999999999995, post_code='26-060', pressure_avg=977.0833333333334, street=None, temperature_avg=12.799999999999999, timestamp='2024-10-13 14:41:48'),\n",
              " Row(city='WOLA KORYCKA GÓRNA', humidity_avg=68.33636363636364, latitude='51.73577039586474', longitude='\\t21.754932828835187', name='SZKOŁA PODSTAWOWA W WOLI KORYCKIEJ GÓRNEJ', pm10_avg=5.690909090909091, pm25_avg=5.681818181818182, post_code='08-455', pressure_avg=985.6909090909091, street=None, temperature_avg=12.890909090909092, timestamp='2024-10-13 14:41:48'),\n",
              " Row(city='WOLICA', humidity_avg=82.64999999999999, latitude='50.75410087', longitude='20.47387736', name='SZKOŁA PODSTAWOWA W WOLICY', pm10_avg=4.675, pm25_avg=5.591666666666666, post_code='26-060', pressure_avg=980.6166666666667, street='UL. SZKOLNA', temperature_avg=11.958333333333334, timestamp='2024-10-13 14:41:48'),\n",
              " Row(city='ZBUCZYN', humidity_avg=65.55833333333334, latitude='52.08688669', longitude='22.44061361', name='SZKOŁA PODSTAWOWA IM. JANA PAWŁA II W ZBUCZYNIE', pm10_avg=7.216666666666666, pm25_avg=7.216666666666666, post_code='08-106', pressure_avg=985.125, street='UL. JANA PAWŁA II', temperature_avg=13.333333333333334, timestamp='2024-10-13 14:41:48'),\n",
              " Row(city='STARACHOWICE', humidity_avg=73.95833333333333, latitude='51.05452968', longitude='21.06313317', name='TECHNIKUM NR 2 IM. EUGENIUSZA KWIATKOWSKIEGO W STARACHOWICACH', pm10_avg=8.266666666666667, pm25_avg=6.916666666666667, post_code='27-200', pressure_avg=978.4833333333332, street='UL. 1 MAJA', temperature_avg=12.716666666666667, timestamp='2024-10-13 14:41:48'),\n",
              " Row(city='POLANY', humidity_avg=78.55, latitude='51.919438', longitude='19.145136', name='PUBLICZNA SZKOŁA PODSTAWOWA IM. JANA KOCHANOWSKIEGO W POLANACH', pm10_avg=5.516666666666667, pm25_avg=4.508333333333334, post_code='26-680', pressure_avg=982.8916666666668, street=None, temperature_avg=11.666666666666666, timestamp='2024-10-13 14:41:48'),\n",
              " Row(city='ZBELUTKA-STARA WIEŚ', humidity_avg=74.96666666666667, latitude='50.7310922', longitude='21.0993345', name='SZKOŁA PODSTAWOWA W ZBELUTCE', pm10_avg=6.166666666666667, pm25_avg=5.441666666666666, post_code='26-025', pressure_avg=965.9583333333334, street=None, temperature_avg=11.225, timestamp='2024-10-13 14:41:48'),\n",
              " Row(city='PIERZCHNICA', humidity_avg=71.44, latitude='50.6959636', longitude='20.74729757', name='SZKOŁA PODSTAWOWA IM. STEFANA KARDYNAŁA WYSZYŃSKIEGO W PIERZCHNICY ', pm10_avg=3.9299999999999997, pm25_avg=2.91, post_code='26-015', pressure_avg=975.18, street='UL. KARDYNAŁA STEFANA WYSZYŃSKIEGO', temperature_avg=12.24, timestamp='2024-10-13 14:41:48'),\n",
              " Row(city='BRDÓW', humidity_avg=78.44545454545454, latitude='52.3533225', longitude='18.7293986', name='SZKOŁA PODSTAWOWA W BRDOWIE', pm10_avg=2.4272727272727272, pm25_avg=2.4181818181818184, post_code='62-620', pressure_avg=988.7545454545453, street='UL. MICKIEWICZA', temperature_avg=9.954545454545455, timestamp='2024-10-13 14:41:48'),\n",
              " Row(city='GRODZISK MAZOWIECKI', humidity_avg=88.95, latitude='52.0987683', longitude='20.6192335', name='SZKOŁA PODSTAWOWA Z ODDZIAŁAMI INTEGRACYJNYMI NR 6 IM. SZARYCH SZEREGÓW W GRODZISKU MAZOWIECKIM', pm10_avg=7.066666666666666, pm25_avg=7.058333333333334, post_code='05-825', pressure_avg=991.4, street='UL. SPORTOWA', temperature_avg=10.383333333333333, timestamp='2024-10-13 14:41:48'),\n",
              " Row(city='ŻYRARDÓW', humidity_avg=83.72500000000001, latitude='52.057653', longitude='20.446088', name='SZKOŁA PODSTAWOWA NR 6 IM. ELIZY ORZESZKOWEJ W ŻYRARDOWIE', pm10_avg=8.966666666666667, pm25_avg=8.924999999999999, post_code='96-300', pressure_avg=989.9166666666666, street='UL. JÓZEFA MIRECKIEGO', temperature_avg=11.041666666666666, timestamp='2024-10-13 14:41:48'),\n",
              " Row(city='ŻÓŁWIN', humidity_avg=84.89999999999999, latitude='52.09761779588044', longitude='20.7249857', name='SZKOŁA PODSTAWOWA IM. 11 LISTOPADA W ŻÓŁWINIE', pm10_avg=7.308333333333334, pm25_avg=7.283333333333334, post_code='05-807', pressure_avg=988.7833333333333, street='UL. SZKOLNA', temperature_avg=10.325000000000001, timestamp='2024-10-13 14:41:48'),\n",
              " Row(city='STRONIE', humidity_avg=56.25833333333333, latitude='49.61395897', longitude='20.52389925', name='SZKOŁA PODSTAWOWA IM.ADAMA MICKIEWICZA W STRONIU', pm10_avg=2.433333333333333, pm25_avg=1.8166666666666667, post_code='34-604', pressure_avg=960.0666666666666, street=None, temperature_avg=15.174999999999999, timestamp='2024-10-13 14:41:48'),\n",
              " Row(city='STARY KOCIN', humidity_avg=82.34, latitude='50.9549101', longitude='19.1164555', name='SZKOŁA PODSTAWOWA IM.WOŁYŃSKIEJ BRYGADY KAWALERII W STARYM KOCINIE', pm10_avg=1.32, pm25_avg=1.32, post_code='42-231', pressure_avg=980.68, street='UL. KRĘTA', temperature_avg=9.51, timestamp='2024-10-13 14:41:48'),\n",
              " Row(city='WOLA TACZOWSKA', humidity_avg=82.7, latitude='51.44935931', longitude='21.04512254', name='PUBLICZNA SZKOŁA PODSTAWOWA IM. JANA PAWŁA II W WOLI TACZOWSKIEJ', pm10_avg=9.9, pm25_avg=9.608333333333333, post_code='26-652', pressure_avg=982.4833333333332, street=None, temperature_avg=11.333333333333334, timestamp='2024-10-13 14:41:48'),\n",
              " Row(city='CHOJNÓW', humidity_avg=69.43333333333334, latitude='51.27254', longitude='15.92934', name='SZKOŁA PODSTAWOWA NR 3 IM. MARII KONOPNICKIEJ W CHOJNOWIE', pm10_avg=6.425, pm25_avg=6.0249999999999995, post_code='59-225', pressure_avg=988.8666666666667, street='UL. WŁADYSŁAWA REYMONTA', temperature_avg=10.558333333333334, timestamp='2024-10-13 14:41:48'),\n",
              " Row(city='ŻYRARDÓW', humidity_avg=82.075, latitude='52.0675436', longitude='20.44495564', name='LICEUM OGÓLNOKSZTAŁCĄCE IM. STEFANA ŻEROMSKIEGO W ŻYRARDOWIE', pm10_avg=9.941666666666666, pm25_avg=9.9, post_code='96-300', pressure_avg=991.5916666666667, street='UL. JANINY JADWIGI KACPERSKIEJ', temperature_avg=11.241666666666667, timestamp='2024-10-13 14:41:48'),\n",
              " Row(city='ŚCINAWA POLSKA', humidity_avg=67.5, latitude='50.93346737', longitude='17.33660972', name='SZKOŁA PODSTAWOWA W ŚCINAWIE POLSKIEJ', pm10_avg=1.7249999999999999, pm25_avg=1.5999999999999999, post_code='55-200', pressure_avg=990.3166666666666, street=None, temperature_avg=11.866666666666667, timestamp='2024-10-13 14:41:48'),\n",
              " Row(city='ŚCINAWKA DOLNA', humidity_avg=68.325, latitude='50.4966472', longitude='16.5360171', name='SZKOŁA PODSTAWOWA W ŚCINAWCE DOLNEJ', pm10_avg=4.191666666666666, pm25_avg=3.841666666666667, post_code='57-410', pressure_avg=971.2666666666668, street=None, temperature_avg=12.241666666666667, timestamp='2024-10-13 14:41:48'),\n",
              " Row(city='ŁAPY', humidity_avg=72.20833333333333, latitude='52.98984475', longitude='22.87657971', name='I LICEUM OGÓLNOKSZTAŁCĄCE IM. ADAMA MICKIEWICZA W ŁAPACH', pm10_avg=7.4750000000000005, pm25_avg=7.433333333333334, post_code='18-100', pressure_avg=989.9583333333334, street='UL. BOHATERÓW WESTERPLATTE', temperature_avg=11.183333333333332, timestamp='2024-10-13 14:41:48'),\n",
              " Row(city='WĘGRY', humidity_avg=58.35454545454545, latitude='50.92746209', longitude='17.0374566', name='SZKOŁA PODSTAWOWA W WĘGRACH', pm10_avg=5.281818181818181, pm25_avg=5.072727272727272, post_code='55-020', pressure_avg=989.6818181818181, street='UL. SZKOLNA', temperature_avg=14.118181818181819, timestamp='2024-10-13 14:41:48'),\n",
              " Row(city='WODZISŁAW', humidity_avg=76.05, latitude='50.51810713', longitude='20.18925053', name='SAMORZĄDOWA SZKOŁA PODSTAWOWA IM. WOJSKA POLSKIEGO W WODZISŁAWIU', pm10_avg=5.583333333333333, pm25_avg=4.8500000000000005, post_code='28-330', pressure_avg=980.3083333333334, street='UL. SZKOLNA', temperature_avg=13.383333333333333, timestamp='2024-10-13 14:41:48'),\n",
              " Row(city='JASIENIEC', humidity_avg=85.50833333333333, latitude='51.82104731', longitude='20.94031755', name='TECHNIKUM W JASIEŃCU', pm10_avg=9.908333333333333, pm25_avg=9.875, post_code='05-600', pressure_avg=988.375, street='UL. CZERSKA', temperature_avg=10.833333333333334, timestamp='2024-10-13 14:41:48'),\n",
              " Row(city='GARBATKA-LETNISKO', humidity_avg=84.8, latitude='51.49346798', longitude='21.62967267', name='LICEUM OGÓLNOKSZTAŁCĄCE W ZESPOLE SZKÓŁ DRZEWNYCH I LEŚNYCH IM. JANA KOCHANOWSKIEGO W GARBATCE - LETNISKU', pm10_avg=8.6, pm25_avg=8.6, post_code='26-930', pressure_avg=987.3333333333334, street='UL. HANKI LEWANDOWICZ', temperature_avg=12.466666666666667, timestamp='2024-10-13 14:41:48'),\n",
              " Row(city='SZANIEC', humidity_avg=70.15833333333333, latitude='50.51627384074623', longitude=' 20.691985097588677', name='PUBLICZNA SZKOŁA PODSTAWOWA IM. JANA OLRYCHA SZANIECKIEGO W SZAŃCU', pm10_avg=4.658333333333333, pm25_avg=4.383333333333334, post_code='28-100', pressure_avg=978.6, street=None, temperature_avg=14.283333333333333, timestamp='2024-10-13 14:41:48'),\n",
              " Row(city='ZBORÓW', humidity_avg=70.66666666666667, latitude='50.51339044', longitude='20.711351', name='SZKOŁA PODSTAWOWA W ZBOROWIE', pm10_avg=7.0249999999999995, pm25_avg=7.708333333333333, post_code='28-131', pressure_avg=984.8416666666667, street='UL. ZWIERZYNIEC', temperature_avg=14.633333333333333, timestamp='2024-10-13 14:41:48'),\n",
              " Row(city='ZALESZANY', humidity_avg=54.89166666666667, latitude='50.64803753', longitude='21.88785883', name='PUBLICZNA SZKOŁA PODSTAWOWA IM. POR. JÓZEFA MĄCZKI W ZALESZANACH', pm10_avg=4.066666666666666, pm25_avg=3.608333333333333, post_code='37-415', pressure_avg=991.2833333333333, street='UL. SANDOMIERSKA', temperature_avg=17.491666666666667, timestamp='2024-10-13 14:41:48'),\n",
              " Row(city='SOLEC-ZDRÓJ', humidity_avg=68.89166666666667, latitude='50.37082674', longitude='20.8893586', name='SZKOŁA PODSTAWOWA W SOLCU-ZDROJU', pm10_avg=5.1499999999999995, pm25_avg=5.191666666666666, post_code='28-131', pressure_avg=988.0666666666666, street='UL. 1 MAJA', temperature_avg=14.924999999999999, timestamp='2024-10-13 14:41:48'),\n",
              " Row(city='NOWA SARZYNA', humidity_avg=63.56666666666666, latitude='50.31921557', longitude='22.34167945', name='I LICEUM OGÓLNOKSZTAŁCĄCE W NOWEJ SARZYNIE', pm10_avg=3.9583333333333335, pm25_avg=3.9583333333333335, post_code='37-310', pressure_avg=988.7416666666667, street='UL. KOMISJI EDUKACJI NARODOWEJ', temperature_avg=14.924999999999999, timestamp='2024-10-13 14:41:48'),\n",
              " Row(city='SKRZYDLÓW', humidity_avg=89.74, latitude='50.8624858', longitude='19.3605871', name='SZKOŁA PODSTAWOWA IM. KORNELA MAKUSZYŃSKIEGO W SKRZYDLOWIE', pm10_avg=2.7399999999999998, pm25_avg=2.7199999999999998, post_code='42-270', pressure_avg=978.9200000000001, street='UL. GŁÓWNA', temperature_avg=10.4, timestamp='2024-10-13 14:41:48'),\n",
              " Row(city='SZRENIAWA', humidity_avg=83.10909090909091, latitude='50.3768057', longitude='19.8690283', name='SZKOŁA PODSTAWOWA W SZRENIAWIE', pm10_avg=4.909090909090909, pm25_avg=4.318181818181818, post_code='32-075', pressure_avg=971.0727272727272, street=None, temperature_avg=13.090909090909092, timestamp='2024-10-13 14:41:48'),\n",
              " Row(city='JANOWICE WIELKIE', humidity_avg=60.86666666666667, latitude='50.88188', longitude='15.925671', name='SZKOŁA PODSTAWOWA IM. WANDY RUTKIEWICZ W JANOWICACH WIELKICH', pm10_avg=3.091666666666667, pm25_avg=2.4833333333333334, post_code='58-520', pressure_avg=965.0333333333333, street='UL. PARTYZANTÓW', temperature_avg=10.875, timestamp='2024-10-13 14:41:48'),\n",
              " Row(city='LGOTA MAŁA', humidity_avg=83.18181818181819, latitude='50.984863', longitude='19.339293', name='SZKOŁA PODSTAWOWA IM. HENRYKA DRZAZGI W LGOCIE MAŁEJ W ZESPOLE SZKOLNO-PRZEDSZKOLNYM W LGOCIE MAŁEJ', pm10_avg=8.554545454545455, pm25_avg=7.181818181818182, post_code='42-282', pressure_avg=983.5636363636364, street='UL. SZKOLNA', temperature_avg=10.1, timestamp='2024-10-13 14:41:48'),\n",
              " Row(city='PTASZKÓW', humidity_avg=52.625, latitude='50.7927672', longitude='16.0415642', name='SZKOŁA PODSTAWOWA W PTASZKOWIE', pm10_avg=1.0833333333333333, pm25_avg=1.0833333333333333, post_code='58-400', pressure_avg=954.3833333333333, street=None, temperature_avg=11.75, timestamp='2024-10-13 14:41:48'),\n",
              " Row(city='RUDA', humidity_avg=80.05, latitude='51.19785979', longitude='18.61306827', name='SZKOŁA PODSTAWOWA IM. WINCENTEGO WITOSA W RUDZIE', pm10_avg=1.9166666666666667, pm25_avg=1.575, post_code='98-300', pressure_avg=983.3083333333334, street='UL. DŁUGA', temperature_avg=7.8500000000000005, timestamp='2024-10-13 14:41:48'),\n",
              " Row(city='WŁODOWICE', humidity_avg=68.10833333333333, latitude='50.575772', longitude='16.4776033', name='SZKOŁA PODSTAWOWA IM. ŚW. WOJCIECHA WE WŁODOWICACH', pm10_avg=2.8333333333333335, pm25_avg=2.716666666666667, post_code='57-400', pressure_avg=963.5166666666668, street=None, temperature_avg=11.85, timestamp='2024-10-13 14:41:48'),\n",
              " Row(city='LEWIN KŁODZKI', humidity_avg=68.51666666666667, latitude='50.4056168', longitude='16.2909777', name='PUBLICZNA SZKOŁA PODSTAWOWA W LEWINIE KŁODZKIM', pm10_avg=1.125, pm25_avg=1.1166666666666667, post_code='57-343', pressure_avg=954.1583333333333, street='UL. KOŚCIELNA', temperature_avg=10.766666666666666, timestamp='2024-10-13 14:41:48'),\n",
              " Row(city='ŚWIDNICA', humidity_avg=45.416666666666664, latitude='51.0740481', longitude='16.677532', name='SPOŁECZNA SZKOŁA PODSTAWOWA W ŚWIDNICY', pm10_avg=1.6833333333333333, pm25_avg=1.6500000000000001, post_code='58-100', pressure_avg=981.6, street='UL. ADAMA MICKIEWICZA', temperature_avg=13.916666666666666, timestamp='2024-10-13 14:41:48'),\n",
              " Row(city='KRZESZÓW', humidity_avg=50.85, latitude='50.7333391', longitude='16.0646514', name='SZKOŁA PODSTAWOWA W KRZESZOWIE', pm10_avg=1.3, pm25_avg=1.3, post_code='58-400', pressure_avg=951.7416666666667, street='UL. BETLEJEMSKA', temperature_avg=11.125, timestamp='2024-10-13 14:41:48'),\n",
              " Row(city='MOKRZESZÓW', humidity_avg=55.09166666666667, latitude='50.8485349', longitude='16.371249', name='SZKOŁA PODSTAWOWA W MOKRZESZOWIE', pm10_avg=1.425, pm25_avg=1.4000000000000001, post_code='58-160', pressure_avg=971.2166666666667, street=None, temperature_avg=12.016666666666667, timestamp='2024-10-13 14:41:48'),\n",
              " Row(city='PĘGÓW', humidity_avg=52.39166666666667, latitude='51.2463277', longitude='16.9325607', name='SZKOŁA PODSTAWOWA IM. ADAMA MICKIEWICZA W PĘGOWIE', pm10_avg=1.3666666666666665, pm25_avg=1.2, post_code='55-120', pressure_avg=989.7083333333334, street='UL. GŁÓWNA', temperature_avg=16.066666666666666, timestamp='2024-10-13 14:41:48'),\n",
              " Row(city='BOLKÓW', humidity_avg=58.083333333333336, latitude='50.92060569', longitude='16.1055099', name='TECHNIKUM W BOLKOWIE', pm10_avg=2.1, pm25_avg=2.1, post_code='59-420', pressure_avg=967.1, street='UL. NIEPODLEGŁOŚCI', temperature_avg=11.549999999999999, timestamp='2024-10-13 14:41:48'),\n",
              " Row(city='ŚWIĘTA KATARZYNA', humidity_avg=53.51666666666667, latitude='51.0249803', longitude='17.1137922', name='PUBLICZNA SZKOŁA PODSTAWOWA IM. STEFANA KARDYNAŁA WYSZYŃSKIEGO PRYMASA TYSIĄCLECIA W ŚWIĘTEJ KATARZYNIE', pm10_avg=1.3416666666666668, pm25_avg=1.2083333333333333, post_code='55-010', pressure_avg=990.875, street='UL. GŁÓWNA', temperature_avg=14.424999999999999, timestamp='2024-10-13 14:41:48'),\n",
              " Row(city='PÓŁWIESK MAŁY', humidity_avg=83.06666666666666, latitude='53.1414488', longitude='19.2209039', name='SZKOŁA PODSTAWOWA W PÓŁWIESKU MAŁYM', pm10_avg=2.8166666666666664, pm25_avg=2.8166666666666664, post_code='87-337', pressure_avg=985.9333333333334, street=None, temperature_avg=10.125, timestamp='2024-10-13 14:41:48'),\n",
              " Row(city='TORUŃ', humidity_avg=81.61666666666666, latitude='53.0272793', longitude='18.6208871', name='TECHNIKUM NR 9 W TORUNIU', pm10_avg=1.2166666666666666, pm25_avg=0.9916666666666667, post_code='87-100', pressure_avg=995.5416666666666, street='UL. STEFANA BATOREGO', temperature_avg=10.025, timestamp='2024-10-13 14:41:48'),\n",
              " Row(city='RACŁAWICZKI', humidity_avg=80.31666666666666, latitude='50.4791824', longitude='17.7792949', name='SZKOŁA PODSTAWOWA W RACŁAWICZKACH', pm10_avg=3.266666666666667, pm25_avg=3.0083333333333333, post_code='47-370', pressure_avg=988.6, street='UL. SZKOLNA', temperature_avg=9.008333333333333, timestamp='2024-10-13 14:41:48'),\n",
              " Row(city='KOMORNIKI', humidity_avg=80.39, latitude='50.433498', longitude='17.900609', name='SZKOŁA PODSTAWOWA W KOMORNIKACH', pm10_avg=4.8, pm25_avg=4.3100000000000005, post_code='47-364', pressure_avg=989.36, street='UL. SZKOLNA', temperature_avg=8.58, timestamp='2024-10-13 14:41:48'),\n",
              " Row(city='GLIWICE', humidity_avg=75.19166666666666, latitude='50.3080285', longitude='18.6782411', name='TECHNIKUM NR 3 W GLIWICACH', pm10_avg=2.8833333333333333, pm25_avg=2.875, post_code='44-100', pressure_avg=978.2666666666668, street='UL. WARSZAWSKA', temperature_avg=11.733333333333334, timestamp='2024-10-13 14:41:48'),\n",
              " Row(city='WOLBROM', humidity_avg=78.91666666666667, latitude='50.3732498', longitude='19.7712922', name='SZKOŁA PODSTAWOWA NR 2 W WOLBROMIU', pm10_avg=9.958333333333334, pm25_avg=9.466666666666667, post_code='32-340', pressure_avg=959.6166666666667, street='UL. POD LASEM', temperature_avg=13.0, timestamp='2024-10-13 14:41:48'),\n",
              " Row(city='CZĘSTOCHOWA', humidity_avg=87.03333333333335, latitude='50.8231186', longitude='19.1202991', name='SZKOŁA PODSTAWOWA NR 1 IM. ZDOBYWCÓW PRZESTWORZY W CZĘSTOCHOWIE', pm10_avg=3.016666666666667, pm25_avg=2.408333333333333, post_code='42-202', pressure_avg=978.1583333333333, street='UL. KSIĘŻYCOWA', temperature_avg=9.066666666666666, timestamp='2024-10-13 14:41:48'),\n",
              " Row(city='OSTROŁĘKA', humidity_avg=82.625, latitude='53.0888402', longitude='21.5825833', name='SZKOŁA PODSTAWOWA NR 2 IM. STANISŁAWA STASZICA W OSTROŁĘCE', pm10_avg=11.016666666666666, pm25_avg=10.174999999999999, post_code='07-410', pressure_avg=992.6333333333333, street='UL. PAPIERNICZA', temperature_avg=9.15, timestamp='2024-10-13 14:41:48'),\n",
              " Row(city='KRAKÓW-KROWODRZA', humidity_avg=74.31666666666666, latitude='50.1069438', longitude='19.9056364', name='SZKOŁA PODSTAWOWA NR 67 IM. WŁADYSŁAWA ŁOKIETKA W KRAKOWIE', pm10_avg=2.7916666666666665, pm25_avg=2.6166666666666667, post_code='31-264', pressure_avg=983.5916666666667, street='UL. KACZORÓWKA', temperature_avg=14.25, timestamp='2024-10-13 14:41:48'),\n",
              " Row(city='CZĘSTOCHOWA', humidity_avg=80.10833333333333, latitude='50.8125266', longitude='19.1090584', name='IV LICEUM OGÓLNOKSZTAŁCĄCE IM. HENRYKA SIENKIEWICZA W CZĘSTOCHOWIE', pm10_avg=3.158333333333333, pm25_avg=3.141666666666667, post_code='42-217', pressure_avg=975.2333333333332, street='AL. ALEJA NAJŚWIĘTSZEJ MARYI PANNY', temperature_avg=9.883333333333333, timestamp='2024-10-13 14:41:48'),\n",
              " Row(city='KRAKÓW-KROWODRZA', humidity_avg=83.53333333333333, latitude='50.0953292', longitude='19.9043827', name='PUBLICZNA KATOLICKA SZKOŁA PODSTAWOWA IM. ŚW. JOANNY BERETTY MOLLI W KRAKOWIE', pm10_avg=2.4, pm25_avg=2.1666666666666665, post_code='31-349', pressure_avg=982.6750000000001, street='UL. STELMACHÓW', temperature_avg=14.025, timestamp='2024-10-13 14:41:48'),\n",
              " Row(city='CZĘSTOCHOWA', humidity_avg=82.95833333333333, latitude='50.7990464', longitude='19.1097087', name='SZKOŁA PODSTAWOWA NR 33 IM. M. KOWNACKIEJ W CZĘSTOCHOWIE', pm10_avg=3.525, pm25_avg=3.4916666666666667, post_code='42-217', pressure_avg=976.4, street='UL. SEWERYNA GOSZCZYŃSKIEGO', temperature_avg=10.200000000000001, timestamp='2024-10-13 14:41:48'),\n",
              " Row(city='CZARNY LAS', humidity_avg=84.02727272727272, latitude='50.8928973', longitude='19.0845102', name='SZKOŁA PODSTAWOWA IM.JANA KOCHANOWSKIEGO W CZARNYM LESIE', pm10_avg=1.4000000000000001, pm25_avg=1.3363636363636364, post_code='42-233', pressure_avg=981.6636363636363, street='UL. SZKOLNA', temperature_avg=8.700000000000001, timestamp='2024-10-13 14:41:48'),\n",
              " Row(city='CZĘSTOCHOWA', humidity_avg=88.29166666666667, latitude='50.7703289', longitude='19.146175', name='SZKOŁA PODSTAWOWA NR 49 IM. J.KUSOCIŃSKIEGO W CZĘSTOCHOWIE', pm10_avg=2.966666666666667, pm25_avg=2.433333333333333, post_code='42-208', pressure_avg=974.9166666666666, street='UL. JESIENNA', temperature_avg=9.116666666666667, timestamp='2024-10-13 14:41:48'),\n",
              " Row(city='SEWERYNÓW', humidity_avg=77.95714285714287, latitude='52.4131115', longitude='21.7538805', name='SZKOŁA PODSTAWOWA W SEWERYNOWIE', pm10_avg=6.571428571428571, pm25_avg=6.571428571428571, post_code='07-120', pressure_avg=987.6142857142858, street=None, temperature_avg=11.342857142857143, timestamp='2024-10-13 14:41:48'),\n",
              " Row(city='CZĘSTOCHOWA', humidity_avg=80.74166666666666, latitude='50.7849477', longitude='19.1346511', name='SZKOŁA PODSTAWOWA NR 36 IM. POLSKICH OLIMPIJCZYKÓW W CZĘSTOCHOWIE', pm10_avg=4.4750000000000005, pm25_avg=4.433333333333334, post_code='42-216', pressure_avg=975.5833333333334, street='UL. KASZTANOWA', temperature_avg=10.191666666666666, timestamp='2024-10-13 14:41:48'),\n",
              " Row(city='BOGUCHWAŁA', humidity_avg=57.527272727272724, latitude='49.9849727', longitude='21.9468603', name='SZKOŁA PODSTAWOWA IM. GEN.STANISŁAWA MACZKA W BOGUCHWALE', pm10_avg=6.5181818181818185, pm25_avg=5.536363636363636, post_code='36-040', pressure_avg=984.6818181818181, street='UL. TEODORA LUBOMIRSKIEGO', temperature_avg=15.390909090909092, timestamp='2024-10-13 14:41:48'),\n",
              " Row(city='BURZYN', humidity_avg=62.80833333333334, latitude='49.8737482', longitude='21.0614367', name='SZKOŁA PODSTAWOWA IM. PROF. JANA SAJDAKA W BURZYNIE', pm10_avg=3.4916666666666667, pm25_avg=3.1333333333333333, post_code='33-170', pressure_avg=982.7916666666666, street=None, temperature_avg=15.816666666666668, timestamp='2024-10-13 14:41:48'),\n",
              " Row(city='DĄBRÓWKA TUCHOWSKA', humidity_avg=67.0, latitude='49.8733226', longitude='21.0449769', name='SZKOŁA PODSTAWOWA IM. KORNELA MAKUSZYŃSKIEGO W DĄBRÓWCE TUCHOWSKIEJ', pm10_avg=5.7, pm25_avg=5.583333333333333, post_code='33-170', pressure_avg=983.5583333333334, street=None, temperature_avg=15.758333333333333, timestamp='2024-10-13 14:41:48'),\n",
              " Row(city='CIEPIELÓW', humidity_avg=75.59166666666667, latitude='51.2346803', longitude='21.5252738', name='PUBLICZNA SZKOŁA PODSTAWOWA IM.DR.M.PAPUZIŃSKIEGO W CIEPIELOWIE', pm10_avg=5.966666666666666, pm25_avg=5.966666666666666, post_code='27-310', pressure_avg=988.1833333333334, street='UL. LEKARSKA', temperature_avg=13.25, timestamp='2024-10-13 14:41:48'),\n",
              " Row(city='BĄKOWA', humidity_avg=78.05, latitude='51.209968', longitude='21.462254', name='PUBLICZNA SZKOŁA PODSTAWOWA W BĄKOWEJ', pm10_avg=5.6499999999999995, pm25_avg=5.6499999999999995, post_code='27-310', pressure_avg=984.975, street=None, temperature_avg=12.258333333333333, timestamp='2024-10-13 14:41:48'),\n",
              " Row(city='PRZASNYSZ', humidity_avg=96.55, latitude='53.01786487865621', longitude='20.870424368871873\\t', name='BRANŻOWA SZKOŁA I STOPNIA W PRZASNYSZU', pm10_avg=10.475, pm25_avg=10.733333333333334, post_code='06-300', pressure_avg=991.3583333333332, street='UL. MAZOWIECKA', temperature_avg=8.633333333333333, timestamp='2024-10-13 14:41:48'),\n",
              " Row(city='PRZASNYSZ', humidity_avg=84.94444444444444, latitude='53.015665079411164', longitude='20.879801542327236', name='TECHNIKUM W ZESPOLE SZKÓŁ POWIATOWYCH IM. MJRA HENRYKA SUCHARSKIEGO W PRZASNYSZU', pm10_avg=9.88888888888889, pm25_avg=8.633333333333333, post_code='06-300', pressure_avg=990.3666666666666, street='UL. MAZOWIECKA', temperature_avg=9.444444444444445, timestamp='2024-10-13 14:41:48'),\n",
              " Row(city='PŁONIAWY-BRAMURA', humidity_avg=79.8, latitude='52.9808233', longitude='21.0594289', name='PUBLICZNA SZKOŁA PODSTAWOWA IM.ARKADIUSZA GOŁASIA W PŁONIAWACH-BRAMURZE', pm10_avg=7.8, pm25_avg=5.6, post_code='06-210', pressure_avg=993.1, street=None, temperature_avg=9.6, timestamp='2024-10-13 14:41:48'),\n",
              " Row(city='ŻARNOWIEC', humidity_avg=75.40833333333333, latitude='50.4785469', longitude='19.8627098', name='TECHIKUM IM. JANA PAWŁA II W ŻARNOWCU', pm10_avg=9.991666666666667, pm25_avg=10.183333333333334, post_code='42-439', pressure_avg=975.4916666666667, street='UL. KRAKOWSKA', temperature_avg=13.558333333333332, timestamp='2024-10-13 14:41:48'),\n",
              " Row(city='CHMIELNIK', humidity_avg=73.7, latitude='49.967673', longitude='22.153376', name='SZKOŁA PODSTAWOWA NR 3 IM. ŚW. MAKSYMILIANA MARII KOLBEGO W CHMIELNIKU', pm10_avg=2.9699999999999998, pm25_avg=2.37, post_code='36-016', pressure_avg=982.8399999999999, street=None, temperature_avg=15.3, timestamp='2024-10-13 14:41:48'),\n",
              " Row(city='PANIÓWKI', humidity_avg=78.46666666666667, latitude='50.2326931', longitude='18.7807475', name='SZKOŁA PODSTAWOWA Z ODDZIAŁAMI INTEGRACYJNYMI IM. JANA PAWŁA II W PANIÓWKACH', pm10_avg=8.816666666666666, pm25_avg=7.825, post_code='44-177', pressure_avg=981.3583333333332, street='UL. ZWYCIĘSTWA', temperature_avg=12.383333333333333, timestamp='2024-10-13 14:41:48'),\n",
              " Row(city='CHUDÓW', humidity_avg=78.8, latitude='50.2106591', longitude='18.7790318', name='SZKOŁA PODSTAWOWA IM. WITOLDA BUDRYKA W CHUDOWIE', pm10_avg=8.549999999999999, pm25_avg=8.533333333333333, post_code='44-177', pressure_avg=977.5749999999999, street='UL. SZKOLNA', temperature_avg=12.875, timestamp='2024-10-13 14:41:48'),\n",
              " Row(city='MIKOŁÓW', humidity_avg=86.3, latitude='50.1842309', longitude='18.79996', name='SZKOŁA PODSTAWOWA NR 12 IM. JÓZEFA JANIKA W MIKOŁOWIE', pm10_avg=15.200000000000001, pm25_avg=12.875, post_code='43-196', pressure_avg=973.7833333333333, street='UL. SZKOLNA', temperature_avg=11.65, timestamp='2024-10-13 14:41:48'),\n",
              " Row(city='WYKOWO', humidity_avg=83.9, latitude='52.477367', longitude='19.8469519', name='SZKOŁA PODSTAWOWA IM. ORŁA BIAŁEGO W WYKOWIE', pm10_avg=6.425000000000001, pm25_avg=5.45, post_code='18-500', pressure_avg=992.35, street=None, temperature_avg=9.258333333333333, timestamp='2024-10-13 14:41:48'),\n",
              " Row(city='KAMIEŃ', humidity_avg=66.40833333333333, latitude='50.34420441', longitude='22.13142067', name='SZKOŁA PODSTAWOWA IM. ŚW. JADWIGI KRÓLOWEJ W KAMIENIU PRUSINIE', pm10_avg=4.141666666666667, pm25_avg=3.6999999999999997, post_code='36-053', pressure_avg=986.0916666666667, street=None, temperature_avg=16.599999999999998, timestamp='2024-10-13 14:41:48'),\n",
              " Row(city='ŁOCHÓW', humidity_avg=84.77499999999999, latitude='52.5307', longitude='21.68182', name='SZKOŁA PODSTAWOWA NR 3 IM. MARII KONOPNICKIEJ W ŁOCHOWIE', pm10_avg=15.591666666666667, pm25_avg=13.033333333333333, post_code='07-130', pressure_avg=993.3666666666667, street='UL. 1 MAJA', temperature_avg=9.883333333333333, timestamp='2024-10-13 14:41:48'),\n",
              " Row(city='STOK LACKI', humidity_avg=66.88181818181819, latitude='52.16135264', longitude='22.35006721', name='SZKOŁA PODSTAWOWA W ZESPOLE OŚWIATOWYM IM. JANA PAWŁA II W STOKU LACKIM ', pm10_avg=6.145454545454545, pm25_avg=6.145454545454545, post_code='08-110', pressure_avg=984.9636363636364, street='UL. SIEDLECKA', temperature_avg=13.29090909090909, timestamp='2024-10-13 14:41:48'),\n",
              " Row(city='ANDRZEJEWO', humidity_avg=82.59166666666667, latitude='52.82792464', longitude='22.19398993', name='SZKOŁA PODSTAWOWA IM. 18 DYWIZJI PIECHOTY ZIEMI ŁOMŻYŃSKIEJ W ANDRZEJEWIE', pm10_avg=11.033333333333333, pm25_avg=11.033333333333333, post_code='07-305', pressure_avg=988.375, street='UL. WARSZAWSKA', temperature_avg=10.174999999999999, timestamp='2024-10-13 14:41:48'),\n",
              " Row(city='RZESZÓW', humidity_avg=54.666666666666664, latitude='50.02719923', longitude='21.98647117', name='TECHNIKUM NR 8 W RZESZOWIE', pm10_avg=3.4416666666666664, pm25_avg=3.4416666666666664, post_code='35-021', pressure_avg=985.7083333333334, street='UL. WINCENTEGO POLA', temperature_avg=16.724999999999998, timestamp='2024-10-13 14:41:48'),\n",
              " Row(city='ŚWIDNIK', humidity_avg=62.949999999999996, latitude='49.5933178', longitude='20.5329659', name='SZKOŁA PODSTAWOWA IM.JANA KOCHANOWSKIEGO W ŚWIDNIKU', pm10_avg=3.975, pm25_avg=3.841666666666667, post_code='34-606', pressure_avg=967.6999999999999, street=None, temperature_avg=15.9, timestamp='2024-10-13 14:41:48'),\n",
              " Row(city='ULATOWO-ADAMY', humidity_avg=77.84166666666667, latitude='53.1650883', longitude='20.9328136', name='SZKOŁA PODSTAWOWA W ULATOWIE-ADAMACH', pm10_avg=9.450000000000001, pm25_avg=8.891666666666667, post_code='06-316', pressure_avg=990.2416666666667, street=None, temperature_avg=11.666666666666666, timestamp='2024-10-13 14:41:48'),\n",
              " Row(city='MORAWIN', humidity_avg=83.7, latitude='51.8468836', longitude='18.2726861', name='SZKOŁA PODSTAWOWA W MORAWINIE', pm10_avg=4.45, pm25_avg=3.775, post_code='62-834', pressure_avg=992.1999999999999, street=None, temperature_avg=9.941666666666666, timestamp='2024-10-13 14:41:48'),\n",
              " Row(city='JAKSICE', humidity_avg=81.24166666666666, latitude='50.322967', longitude='20.010296', name='SZKOŁA PODSTAWOWA IM. ADAMA MICKIEWICZA W JAKSICACH', pm10_avg=4.175, pm25_avg=3.6833333333333336, post_code='32-200', pressure_avg=977.975, street=None, temperature_avg=13.325000000000001, timestamp='2024-10-13 14:41:48'),\n",
              " Row(city='HERMANOWA', humidity_avg=61.85833333333333, latitude='49.9417235', longitude='22.0188654', name='SZKOŁA PODSTAWOWA IM. ŚW. KRÓLOWEJ JADWIGI W HERMANOWEJ', pm10_avg=5.391666666666667, pm25_avg=4.875, post_code='36-020', pressure_avg=981.4583333333334, street=None, temperature_avg=15.766666666666667, timestamp='2024-10-13 14:41:48'),\n",
              " Row(city='ŁĄKTA DOLNA', humidity_avg=55.44166666666666, latitude='49.8388069', longitude='20.399763', name='PUBLICZNA SZKOŁA PODSTAWOWA IM. ŚW. KINGI W ŁĄKCIE DOLNEJ ', pm10_avg=2.4499999999999997, pm25_avg=2.4499999999999997, post_code='32-733', pressure_avg=975.9666666666667, street=None, temperature_avg=16.291666666666668, timestamp='2024-10-13 14:41:48'),\n",
              " Row(city='BICZYCE DOLNE', humidity_avg=68.78333333333333, latitude='49.6312294', longitude='20.6443899', name='SZKOŁA PODSTAWOWA IM. S. CZESŁAWY LOREK W BICZYCACH DOLNYCH', pm10_avg=8.316666666666666, pm25_avg=8.924999999999999, post_code='33-395', pressure_avg=976.1916666666666, street=None, temperature_avg=16.416666666666668, timestamp='2024-10-13 14:41:48'),\n",
              " Row(city='NOWY SĄCZ', humidity_avg=56.80833333333334, latitude='49.62662433', longitude='20.69132733', name='OGÓLNOKSZTAŁCĄCE LICEUM AKADEMICKIE JEZUITÓW W NOWYM SĄCZU', pm10_avg=6.5249999999999995, pm25_avg=5.866666666666667, post_code='33-300', pressure_avg=974.7833333333333, street='UL. PIOTRA SKARGI', temperature_avg=16.283333333333335, timestamp='2024-10-13 14:41:48'),\n",
              " Row(city='NOWY SĄCZ', humidity_avg=55.627272727272725, latitude='49.62622093', longitude='20.69270978', name='TECHNIKUM NR 4 W NOWYM SĄCZU', pm10_avg=7.681818181818182, pm25_avg=7.081818181818182, post_code='33-300', pressure_avg=974.7818181818183, street='UL. ŚW. DUCHA', temperature_avg=16.418181818181818, timestamp='2024-10-13 14:41:48'),\n",
              " Row(city='STARY LUBOTYŃ', humidity_avg=80.63333333333334, latitude='52.932735', longitude='21.9359049', name='SZKOŁA PODSTAWOWA IM. JANA PAWŁA II - PAPIEŻA POLAKA W STARYM LUBOTYNIU', pm10_avg=6.233333333333333, pm25_avg=6.233333333333333, post_code='07-303', pressure_avg=988.7416666666667, street=None, temperature_avg=10.008333333333333, timestamp='2024-10-13 14:41:48'),\n",
              " Row(city='ŁAZISKA GÓRNE', humidity_avg=84.56666666666666, latitude='50.1362116', longitude='18.8703811', name='SZKOŁA PODSTAWOWA NR 6 Z ODDZIAŁAMI INTEGRACYJNYMI IM. JANA PAWŁA II W ŁAZISKACH GÓRNYCH', pm10_avg=5.95, pm25_avg=5.891666666666667, post_code='43-173', pressure_avg=972.2166666666667, street='UL. WYRSKA', temperature_avg=12.275, timestamp='2024-10-13 14:41:48'),\n",
              " Row(city='NOWY SĄCZ', humidity_avg=69.09166666666667, latitude='49.62567283', longitude='20.6900064', name='TECHNIKUM DLA MŁODZIEŻY TEB EDUKACJA W NOWYM SĄCZU', pm10_avg=4.233333333333333, pm25_avg=3.8249999999999997, post_code='33-300', pressure_avg=975.7333333333332, street='UL. RYNEK', temperature_avg=16.308333333333334, timestamp='2024-10-13 14:41:48'),\n",
              " Row(city='NOWY SĄCZ', humidity_avg=59.975, latitude='49.613478', longitude='20.707689', name='BRANŻOWA SZKOŁA I STOPNIA NR 2 W NOWYM SĄCZU', pm10_avg=3.8833333333333333, pm25_avg=3.4916666666666667, post_code='33-300', pressure_avg=973.9333333333334, street='UL. KRÓLOWEJ JADWIGI', temperature_avg=15.875, timestamp='2024-10-13 14:41:48'),\n",
              " Row(city='JANUSZOWA', humidity_avg=53.416666666666664, latitude='49.6480989', longitude='20.7262059', name='SZKOŁA PODSTAWOWA W JANUSZOWEJ', pm10_avg=4.283333333333333, pm25_avg=4.333333333333333, post_code='33-300', pressure_avg=962.65, street=None, temperature_avg=14.791666666666666, timestamp='2024-10-13 14:41:48'),\n",
              " Row(city='WOLBROM', humidity_avg=83.90833333333333, latitude='50.37939', longitude='19.7584', name='SZKOŁA PODSTAWOWA NR 1 W WOLBROMIU', pm10_avg=9.475, pm25_avg=9.308333333333334, post_code='32-340', pressure_avg=963.1083333333332, street='UL. MARIACKA', temperature_avg=12.616666666666667, timestamp='2024-10-13 14:41:48'),\n",
              " Row(city='SZCZEPANKOWO', humidity_avg=84.7, latitude='53.12016423529404', longitude='21.94948922362341', name='SZKOŁA PODSTAWOWA W SZCZEPANKOWIE', pm10_avg=10.299999999999999, pm25_avg=10.258333333333333, post_code='18-411', pressure_avg=989.2166666666667, street=None, temperature_avg=9.341666666666667, timestamp='2024-10-13 14:41:48'),\n",
              " Row(city='CZĘSTOCHOWA', humidity_avg=80.95, latitude='50.8367999', longitude='19.161529', name='SZKOŁA PODSTAWOWA NR 21 IM. KS. STANISŁAWA KONARSKIEGO W CZĘSTOCHOWIE', pm10_avg=7.233333333333333, pm25_avg=7.133333333333333, post_code='42-202', pressure_avg=976.8249999999999, street='UL. SABINOWSKA', temperature_avg=10.041666666666666, timestamp='2024-10-13 14:41:48'),\n",
              " Row(city='RĘDZINY', humidity_avg=82.45, latitude='50.857508', longitude='19.2114785', name='SZKOŁA PODSTAWOWA IM. K. PUŁASKIGO W RĘDZINACH OSIEDLU', pm10_avg=3.5, pm25_avg=3.47, post_code='42-242', pressure_avg=974.1, street='UL. DZIAŁKOWICZÓW', temperature_avg=10.72, timestamp='2024-10-13 14:41:48'),\n",
              " Row(city='WIERZCHOWISKO', humidity_avg=81.90833333333333, latitude='50.87314', longitude='19.1315281', name='SZKOŁA PODSTAWOWA IM.TADEUSZA KOŚCIUSZKI W WIERZCHOWISKU', pm10_avg=2.65, pm25_avg=2.6416666666666666, post_code='42-233', pressure_avg=977.9666666666667, street='UL. DŁUGA', temperature_avg=9.866666666666667, timestamp='2024-10-13 14:41:48'),\n",
              " Row(city='GLIWICE', humidity_avg=90.45, latitude='50.2768393', longitude='18.6691473', name='SZKOŁA PODSTAWOWA NR 16 W GLIWICACH', pm10_avg=2.475, pm25_avg=2.475, post_code='44-122', pressure_avg=978.45, street='UL. JANA KILIŃSKIEGO', temperature_avg=12.3, timestamp='2024-10-13 14:41:48'),\n",
              " Row(city='ZDROCHEC', humidity_avg=65.54285714285714, latitude='50.1390234', longitude='20.8284982', name='NIEPUBLICZNA SZKOŁA PODSTAWOWA W ZDROCHCU', pm10_avg=7.128571428571428, pm25_avg=6.457142857142857, post_code='33-273', pressure_avg=986.0428571428572, street=None, temperature_avg=16.82857142857143, timestamp='2024-10-13 14:41:48'),\n",
              " Row(city='PIECNIK', humidity_avg=75.5, latitude='53.3424311', longitude='16.2532907', name='SZKOŁA PODSTAWOWA W PIECNIKU', pm10_avg=0.225, pm25_avg=0.075, post_code='78-650', pressure_avg=986.5749999999999, street=None, temperature_avg=10.508333333333333, timestamp='2024-10-13 14:41:48'),\n",
              " Row(city='PIŁA', humidity_avg=78.05833333333334, latitude='53.1509671', longitude='16.7382266', name='TECHNIKUM NR 5 W PILE', pm10_avg=1.6583333333333332, pm25_avg=1.55, post_code='64-920', pressure_avg=992.6416666666668, street='UL. GEN. SIKORSKIEGO', temperature_avg=9.333333333333334, timestamp='2024-10-13 14:41:48'),\n",
              " Row(city='BIELAWA', humidity_avg=54.48333333333333, latitude='50.691456', longitude='16.623803', name='TECHNIKUM W BIELAWIE - ZESPÓŁ SZKÓŁ I PLACÓWEK KSZTAŁCENIA ZAWODOWEGO W BIELAWIE', pm10_avg=3.8166666666666664, pm25_avg=3.7083333333333335, post_code='58-260', pressure_avg=971.1999999999999, street='UL. STEFANA ŻEROMSKIEGO', temperature_avg=13.258333333333333, timestamp='2024-10-13 14:41:48'),\n",
              " Row(city='BOLESŁAWIEC', humidity_avg=84.35833333333333, latitude='51.263908', longitude='15.558936', name='TECHNIKUM NR 1 W BOLESŁAWCU', pm10_avg=4.441666666666666, pm25_avg=3.808333333333333, post_code='59-700', pressure_avg=988.2083333333334, street='UL. GÓRNE MŁYNY', temperature_avg=8.166666666666666, timestamp='2024-10-13 14:41:48'),\n",
              " Row(city='BOLESŁAWIEC', humidity_avg=77.875, latitude='51.261139', longitude='15.591082', name='TECHNIKUM NR 2 W BOLESŁAWCU', pm10_avg=1.8333333333333333, pm25_avg=1.7666666666666666, post_code='59-700', pressure_avg=980.85, street='AL. TYSIĄCLECIA', temperature_avg=8.683333333333334, timestamp='2024-10-13 14:41:48'),\n",
              " Row(city='KOSTOMŁOTY', humidity_avg=49.77272727272727, latitude='51.0436096', longitude='16.6157528', name='SZKOŁA PODSTAWOWA IM.MARII KONOPNICKIEJ W KOSTOMŁOTACH', pm10_avg=10.472727272727273, pm25_avg=10.336363636363636, post_code='55-311', pressure_avg=986.0181818181819, street='UL. WROCŁAWSKA', temperature_avg=15.372727272727273, timestamp='2024-10-13 14:41:48'),\n",
              " Row(city='CHOJNÓW', humidity_avg=64.2, latitude='51.272209', longitude='15.935802', name='TECHNIKUM W POWIATOWYM ZESPOLE SZKÓŁ W CHOJNOWIE', pm10_avg=4.0, pm25_avg=3.8, post_code='59-225', pressure_avg=988.1, street='UL. WINCENTEGO WITOSA', temperature_avg=12.85, timestamp='2024-10-13 14:41:48'),\n",
              " Row(city='ORZESZE', humidity_avg=83.5, latitude='50.14921', longitude='18.779395', name='SZKOŁA PODSTAWOWA NR 2 IM. STANISŁAWA MONIUSZKI W ORZESZU', pm10_avg=7.666666666666667, pm25_avg=7.625, post_code='43-180', pressure_avg=970.8083333333334, street='UL. BUKOWINA', temperature_avg=12.274999999999999, timestamp='2024-10-13 14:41:48'),\n",
              " Row(city='BOROWIE', humidity_avg=65.825, latitude='51.9488003', longitude='21.7676799', name='SZKOŁA PODSTAWOWA IM. A.SASIMOWSKIEGO W BOROWIU', pm10_avg=6.191666666666666, pm25_avg=6.175, post_code='08-412', pressure_avg=986.3083333333334, street='UL. ALEKSANDRA SASIMOWSKIEGO', temperature_avg=13.15, timestamp='2024-10-13 14:41:48'),\n",
              " Row(city='KŁODZKO', humidity_avg=61.23333333333333, latitude='50.437599', longitude='16.646804', name='SZKOŁA PODSTAWOWA NR 3 IM.KPT.STANISŁAWA BETLEJA W KŁODZKU', pm10_avg=1.5583333333333333, pm25_avg=1.5583333333333333, post_code='57-300', pressure_avg=969.5166666666668, street='UL. JANA PAWŁA II', temperature_avg=12.791666666666666, timestamp='2024-10-13 14:41:48'),\n",
              " Row(city='KŁODZKO', humidity_avg=64.17142857142856, latitude='50.43995998', longitude='16.65091495', name='SZKOŁA PODSTAWOWA IM. WŁADYSŁAWA STANISŁAWA REYMONTA W KŁODZKU', pm10_avg=1.5857142857142856, pm25_avg=1.5857142857142856, post_code='57-300', pressure_avg=1070.3857142857144, street='UL. ROMUALDA TRAUGUTTA', temperature_avg=13.142857142857142, timestamp='2024-10-13 14:41:48'),\n",
              " Row(city='KŁODZKO', humidity_avg=62.725, latitude='50.433394', longitude='16.652629', name='TECHNIKUM NR 2 W KŁODZKU', pm10_avg=2.3000000000000003, pm25_avg=2.3000000000000003, post_code='57-300', pressure_avg=972.3416666666667, street='UL. SZKOLNA', temperature_avg=13.108333333333334, timestamp='2024-10-13 14:41:48'),\n",
              " Row(city='NIEMCZA', humidity_avg=59.94166666666666, latitude='50.90346585', longitude='16.86538691', name='SZKOŁA PODSTAWOWA IM. BOLESŁAWA CHROBREGO W NIEMCZY', pm10_avg=1.3083333333333333, pm25_avg=1.2666666666666666, post_code='58-230', pressure_avg=979.4833333333332, street='UL. BOLESŁAWA CHROBREGO', temperature_avg=12.183333333333332, timestamp='2024-10-13 14:41:48'),\n",
              " Row(city='ZIELENICE', humidity_avg=66.8, latitude='50.826304', longitude='16.986569', name='PUBLICZNA SZKOŁA PODSTAWOWA IM. MARII KONOPNICKIEJ W ZIELENICACH', pm10_avg=3.0454545454545454, pm25_avg=3.036363636363636, post_code='57-160', pressure_avg=986.1909090909091, street=None, temperature_avg=12.745454545454544, timestamp='2024-10-13 14:41:48'),\n",
              " Row(city='STRZELIN', humidity_avg=82.72500000000001, latitude='50.777638', longitude='17.060713', name='SZKOŁA PODSTAWOWA SPECJALNA W STRZELINIE', pm10_avg=0.5833333333333334, pm25_avg=0.23333333333333336, post_code='57-100', pressure_avg=991.3666666666667, street='UL. ZĄBKOWICKA', temperature_avg=10.875, timestamp='2024-10-13 14:41:48'),\n",
              " Row(city='KOŁCZYN', humidity_avg=76.35833333333333, latitude='52.63227029', longitude='15.12726744', name='SZKOŁA PODSTAWOWA IM. BOHATERÓW WARSZAWY W KOŁCZYNIE', pm10_avg=1.8, pm25_avg=1.5250000000000001, post_code='66-435', pressure_avg=999.7083333333334, street='UL. SULĘCIŃSKA', temperature_avg=11.008333333333333, timestamp='2024-10-13 14:41:48'),\n",
              " Row(city='KARWIN', humidity_avg=92.16666666666667, latitude='53.991160', longitude='15.763897', name='SZKOŁA PODSTAWOWA W KARWINIE IMIENIA MACIEJA RATAJA W KARWINIE', pm10_avg=0.09166666666666667, pm25_avg=0.016666666666666666, post_code='78-230', pressure_avg=997.5916666666667, street=None, temperature_avg=8.275, timestamp='2024-10-13 14:41:48'),\n",
              " Row(city='STRĄCZNO', humidity_avg=78.2, latitude='53.2408346', longitude='16.3787738', name='SZKOŁA PODSTAWOWA IM. JANA PAWŁA II W STRĄCZNIE', pm10_avg=0.05000000000000001, pm25_avg=0.008333333333333333, post_code='78-642', pressure_avg=989.1750000000001, street=None, temperature_avg=10.933333333333332, timestamp='2024-10-13 14:41:48'),\n",
              " Row(city='MĘCINKA', humidity_avg=62.133333333333326, latitude='51.071955', longitude='16.100094', name='SZKOŁA PODSTAWOWA IM. MIKOŁAJA KOPERNIKA W MĘCINCE', pm10_avg=1.8333333333333333, pm25_avg=1.7333333333333332, post_code='59-424', pressure_avg=980.8000000000001, street=None, temperature_avg=12.333333333333334, timestamp='2024-10-13 14:41:48'),\n",
              " Row(city='OSIEK', humidity_avg=69.53333333333333, latitude='51.919438', longitude='19.145136', name='SZKOŁA PODSTAWOWA IM. KAROLA WOJTYŁY W OSIEKU', pm10_avg=1.7916666666666667, pm25_avg=1.675, post_code='55-200', pressure_avg=988.9083333333333, street=None, temperature_avg=11.450000000000001, timestamp='2024-10-13 14:41:48'),\n",
              " Row(city='LWÓWEK ŚLĄSKI', humidity_avg=60.78333333333333, latitude='51.108168', longitude='15.584555', name='LICEUM OGÓLNOKSZTAŁCĄCE IM. HENRYKA BRODATEGO W LWÓWKU ŚLĄSKIM', pm10_avg=2.1, pm25_avg=2.058333333333333, post_code='59-600', pressure_avg=982.8333333333334, street='UL. HENRYKA BRODATEGO', temperature_avg=12.191666666666668, timestamp='2024-10-13 14:41:48'),\n",
              " Row(city='GORZANÓW', humidity_avg=61.65, latitude='50.353982', longitude='16.630405', name='SZKOŁA PODSTAWOWA W GORZANOWIE', pm10_avg=0.24166666666666667, pm25_avg=0.05000000000000001, post_code='57-521', pressure_avg=970.6333333333333, street='UL. KŁODZKA', temperature_avg=11.466666666666667, timestamp='2024-10-13 14:41:48'),\n",
              " Row(city='WĄGROWIEC', humidity_avg=56.5, latitude='52.80848', longitude='17.19966', name='TECHNIKUM IM. STANISŁAWA MIKOŁAJCZYKA W WĄGROWCU', pm10_avg=2.3000000000000003, pm25_avg=2.25, post_code='62-100', pressure_avg=990.75, street='UL. KCYŃSKA', temperature_avg=13.833333333333334, timestamp='2024-10-13 14:41:48'),\n",
              " Row(city='RUSZÓW', humidity_avg=72.75, latitude='51.4018245', longitude='15.1783741', name='SZKOŁA PODSTAWOWA IM. ORLĄT LWOWSKICH I BOHATERÓW 37 PUŁKU PIECHOTY 7 DYWIZJI II ARMII WOJSKA POLSKIEGO W RUSZOWIE', pm10_avg=0.9166666666666666, pm25_avg=0.85, post_code='59-950', pressure_avg=988.8333333333334, street='UL. ZGORZELECKA', temperature_avg=10.583333333333334, timestamp='2024-10-13 14:41:48'),\n",
              " Row(city='WIERZBNO', humidity_avg=64.94166666666668, latitude='51.919438', longitude='19.145136', name='SZKOŁA PODSTAWOWA IM.ADAMA MICKIEWICZA W WIERZBNIE', pm10_avg=20.475, pm25_avg=18.025, post_code='55-216', pressure_avg=989.1750000000001, street=None, temperature_avg=12.316666666666668, timestamp='2024-10-13 14:41:48'),\n",
              " Row(city='WĄGROWIEC', humidity_avg=59.291666666666664, latitude='52.8053339', longitude='17.2161963', name='TECHNIKUM NR 2 W WĄGROWCU', pm10_avg=1.8083333333333333, pm25_avg=1.7249999999999999, post_code='62-100', pressure_avg=992.0749999999999, street='UL. KOŚCIUSZKI', temperature_avg=12.508333333333333, timestamp='2024-10-13 14:41:48'),\n",
              " Row(city='BIELAWY', humidity_avg=61.21666666666667, latitude='52.0617142', longitude='19.6561329', name='SZKOŁA PODSTAWOWA IM. KORNELA MAKUSZYNSKIEGO W BIELAWACH', pm10_avg=2.3583333333333334, pm25_avg=2.3249999999999997, post_code='67-112', pressure_avg=996.2916666666666, street=None, temperature_avg=12.15, timestamp='2024-10-13 14:41:48'),\n",
              " Row(city='OLSZANY', humidity_avg=52.03333333333333, latitude='50.9118862', longitude='16.3292711', name='PUBLICZNA SZKOŁA PODSTAWOWA IM. ADAMA MICKIEWICZA W OLSZANACH', pm10_avg=2.966666666666667, pm25_avg=2.475, post_code='58-150', pressure_avg=980.3166666666666, street=None, temperature_avg=14.475, timestamp='2024-10-13 14:41:48'),\n",
              " Row(city='BOLECHOWO-OSIEDLE', humidity_avg=57.833333333333336, latitude='52.5397055', longitude='16.9788077', name='TECHNIKUM W BOLECHOWIE', pm10_avg=1.625, pm25_avg=1.5, post_code='62-005', pressure_avg=993.8083333333333, street='UL. OBORNICKA', temperature_avg=13.041666666666666, timestamp='2024-10-13 14:41:48'),\n",
              " Row(city='OPALENICA', humidity_avg=64.36, latitude='52.30940693118218', longitude='16.41751442883519', name='SZKOŁA PODSTAWOWA Z ODDZIAŁAMI DWUJĘZYCZNYMI IM. A I WŁ. NIEGOLEWSKICH W OPALENICY', pm10_avg=6.9399999999999995, pm25_avg=5.7700000000000005, post_code='64-330', pressure_avg=998.05, street='UL. POZNAŃSKA', temperature_avg=10.879999999999999, timestamp='2024-10-13 14:41:48'),\n",
              " Row(city='DONABORÓW', humidity_avg=73.19166666666666, latitude='51.2706662', longitude='18.0613714', name='SZKOŁA PODSTAWOWA W DONABOROWIE', pm10_avg=1.4000000000000001, pm25_avg=1.2166666666666666, post_code='63-604', pressure_avg=989.5333333333333, street=None, temperature_avg=9.683333333333334, timestamp='2024-10-13 14:41:48'),\n",
              " Row(city='WOJNOWICE', humidity_avg=60.725, latitude='50.0542729', longitude='18.1550131', name='SZKOŁA PODSTAWOWA IM.BERNARDA CHRZANOWSKIEGO W WOJNOWICACH', pm10_avg=4.358333333333333, pm25_avg=3.891666666666667, post_code='64-330', pressure_avg=995.6166666666667, street='UL. POZNAŃSKA', temperature_avg=12.25, timestamp='2024-10-13 14:41:48'),\n",
              " Row(city='WAŁBRZYCH', humidity_avg=52.583333333333336, latitude='50.764707872649666', longitude='16.248929600000004', name='PUBLICZNA SZKOŁA PODSTAWOWA NR 17 IM.MARII KONOPNICKIEJ W WAŁBRZYCHU', pm10_avg=2.9916666666666667, pm25_avg=2.9166666666666665, post_code='58-305', pressure_avg=955.5, street='UL. 1 MAJA', temperature_avg=11.566666666666668, timestamp='2024-10-13 14:41:48'),\n",
              " Row(city='ROZTOKA', humidity_avg=48.13333333333333, latitude='50.959292', longitude='16.227611', name='SZKOŁA PODSTAWOWA IM. HENRYKA SIENKIEWICZA W ROZTOCE', pm10_avg=3.766666666666666, pm25_avg=3.6666666666666665, post_code='58-170', pressure_avg=978.4, street='UL. JANA PAWŁA II', temperature_avg=14.658333333333333, timestamp='2024-10-13 14:41:48'),\n",
              " Row(city='KUNICE', humidity_avg=58.6, latitude='51.223828', longitude='16.247988', name='SZKOŁA PODSTAWOWA IM. ŚWIĘTEJ JADWIGI ŚLĄSKIEJ W KUNICACH', pm10_avg=3.2916666666666665, pm25_avg=3.1916666666666664, post_code='59-216', pressure_avg=992.6166666666667, street='UL. STAROPOLSKA', temperature_avg=13.25, timestamp='2024-10-13 14:41:48'),\n",
              " Row(city='WAŁBRZYCH', humidity_avg=42.55833333333333, latitude='50.7886076', longitude='16.2785288', name='PUBLICZNA SZKOŁA PODSTAWOWA NR 30 IM. ARMII KRAJOWEJ W WAŁBRZYCHU', pm10_avg=2.725, pm25_avg=2.6916666666666664, post_code='58-302', pressure_avg=951.475, street='UL. TYTUSA CHAŁUBIŃSKIEGO', temperature_avg=14.491666666666667, timestamp='2024-10-13 14:41:48'),\n",
              " Row(city='WAŁBRZYCH', humidity_avg=42.11666666666667, latitude='50.7787007', longitude='16.2968909', name='PUBLICZNA SZKOŁA PODSTAWOWA NR 22 IM. GWARKÓW DOLNOŚLĄSKICH W WAŁBRZYCHU', pm10_avg=4.041666666666667, pm25_avg=3.975, post_code='58-302', pressure_avg=957.0333333333333, street='UL. 11 LISTOPADA', temperature_avg=14.066666666666668, timestamp='2024-10-13 14:41:48'),\n",
              " Row(city='ZŁOTORYJA', humidity_avg=67.46666666666667, latitude='51.1259316', longitude='15.9213852', name='BRANŻOWA SZKOŁA I STOPNIA W ZŁOTORYI', pm10_avg=3.908333333333333, pm25_avg=3.8666666666666667, post_code='59-500', pressure_avg=979.0749999999999, street='UL. STANISŁAWA STASZICA', temperature_avg=11.383333333333333, timestamp='2024-10-13 14:41:48'),\n",
              " Row(city='ZIĘBICE', humidity_avg=71.98333333333333, latitude='50.6038844', longitude='17.0456689', name='TECHNIKUM W ZESPOLE SZKÓŁ PONADPODSTAWOWYCH IM. HIPOLITA CEGIELSKIEGO W ZIĘBICACH', pm10_avg=11.725, pm25_avg=11.466666666666667, post_code='57-220', pressure_avg=981.1166666666667, street='UL. WOJSKA POLSKIEGO', temperature_avg=12.491666666666667, timestamp='2024-10-13 14:41:48'),\n",
              " Row(city='WĄSOSZ', humidity_avg=59.425000000000004, latitude='51.5612083', longitude='16.6888619', name='SPECJALNY OŚRODEK SZKOLNO-WYCHOWAWCZY IM. JANUSZA KORCZAKA W WĄSOSZU SZKOŁA PODSTAWOWA SPECJALNA W WĄSOSZU', pm10_avg=1.8, pm25_avg=1.5999999999999999, post_code='56-210', pressure_avg=996.1999999999999, street='UL. KORCZAKA', temperature_avg=12.941666666666668, timestamp='2024-10-13 14:41:48'),\n",
              " Row(city='DOBROMIERZ', humidity_avg=57.69166666666666, latitude='50.9099086', longitude='16.2329721', name='SZKOŁA PODSTAWOWA IM. JANA BRZECHWY W DOBROMIERZU', pm10_avg=1.1500000000000001, pm25_avg=1.1500000000000001, post_code='58-170', pressure_avg=967.7083333333334, street='UL. PODGÓRNA', temperature_avg=11.591666666666667, timestamp='2024-10-13 14:41:48'),\n",
              " Row(city='WITOSZYCE', humidity_avg=59.90833333333333, latitude='51.7433015', longitude='16.5154353', name='SZKOŁA PODSTAWOWA W WITOSZYCACH', pm10_avg=2.725, pm25_avg=2.65, post_code='56-200', pressure_avg=993.6416666666668, street=None, temperature_avg=12.583333333333334, timestamp='2024-10-13 14:41:48'),\n",
              " Row(city='BIAŁY KOŚCIÓŁ', humidity_avg=56.74166666666667, latitude='50.73048375535701 ', longitude='17.041226711089568', name='PUBLICZNA SZKOŁA PODSTAWOWA W BIAŁYM KOŚCIELE', pm10_avg=13.525, pm25_avg=12.375, post_code='57-100', pressure_avg=983.3249999999999, street='UL. KAMIENNA', temperature_avg=14.016666666666666, timestamp='2024-10-13 14:41:48'),\n",
              " Row(city='GNIEWKÓW', humidity_avg=54.925000000000004, latitude='50.994542', longitude='16.223964', name='SZKOŁA PODSTAWOWA IM.JANUSZA KORCZAKA W GNIEWKOWIE', pm10_avg=1.8916666666666666, pm25_avg=1.8083333333333333, post_code='58-173', pressure_avg=987.1833333333334, street=None, temperature_avg=15.691666666666668, timestamp='2024-10-13 14:41:48'),\n",
              " Row(city='PASTUCHÓW', humidity_avg=56.4875, latitude='50.949092', longitude='16.437169', name='SZKOŁA PODSTAWOWA IM. ŚWIĘTEGO MIKOŁAJA W PASTUCHOWIE', pm10_avg=19.975, pm25_avg=18.5, post_code='58-115', pressure_avg=981.4, street='UL. WYZWOLENIA', temperature_avg=13.1625, timestamp='2024-10-13 14:41:48'),\n",
              " Row(city='MARSZOWICE', humidity_avg=67.31666666666666, latitude='49.9174139', longitude='20.2362141', name='SZKOŁA PODSTAWOWA IM. ORŁA BIAŁEGO W MARSZOWICACH', pm10_avg=3.3249999999999997, pm25_avg=3.216666666666667, post_code='32-420', pressure_avg=983.85, street=None, temperature_avg=15.583333333333334, timestamp='2024-10-13 14:41:48'),\n",
              " Row(city='RACIBÓRZ', humidity_avg=72.225, latitude='51.919438', longitude='19.145136', name='SZKOŁA PODSTAWOWA NR 5 IM. JANA BRZECHWY Z JĘZYKIEM MNIEJSZOŚCI NIEMIECKIEJ W RACIBORZU', pm10_avg=1.375, pm25_avg=0.9833333333333334, post_code='47-400', pressure_avg=987.3333333333334, street='UL. BOJANOWSKA', temperature_avg=13.608333333333334, timestamp='2024-10-13 14:41:48'),\n",
              " Row(city='CZĘSTOCHOWA', humidity_avg=80.98181818181818, latitude='50.8039173', longitude='19.1029461', name='SZKOŁA PODSTAWOWA IM.ŚW. JANA DE LA SALLE W CZĘSTOCHOWIE', pm10_avg=3.2181818181818183, pm25_avg=3.209090909090909, post_code='42-217', pressure_avg=975.1454545454545, street='UL. GEN. KAZIMIERZA PUŁASKIEGO', temperature_avg=10.027272727272727, timestamp='2024-10-13 14:41:48'),\n",
              " Row(city='WIELICZKA', humidity_avg=71.8, latitude='49.98544', longitude='20.059786', name='SZKOŁA PODSTAWOWA NR 2 IM. TADEUSZA KOŚCIUSZKI W WIELICZCE', pm10_avg=2.6333333333333333, pm25_avg=2.05, post_code='32-020', pressure_avg=982.4833333333332, street='UL. STANISŁAWA MONIUSZKI', temperature_avg=15.191666666666668, timestamp='2024-10-13 14:41:48'),\n",
              " Row(city='ZIELONA GÓRA', humidity_avg=64.77000000000001, latitude='51.992893', longitude='15.5568495', name='SZKOŁA PODSTAWOWA NR 28 IM. \"LUBUSKICH RODZIN KATYŃSKICH\" W ZESPOLE EDUKACYJNYM NR 8 W ZIELONEJ GÓRZE', pm10_avg=1.6300000000000001, pm25_avg=1.3199999999999998, post_code='66-001', pressure_avg=997.3199999999999, street='UL. ZAWADA-SZKOLNA', temperature_avg=12.09, timestamp='2024-10-13 14:41:48'),\n",
              " Row(city='ZIELONA GÓRA', humidity_avg=61.61666666666667, latitude='51.9329991', longitude='15.5167766', name='SZKOŁA PODSTAWOWA NR 17 Z ODDZIAŁAMI INTEGRACYJNYMI IM. GENERAŁA WŁADYSŁAWA SIKORSKIEGO W ZESPOLE EDUKACYJNYM NR 2 W ZIELONEJ GÓRZE', pm10_avg=1.4583333333333333, pm25_avg=1.3333333333333333, post_code='65-436', pressure_avg=984.2916666666666, street='UL. LEOPOLDA STAFFA', temperature_avg=11.708333333333334, timestamp='2024-10-13 14:41:48'),\n",
              " Row(city='ZIELONA GÓRA', humidity_avg=62.416666666666664, latitude='51.893356', longitude='15.5733901', name='IV LICEUM OGÓLNOKSZTAŁCĄCE IM. PŁK. PIL. EUGENIUSZA HORBACZEWSKIEGO W ZIELONEJ GÓRZE', pm10_avg=1.383333333333333, pm25_avg=1.2333333333333334, post_code='65-001', pressure_avg=984.8249999999999, street='UL. SZOSA KISIELIŃSKA', temperature_avg=11.674999999999999, timestamp='2024-10-13 14:41:48'),\n",
              " Row(city='CISIE', humidity_avg=82.68333333333334, latitude='52.2123551', longitude='21.3837731', name='PUBLICZNA SZKOŁA PODSTAWOWA W CISIU', pm10_avg=1.3833333333333335, pm25_avg=1.1666666666666667, post_code='42-290', pressure_avg=978.4, street='UL. CISIAŃSKA', temperature_avg=8.808333333333334, timestamp='2024-10-13 14:41:48'),\n",
              " Row(city='ZIELONA GÓRA', humidity_avg=62.39166666666667, latitude='51.9363095', longitude='15.5543765', name='SZKOŁA PODSTAWOWA NR 21 IM. KAROLA WOJTYŁY W ZESPOLE EDUKACYJNYM NR 3 W ZIELONEJ GÓRZE', pm10_avg=1.5333333333333332, pm25_avg=1.3666666666666665, post_code='65-548', pressure_avg=986.4166666666666, street='UL. OSIEDLE POMORSKIE', temperature_avg=11.85, timestamp='2024-10-13 14:41:48'),\n",
              " Row(city='WARLUBIE', humidity_avg=85.825, latitude='53.5896901', longitude='18.6275983', name='SZKOŁA PODSTAWOWA SPECJALNA NR 2 W SPECJALNYM OŚRODKU SZKOLNO-WYCHOWAWCZYM IM. POLSKICH OLIMPIJCZYKÓW W WARLUBIU', pm10_avg=6.908333333333334, pm25_avg=6.808333333333334, post_code='86-160', pressure_avg=989.1999999999999, street='UL. SZKOLNA', temperature_avg=10.233333333333333, timestamp='2024-10-13 14:41:48'),\n",
              " Row(city='BLACHOWNIA', humidity_avg=83.78, latitude='50.7724027', longitude='18.9731383', name='SZKOŁA PODSTAWOWA NR 3 IM. STANISŁAWA STASZICA W ZESPOLE SZKOLNO - PRZEDSZKOLNYM W BLACHOWNI', pm10_avg=3.72, pm25_avg=3.72, post_code='42-290', pressure_avg=974.22, street='UL. WSPÓLNA', temperature_avg=9.0, timestamp='2024-10-13 14:41:48'),\n",
              " Row(city='ZABRZE', humidity_avg=74.83333333333333, latitude='50.296268', longitude='18.791714', name='SZKOŁA PODSTAWOWA NR 3 IM. BOHATERÓW MONTE CASSINO W ZABRZU', pm10_avg=6.608333333333333, pm25_avg=6.6000000000000005, post_code='41-800', pressure_avg=975.7083333333334, street='UL. RTM. WITOLDA PILECKIEGO', temperature_avg=12.308333333333332, timestamp='2024-10-13 14:41:48'),\n",
              " Row(city='BIELAWA', humidity_avg=45.89166666666667, latitude='50.683073', longitude='16.612986', name='LICEUM OGÓLNOKSZTAŁCĄCE Z ODDZIAŁAMI DWUJĘZYCZNYMI IM. BOLESŁAWA CHROBREGO W BIELAWIE', pm10_avg=6.366666666666667, pm25_avg=6.058333333333334, post_code='58-260', pressure_avg=969.0416666666666, street='UL. SZKOLNA', temperature_avg=13.641666666666666, timestamp='2024-10-13 14:41:48'),\n",
              " Row(city='ZAKLICZYN', humidity_avg=68.25833333333333, latitude='49.855242', longitude='20.816176', name='SZKOŁA PODSTAWOWA IM. LANCKOROŃSKICH W ZAKLICZYNIE', pm10_avg=2.6999999999999997, pm25_avg=2.425, post_code='32-840', pressure_avg=984.4083333333333, street='UL. JACKA MALCZEWSKIEGO', temperature_avg=16.183333333333334, timestamp='2024-10-13 14:41:48'),\n",
              " Row(city='NOWA RUDA', humidity_avg=65.03333333333333, latitude='50.58148236', longitude='16.49718392', name='LICEUM OGÓLNOKSZTAŁCĄCE IM. HENRYKA SIENKIEWICZA W NOWEJ RUDZIE', pm10_avg=1.7, pm25_avg=1.7, post_code='57-400', pressure_avg=961.9, street='OS. PIASTOWSKIE', temperature_avg=12.333333333333334, timestamp='2024-10-13 14:41:48'),\n",
              " Row(city='TRZCIŃSKO-ZDRÓJ', humidity_avg=86.45, latitude='52.966893', longitude='14.607718', name='SZKOŁA PODSTAWOWA IM.STEFANA ŻEROMSKIEGO W TRZCIŃSKU-ZDROJU', pm10_avg=6.7, pm25_avg=5.45, post_code='74-510', pressure_avg=998.8833333333333, street='UL. 2 LUTEGO', temperature_avg=9.216666666666667, timestamp='2024-10-13 14:41:48'),\n",
              " Row(city='SZCZECIN', humidity_avg=85.98181818181818, latitude='53.418348', longitude='14.539421', name='BRANŻOWA SZKOŁA I STOPNIA NR 4 W SZCZECINIE', pm10_avg=0.7727272727272727, pm25_avg=0.2818181818181818, post_code='70-236', pressure_avg=999.9909090909091, street='UL. GEN. JÓZEFA SOWIŃSKIEGO', temperature_avg=8.290909090909091, timestamp='2024-10-13 14:41:48'),\n",
              " Row(city='OLSZYNA', humidity_avg=55.36666666666667, latitude='51.06543341', longitude='15.37595055', name='SZKOŁA PODSTAWOWA NR 1 W OLSZYNIE', pm10_avg=2.4166666666666665, pm25_avg=2.3583333333333334, post_code='59-830', pressure_avg=978.4499999999999, street='UL. WOLNOŚCI', temperature_avg=12.025, timestamp='2024-10-13 14:41:48'),\n",
              " Row(city='BIEDRZYCHOWICE', humidity_avg=55.48, latitude='51.0398464', longitude='15.3794474', name='SZKOŁA PODSTAWOWA IM. JANUSZA KORCZAKA W BIEDRZYCHOWICACH', pm10_avg=0.9800000000000001, pm25_avg=0.9400000000000001, post_code='59-830', pressure_avg=968.0, street=None, temperature_avg=11.66, timestamp='2024-10-13 14:41:48'),\n",
              " Row(city='ZAGÓRZE', humidity_avg=67.01666666666667, latitude='49.5143', longitude='22.26707', name='ZESPÓŁ SZKOLNO-PRZEDSZKOLNY-SZKOŁA PODSTAWOWA IM. MARSZAŁKA JÓZEFA PIŁSUDSKIEGO W ZAGÓRZU', pm10_avg=2.733333333333333, pm25_avg=2.7083333333333335, post_code='32-005', pressure_avg=983.6083333333332, street=None, temperature_avg=15.908333333333333, timestamp='2024-10-13 14:41:48'),\n",
              " Row(city='PSZENNO', humidity_avg=62.44166666666666, latitude='50.8557823', longitude='16.5392403', name='SZKOŁA PODSTAWOWA IM. MIKOŁAJA KOPERNIKA W PSZENNIE', pm10_avg=2.5833333333333335, pm25_avg=2.558333333333333, post_code='58-125', pressure_avg=982.3166666666666, street='UL. WROCŁAWSKA', temperature_avg=13.15, timestamp='2024-10-13 14:41:48'),\n",
              " Row(city='MIETKÓW', humidity_avg=51.75833333333333, latitude='50.979778', longitude='16.653863', name='SZKOŁA PODSTAWOWA IM. OJCA ŚWIĘTEGO JANA PAWAŁA II W MIETKOWIE', pm10_avg=1.1666666666666667, pm25_avg=1.1083333333333334, post_code='55-081', pressure_avg=987.5166666666668, street='UL. KOLEJOWA', temperature_avg=14.258333333333333, timestamp='2024-10-13 14:41:48'),\n",
              " Row(city='PIESZYCE', humidity_avg=55.28333333333333, latitude='50.713016', longitude='16.585028', name='SZKOŁA PODSTAWOWA NR 1 IM. PIESZYCKIEJ HARCERSKIEJ ORGANIZACJI PODZIEMNEJ W PIESZYCACH', pm10_avg=3.8249999999999997, pm25_avg=3.6916666666666664, post_code='58-250', pressure_avg=971.375, street='UL. OGRODOWA', temperature_avg=12.125, timestamp='2024-10-13 14:41:48'),\n",
              " Row(city='UJEŹDZIEC WIELKI', humidity_avg=70.61666666666666, latitude='51.415639', longitude='17.092104', name='SZKOŁA PODSTAWOWA IM. MARII KONOPNICKIEJ W UJEŹDŹCU WIELKIM', pm10_avg=1.5166666666666666, pm25_avg=1.375, post_code='55-100', pressure_avg=995.0, street=None, temperature_avg=12.225, timestamp='2024-10-13 14:41:48'),\n",
              " Row(city='WAŁBRZYCH', humidity_avg=49.675000000000004, latitude='50.770552', longitude='16.2784203', name='TECHNIKUM NR 5 W WAŁBRZYCHU', pm10_avg=2.9333333333333336, pm25_avg=2.9250000000000003, post_code='58-300', pressure_avg=956.7166666666667, street='AL. WYZWOLENIA', temperature_avg=11.366666666666667, timestamp='2024-10-13 14:41:48'),\n",
              " Row(city='GŁOGÓW', humidity_avg=61.910000000000004, latitude='51.6531803', longitude='16.126478', name='SZKOŁA PODSTAWOWA NR 13 IM. ORLĄT LWOWSKICH W GŁOGOWIE', pm10_avg=1.51, pm25_avg=1.44, post_code='67-200', pressure_avg=996.68, street='UL. AKACJOWA', temperature_avg=12.34, timestamp='2024-10-13 14:41:48'),\n",
              " Row(city='GŁOGÓW', humidity_avg=64.9, latitude='51.6534984', longitude='16.0628868', name='SZKOŁA PODSTAWOWA NR 10 IM. MIKOŁAJA KOPERNIKA W GŁOGOWIE', pm10_avg=1.2000000000000002, pm25_avg=1.1, post_code='67-200', pressure_avg=970.4, street='UL. ANDROMEDY', temperature_avg=11.4, timestamp='2024-10-13 14:41:48'),\n",
              " Row(city='PROCHOWICE', humidity_avg=52.5, latitude='51.280383', longitude='16.364947', name='SZKOŁA PODSTAWOWA NR 2 IM. TADEUSZA KOŚCIUSZKI W PROCHOWICACH', pm10_avg=1.35, pm25_avg=1.2999999999999998, post_code='59-230', pressure_avg=993.6500000000001, street='UL. KOŚCIUSZKI', temperature_avg=15.15, timestamp='2024-10-13 14:41:48'),\n",
              " Row(city='SZCZECIN', humidity_avg=90.36666666666667, latitude='53.399056', longitude='14.669609', name='TECHNIKUM KSZTAŁTOWANIA ŚRODOWISKA W SZCZECINIE', pm10_avg=0.4166666666666667, pm25_avg=0.27499999999999997, post_code='70-833', pressure_avg=1003.9083333333333, street='UL. PORTOWA', temperature_avg=9.141666666666666, timestamp='2024-10-13 14:41:48'),\n",
              " Row(city='PIESZYCE', humidity_avg=43.60833333333333, latitude='50.71553783', longitude='16.58036735', name='SPECJALNA PRZYSZPITALNA NIEPUBLICZNA SZKOŁA PODSTAWOWA PRZY SUDECKIM CENTRUM ZDROWIA W PIESZYCACH', pm10_avg=1.1, pm25_avg=1.0833333333333333, post_code='58-250', pressure_avg=970.3916666666668, street='UL. KSIĘDZA EMILA PAGACZA', temperature_avg=15.141666666666666, timestamp='2024-10-13 14:41:48'),\n",
              " Row(city='BRZEZIA ŁĄKA', humidity_avg=51.74166666666667, latitude='51.12506', longitude='17.2485849', name='SZKOŁA PODSTAWOWA IM. NOBLISTÓW POLSKICH W BRZEZIEJ ŁĄCE', pm10_avg=4.808333333333334, pm25_avg=3.9250000000000003, post_code='55-093', pressure_avg=993.4833333333332, street='UL. SZKOLNA', temperature_avg=15.15, timestamp='2024-10-13 14:41:48'),\n",
              " Row(city='LATOSZYN', humidity_avg=70.45833333333333, latitude='50.02607', longitude='21.38439', name='PUBLICZNA SZKOŁA PODSTAWOWA W LATOSZYNIE', pm10_avg=5.766666666666667, pm25_avg=4.383333333333334, post_code='39-200', pressure_avg=984.9166666666666, street=None, temperature_avg=14.308333333333332, timestamp='2024-10-13 14:41:48'),\n",
              " Row(city='BRZEŹNICA', humidity_avg=68.75833333333334, latitude='50.103691', longitude='21.485064', name='PUBLICZNA SZKOŁA PODSTAWOWA IM. JANA PAWŁA II W BRZEŹNICY', pm10_avg=4.8999999999999995, pm25_avg=4.808333333333334, post_code='39-207', pressure_avg=988.1916666666666, street='UL. SZKOLNA', temperature_avg=14.983333333333334, timestamp='2024-10-13 14:41:48'),\n",
              " Row(city='WOLA WIELKA', humidity_avg=65.075, latitude='50.08146', longitude='21.342836', name='SZKOŁA PODSTAWOWA W WOLI WIELKIEJ', pm10_avg=8.741666666666665, pm25_avg=7.2749999999999995, post_code='39-218', pressure_avg=986.5749999999999, street=None, temperature_avg=14.674999999999999, timestamp='2024-10-13 14:41:48'),\n",
              " Row(city='KRAKÓW-NOWA HUTA', humidity_avg=69.68333333333334, latitude='50.078466', longitude='20.042014', name='SZKOŁA PODSTAWOWA Z ODDZIAŁAMI INTEGRACYJNYMI NR 105 IM. LUDWIKI WAWRZYŃSKIEJ W KRAKOWIE', pm10_avg=3.033333333333333, pm25_avg=2.4833333333333334, post_code='31-958', pressure_avg=984.8666666666667, street='OS. OSIEDLE SŁONECZNE', temperature_avg=15.366666666666667, timestamp='2024-10-13 14:41:48'),\n",
              " Row(city='BIELAWA', humidity_avg=52.800000000000004, latitude='50.7381464', longitude='16.6516018', name='NIEPUBLICZNE LICEUM OGÓLNOKSZTAŁCĄCE W BIELAWIE', pm10_avg=1.7249999999999999, pm25_avg=1.7, post_code='58-260', pressure_avg=970.9, street='UL. WOLNOŚCI', temperature_avg=12.658333333333333, timestamp='2024-10-13 14:41:48'),\n",
              " Row(city='MOŃKI', humidity_avg=74.13333333333334, latitude='53.404480516', longitude='22.804277', name='LICEUM OGÓLNOKSZTAŁCĄCE IM. CYPRIANA KAMILA NORWIDA W MOŃKACH', pm10_avg=12.466666666666667, pm25_avg=11.291666666666666, post_code='19-100', pressure_avg=986.9666666666667, street='UL. TYSIĄCLECIA', temperature_avg=10.316666666666666, timestamp='2024-10-13 14:41:48'),\n",
              " Row(city='TOMASZÓW LUBELSKI', humidity_avg=60.85, latitude='50.4428399', longitude='23.41242', name='I LICEUM OGÓLNOKSZTAŁCĄCE IM. BARTOSZA GŁOWACKIEGO W TOMASZOWIE LUBELSKIM', pm10_avg=4.925, pm25_avg=4.916666666666667, post_code='22-600', pressure_avg=973.7916666666666, street='UL. WYSPIAŃSKIEGO', temperature_avg=14.783333333333333, timestamp='2024-10-13 14:41:48'),\n",
              " Row(city='ŁUKAWIEC', humidity_avg=58.1, latitude='50.0801159', longitude='23.113522', name='PUBLICZNA SZKOŁA PODSTAWOWA IM.BOHATERÓW WRZEŚNIA1939 W ŁUKAWCU', pm10_avg=4.009090909090909, pm25_avg=3.5818181818181816, post_code='37-626', pressure_avg=986.1363636363636, street=None, temperature_avg=17.80909090909091, timestamp='2024-10-13 14:41:48'),\n",
              " Row(city='NOWA WIEŚ', humidity_avg=84.15833333333335, latitude='51.809294519434474', longitude='21.077920671164595', name='SZKOŁA PODSTAWOWA SPECJALNA W GRÓJCU SZKOŁA FILIALNA W NOWEJ WSI', pm10_avg=9.691666666666666, pm25_avg=9.683333333333334, post_code='05-660', pressure_avg=987.0500000000001, street=None, temperature_avg=10.575, timestamp='2024-10-13 14:41:48'),\n",
              " Row(city='BIERWCE', humidity_avg=82.85000000000001, latitude='51.5663509', longitude='21.1684745', name='PUBLICZNA SZKOŁA PODSTAWOWA IM. HENRYKA SIENKIEWICZA W BIERWCACH', pm10_avg=20.849999999999998, pm25_avg=19.599999999999998, post_code='26-660', pressure_avg=986.025, street=None, temperature_avg=11.1, timestamp='2024-10-13 14:41:48'),\n",
              " Row(city='WADOWICE', humidity_avg=71.35833333333333, latitude='49.883822', longitude='19.48966', name='I LICEUM OGÓLNOKSZTAŁCĄCE IM. MARCINA WADOWITY W WADOWICACH', pm10_avg=2.966666666666667, pm25_avg=2.966666666666667, post_code='34-100', pressure_avg=974.375, street='UL. MICKIEWICZA', temperature_avg=14.366666666666667, timestamp='2024-10-13 14:41:48'),\n",
              " Row(city='DOBRZYNIEWO DUŻE', humidity_avg=66.79166666666667, latitude='53.1993434', longitude='23.0111979', name='SZKOŁA PODSTAWOWA W DOBRZYNIEWIE DUŻYM', pm10_avg=3.25, pm25_avg=3.233333333333333, post_code='16-002', pressure_avg=988.3083333333334, street='UL. SZKOLNA', temperature_avg=11.700000000000001, timestamp='2024-10-13 14:41:48'),\n",
              " Row(city='WOLA ZACHARIASZOWSKA', humidity_avg=79.55454545454546, latitude='50.1505174316246', longitude='19.932638999999995', name='SZKOŁA PODSTAWOWA IM. JÓZEFA PIŁSUDSKIEGO W WOLI ZACHARIASZOWSKIEJ', pm10_avg=4.109090909090909, pm25_avg=4.109090909090909, post_code='32-087', pressure_avg=972.3090909090909, street='UL. ŚWIĘTEGO FLORIANA', temperature_avg=13.436363636363637, timestamp='2024-10-13 14:41:48'),\n",
              " Row(city='SUŁKOWICE', humidity_avg=80.10833333333333, latitude='50.2316951', longitude='19.9266258', name='NIEPUBLICZNA SZKOŁA PODSTAWOWA IM. LEONARDA DA VINCI W SUŁKOWICACH', pm10_avg=8.441666666666666, pm25_avg=8.441666666666666, post_code='32-095', pressure_avg=988.4666666666667, street='SUŁKOWICE', temperature_avg=10.200000000000001, timestamp='2024-10-13 14:41:48'),\n",
              " Row(city='RACŁAWICE', humidity_avg=71.58333333333333, latitude='50.3240018', longitude='20.2357084', name='SZKOŁA PODSTAWOWA IM. TADEUSZA KOŚCIUSZKI W RACŁAWICACH', pm10_avg=2.65, pm25_avg=2.3000000000000003, post_code='32-222', pressure_avg=977.5833333333334, street=None, temperature_avg=14.674999999999999, timestamp='2024-10-13 14:41:48'),\n",
              " Row(city='MINOGA', humidity_avg=76.125, latitude='50.2420125', longitude='19.9006661', name='SZKOŁA PODSTAWOWA IM.STULECIA ODZYSKANIA NIEPODLEGŁOŚCI POLSKI W MINODZE', pm10_avg=3.1833333333333336, pm25_avg=3.1833333333333336, post_code='32-043', pressure_avg=967.5500000000001, street=None, temperature_avg=13.341666666666667, timestamp='2024-10-13 14:41:48'),\n",
              " Row(city='LIBIĄŻ', humidity_avg=82.63333333333334, latitude='50.1037928', longitude='19.3156774', name='SZKOŁA PODSTAWOWA NR 3 IM. FLAGI POLSKI W LIBIĄŻU', pm10_avg=9.0, pm25_avg=8.941666666666666, post_code='32-590', pressure_avg=971.6750000000001, street='UL. ŚWIĘTEJ BARBARY', temperature_avg=12.549999999999999, timestamp='2024-10-13 14:41:48'),\n",
              " Row(city='JERZMANOWICE', humidity_avg=80.10833333333333, latitude='50.2118918', longitude='19.7463992', name='SZKOŁA PODSTAWOWA IM. ŚW.KRÓLOWEJ JADWIGI W JERZMANOWICACH', pm10_avg=11.708333333333334, pm25_avg=11.541666666666666, post_code='32-048', pressure_avg=955.9416666666666, street='UL. SZKOLNA', temperature_avg=12.424999999999999, timestamp='2024-10-13 14:41:48'),\n",
              " Row(city='GIEBUŁTÓW', humidity_avg=79.15833333333333, latitude='50.1393595', longitude='19.8869657', name='TECHNIKUM W GIEBUŁTOWIE W ZESPOLE SZKÓŁ PONADPODSTAWOWYCH IM. WINCENTEGO WITOSA W GIEBUŁTOWIE', pm10_avg=3.7916666666666665, pm25_avg=3.7916666666666665, post_code='32-085', pressure_avg=971.6833333333334, street='OS. SZKOLNE', temperature_avg=13.325000000000001, timestamp='2024-10-13 14:41:48'),\n",
              " Row(city='OLKUSZ', humidity_avg=84.48333333333333, latitude='50.2813157', longitude='19.5656869', name='ZESPÓŁ SZKOLNO-PRZEDSZKOLNY INTEGRACYJNY NR 1 W OLKUSZU - SZKOŁA PODSTAWOWA NR 2 Z ODDZIAŁAMI INTEGRACYJNYMI IM. J.IWASZKIEWICZA W OLKUSZU', pm10_avg=2.908333333333333, pm25_avg=2.9, post_code='32-305', pressure_avg=960.0666666666666, street='UL. JANA KOCHANOWSKIEGO', temperature_avg=12.116666666666667, timestamp='2024-10-13 14:41:48'),\n",
              " Row(city='OLKUSZ', humidity_avg=85.25, latitude='50.2659999', longitude='19.5635115', name='II LICEUM OGÓLNOKSZTAŁCĄCE IM. ZIEMI OLKUSKIEJ W OLKUSZU', pm10_avg=3.0500000000000003, pm25_avg=3.0500000000000003, post_code='32-305', pressure_avg=958.25, street='UL. STEFANA ŻEROMSKIEGO', temperature_avg=11.924999999999999, timestamp='2024-10-13 14:41:48'),\n",
              " Row(city='PIENIĄŻKOWICE', humidity_avg=70.84444444444445, latitude='49.4941093', longitude='19.878498', name='SZKOŁA PODSTAWOWA IM. ŚW. JADWIGI KRÓLOWEJ W PIENIĄŻKOWICACH ZE SZKOŁĄ PODSTAWOWĄ FILIALNĄ W DZIALE', pm10_avg=4.533333333333333, pm25_avg=4.088888888888889, post_code='34-408', pressure_avg=936.5333333333333, street=None, temperature_avg=12.477777777777778, timestamp='2024-10-13 14:41:48'),\n",
              " Row(city='DZIAŁ', humidity_avg=66.98333333333333, latitude='49.4941093', longitude='19.878498', name='SZKOŁA PODSTAWOWA IM. ŚW. JADWIGI KRÓLOWEJ W PIENIĄŻKOWICACH ZE SZKOŁĄ PODSTAWOWĄ FILIALNĄ W DZIALE', pm10_avg=3.0583333333333336, pm25_avg=3.0583333333333336, post_code='34-408', pressure_avg=933.775, street=None, temperature_avg=12.983333333333334, timestamp='2024-10-13 14:41:48'),\n",
              " Row(city='GLIWICE', humidity_avg=77.06363636363636, latitude='50.2506534183101', longitude='18.6801748', name='SZKOŁA PODSTAWOWA NR 8 IM. MARII DĄBROWSKIEJ W GLIWICACH', pm10_avg=3.336363636363636, pm25_avg=3.336363636363636, post_code='44-141', pressure_avg=975.1545454545455, street='UL. SPACEROWA', temperature_avg=12.20909090909091, timestamp='2024-10-13 14:41:48'),\n",
              " Row(city='NOWA SARZYNA', humidity_avg=57.88333333333333, latitude='50.32035', longitude='22.3446', name='SZKOŁA PODSTAWOWA IM. MARII SKŁODOWSKIEJ-CURIE W NOWEJ SARZYNIE', pm10_avg=4.041666666666667, pm25_avg=4.041666666666667, post_code='37-310', pressure_avg=989.9333333333334, street='UL. KOMISJI EDUKACJI NARODOWEJ', temperature_avg=16.341666666666665, timestamp='2024-10-13 14:41:48'),\n",
              " Row(city='BIEDRZYCHOWICE', humidity_avg=79.35000000000001, latitude='50.3371949', longitude='17.938484', name='SZKOŁA PODSTAWOWA W BIEDRZYCHOWICACH', pm10_avg=4.333333333333333, pm25_avg=3.1916666666666664, post_code='48-250', pressure_avg=1001.0, street=None, temperature_avg=8.466666666666667, timestamp='2024-10-13 14:41:48'),\n",
              " Row(city='NOWY TARG', humidity_avg=69.8, latitude='49.4837969', longitude='20.034732', name='I LICEUM OGÓLNOKSZTAŁCĄCE IM. SEWERYNA GOSZCZYŃSKIEGO W ZESPOLE SZKÓŁ OGÓLNOKSZTAŁCĄCYCH NR 1 W NOWYM TARGU', pm10_avg=9.85, pm25_avg=9.125, post_code='34-400', pressure_avg=941.9499999999999, street='PL. ZYGMUNTA KRASIŃSKIEGO', temperature_avg=12.725, timestamp='2024-10-13 14:41:48'),\n",
              " Row(city='SYBERIA', humidity_avg=96.16666666666667, latitude='53.0866545', longitude='19.7116392', name='SZKOŁA PODSTAWOWA W SYBERII', pm10_avg=16.077777777777776, pm25_avg=14.511111111111111, post_code='09-303', pressure_avg=986.5666666666667, street=None, temperature_avg=9.566666666666666, timestamp='2024-10-13 14:41:48'),\n",
              " Row(city='BĘDZYMIN', humidity_avg=85.03333333333333, latitude='53.0500375', longitude='19.8252916', name='SZKOŁA PODSTAWOWA W BĘDZYMINIE', pm10_avg=8.575000000000001, pm25_avg=8.575000000000001, post_code='09-300', pressure_avg=984.3249999999999, street='UL. GŁÓWNA', temperature_avg=10.041666666666666, timestamp='2024-10-13 14:41:48'),\n",
              " Row(city='LIPOWA', humidity_avg=75.27499999999999, latitude='49.6985065', longitude='19.0737787', name='SZKOŁA PODSTAWOWA IM.KRZYSZTOFA KAMILA BACZYŃSKIEGO W LIPOWEJ', pm10_avg=2.091666666666667, pm25_avg=2.091666666666667, post_code='34-324', pressure_avg=951.4416666666666, street='UL. JANA PAWŁA II', temperature_avg=12.983333333333334, timestamp='2024-10-13 14:41:48'),\n",
              " Row(city='BRENNA', humidity_avg=80.63333333333334, latitude='49.7184394', longitude='18.9436714', name='SZKOŁA PODSTAWOWA NR 2 IM. STEFANA ŻEROMSKIEGO W BRENNEJ', pm10_avg=2.783333333333333, pm25_avg=2.783333333333333, post_code='43-438', pressure_avg=955.3833333333333, street='UL. BUKOWA', temperature_avg=12.041666666666666, timestamp='2024-10-13 14:41:48'),\n",
              " Row(city='RUDZICA', humidity_avg=85.21666666666667, latitude='49.849154', longitude='18.9050456', name='SZKOŁA PODSTAWOWA W RUDZICY', pm10_avg=3.141666666666667, pm25_avg=3.141666666666667, post_code='43-394', pressure_avg=967.8333333333334, street=None, temperature_avg=12.35, timestamp='2024-10-13 14:41:48'),\n",
              " Row(city='BRONÓW', humidity_avg=94.02499999999999, latitude='49.8803984', longitude='18.9106524', name='SZKOŁA PODSTAWOWA W BRONOWIE', pm10_avg=3.466666666666667, pm25_avg=3.466666666666667, post_code='43-502', pressure_avg=978.2583333333333, street='UL. KOLOROWA', temperature_avg=12.549999999999999, timestamp='2024-10-13 14:41:48'),\n",
              " Row(city='LIGOTA', humidity_avg=73.46666666666667, latitude='51.919438', longitude='19.145136', name='SZKOŁA PODSTAWOWA NR 3 IM. ZOFII KOSSAK-SZCZUCKIEJ W LIGOCIE', pm10_avg=2.033333333333333, pm25_avg=1.6416666666666666, post_code='43-518', pressure_avg=980.3333333333334, street='UL. BORY', temperature_avg=13.333333333333334, timestamp='2024-10-13 14:41:48'),\n",
              " Row(city='KOBIELICE', humidity_avg=86.5, latitude='50.0122572', longitude='18.8580059', name='SZKOŁA PODSTAWOWA IM. ADAMA MICKIEWICZA W KOBIELICACH', pm10_avg=3.5416666666666665, pm25_avg=3.533333333333333, post_code='43-262', pressure_avg=976.0500000000001, street='UL. TOPOLOWA', temperature_avg=12.358333333333334, timestamp='2024-10-13 14:41:48'),\n",
              " Row(city='BIAŁYSTOK', humidity_avg=65.09166666666667, latitude='53.1421672', longitude='23.1618347', name='SZKOŁA PODSTAWOWA NR 11 Z ODDZIAŁAMI INTEGRACYJNYMI IM. KORNELA MAKUSZYŃSKIEGO W BIAŁYMSTOKU', pm10_avg=3.1916666666666664, pm25_avg=3.1750000000000003, post_code='15-476', pressure_avg=989.375, street='UL. POLESKA', temperature_avg=12.191666666666668, timestamp='2024-10-13 14:41:48'),\n",
              " Row(city='BABKI OLECKIE', humidity_avg=70.69166666666666, latitude='54.086', longitude='22.50398', name='SZKOŁA PODSTAWOWA W BABKACH OLECKICH', pm10_avg=7.800000000000001, pm25_avg=6.908333333333334, post_code='19-400', pressure_avg=984.8416666666667, street=None, temperature_avg=10.666666666666666, timestamp='2024-10-13 14:41:48'),\n",
              " Row(city='RZESZÓW', humidity_avg=59.49166666666667, latitude='50.0340048', longitude='21.9939611', name='TECHNIKUM NR 5 W RZESZOWIE', pm10_avg=3.858333333333333, pm25_avg=3.858333333333333, post_code='35-016', pressure_avg=984.6416666666668, street='UL. KLEMENTYNY HOFFMANOWEJ', temperature_avg=14.966666666666667, timestamp='2024-10-13 14:41:48'),\n",
              " Row(city='RZESZÓW', humidity_avg=63.041666666666664, latitude='50.0223419', longitude='21.980829', name='SZKOŁA PODSTAWOWA NR 26 W RZESZOWIE', pm10_avg=9.366666666666667, pm25_avg=8.441666666666666, post_code='35-036', pressure_avg=1100.0, street='UL. JAROSŁAWA DĄBROWSKIEGO', temperature_avg=16.533333333333335, timestamp='2024-10-13 14:41:48'),\n",
              " Row(city='SOPOTNIA WIELKA', humidity_avg=75.075, latitude='49.5925166', longitude='19.2960436', name='ZESPÓŁ SZKÓŁ NR4-SZKOŁA PODSTAWOWA W SOPOTNI WIELKIEJ', pm10_avg=13.483333333333334, pm25_avg=11.25, post_code='34-340', pressure_avg=937.7916666666666, street=None, temperature_avg=12.049999999999999, timestamp='2024-10-13 14:41:48'),\n",
              " Row(city='CIĘCINA', humidity_avg=80.02222222222223, latitude='49.6032576', longitude='19.1539214', name='SZKOŁA PODSTAWOWA NR 2 IM. ŚW. FRANCISZKA Z ASYŻU W CIĘCINIE', pm10_avg=3.1666666666666665, pm25_avg=3.1666666666666665, post_code='34-350', pressure_avg=952.5222222222224, street='UL. ŚW. KATARZYNY', temperature_avg=11.911111111111111, timestamp='2024-10-13 14:41:48'),\n",
              " Row(city='PRZYBĘDZA', humidity_avg=81.24166666666666, latitude='49.6305149', longitude='19.1251165', name='SZKOŁA PODSTAWOWA W PRZYBĘDZY', pm10_avg=2.9499999999999997, pm25_avg=2.9499999999999997, post_code='34-381', pressure_avg=951.1916666666666, street='UL. 3 MAJA', temperature_avg=12.208333333333334, timestamp='2024-10-13 14:41:48'),\n",
              " Row(city='SIENNA', humidity_avg=77.01666666666667, latitude='49.6766991', longitude='19.1480477', name='SZKOŁA PODSTAWOWA IM. KS.JANA TWARDOWSKIEGO W SIENNEJ', pm10_avg=13.758333333333333, pm25_avg=13.375, post_code='34-300', pressure_avg=959.475, street='UL. ŚWIĘTEJ JADWIGI ŚLĄSKIEJ', temperature_avg=13.083333333333334, timestamp='2024-10-13 14:41:48'),\n",
              " Row(city='ZRĘCIN', humidity_avg=70.91666666666667, latitude='49.6676748', longitude='21.6905243', name='SZKOŁA PODSTAWOWA IM. ŚW. JANA KANTEGO I ŚW. JANA PAWŁA II W ZRĘCINIE', pm10_avg=2.558333333333333, pm25_avg=2.2416666666666667, post_code='38-457', pressure_avg=976.5833333333334, street='UL. ŁUKASIEWICZA', temperature_avg=13.5, timestamp='2024-10-13 14:41:48'),\n",
              " Row(city='NOWOTANIEC', humidity_avg=60.275, latitude='49.50775', longitude='22.031143', name='SZKOŁA PODSTAWOWA W ZESPOLE SZKÓŁ W NOWOTAŃCU', pm10_avg=5.175, pm25_avg=3.9416666666666664, post_code='38-505', pressure_avg=966.625, street=None, temperature_avg=12.233333333333333, timestamp='2024-10-13 14:41:48'),\n",
              " Row(city='RZESZÓW', humidity_avg=62.775, latitude='50.0496703', longitude='21.983086', name='SZKOŁA PODSTAWOWA NR 8 W RZESZOWIE', pm10_avg=2.725, pm25_avg=2.2583333333333333, post_code='35-225', pressure_avg=984.4, street='UL. ANTONIEGO KOPACZEWSKIEGO', temperature_avg=15.950000000000001, timestamp='2024-10-13 14:41:48'),\n",
              " Row(city='ŻORY', humidity_avg=81.76666666666667, latitude='50.0287507', longitude='18.7002921', name='SZKOŁA PODSTAWOWA NR 15 Z ODDZIAŁAMI SPORTOWYMI W ŻORACH', pm10_avg=3.725, pm25_avg=3.725, post_code='44-240', pressure_avg=975.4, street='UL. BANKOWA', temperature_avg=13.108333333333334, timestamp='2024-10-13 14:41:48'),\n",
              " Row(city='KRZYŻOWICE', humidity_avg=84.99166666666666, latitude='49.9847274', longitude='18.6741042', name='SZKOŁA PODSTAWOWA IM. GUSTAWA MORCINKA W KRZYŻOWICACH', pm10_avg=4.491666666666666, pm25_avg=4.491666666666666, post_code='43-254', pressure_avg=976.6833333333334, street='UL. SZKOLNA', temperature_avg=12.666666666666666, timestamp='2024-10-13 14:41:48'),\n",
              " Row(city='JASTRZĘBIE-ZDRÓJ', humidity_avg=81.475, latitude='49.9454207', longitude='18.6101103', name='SZKOŁA PODSTAWOWA NR 13 IM. KS. FRANCISZKA BLACHNICKIEGO W JASTRZĘBIU-ZDROJU', pm10_avg=3.716666666666667, pm25_avg=3.716666666666667, post_code='44-335', pressure_avg=977.4166666666666, street='UL. KATOWICKA', temperature_avg=13.233333333333334, timestamp='2024-10-13 14:41:48'),\n",
              " Row(city='JASTRZĘBIE-ZDRÓJ', humidity_avg=81.25, latitude='49.9454207', longitude='18.6101103', name='SZKOŁA PODSTAWOWA NR 6 IM. JANUSZA KORCZAKA W JASTRZĘBIU-ZDROJU', pm10_avg=1.6833333333333333, pm25_avg=1.875, post_code='44-335', pressure_avg=1100.0, street='UL. ŚLĄSKA', temperature_avg=12.508333333333333, timestamp='2024-10-13 14:41:48'),\n",
              " Row(city='KOŃCZYCE WIELKIE', humidity_avg=79.78333333333333, latitude='49.8345649', longitude='18.644137', name='SZKOŁA PODSTAWOWA IM. BOHATERÓW WESTERPLATTE W KOŃCZYCACH WIELKICH', pm10_avg=2.6916666666666664, pm25_avg=2.6916666666666664, post_code='43-419', pressure_avg=977.1833333333334, street='UL. KOŚCIELNA', temperature_avg=13.783333333333333, timestamp='2024-10-13 14:41:48'),\n",
              " Row(city='HAŻLACH', humidity_avg=81.575, latitude='49.7967297', longitude='18.6369018', name='SZKOŁA PODSTAWOWA IM. \"TRZECH BRACI\" W HAŻLACHU', pm10_avg=3.608333333333333, pm25_avg=3.5833333333333335, post_code='43-419', pressure_avg=973.1833333333334, street='UL. KOŚCIELNA', temperature_avg=13.441666666666668, timestamp='2024-10-13 14:41:48'),\n",
              " Row(city='RZĄŚNIK WŁOŚCIAŃSKI', humidity_avg=79.675, latitude='52.85219083050499 ', longitude='21.715940640027426', name='PUBLICZNA SZKOŁA PODSTAWOWA IM. MARII KONOPNICKIEJ W RZĄŚNIKU WŁOŚCIAŃSKIM', pm10_avg=6.916666666666667, pm25_avg=6.908333333333334, post_code='07-311', pressure_avg=988.5416666666666, street=None, temperature_avg=10.025, timestamp='2024-10-13 14:41:48'),\n",
              " Row(city='NOWE ŻUKOWICE', humidity_avg=61.49166666666667, latitude='50.0897784', longitude='21.1379808', name='SZKOŁA PODSTAWOWA IM.JANA PAWŁA WIELKIEGO W NOWYCH ŻUKOWICACH', pm10_avg=4.641666666666667, pm25_avg=5.816666666666666, post_code='33-151', pressure_avg=982.6416666666668, street=None, temperature_avg=15.258333333333333, timestamp='2024-10-13 14:41:48'),\n",
              " Row(city='SZCZEPANOWICE', humidity_avg=70.85000000000001, latitude='49.9425139', longitude='20.93416', name='SZKOŁA PODSTAWOWA IM. KS. PROF. ROMANA DAROWSKIEGO SJ W SZCZEPANOWICACH ', pm10_avg=3.6166666666666667, pm25_avg=3.608333333333333, post_code='33-114', pressure_avg=979.6666666666666, street=None, temperature_avg=15.799999999999999, timestamp='2024-10-13 14:41:48'),\n",
              " Row(city='ŁAŃCUT', humidity_avg=55.9, latitude='50.065729', longitude='22.229792', name='I LICEUM OGÓLNOKSZTAŁCĄCE W ŁAŃCUCIE', pm10_avg=2.875, pm25_avg=2.8166666666666664, post_code='37-100', pressure_avg=982.2833333333333, street='UL. ADAMA MICKIEWICZA', temperature_avg=17.175, timestamp='2024-10-13 14:41:48'),\n",
              " Row(city='RZESZÓW', humidity_avg=67.25833333333334, latitude='49.995803', longitude='22.0037829', name='SZKOŁA PODSTAWOWA NR 9 W RZESZOWIE', pm10_avg=5.083333333333333, pm25_avg=4.291666666666667, post_code='35-314', pressure_avg=986.7333333333335, street='UL. MIŁA', temperature_avg=16.066666666666666, timestamp='2024-10-13 14:41:48'),\n",
              " Row(city='STĘPINA', humidity_avg=67.10000000000001, latitude='49.8730429', longitude='21.5731784', name='SZKOŁA PODSTAWOWA IM. JANA PAWŁA II W STĘPINIE', pm10_avg=4.666666666666667, pm25_avg=4.825, post_code='38-125', pressure_avg=977.3583333333332, street=None, temperature_avg=12.616666666666667, timestamp='2024-10-13 14:41:48'),\n",
              " Row(city='WARZYCE', humidity_avg=68.8, latitude='49.7672', longitude='21.539161', name='SZKOŁA PODSTAWOWA IM. KS. PIOTRA SKARGI W WARZYCACH', pm10_avg=5.675, pm25_avg=5.833333333333333, post_code='38-200', pressure_avg=980.6166666666667, street=None, temperature_avg=13.708333333333334, timestamp='2024-10-13 14:41:48'),\n",
              " Row(city='KORCZYNA', humidity_avg=71.24166666666666, latitude='49.741178', longitude='21.745109', name='SZKOŁA PODSTAWOWA IM. A.FREDRY W KORCZYNIE', pm10_avg=5.141666666666667, pm25_avg=4.175, post_code='38-420', pressure_avg=978.4416666666666, street='UL. ALEKSANDRA FREDRY', temperature_avg=12.908333333333333, timestamp='2024-10-13 14:41:48'),\n",
              " Row(city='CHEŁM', humidity_avg=54.25, latitude='51.144488', longitude='23.450305', name='SZKOŁA PODSTAWOWA NR 3 Z ODDZIAŁAMI INTEGRACYJNYMI IM. ADAMA MICKIEWICZA W CHEŁMIE', pm10_avg=3.6999999999999997, pm25_avg=3.6999999999999997, post_code='22-100', pressure_avg=983.4333333333334, street='UL. REJOWIECKA', temperature_avg=16.325, timestamp='2024-10-13 14:41:48'),\n",
              " Row(city='CHEŁM', humidity_avg=61.425000000000004, latitude='51.13637258', longitude='23.44590149', name='SZKOŁA PODSTAWOWA SPECJALNA NR 12 W CHEŁMIE', pm10_avg=3.658333333333333, pm25_avg=3.658333333333333, post_code='22-100', pressure_avg=983.7416666666667, street='UL. TRUBAKOWSKA', temperature_avg=15.1, timestamp='2024-10-13 14:41:48'),\n",
              " Row(city='CHEŁM', humidity_avg=52.63333333333333, latitude='51.13198101756866', longitude='23.497516599999994', name='TECHNIKUM NR 1 W CHEŁMIE', pm10_avg=4.941666666666666, pm25_avg=4.8500000000000005, post_code='22-100', pressure_avg=983.7166666666667, street='UL. STEFANA BATOREGO', temperature_avg=17.341666666666665, timestamp='2024-10-13 14:41:48'),\n",
              " Row(city='BOLESŁAWIEC', humidity_avg=78.7, latitude='51.267109', longitude='15.545353', name='SZKOŁA PODSTAWOWA NR 3 IM. ARMII KRAJOWEJ W BOLESŁAWCU', pm10_avg=4.175, pm25_avg=4.1000000000000005, post_code='59-700', pressure_avg=984.6166666666667, street='UL. CERAMICZNA', temperature_avg=10.066666666666666, timestamp='2024-10-13 14:41:48'),\n",
              " Row(city='BOLESŁAWIEC', humidity_avg=79.075, latitude='51.260484', longitude='15.563612', name='TECHNIKUM NR 3 W BOLESŁAWCU', pm10_avg=1.0166666666666668, pm25_avg=0.7666666666666666, post_code='59-700', pressure_avg=972.6916666666666, street='UL. KOMUNY PARYSKIEJ', temperature_avg=8.65, timestamp='2024-10-13 14:41:48'),\n",
              " Row(city='KRAKÓW-NOWA HUTA', humidity_avg=69.28333333333333, latitude='50.0764489', longitude='19.8934774', name='TECHNIKUM PRZEDSIĘBIORSTWA BUDOWNICTWA PRZEMYSŁOWEGO \"CHEMOBUDOWA-KRAKÓW\" S.A.', pm10_avg=1.8333333333333333, pm25_avg=1.4166666666666667, post_code='31-953', pressure_avg=985.0, street='OS. OSIEDLE UROCZE', temperature_avg=14.483333333333334, timestamp='2024-10-13 14:41:48'),\n",
              " Row(city='NIEPOŁOMICE', humidity_avg=54.8, latitude='50.035891', longitude='20.216084', name='CENTRUM KSZTAŁCENIA ZAWODOWEGO I USTAWICZNEGO W NIEPOŁOMICACH-BRANŻOWA SZKOŁA I STOPNIA IM. KRAKOWSKIEGO BRACTWA KURKOWEGO', pm10_avg=4.2, pm25_avg=3.5, post_code='32-005', pressure_avg=987.4, street='UL. 3 MAJA', temperature_avg=19.3, timestamp='2024-10-13 14:41:48'),\n",
              " Row(city='KĄTY', humidity_avg=67.2, latitude='49.78725', longitude='20.601274', name='PUBLICZNA SZKOŁA PODSTAWOWA IM.GEN.MARCINA KĄTSKIEGO W KĄTACH', pm10_avg=7.858333333333333, pm25_avg=7.608333333333333, post_code='32-862', pressure_avg=977.0, street=None, temperature_avg=15.416666666666666, timestamp='2024-10-13 14:41:48'),\n",
              " Row(city='WARSZAWA', humidity_avg=89.175, latitude='52.191254', longitude='20.999099', name='SZKOŁA PODSTAWOWA SPECJALNA NR 251', pm10_avg=7.3, pm25_avg=7.291666666666667, post_code='02-638', pressure_avg=991.2166666666667, street='UL. BEŁSKA', temperature_avg=10.158333333333333, timestamp='2024-10-13 14:41:48'),\n",
              " Row(city='ZABRZE', humidity_avg=74.1375, latitude='50.319448', longitude='18.818479', name='SZKOŁA PODSTAWOWA NR 21 IM.JURIJA GAGARINA W ZABRZU', pm10_avg=7.275, pm25_avg=7.2625, post_code='41-803', pressure_avg=976.6750000000001, street='UL. BYTOMSKA', temperature_avg=12.075, timestamp='2024-10-13 14:41:48'),\n",
              " Row(city='LUTKÓWKA', humidity_avg=86.20833333333333, latitude='51.92519026', longitude='20.62648447', name='SZKOŁA PODSTAWOWA IM.MJR. JÓZEFA WIŚNIEWSKIEGO W LUTKÓWCE', pm10_avg=16.099999999999998, pm25_avg=15.958333333333334, post_code='96-323', pressure_avg=981.5916666666667, street='UL. SZKOLNA', temperature_avg=9.875, timestamp='2024-10-13 14:41:48'),\n",
              " Row(city='TOMISŁAW', humidity_avg=77.825, latitude='51.2944897', longitude='15.4271019', name='SZKOŁA PODSTAWOWA IM HENRYKA POBOŻNEGO W TOMISŁAWIU', pm10_avg=0.9583333333333334, pm25_avg=0.8666666666666667, post_code='59-724', pressure_avg=984.8583333333332, street=None, temperature_avg=9.291666666666666, timestamp='2024-10-13 14:41:48'),\n",
              " Row(city='MIEDARY', humidity_avg=86.61666666666667, latitude='50.453468', longitude='18.76254', name='SZKOŁA PODSTAWOWA W MIEDARACH', pm10_avg=2.8166666666666664, pm25_avg=2.15, post_code='42-676', pressure_avg=975.6916666666666, street='UL. GŁÓWNA', temperature_avg=0.8583333333333334, timestamp='2024-10-13 14:41:48'),\n",
              " Row(city='ŻORY', humidity_avg=80.575, latitude='50.04960943', longitude='18.69650962', name='I LICEUM OGÓLNOKSZTAŁCĄCE IM. KAROLA MIARKI W ŻORACH', pm10_avg=4.816666666666666, pm25_avg=4.816666666666666, post_code='44-240', pressure_avg=976.9416666666666, street='UL. POWSTAŃCÓW', temperature_avg=12.908333333333333, timestamp='2024-10-13 14:41:48'),\n",
              " Row(city='BIELSKO-BIAŁA', humidity_avg=75.73333333333333, latitude='49.8105181', longitude='19.0369427', name='SZKOŁA PODSTAWOWA NR 39 DLA DZIECI SŁABOSŁYSZĄCYCH, NIESŁYSZĄCYCH I Z AFAZJĄ IM. MARII GÓRALÓWNY W BIELSKU-BIAŁEJ', pm10_avg=2.983333333333333, pm25_avg=2.6083333333333334, post_code='43-300', pressure_avg=967.225, street='UL. KAMIENICKA', temperature_avg=13.141666666666666, timestamp='2024-10-13 14:41:48'),\n",
              " Row(city='TYCHY', humidity_avg=86.60833333333333, latitude='50.1159024', longitude='19.0031763', name='SZKOŁA PODSTAWOWA SPECJALNA NR 12 W TYCHACH', pm10_avg=4.966666666666666, pm25_avg=4.291666666666667, post_code='43-100', pressure_avg=979.1916666666666, street='UL. EDUKACJI', temperature_avg=12.016666666666666, timestamp='2024-10-13 14:41:48'),\n",
              " Row(city='GDAŃSK', humidity_avg=87.22500000000001, latitude='54.3580527', longitude='18.6527195', name='SZKOŁA PODSTAWOWA NR 57 IM. GEN. WŁADYSŁAWA ANDERSA W GDAŃSKU', pm10_avg=7.416666666666667, pm25_avg=7.416666666666667, post_code='80-858', pressure_avg=996.35, street='UL. AKSAMITNA', temperature_avg=10.166666666666666, timestamp='2024-10-13 14:41:48'),\n",
              " Row(city='BINAROWA', humidity_avg=70.125, latitude='49.7554945', longitude='21.2269249', name='SZKOŁA PODSTAWOWA IM.KRÓLA KAZIMIERZA WIELKIEGO W BINAROWEJ', pm10_avg=7.183333333333334, pm25_avg=7.2250000000000005, post_code='38-340', pressure_avg=978.2833333333333, street=None, temperature_avg=14.233333333333334, timestamp='2024-10-13 14:41:48'),\n",
              " Row(city='GRODZIEC', humidity_avg=67.24166666666666, latitude='52.0381615', longitude='18.0597093', name='SZKOŁA PODSTAWOWA IM. MARII DĄBROWSKIEJ W GRODŹCU', pm10_avg=2.9749999999999996, pm25_avg=2.9499999999999997, post_code='62-580', pressure_avg=990.2166666666667, street=None, temperature_avg=13.041666666666666, timestamp='2024-10-13 14:41:48'),\n",
              " Row(city='PSZCZYNA', humidity_avg=99.7, latitude='49.9729363', longitude='18.9505973', name='SZKOŁA PODSTAWOWA NR 23 SPECJALNA W PSZCZYNIE', pm10_avg=3.8833333333333333, pm25_avg=3.8833333333333333, post_code='43-200', pressure_avg=978.85, street='UL. L. ZAMENHOFA', temperature_avg=12.316666666666668, timestamp='2024-10-13 14:41:48'),\n",
              " Row(city='OSTROWIEC ŚWIĘTOKRZYSKI', humidity_avg=72.35000000000001, latitude='50.94588695', longitude='21.39347022', name='TECHNIKUM NR 1 W OSTROWCU ŚWIĘTOKRZYSKIM', pm10_avg=3.233333333333333, pm25_avg=2.4499999999999997, post_code='27-400', pressure_avg=983.6666666666666, street='OS. SŁONECZNE', temperature_avg=13.450000000000001, timestamp='2024-10-13 14:41:48'),\n",
              " Row(city='WYSOKIE MAZOWIECKIE', humidity_avg=79.425, latitude='52.91943607', longitude='22.51006473', name='TECHNIKUM W WYSOKIEM MAZOWIECKIEM', pm10_avg=9.799999999999999, pm25_avg=9.741666666666667, post_code='18-200', pressure_avg=987.3916666666668, street='UL. JAGIELLOŃSKA', temperature_avg=10.450000000000001, timestamp='2024-10-13 14:41:48'),\n",
              " Row(city='WAŁBRZYCH', humidity_avg=52.725, latitude='50.7669823', longitude='16.298195', name='PUBLICZNA SZKOŁA PODSTAWOWA NR 23 IM.WOJSK OCHRONY POGRANICZA W WAŁBRZYCHU', pm10_avg=4.1, pm25_avg=3.975, post_code='58-301', pressure_avg=950.65, street='UL. ANDRZEJA STRUGA', temperature_avg=10.975, timestamp='2024-10-13 14:41:48'),\n",
              " Row(city='SULIKÓW', humidity_avg=52.15833333333333, latitude='51.0758548', longitude='15.0710322', name='SZKOŁA PODSTAWOWA IM. JANA PAWŁA II W SULIKOWIE', pm10_avg=3.6666666666666665, pm25_avg=3.625, post_code='59-975', pressure_avg=982.6999999999999, street='UL. ZGORZELECKA', temperature_avg=12.366666666666667, timestamp='2024-10-13 14:41:48'),\n",
              " Row(city='BIEŚNIK', humidity_avg=67.49166666666666, latitude='49.6812333', longitude='21.027325', name='SZKOŁA PODSTAWOWA W BIEŚNIKU', pm10_avg=7.891666666666667, pm25_avg=7.558333333333334, post_code='38-331', pressure_avg=962.225, street=None, temperature_avg=13.783333333333333, timestamp='2024-10-13 14:41:48'),\n",
              " Row(city='BIESNA', humidity_avg=58.81666666666666, latitude='49.7307664', longitude='21.0025132', name='SZKOŁA PODSTAWOWA W BIESNEJ', pm10_avg=4.05, pm25_avg=3.483333333333333, post_code='38-324', pressure_avg=977.1083333333332, street=None, temperature_avg=15.525, timestamp='2024-10-13 14:41:48'),\n",
              " Row(city='GŁUSZYCA', humidity_avg=47.43333333333334, latitude='50.6855009', longitude='16.3673149', name='SZKOŁA PODSTAWOWA NR 3 W GŁUSZYCY', pm10_avg=3.8333333333333335, pm25_avg=3.8000000000000003, post_code='58-340', pressure_avg=951.5583333333334, street='UL. KOLEJOWA', temperature_avg=12.975, timestamp='2024-10-13 14:41:48'),\n",
              " Row(city='KATOWICE', humidity_avg=80.59166666666667, latitude='50.2786647', longitude='19.0042579', name='SPOŁECZNA SZKOŁA PODSTAWOWA NASZA DOBRA SZKOŁA W KATOWICACH', pm10_avg=9.458333333333334, pm25_avg=9.325000000000001, post_code='40-110', pressure_avg=973.7166666666667, street='UL. AGNIESZKI', temperature_avg=12.858333333333334, timestamp='2024-10-13 14:41:48'),\n",
              " Row(city='CHORZÓW', humidity_avg=76.16363636363636, latitude='50.2930441', longitude='18.9510056', name='UNIWERSYTECKIE I LICEUM OGÓLNOKSZTAŁCĄCE IM. JULIUSZA SŁOWACKIEGO W CHORZOWIE', pm10_avg=8.872727272727273, pm25_avg=8.845454545454546, post_code='41-500', pressure_avg=972.8363636363637, street='UL. GEN. HENRYKA DĄBROWSKIEGO', temperature_avg=12.881818181818181, timestamp='2024-10-13 14:41:48'),\n",
              " Row(city='WIERBKA', humidity_avg=87.70833333333333, latitude='50.4729797', longitude='19.7159218', name='SZKOŁA PODSTAWOWA NR 2 IM. HENRYKA SIENKIEWICZA W ZESPOLE SZKOLNO-PRZEDSZKOLNYM W WIERBCE', pm10_avg=4.916666666666667, pm25_avg=2.8249999999999997, post_code='42-436', pressure_avg=969.1, street='UL. SZKOLNA', temperature_avg=12.299999999999999, timestamp='2024-10-13 14:41:48'),\n",
              " Row(city='WOLA', humidity_avg=80.97142857142856, latitude='50.0162867', longitude='19.0967092', name='SZKOŁA PODSTAWOWA NR 2 Z ODDZIALAMI INTEGRACYJNYMI IM. JANA PAWŁA W WOLI', pm10_avg=6.3, pm25_avg=5.557142857142857, post_code='43-225', pressure_avg=980.3285714285714, street='UL. LIPOWA', temperature_avg=12.642857142857142, timestamp='2024-10-13 14:41:48'),\n",
              " Row(city='KRAKÓW-PODGÓRZE', humidity_avg=70.41250000000001, latitude='50.0171518', longitude='19.9959686', name='SZKOŁA PODSTAWOWA Z ODDZIAŁAMI INTEGRACYJNYMI NR 148 IM. POLSKICH NOBLISTÓW W KRAKOWIE', pm10_avg=2.3375, pm25_avg=1.8875000000000002, post_code='30-809', pressure_avg=983.325, street='UL. ŻABIA', temperature_avg=14.775, timestamp='2024-10-13 14:41:48'),\n",
              " Row(city='SZAROCIN', humidity_avg=54.458333333333336, latitude='50.7683008', longitude='15.9235531', name='SZKOŁA PODSTAWOWA IM. ZESŁAŃCÓW SYBIRU W SZAROCINIE', pm10_avg=2.6166666666666667, pm25_avg=2.6166666666666667, post_code='58-400', pressure_avg=943.1750000000001, street=None, temperature_avg=10.424999999999999, timestamp='2024-10-13 14:41:48'),\n",
              " Row(city='BIAŁOŁĘKA', humidity_avg=60.925000000000004, latitude='51.64829', longitude='16.2111619', name='SZKOŁA PODSTAWOWA W BIAŁOŁĘCE', pm10_avg=1.1833333333333333, pm25_avg=1.05, post_code='67-221', pressure_avg=995.7416666666667, street=None, temperature_avg=12.983333333333334, timestamp='2024-10-13 14:41:48'),\n",
              " Row(city='ŚWIERCZYNKI', humidity_avg=77.96000000000001, latitude='53.0982246', longitude='18.5292148', name='SZKOŁA PODSTAWOWA IM. LEONA FILCKA W ŚWIERCZYNKACH', pm10_avg=1.7399999999999998, pm25_avg=1.72, post_code='87-148', pressure_avg=989.8, street=None, temperature_avg=10.76, timestamp='2024-10-13 14:41:48'),\n",
              " Row(city='CZERWONKA WŁOŚCIAŃSKA', humidity_avg=83.86666666666666, latitude='52.893054', longitude='21.2176069', name='SZKOŁA PODSTAWOWA IM. MARII KONOPNICKIEJ W CZERWONCE', pm10_avg=14.016666666666666, pm25_avg=11.058333333333332, post_code='06-232', pressure_avg=991.2083333333334, street=None, temperature_avg=9.616666666666665, timestamp='2024-10-13 14:41:48'),\n",
              " Row(city='BREŃ', humidity_avg=70.15833333333333, latitude='50.1085428', longitude='21.0193426', name='BRANŻOWA SZKOŁA I STOPNIA W BRNIU', pm10_avg=5.091666666666667, pm25_avg=5.0249999999999995, post_code='33-210', pressure_avg=988.725, street=None, temperature_avg=15.65, timestamp='2024-10-13 14:41:48'),\n",
              " Row(city='RYCHWAŁD', humidity_avg=72.50909090909092, latitude='49.9038985', longitude='20.9313118', name='PUBLICZNA SZKOŁA PODSTAWOWA W RYCHWAŁDZIE', pm10_avg=5.954545454545454, pm25_avg=5.627272727272727, post_code='33-171', pressure_avg=972.9818181818181, street=None, temperature_avg=14.854545454545455, timestamp='2024-10-13 14:41:48'),\n",
              " Row(city='CZELADŹ', humidity_avg=81.18333333333332, latitude='50.317273', longitude='19.0704415', name='SZKOŁA PODSTAWOWA NR 3 IM. JANUSZA KORCZAKA W CZELADZI', pm10_avg=5.8999999999999995, pm25_avg=5.858333333333333, post_code='41-250', pressure_avg=975.0749999999999, street='UL. STANISŁAWA STASZICA', temperature_avg=12.716666666666667, timestamp='2024-10-13 14:41:48'),\n",
              " Row(city='KONSTANCIN-JEZIORNA', humidity_avg=82.95, latitude='52.0774225', longitude='21.1140705', name='TECHNIKUM NR 1 W KONSTANCINIE-JEZIORNEJ', pm10_avg=7.6000000000000005, pm25_avg=7.583333333333333, post_code='05-520', pressure_avg=992.85, street='UL. MIRKOWSKA', temperature_avg=10.591666666666667, timestamp='2024-10-13 14:41:48'),\n",
              " Row(city='PIASECZNO', humidity_avg=84.04166666666667, latitude='52.064158', longitude='21.0220213', name='TECHNIKUM NR 1 W PIASECZNIE', pm10_avg=9.866666666666667, pm25_avg=9.825000000000001, post_code='05-500', pressure_avg=989.9083333333333, street='UL. SZPITALNA', temperature_avg=10.408333333333333, timestamp='2024-10-13 14:41:48'),\n",
              " Row(city='RAKSZAWA', humidity_avg=59.11666666666667, latitude='50.187515', longitude='22.22671', name='SZKOŁA PODSTAWOWA NR 3 IM. JANA PAWŁA II W RAKSZAWIE', pm10_avg=4.133333333333334, pm25_avg=4.125, post_code='37-111', pressure_avg=978.625, street=None, temperature_avg=17.2, timestamp='2024-10-13 14:41:48'),\n",
              " Row(city='PIEKARY ŚLĄSKIE', humidity_avg=78.14999999999999, latitude='50.3650768', longitude='18.9974136', name='MIEJSKA SZKOŁA PODSTAWOWA NR 13 IM. POWSTAŃCÓW ŚLĄSKICH W PIEKARACH ŚLĄSKICH', pm10_avg=4.408333333333333, pm25_avg=3.266666666666666, post_code='41-949', pressure_avg=976.4499999999999, street='UL. MARII CURIE-SKŁODOWSKIEJ', temperature_avg=11.491666666666667, timestamp='2024-10-13 14:41:48'),\n",
              " Row(city='BIELSKO-BIAŁA', humidity_avg=77.77499999999999, latitude='49.8072544', longitude='18.9841936', name='SZKOŁA PODSTAWOWA NR 32 IM. JANA III SOBIESKIEGO W BIELSKU-BIAŁEJ', pm10_avg=3.158333333333333, pm25_avg=3.158333333333333, post_code='43-382', pressure_avg=966.6333333333333, street='UL. CIESZYŃSKA', temperature_avg=12.291666666666666, timestamp='2024-10-13 14:41:48'),\n",
              " Row(city='SZYNWAŁD', humidity_avg=62.64166666666667, latitude='49.974213', longitude='21.114199', name='SZKOŁA PODSTAWOWA NR 1 IM. ARMII KRAJOWEJ W SZYNWAŁDZIE', pm10_avg=4.933333333333334, pm25_avg=5.0, post_code='33-158', pressure_avg=980.1500000000001, street=None, temperature_avg=15.141666666666666, timestamp='2024-10-13 14:41:48'),\n",
              " Row(city='BIAŁYSTOK', humidity_avg=71.55, latitude='53.1427806', longitude='23.2116598', name='SZKOŁA PODSTAWOWA NR 9 IM. 42 PUŁKU PIECHOTY W BIAŁYMSTOKU', pm10_avg=3.8200000000000003, pm25_avg=3.1399999999999997, post_code='15-281', pressure_avg=991.4100000000001, street='UL. LEGIONOWA', temperature_avg=11.1, timestamp='2024-10-13 14:41:48'),\n",
              " Row(city='MYŚLENICE', humidity_avg=62.975, latitude='49.8334292', longitude='19.9336544', name='NIEPUBLICZNA SZKOŁA PODSTAWOWA NEO MONTESSORI SCHOOL W MYŚLENICACH', pm10_avg=2.7583333333333333, pm25_avg=2.7583333333333333, post_code='32-400', pressure_avg=970.4333333333334, street='UL. ANDRZEJA ŚREDNIAWSKIEGO', temperature_avg=15.116666666666667, timestamp='2024-10-13 14:41:48'),\n",
              " Row(city='ŚWIECIE', humidity_avg=83.6, latitude='53.41280656744466 ', longitude='18.447014082381997', name='SZKOŁA PODSTAWOWA NR 2 IM. ZIEMI ŚWIECKIEJ W ŚWIECIU', pm10_avg=5.266666666666667, pm25_avg=5.233333333333333, post_code='86-100', pressure_avg=992.5416666666666, street='UL. CHMIELNIKI', temperature_avg=10.591666666666667, timestamp='2024-10-13 14:41:48'),\n",
              " Row(city='TORUŃ', humidity_avg=84.74166666666666, latitude='53.0267445', longitude='18.6912438', name='II LICEUM OGÓLNOKSZTAŁCĄCE IM. KRÓLOWEJ JADWIGI W TORUNIU', pm10_avg=1.4583333333333333, pm25_avg=1.0250000000000001, post_code='87-100', pressure_avg=995.0749999999999, street='UL. KOSYNIERÓW KOŚCIUSZKOWSKICH', temperature_avg=10.200000000000001, timestamp='2024-10-13 14:41:48'),\n",
              " Row(city='SANNIKI', humidity_avg=80.8625, latitude='52.3387969', longitude='19.8664386', name='SZKOŁA PODSTAWOWA IM. FRYDERYKA CHOPINA W SANNIKACH', pm10_avg=4.6875, pm25_avg=4.65, post_code='09-540', pressure_avg=988.7875, street='UL. WARSZAWSKA', temperature_avg=10.8, timestamp='2024-10-13 14:41:48'),\n",
              " Row(city='SIEDLISKA', humidity_avg=61.85, latitude='49.7300798', longitude='20.9844157', name='SZKOŁA PODSTAWOWA IM. KS. JANA RECA W SIEDLISKACH', pm10_avg=5.483333333333333, pm25_avg=4.983333333333333, post_code='38-350', pressure_avg=971.625, street=None, temperature_avg=14.633333333333333, timestamp='2024-10-13 14:41:48'),\n",
              " Row(city='KOSZARAWA', humidity_avg=75.39999999999999, latitude='49.6732857', longitude='19.4210576', name='SZKOŁA PODSTAWOWA IM.TADEUSZA KOŚCIUSZKI W KOSZARAWIE', pm10_avg=6.75, pm25_avg=6.641666666666667, post_code='34-332', pressure_avg=934.5, street=None, temperature_avg=11.075000000000001, timestamp='2024-10-13 14:41:48'),\n",
              " Row(city='LACHOWICE', humidity_avg=73.27499999999999, latitude='49.7126179', longitude='19.4703353', name='SZKOŁA PODSTAWOWA IM. ADAMA MICKIEWICZAW LACHOWICACH', pm10_avg=2.7583333333333333, pm25_avg=2.7583333333333333, post_code='34-232', pressure_avg=950.8166666666666, street=None, temperature_avg=12.85, timestamp='2024-10-13 14:41:48'),\n",
              " Row(city='ŚLEMIEŃ', humidity_avg=79.075, latitude='49.717868', longitude='19.3652089', name='SZKOŁA PODSTAWOWA IM. KS. JANA TWARDOWSKIEGO W ŚLEMIENIU', pm10_avg=7.225, pm25_avg=7.125, post_code='34-323', pressure_avg=955.5, street='UL. SZKOLNA', temperature_avg=12.675, timestamp='2024-10-13 14:41:48'),\n",
              " Row(city='WIEWIÓRCZYN', humidity_avg=86.88333333333333, latitude='51.59139253847756', longitude='19.161207571164812', name='SZKOŁA PODSTAWOWA IM. WOJSKA POLSKIEGO W WIEWIÓRCZYNIE', pm10_avg=3.9499999999999997, pm25_avg=3.933333333333333, post_code='98-100', pressure_avg=983.8583333333332, street='UL. SZKOLNA', temperature_avg=8.758333333333333, timestamp='2024-10-13 14:41:48'),\n",
              " Row(city='GLIWICE', humidity_avg=73.60000000000001, latitude='50.2930904', longitude='18.6782232', name='I LICEUM OGÓLNOKSZTAŁCĄCE DWUJĘZYCZNE IM. EDWARDA DEMBOWSKIEGO W GLIWICACH', pm10_avg=2.525, pm25_avg=2.5166666666666666, post_code='44-100', pressure_avg=981.3083333333334, street='UL. ZIMNEJ WODY', temperature_avg=11.958333333333334, timestamp='2024-10-13 14:41:48'),\n",
              " Row(city='ŁĘKAWICA', humidity_avg=76.34166666666667, latitude='49.72064130457127', longitude='19.263248942329625', name='ZESPÓŁ SZKÓŁ SZKOŁA PODSTAWOWA IM. BŁ. O. MICHAŁA TOMASZKA W ŁĘKAWICY', pm10_avg=9.575000000000001, pm25_avg=9.358333333333333, post_code='34-321', pressure_avg=963.4499999999999, street='UL. SPORTOWA', temperature_avg=12.858333333333334, timestamp='2024-10-13 14:41:48'),\n",
              " Row(city='WITANOWICE', humidity_avg=72.925, latitude='49.9184852', longitude='19.51365', name='ZESPÓŁ SZKOLNO-PRZEDSZKOLNY W WITANOWICACH-SZKOŁA PODSTAWOWA IM.JANA KOCHANOWSKIEGO W WITANOWICACH', pm10_avg=3.4583333333333335, pm25_avg=3.4583333333333335, post_code='34-103', pressure_avg=973.6, street='UL. JANA PAWŁA II', temperature_avg=13.791666666666666, timestamp='2024-10-13 14:41:48'),\n",
              " Row(city='SUŁKÓW', humidity_avg=70.44166666666666, latitude='49.9883821', longitude='20.1069823', name='SZKOŁA PODSTAWOWA NR 2 IM. TADEUSZA KOŚCIUSZKI W WIELICZCE - FILIA W SUŁKOWIE', pm10_avg=4.091666666666667, pm25_avg=3.6666666666666665, post_code='32-020', pressure_avg=976.1333333333333, street=None, temperature_avg=14.508333333333333, timestamp='2024-10-13 14:41:48'),\n",
              " Row(city='CHRZANÓW', humidity_avg=82.25, latitude='50.1345643', longitude='19.4001765', name='BRANŻOWA SZKOŁA I STOPNIA W CHRZANOWIE', pm10_avg=5.833333333333333, pm25_avg=5.808333333333334, post_code='32-500', pressure_avg=973.8333333333334, street='UL. PADEREWSKIEGO', temperature_avg=12.924999999999999, timestamp='2024-10-13 14:41:48'),\n",
              " Row(city='CHRZANÓW', humidity_avg=79.325, latitude='50.1394988', longitude='19.3974271', name='I LICEUM OGÓLNOKSZTAŁCĄCE IM. STANISŁAWA STASZICA W CHRZANOWIE', pm10_avg=6.4, pm25_avg=6.4, post_code='32-500', pressure_avg=972.975, street='UL. J. PIŁSUDSKIEGO', temperature_avg=13.275, timestamp='2024-10-13 14:41:48'),\n",
              " Row(city='BRODNICA', humidity_avg=81.8, latitude='53.2610089', longitude='19.39751', name='SZKOŁA PODSTAWOWA NR 3 IM. WŁADYSŁAWA JAGIEŁŁY W BRODNICY', pm10_avg=6.6499999999999995, pm25_avg=6.633333333333333, post_code='87-300', pressure_avg=990.9, street='UL. WIEJSKA', temperature_avg=11.066666666666668, timestamp='2024-10-13 14:41:48'),\n",
              " Row(city='KORCZEW', humidity_avg=72.25833333333334, latitude='52.3530467', longitude='22.613639', name='PUBLICZNA SZKOŁA PODSTAWOWA W KORCZEWIE', pm10_avg=5.675, pm25_avg=5.6499999999999995, post_code='08-108', pressure_avg=987.85, street='UL. SZKOLNA', temperature_avg=11.65, timestamp='2024-10-13 14:41:48'),\n",
              " Row(city='TOMICE', humidity_avg=74.13, latitude='49.8974869', longitude='19.4837812', name='SZKOŁA PODSTAWOWA IM.ADAMA MICKIEWICZA W TOMICACH', pm10_avg=3.75, pm25_avg=3.75, post_code='34-100', pressure_avg=976.07, street='UL. FLORIAŃSKA', temperature_avg=13.9, timestamp='2024-10-13 14:41:48'),\n",
              " Row(city='JAWORNIK POLSKI', humidity_avg=67.25833333333334, latitude='49.8907589', longitude='22.2887351', name='SZKOŁA PODSTAWOWA IM. JANA PAWŁA II W JAWORNIKU POLSKIM', pm10_avg=1.0333333333333334, pm25_avg=1.175, post_code='37-232', pressure_avg=976.025, street=None, temperature_avg=14.083333333333334, timestamp='2024-10-13 14:41:48'),\n",
              " Row(city='BĘDZIN', humidity_avg=83.0, latitude='50.3255999', longitude='19.1254121', name='SZKOŁA PODSTAWOWA NR 4 IM. STANISŁAWA STASZICA W BĘDZINIE', pm10_avg=5.533333333333334, pm25_avg=5.533333333333334, post_code='42-500', pressure_avg=974.9583333333334, street='UL. WISŁAWY SZYMBORSKIEJ', temperature_avg=12.633333333333333, timestamp='2024-10-13 14:41:48'),\n",
              " Row(city='KOBIERZYN', humidity_avg=61.17999999999999, latitude='50.104034', longitude='20.9939935', name='SZKOŁA PODSTAWOWA W KOBIERZYNIE', pm10_avg=8.27, pm25_avg=8.18, post_code='33-140', pressure_avg=1100.0, street=None, temperature_avg=15.36, timestamp='2024-10-13 14:41:48'),\n",
              " Row(city='NIEMOJKI', humidity_avg=67.84166666666667, latitude='52.2662892', longitude='22.6982214', name='SZKOŁA PODSTAWOWA IM. STEFANA ŻEROMSKIEGO W NIEMOJKACH', pm10_avg=6.241666666666666, pm25_avg=6.175, post_code='08-200', pressure_avg=986.7166666666667, street=None, temperature_avg=13.200000000000001, timestamp='2024-10-13 14:41:48'),\n",
              " Row(city='GRÓDEK', humidity_avg=66.4375, latitude='53.093361', longitude='23.6733713', name='SZKOŁA PODSTAWOWA IMIENIA PARTYZANTÓW BRACI MICHAŁA I ALEKSANDRA CHRZANOWSKICH W GRÓDKU', pm10_avg=2.0125, pm25_avg=2.0125, post_code='16-040', pressure_avg=988.05, street='UL. ALEKSANDRA I GRZEGORZA CHODKIEWICZÓW', temperature_avg=12.4375, timestamp='2024-10-13 14:41:48'),\n",
              " Row(city='NOWA SÓL', humidity_avg=56.75, latitude='51.8085526', longitude='15.7074217', name='SZKOŁA PODSTAWOWA NR 6 W NOWEJ SOLI', pm10_avg=1.1416666666666666, pm25_avg=0.9833333333333334, post_code='67-100', pressure_avg=996.8083333333333, street='UL. KOŚCIUSZKI', temperature_avg=13.0, timestamp='2024-10-13 14:41:48'),\n",
              " Row(city='KAŃCZUGA', humidity_avg=62.800000000000004, latitude='49.9833529', longitude='22.4116071', name='SZKOŁA PODSTAWOWA IM. KRÓLA JANA III SOBIESKIEGO W KAŃCZUDZE', pm10_avg=5.333333333333333, pm25_avg=4.816666666666666, post_code='37-220', pressure_avg=986.4499999999999, street='UL. SZKOLNA', temperature_avg=15.233333333333334, timestamp='2024-10-13 14:41:48'),\n",
              " Row(city='LEGIONOWO', humidity_avg=82.61666666666666, latitude='52.39938577565952', longitude='20.92648791534102', name='SZKOŁA PODSTAWOWA NR 3 IM. JANUSZA KUSOCIŃSKIEGO W LEGIONOWIE', pm10_avg=12.075000000000001, pm25_avg=9.549999999999999, post_code='05-120', pressure_avg=995.4416666666666, street='UL. WŁADYSŁAWA BRONIEWSKIEGO', temperature_avg=9.525, timestamp='2024-10-13 14:41:48'),\n",
              " Row(city='ŻOLIBORZ', humidity_avg=85.61666666666667, latitude='52.2488761', longitude='21.0082717', name='OGÓLNOKSZTAŁCĄCA SZKOŁA MUZYCZNA II ST. W WARSZAWIE', pm10_avg=8.625, pm25_avg=8.608333333333333, post_code='01-530', pressure_avg=991.7083333333334, street='UL. ZYGMUNTA KRASIŃSKIEGO', temperature_avg=10.283333333333333, timestamp='2024-10-13 14:41:48'),\n",
              " Row(city='ŁOSICE', humidity_avg=69.7, latitude='52.2001584', longitude='22.7247614', name='II TECHNIKUM W ŁOSICACH', pm10_avg=5.458333333333333, pm25_avg=5.458333333333333, post_code='08-200', pressure_avg=986.9583333333334, street='UL. RADZYŃSKA', temperature_avg=13.291666666666666, timestamp='2024-10-13 14:41:48'),\n",
              " Row(city='MYSŁOWICE', humidity_avg=80.54166666666667, latitude='50.239944', longitude='19.1324669', name='SZKOŁA PODSTAWOWA NR 9 IM. BERNARDA ŚWIERCZYNY W MYSŁOWICACH', pm10_avg=3.966666666666667, pm25_avg=3.966666666666667, post_code='41-400', pressure_avg=973.9916666666667, street='UL. ARMII KRAJOWEJ', temperature_avg=13.075000000000001, timestamp='2024-10-13 14:41:48'),\n",
              " Row(city='CZERWIONKA-LESZCZYNY', humidity_avg=79.7, latitude='50.1507066', longitude='18.6745918', name='SZKOŁA PODSTAWOWA NR 5 IM. HENRYKA SIENKIEWICZA W CZERWIONCE-LESZCZYNACH', pm10_avg=10.016666666666667, pm25_avg=9.950000000000001, post_code='44-230', pressure_avg=976.8249999999999, street='UL. SZKOLNA', temperature_avg=12.916666666666666, timestamp='2024-10-13 14:41:48'),\n",
              " Row(city='RADLIN', humidity_avg=91.34166666666665, latitude='50.0469368', longitude='18.4495211', name='SZKOŁA PODSTAWOWA NR 3 IM. ZIEMI RADLIŃSKIEJ W RADLINIE', pm10_avg=7.7, pm25_avg=6.916666666666667, post_code='44-310', pressure_avg=975.2416666666667, street='UL. JÓZEFA RYMERA', temperature_avg=11.25, timestamp='2024-10-13 14:41:48'),\n",
              " Row(city='NEHRYBKA', humidity_avg=65.6, latitude='49.753056', longitude='22.804719', name='SZKOŁA PODSTAWOWA IM. TADEUSZA KOŚCIUSZKI W NEHRYBCE', pm10_avg=2.0500000000000003, pm25_avg=1.6416666666666666, post_code='37-733', pressure_avg=986.4833333333332, street=None, temperature_avg=15.216666666666667, timestamp='2024-10-13 14:41:48'),\n",
              " Row(city='DOBKOWICE', humidity_avg=62.791666666666664, latitude='49.92367017702528 ', longitude='22.706004268724662', name='SZKOŁA PODSTAWOWA IM.JANA PAWŁA II W DOBKOWICACH', pm10_avg=3.1, pm25_avg=3.283333333333333, post_code='37-554', pressure_avg=985.5500000000001, street=None, temperature_avg=15.741666666666667, timestamp='2024-10-13 14:41:48'),\n",
              " Row(city='ŁOPUSZKA WIELKA', humidity_avg=66.64166666666667, latitude='49.9363498', longitude='22.3907875', name='SZKOŁA PODSTAWOWA IM. ŚW. JANA KANTEGO W ŁOPUSZCE WIELKIEJ', pm10_avg=4.5249999999999995, pm25_avg=4.191666666666666, post_code='37-222', pressure_avg=982.1999999999999, street=None, temperature_avg=14.75, timestamp='2024-10-13 14:41:48'),\n",
              " Row(city='GAĆ', humidity_avg=58.333333333333336, latitude='50.02446508943701', longitude='22.373016099999994', name='SZKOŁA PODSTAWOWA IM. IGNACEGO SOLARZA W GACI', pm10_avg=4.483333333333333, pm25_avg=3.658333333333333, post_code='37-207', pressure_avg=985.975, street=None, temperature_avg=14.75, timestamp='2024-10-13 14:41:48'),\n",
              " Row(city='WOLA WĘGIERSKA', humidity_avg=69.55, latitude='49.8633435', longitude='22.5612181', name='SZKOŁA PODSTAWOWA W WOLI WĘGIERSKIEJ', pm10_avg=2.9416666666666664, pm25_avg=2.375, post_code='37-560', pressure_avg=980.9833333333332, street=None, temperature_avg=15.308333333333332, timestamp='2024-10-13 14:41:48'),\n",
              " Row(city='RYBNIK', humidity_avg=83.6, latitude='50.06920', longitude='18.54822', name='IV LICEUM OGÓLNOKSZTAŁCĄCE IM. MIKOŁAJA KOPERNIKA W RYBNIKU', pm10_avg=4.34, pm25_avg=3.62, post_code='44-206', pressure_avg=977.6600000000001, street='UL. 1 MAJA', temperature_avg=12.06, timestamp='2024-10-13 14:41:48'),\n",
              " Row(city='CZERWIONKA-LESZCZYNY', humidity_avg=80.38333333333334, latitude='50.1489305', longitude='18.6774678', name='SZKOŁA PODSTAWOWA NR 3 IM. WŁ.BRONIEWSKIEGO W CZERWIONCE-LESZCZYNACH', pm10_avg=6.341666666666666, pm25_avg=6.266666666666667, post_code='44-238', pressure_avg=977.5916666666667, street='UL. BRONIEWSKIEGO', temperature_avg=11.991666666666667, timestamp='2024-10-13 14:41:48'),\n",
              " Row(city='NOWA SÓL', humidity_avg=59.98333333333333, latitude='51.80344', longitude='15.71707', name='SZKOŁA PODSTAWOWA NR 8 IM. JANUSZA KORCZAKA W NOWEJ SOLI', pm10_avg=1.45, pm25_avg=1.2249999999999999, post_code='67-100', pressure_avg=996.6333333333333, street='UL. MATEJKI', temperature_avg=12.525, timestamp='2024-10-13 14:41:48'),\n",
              " Row(city='WAŁBRZYCH', humidity_avg=40.78333333333333, latitude='50.8102623', longitude='16.2781394', name='PUBLICZNA SZKOŁA PODSTAWOWA NR 15 IM. JANA KOCHANOWSKIEGO W WAŁBRZYCHU', pm10_avg=1.2750000000000001, pm25_avg=1.2666666666666666, post_code='58-309', pressure_avg=958.7416666666667, street='UL. LUDWIKA HIRSZFELDA', temperature_avg=14.058333333333332, timestamp='2024-10-13 14:41:48'),\n",
              " Row(city='LUBAWA', humidity_avg=94.45, latitude='53.50147754', longitude='19.75109840', name='SZKOŁA PODSTAWOWA IM. MIKOŁAJA KOPERNIKA W LUBAWIE', pm10_avg=10.525, pm25_avg=8.549999999999999, post_code='14-260', pressure_avg=984.9666666666667, street='UL. RZEPNIKOWSKIEGO', temperature_avg=8.633333333333333, timestamp='2024-10-13 14:41:48'),\n",
              " Row(city='GŁOGÓWEK', humidity_avg=100.0, latitude='50.3528547', longitude='17.862977', name='SZKOŁA PODSTAWOWA NR 4 SPECJALNA W GŁOGÓWKU', pm10_avg=4.590909090909091, pm25_avg=3.6636363636363636, post_code='48-250', pressure_avg=986.6181818181817, street='UL. BATOREGO', temperature_avg=8.927272727272728, timestamp='2024-10-13 14:41:48'),\n",
              " Row(city='SKRZYSZÓW', humidity_avg=60.88333333333333, latitude='49.9958784', longitude='21.0570168', name='SZKOŁA PODSTAWOWA NR 1 IM. JANA PAWŁA II W SKRZYSZOWIE', pm10_avg=4.258333333333334, pm25_avg=3.5666666666666664, post_code='33-156', pressure_avg=982.6500000000001, street=None, temperature_avg=15.516666666666666, timestamp='2024-10-13 14:41:48'),\n",
              " Row(city='GORLICE', humidity_avg=69.61666666666666, latitude='49.6546159', longitude='21.1596321', name='TECHNIKUM NR 3 W GORLICACH', pm10_avg=4.058333333333334, pm25_avg=4.183333333333333, post_code='38-300', pressure_avg=977.3083333333333, street='UL. ARIAŃSKA', temperature_avg=14.391666666666666, timestamp='2024-10-13 14:41:48'),\n",
              " Row(city='BYTOM', humidity_avg=76.13333333333333, latitude='50.3532975', longitude='18.9290419', name='SZKOŁA PODSTAWOWA NR 46 IM. BRACTWA KURKOWEGO GRODU BYTOMSKIEGO W BYTOMIU', pm10_avg=6.8999999999999995, pm25_avg=6.8999999999999995, post_code='41-902', pressure_avg=972.6999999999999, street='UL. BOLESŁAWA PRUSA', temperature_avg=13.200000000000001, timestamp='2024-10-13 14:41:48'),\n",
              " Row(city='PODDĘBICE', humidity_avg=83.35000000000001, latitude='51.8883861', longitude='18.95681689', name='TECHNIKUM IM. JANA PAWŁA II W PODDĘBICACH', pm10_avg=4.366666666666667, pm25_avg=4.316666666666666, post_code='99-200', pressure_avg=988.5166666666668, street='UL. POLNA', temperature_avg=9.216666666666667, timestamp='2024-10-13 14:41:48'),\n",
              " Row(city='GÓRA', humidity_avg=57.18571428571429, latitude='51.6632922541776', longitude='16.529885235098394', name='SZKOŁA PODSTAWOWA NR 1 IM. BOLESŁAWA PRUSA W GÓRZE', pm10_avg=7.942857142857143, pm25_avg=5.585714285714286, post_code='56-200', pressure_avg=993.3142857142857, street='UL. MARII KONOPNICKIEJ', temperature_avg=12.799999999999999, timestamp='2024-10-13 14:41:48'),\n",
              " Row(city='KRAKÓW-PODGÓRZE', humidity_avg=71.11666666666666, latitude='50.0483394', longitude='19.9610702', name='KOLEGIUM EUROPEJSKIE - EUROPEJSKIE NIEPUBLICZNE LICEUM OGÓLNOKSZTAŁCĄCE W KRAKOWIE', pm10_avg=1.2666666666666666, pm25_avg=0.9083333333333333, post_code='30-710', pressure_avg=985.7916666666666, street='UL. ŚLUSARSKA', temperature_avg=15.191666666666668, timestamp='2024-10-13 14:41:48'),\n",
              " Row(city='KOPCIE', humidity_avg=67.30833333333334, latitude='50.3401797', longitude='21.8655666', name='SZKOŁA PODSTAWOWA W KOPCIACH', pm10_avg=4.125, pm25_avg=2.908333333333333, post_code='36-121', pressure_avg=988.7166666666667, street=None, temperature_avg=16.658333333333335, timestamp='2024-10-13 14:41:48'),\n",
              " Row(city='ŁĘGAJNY', humidity_avg=85.96666666666665, latitude='53.8204508', longitude='20.6357122', name='SZKOŁA PODSTAWOWA IM. JANA PAWŁA II W ŁĘGAJNACH', pm10_avg=9.325000000000001, pm25_avg=8.533333333333333, post_code='11-010', pressure_avg=986.1333333333333, street='UL. OGRODOWA', temperature_avg=8.041666666666666, timestamp='2024-10-13 14:41:48'),\n",
              " Row(city='WARSZAWA', humidity_avg=80.95833333333333, latitude='52.2861058', longitude='21.0377168', name='SZKOŁA PODSTAWOWA Z ODDZIAŁAMI INTEGRACYJNYMI NR 354 IM. ADAMA ASNYKA W WARSZAWIE', pm10_avg=8.516666666666667, pm25_avg=8.466666666666667, post_code='03-759', pressure_avg=992.6916666666666, street='UL. OTWOCKA', temperature_avg=10.291666666666666, timestamp='2024-10-13 14:41:48'),\n",
              " Row(city='MROZY', humidity_avg=57.05833333333334, latitude='52.156954', longitude='21.8026971', name='SZKOŁA PODSTAWOWA NR 2 W MROZACH W ZESPOLE SZKÓŁ IM. ADAMA MICKIEWICZA W MROZACH', pm10_avg=8.508333333333333, pm25_avg=7.0, post_code='05-320', pressure_avg=986.4250000000001, street='UL. LICEALNA', temperature_avg=16.325, timestamp='2024-10-13 14:41:48'),\n",
              " Row(city='ŻYWIEC', humidity_avg=79.53333333333333, latitude='49.6912999', longitude='19.1823983', name='SZKOŁA PODSTAWOWA NR 5 IM. HUGONA KOŁŁĄTAJA W ŻYWCU', pm10_avg=7.758333333333334, pm25_avg=6.8999999999999995, post_code='34-300', pressure_avg=968.3166666666666, street='UL. POWSTAŃCÓW ŚLĄSKICH', temperature_avg=12.633333333333333, timestamp='2024-10-13 14:41:48'),\n",
              " Row(city='DOMINIKOWICE', humidity_avg=69.58, latitude='49.6508596', longitude='21.2188105', name='SZKOŁA PODSTAWOWA IM. ADAMA MICKIEWICZA W DOMINIKOWICACH', pm10_avg=5.0600000000000005, pm25_avg=4.779999999999999, post_code='38-303', pressure_avg=973.75, street=None, temperature_avg=13.1, timestamp='2024-10-13 14:41:48'),\n",
              " Row(city='KĘTY', humidity_avg=72.55833333333334, latitude='49.8781411', longitude='19.215336', name='I LICEUM OGÓLNOKSZTAŁCĄCE IM. STANISŁAWA WYSPIAŃSKIEGO W KĘTACH', pm10_avg=2.4833333333333334, pm25_avg=2.4833333333333334, post_code='32-650', pressure_avg=974.0916666666667, street='UL. STANISŁAWA WYSPIAŃSKIEGO', temperature_avg=13.933333333333332, timestamp='2024-10-13 14:41:48'),\n",
              " Row(city='WILCZA WOLA', humidity_avg=57.10909090909092, latitude='50.386554', longitude='21.9142446', name='SZKOŁA PODSTAWOWA W SPIACH', pm10_avg=6.136363636363637, pm25_avg=5.872727272727272, post_code='36-121', pressure_avg=988.3818181818183, street=None, temperature_avg=16.754545454545454, timestamp='2024-10-13 14:41:48'),\n",
              " Row(city='MECHOWIEC', humidity_avg=54.65, latitude='50.2859146', longitude='21.8112245', name='SZKOŁA PODSTAWOWA W MECHOWCU', pm10_avg=5.191666666666666, pm25_avg=4.7250000000000005, post_code='36-122', pressure_avg=987.7333333333332, street=None, temperature_avg=17.366666666666667, timestamp='2024-10-13 14:41:48'),\n",
              " Row(city='ROŹWIENICA', humidity_avg=70.06666666666666, latitude='49.9522037', longitude='22.5987701', name='SZKOŁA PODSTAWOWA W ROŹWIENICY', pm10_avg=4.791666666666667, pm25_avg=4.258333333333333, post_code='37-565', pressure_avg=984.0500000000001, street=None, temperature_avg=15.0, timestamp='2024-10-13 14:41:48'),\n",
              " Row(city='SUŁKOWICE', humidity_avg=76.29166666666667, latitude='49.8345846', longitude='19.3430192', name='SZKOŁA PODSTAWOWA IMIENIA KOMISJI EDUKACJI NARODOWEJ W SUŁKOWICACH- ŁĘGU', pm10_avg=3.5749999999999997, pm25_avg=3.5749999999999997, post_code='34-120', pressure_avg=963.3000000000001, street='UL. CENTRALNA', temperature_avg=12.866666666666667, timestamp='2024-10-13 14:41:48'),\n",
              " Row(city='SIEMIANOWICE ŚLĄSKIE', humidity_avg=83.08333333333333, latitude='50.3144126', longitude='18.9999671', name='III LICEUM OGÓLNOKSZTAŁCĄCE W SIEMIANOWICACH ŚLĄSKICH', pm10_avg=5.208333333333333, pm25_avg=5.208333333333333, post_code='41-100', pressure_avg=973.4833333333332, street='UL. KATOWICKA', temperature_avg=12.591666666666667, timestamp='2024-10-13 14:41:48'),\n",
              " Row(city='KĘTY', humidity_avg=71.31666666666666, latitude='49.8807299', longitude='19.2228003', name='NIEPUBLICZNA SZKOŁA PODSTAWOWA FUNDACJI KRÓLOWEJ ŚWIĘTEJ JADWIGI W KĘTACH', pm10_avg=2.4499999999999997, pm25_avg=2.4499999999999997, post_code='32-650', pressure_avg=974.2083333333334, street='UL. ŻWIRKI I WIGURY', temperature_avg=14.049999999999999, timestamp='2024-10-13 14:41:48'),\n",
              " Row(city='KLUCZBORK', humidity_avg=84.325, latitude='50.980243', longitude='18.208403', name='SPOŁECZNA SZKOŁA PODSTAWOWA SPOŁECZNEGO TOWARZYSTWA OŚWIATOWEGO W KLUCZBORKU', pm10_avg=1.6333333333333335, pm25_avg=1.0916666666666666, post_code='46-203', pressure_avg=988.6583333333333, street='UL. LIGONIA', temperature_avg=9.208333333333334, timestamp='2024-10-13 14:41:48'),\n",
              " Row(city='GLIWICE', humidity_avg=74.19166666666666, latitude='50.320351', longitude='18.657136', name='SZKOŁA PODSTAWOWA NR 12 IM. MIKOŁAJA KOPERNIKA W GLIWICACH', pm10_avg=1.3166666666666667, pm25_avg=1.2833333333333334, post_code='44-117', pressure_avg=983.475, street='UL. MIKOŁAJA KOPERNIKA', temperature_avg=11.358333333333334, timestamp='2024-10-13 14:41:48'),\n",
              " Row(city='STALOWA WOLA', humidity_avg=67.04166666666667, latitude='50.5435751', longitude='22.0833578', name='PUBLICZNA SZKOŁA PODSTAWOWA NR 5 IM. ENERGETYKÓW W STALOWEJ WOLI', pm10_avg=3.4, pm25_avg=2.566666666666667, post_code='37-450', pressure_avg=991.3166666666666, street='UL. ENERGETYKÓW', temperature_avg=15.1, timestamp='2024-10-13 14:41:48'),\n",
              " Row(city='KŁODZKO', humidity_avg=63.53333333333333, latitude='50.4342639', longitude='16.66483421', name='SZKOŁA PODSTAWOWA SPECJALNA NR 9 W KŁODZKU', pm10_avg=1.8166666666666667, pm25_avg=1.8166666666666667, post_code='57-300', pressure_avg=972.275, street='UL. STANISŁAWA WYSPIAŃSKIEGO', temperature_avg=12.85, timestamp='2024-10-13 14:41:48'),\n",
              " Row(city='LUBOMIERZ', humidity_avg=64.90833333333333, latitude='51.0102648', longitude='15.5085272', name='SZKOŁA PODSTAWOWA IM. JANA PAWŁA II W LUBOMIERZU', pm10_avg=1.2333333333333334, pm25_avg=1.1916666666666667, post_code='59-623', pressure_avg=964.125, street='UL. TADEUSZA KOŚCIUSZKI', temperature_avg=11.266666666666666, timestamp='2024-10-13 14:41:48'),\n",
              " Row(city='WOŁÓW', humidity_avg=50.43333333333334, latitude='51.3377004', longitude='16.647069', name='LICEUM OGÓLNOKSZTAŁCĄCE IM. MIKOŁAJA KOPERNIKA W WOŁOWIE', pm10_avg=1.8666666666666665, pm25_avg=1.7666666666666666, post_code='56-100', pressure_avg=992.5416666666666, street='PL. JANA SOBIESKIEGO', temperature_avg=15.899999999999999, timestamp='2024-10-13 14:41:48'),\n",
              " Row(city='CZERWIONKA-LESZCZYNY', humidity_avg=84.27692307692307, latitude='50.1489305', longitude='18.6774678', name='SZKOŁA PODSTAWOWA NR 8 IM. ROMANA I ZDZISŁAWA PIETRASÓW W CZERWIONCE-LESZCZYNACH', pm10_avg=5.769230769230769, pm25_avg=5.323076923076924, post_code='44-230', pressure_avg=1100.0, street='UL. PROSTA', temperature_avg=11.707692307692307, timestamp='2024-10-13 14:41:48'),\n",
              " Row(city='LUBANICE', humidity_avg=58.31666666666666, latitude='51.6968528', longitude='15.1026979', name='SZKOŁA PODSTAWOWA W LUBANICACH', pm10_avg=1.7333333333333334, pm25_avg=1.6416666666666666, post_code='68-200', pressure_avg=988.6583333333333, street=None, temperature_avg=12.016666666666666, timestamp='2024-10-13 14:41:48'),\n",
              " Row(city='ŻAGAŃ', humidity_avg=52.5, latitude='51.6184885', longitude='15.3217354', name='TECHNIKUM W ŻAGANIU', pm10_avg=3.7583333333333333, pm25_avg=3.6166666666666667, post_code='68-100', pressure_avg=993.4583333333334, street='UL. POMORSKA', temperature_avg=13.691666666666668, timestamp='2024-10-13 14:41:48'),\n",
              " Row(city='KROSNO ODRZAŃSKIE', humidity_avg=62.36, latitude='52.0550373', longitude='15.0972099', name='SZKOŁA PODSTAWOWA NR 2 IM. JANA KILIŃSKIEGO W KROŚNIE ODRZAŃSKIM', pm10_avg=1.64, pm25_avg=1.4300000000000002, post_code='66-600', pressure_avg=994.61, street='UL. MONIUSZKI', temperature_avg=12.790000000000001, timestamp='2024-10-13 14:41:48'),\n",
              " Row(city='SIECIEBORZYCE', humidity_avg=58.949999999999996, latitude='51.6630943', longitude='15.5375655', name='SZKOŁA PODSTAWOWA W SIECIEBORZYCACH', pm10_avg=1.25, pm25_avg=1.1583333333333334, post_code='67-320', pressure_avg=993.7833333333333, street=None, temperature_avg=13.066666666666668, timestamp='2024-10-13 14:41:48'),\n",
              " Row(city='LASKOWA', humidity_avg=66.53333333333333, latitude='49.7610405', longitude='20.4496765', name='SZKOŁA PODSTAWOWA IM. JANUSZA KORCZAKA W LASKOWEJ', pm10_avg=2.1, pm25_avg=1.825, post_code='34-602', pressure_avg=972.3499999999999, street=None, temperature_avg=14.791666666666666, timestamp='2024-10-13 14:41:48'),\n",
              " Row(city='RUDA ŚLĄSKA', humidity_avg=84.21666666666667, latitude='50.307029', longitude='18.86383', name='SZKOŁA PODSTAWOWA NR 35 SPECJALNA W RUDZIE ŚLĄSKIEJ', pm10_avg=4.933333333333334, pm25_avg=4.933333333333334, post_code='41-700', pressure_avg=973.8083333333333, street='UL. MAGAZYNOWA', temperature_avg=11.641666666666666, timestamp='2024-10-13 14:41:48'),\n",
              " Row(city='CZEMIERNIKI', humidity_avg=66.675, latitude='51.672757', longitude='22.626976', name='SZKOŁA PODSTAWOWA IMIENIA TADEUSZA KOŚCIUSZKI W CZEMIERNIKACH', pm10_avg=7.816666666666666, pm25_avg=7.341666666666666, post_code='21-306', pressure_avg=990.375, street='UL. KOCKA', temperature_avg=14.549999999999999, timestamp='2024-10-13 14:41:48'),\n",
              " Row(city='TURKA', humidity_avg=80.90833333333333, latitude='52.74592765', longitude='21.82001978', name='PUBLICZNA SZKOŁA PODSTAWOWA IM.POWSTAŃCÓW 1863 ROKU W NAGOSZEWIE', pm10_avg=7.125, pm25_avg=5.983333333333333, post_code='07-300', pressure_avg=993.0666666666666, street=None, temperature_avg=9.075000000000001, timestamp='2024-10-13 14:41:48'),\n",
              " Row(city='NIELUBIA', humidity_avg=67.85, latitude='51.6408904', longitude='15.9992117', name='SZKOŁA PODSTAWOWA IM. ŚW. JANA PAWŁA II W NIELUBI', pm10_avg=4.0600000000000005, pm25_avg=3.9299999999999997, post_code='67-231', pressure_avg=992.3299999999999, street=None, temperature_avg=11.98, timestamp='2024-10-13 14:41:48'),\n",
              " Row(city='WAŁBRZYCH', humidity_avg=50.49166666666667, latitude='50.8040348', longitude='16.2868599', name='NIEPUBLICZNA OGÓLNOKSZTAŁCĄCA SZKOŁA MUZYCZNA I STOPNIA CLEVER W WAŁBRZYCHU', pm10_avg=1.9666666666666668, pm25_avg=1.9000000000000001, post_code='58-302', pressure_avg=958.0500000000001, street='UL. ARMII KRAJOWEJ', temperature_avg=11.783333333333333, timestamp='2024-10-13 14:41:48'),\n",
              " Row(city='JELENIA GÓRA', humidity_avg=50.94166666666666, latitude='50.866245288517455', longitude='15.683888637696663', name='II LICEUM OGÓLNOKSZTAŁCĄCE IM. CYPRIANA KAMILA NORWIDA W JELENIEJ GÓRZE', pm10_avg=1.9416666666666667, pm25_avg=1.925, post_code='58-560', pressure_avg=967.0749999999999, street='UL. GIMNAZJALNA', temperature_avg=12.883333333333333, timestamp='2024-10-13 14:41:48'),\n",
              " Row(city='BODZEWO', humidity_avg=62.6625, latitude='51.8485949', longitude='17.070719', name='SZKOŁA PODSTAWOWA Z ODDZIAŁAMI INTEGRACYJNYMI IM. POWSTAŃCÓW WIELKOPOLSKICH W BODZEWIE', pm10_avg=0.6625, pm25_avg=0.275, post_code='63-820', pressure_avg=991.6875, street=None, temperature_avg=10.825, timestamp='2024-10-13 14:41:48'),\n",
              " Row(city='MILEJCZYCE', humidity_avg=70.45833333333333, latitude='52.5189199', longitude='23.1365379', name='SZKOŁA PODSTAWOWA W MILEJCZYCACH', pm10_avg=3.8833333333333333, pm25_avg=3.8833333333333333, post_code='17-332', pressure_avg=984.9, street='UL. SZKOLNA', temperature_avg=11.716666666666667, timestamp='2024-10-13 14:41:48'),\n",
              " Row(city='WĄSICE', humidity_avg=99.14166666666667, latitude='50.983905', longitude='18.029775', name='SZKOŁA PODSTAWOWA W WĄSICACH', pm10_avg=1.1916666666666667, pm25_avg=0.7999999999999999, post_code='46-250', pressure_avg=990.6750000000001, street='UL. GŁÓWNA', temperature_avg=8.591666666666667, timestamp='2024-10-13 14:41:48'),\n",
              " Row(city='ZABRZE', humidity_avg=77.225, latitude='50.2870184', longitude='18.8139578', name='SZKOŁA PODSTAWOWA NR 16 W ZABRZU', pm10_avg=6.683333333333334, pm25_avg=6.658333333333334, post_code='41-806', pressure_avg=976.8000000000001, street='UL. JÓZEFA LOMPY', temperature_avg=11.941666666666668, timestamp='2024-10-13 14:41:48'),\n",
              " Row(city='GRYFICE', humidity_avg=98.02499999999999, latitude='53.9126862', longitude='15.19512694', name='SZKOŁA PODSTAWOWA NR 4 IM. I SAMODZIELNEJ WARSZAWSKIEJ BRYGADY KAWALERII W GRYFICACH', pm10_avg=1.05, pm25_avg=0.9333333333333332, post_code='72-300', pressure_avg=997.8333333333334, street='UL. SIENKIEWICZA', temperature_avg=8.583333333333334, timestamp='2024-10-13 14:41:48'),\n",
              " Row(city='RACŁAWICE ŚLĄSKIE', humidity_avg=78.14999999999999, latitude='50.311402', longitude='17.771528', name='SZKOŁA PODSTAWOWA IM. JANA PAWŁA II W RACŁAWICACH ŚLĄSKICH', pm10_avg=0.4166666666666667, pm25_avg=0.13333333333333333, post_code='48-250', pressure_avg=988.9833333333332, street='UL. ZWYCIĘSTWA', temperature_avg=9.666666666666666, timestamp='2024-10-13 14:41:48'),\n",
              " Row(city='ZABRZE', humidity_avg=76.55833333333334, latitude='50.3207572', longitude='18.8800148', name='SZKOŁA PODSTAWOWA NR 6 IM. MARII CURIE-SKŁODOWSKIEJ W ZABRZU', pm10_avg=6.766666666666667, pm25_avg=5.533333333333334, post_code='41-800', pressure_avg=978.8083333333333, street='UL. KLONOWA', temperature_avg=12.308333333333332, timestamp='2024-10-13 14:41:48'),\n",
              " Row(city='STRZELECZKI', humidity_avg=77.55, latitude='50.4590123', longitude='17.8541788', name='SZKOŁA PODSTAWOWA W STRZELECZKACH', pm10_avg=5.8999999999999995, pm25_avg=4.483333333333333, post_code='47-364', pressure_avg=990.4, street='UL. SIENKIEWICZA', temperature_avg=9.25, timestamp='2024-10-13 14:41:48'),\n",
              " Row(city='SŁUPSK', humidity_avg=86.64166666666667, latitude='54.464148', longitude='17.0284824', name='SPORTOWA SZKOŁA PODSTAWOWA W SŁUPSKU', pm10_avg=0.39999999999999997, pm25_avg=0.21666666666666667, post_code='76-200', pressure_avg=992.725, street='UL. MARII ZABOROWSKIEJ', temperature_avg=8.958333333333334, timestamp='2024-10-13 14:41:48'),\n",
              " Row(city='GRUSZÓW WIELKI', humidity_avg=67.73333333333333, latitude='50.19213307', longitude='21.03335443', name='SZKOŁA PODSTAWOWA IM. KARDYNAŁA STEFANA WYSZYŃSKIEGO W GRUSZOWIE WIELKIM', pm10_avg=0.0, pm25_avg=0.0, post_code='33-200', pressure_avg=986.5416666666666, street=None, temperature_avg=16.75, timestamp='2024-10-13 14:41:48'),\n",
              " Row(city='KOŹLE', humidity_avg=81.53636363636363, latitude='51.93825404', longitude='19.58919231', name='SZKOŁA PODSTAWOWA IM. GEN. DYW. TADEUSZA KUTRZEBY W KOŹLU', pm10_avg=2.772727272727273, pm25_avg=2.772727272727273, post_code='95-011', pressure_avg=985.6454545454545, street=None, temperature_avg=10.754545454545454, timestamp='2024-10-13 14:41:48'),\n",
              " Row(city='LUCIEŃ', humidity_avg=85.20833333333333, latitude='52.4884269', longitude='19.472959', name='SZKOŁA PODSTAWOWA W LUCIENIU', pm10_avg=5.333333333333333, pm25_avg=5.2749999999999995, post_code='09-500', pressure_avg=992.5583333333334, street=None, temperature_avg=10.424999999999999, timestamp='2024-10-13 14:41:48'),\n",
              " Row(city='RUDA ŚLĄSKA', humidity_avg=78.23333333333333, latitude='50.30117879', longitude='18.8815597', name='SZKOŁA PODSTAWOWA NR 5 W RUDZIE ŚLĄSKIEJ', pm10_avg=5.766666666666667, pm25_avg=5.766666666666667, post_code='41-708', pressure_avg=971.0333333333333, street='UL. PIOTRA NIEDURNEGO', temperature_avg=12.966666666666667, timestamp='2024-10-13 14:41:48'),\n",
              " Row(city='POSTOMINO', humidity_avg=84.65833333333333, latitude='54.48931415', longitude='16.71239247', name='SZKOŁA PODSTAWOWA IM. PPOR. EMILII GIERCZAK W POSTOMINIE', pm10_avg=0.65, pm25_avg=0.45, post_code='76-113', pressure_avg=995.8249999999999, street=None, temperature_avg=9.341666666666667, timestamp='2024-10-13 14:41:48'),\n",
              " Row(city='KRZEPICE', humidity_avg=80.575, latitude='50.964886', longitude='18.702433', name='SZKOŁA PODSTAWOWA NR 2 IM. MARII SKŁODOWSKIEJ-CURIE W KRZEPICACH', pm10_avg=3.35, pm25_avg=3.266666666666667, post_code='42-160', pressure_avg=979.8666666666667, street='UL. SKŁODOWSKIEJ', temperature_avg=8.941666666666666, timestamp='2024-10-13 14:41:48'),\n",
              " Row(city='TARNÓW OPOLSKI', humidity_avg=81.70833333333333, latitude='50.57654911811356', longitude='18.078098161771777', name='PUBLICZNA SZKOŁA PODSTAWOWA IM. MIKOŁAJA KOPERNIKA W TARNOWIE OPOLSKIM', pm10_avg=3.9166666666666665, pm25_avg=3.0416666666666665, post_code='46-050', pressure_avg=990.7083333333334, street='UL. KOPERNIKA', temperature_avg=8.216666666666667, timestamp='2024-10-13 14:41:48'),\n",
              " Row(city='LEGNICA', humidity_avg=65.775, latitude='51.210851', longitude='16.173446', name='SZKOŁA PODSTAWOWA NR 1 IM.POWSTANCÓW WIELKOPOLSKICH W LEGNICY', pm10_avg=2.1999999999999997, pm25_avg=2.15, post_code='59-220', pressure_avg=992.3166666666666, street='UL. KAMIENNA', temperature_avg=11.591666666666667, timestamp='2024-10-13 14:41:48'),\n",
              " Row(city='KŁOBUCK', humidity_avg=80.45, latitude='50.9004679', longitude='18.9423379', name='III LICEUM OGÓLNOKSZTAŁCĄCE IM. KAZIMIERZA KOSIŃSKIEGO W KŁOBUCKU', pm10_avg=3.3833333333333333, pm25_avg=3.3666666666666667, post_code='42-100', pressure_avg=976.3249999999999, street='UL. KS. IGNACEGO SKORUPKI', temperature_avg=9.183333333333334, timestamp='2024-10-13 14:41:48'),\n",
              " Row(city='LEGNICA', humidity_avg=67.50833333333334, latitude='51.1992709', longitude='16.1588159', name='SZKOŁA PODSTAWOWA NR 10 IM ZOFII KOSSAK W LEGNICY', pm10_avg=1.4916666666666665, pm25_avg=1.4416666666666667, post_code='59-220', pressure_avg=991.8916666666668, street='UL. JAWORZYŃSKA', temperature_avg=11.591666666666667, timestamp='2024-10-13 14:41:48'),\n",
              " Row(city='LEGNICA', humidity_avg=65.22500000000001, latitude='51.202816', longitude='16.141123', name='SZKOŁA PODSTAWOWA NR 9 W LEGNICY', pm10_avg=1.45, pm25_avg=1.4166666666666667, post_code='59-220', pressure_avg=991.1833333333334, street='UL. MARYNARSKA', temperature_avg=12.700000000000001, timestamp='2024-10-13 14:41:48'),\n",
              " Row(city='KŁODAWA', humidity_avg=78.8, latitude='52.2542661', longitude='18.9134684', name='SZKOŁA PODSTAWOWA NR 1 IM. ŚW.JANA PAWŁA II W KŁODAWIE', pm10_avg=14.025, pm25_avg=13.633333333333333, post_code='62-650', pressure_avg=988.125, street='UL. KOŚCIELNA', temperature_avg=9.75, timestamp='2024-10-13 14:41:48'),\n",
              " Row(city='TORUŃ', humidity_avg=78.19166666666666, latitude='53.0291419', longitude='18.6812901', name='SZKOŁA PODSTAWOWA NR 31 IM. GEN. JÓZEFA HALLERA W TORUNIU', pm10_avg=1.6333333333333335, pm25_avg=1.6166666666666665, post_code='87-100', pressure_avg=992.15, street='UL. WŁADYSŁAWA DZIEWULSKIEGO', temperature_avg=10.858333333333334, timestamp='2024-10-13 14:41:48'),\n",
              " Row(city='DŁUGOPOLE DOLNE', humidity_avg=57.388888888888886, latitude='50.256696', longitude='16.6369911', name='SZKOŁA PODSTAWOWA W DŁUGOPOLU DOLNYM', pm10_avg=1.6, pm25_avg=1.6, post_code='57-520', pressure_avg=965.8222222222222, street=None, temperature_avg=13.511111111111111, timestamp='2024-10-13 14:41:48'),\n",
              " Row(city='WYSOKA', humidity_avg=60.324999999999996, latitude='53.180879', longitude='17.0835566', name='PUBLICZNA SZKOŁA PODSTAWOWA IM. WŁADYSŁAWA REYMONTA W WYSOKIEJ', pm10_avg=0.9583333333333334, pm25_avg=0.8583333333333334, post_code='59-170', pressure_avg=987.9666666666667, street=None, temperature_avg=12.091666666666667, timestamp='2024-10-13 14:41:48'),\n",
              " Row(city='ŚCIĘGNY', humidity_avg=54.95, latitude='50.7908626', longitude='15.7770925', name='SZKOŁA PODSTAWOWA IM.WŁADYSŁAWA STANISŁAWA REYMONTA W ŚCIĘGNACH', pm10_avg=6.125, pm25_avg=5.8625, post_code='58-535', pressure_avg=948.35, street=None, temperature_avg=10.9625, timestamp='2024-10-13 14:41:48'),\n",
              " Row(city='WŁOSZAKOWICE', humidity_avg=70.05, latitude='51.9317237', longitude='16.3711235', name='SZKOŁA PODSTAWOWA IM. KAROLA KURPIŃSKIEGO WE WŁOSZAKOWICACH', pm10_avg=1.5, pm25_avg=0.9166666666666666, post_code='64-140', pressure_avg=997.15, street='UL. KAROLA KURPIŃSKIEGO', temperature_avg=10.9, timestamp='2024-10-13 14:41:48'),\n",
              " Row(city='ORZESZE', humidity_avg=82.65833333333333, latitude='50.112122', longitude='18.797868', name='SZKOŁA PODSTAWOWA NR 7 IM. HENRYKA SIENKIEWICZA W ORZESZU', pm10_avg=17.76666666666667, pm25_avg=15.741666666666667, post_code='43-180', pressure_avg=975.2416666666667, street='UL. UCZNIOWSKA', temperature_avg=12.666666666666666, timestamp='2024-10-13 14:41:48'),\n",
              " Row(city='ŁOMNICA', humidity_avg=54.93333333333334, latitude='50.8737685', longitude='15.8067664', name='SZKOŁA PODSTAWOWA Z ODDZIAŁAMI INTEGRACYJNYMI W ŁOMNICY', pm10_avg=1.7999999999999998, pm25_avg=1.7166666666666666, post_code='58-508', pressure_avg=965.5416666666666, street='UL. KARKONOSKA', temperature_avg=11.666666666666666, timestamp='2024-10-13 14:41:48'),\n",
              " Row(city='BOLESŁAWIEC', humidity_avg=78.10833333333333, latitude='51.260498457733576 ', longitude='15.568652524605456', name='POWIATOWA SZKOŁA PODSTAWOWA SPECJALNA W BOLESŁAWCU', pm10_avg=1.7583333333333335, pm25_avg=1.7, post_code='59-700', pressure_avg=984.0500000000001, street='UL. BANKOWA', temperature_avg=8.75, timestamp='2024-10-13 14:41:48'),\n",
              " Row(city='KONOPISKA', humidity_avg=81.60000000000001, latitude='50.7263775', longitude='19.0078926', name='SZKOŁA PODSTAWOWA IM. HENRYKA SIENKIEWICZA W KONOPISKACH', pm10_avg=24.266666666666666, pm25_avg=18.233333333333334, post_code='42-274', pressure_avg=996.0, street='UL. SPORTOWA', temperature_avg=6.0, timestamp='2024-10-13 14:41:48'),\n",
              " Row(city='KUDOWA-ZDRÓJ', humidity_avg=58.208333333333336, latitude='50.4427156', longitude='16.2426605', name='SPOŁECZNA SZKOŁA PODSTAWOWA IM. STANISŁAWA MONIUSZKI W KUDOWIE-ZDROJU', pm10_avg=3.308333333333333, pm25_avg=3.2583333333333333, post_code='57-350', pressure_avg=965.1916666666666, street='UL. SŁONE', temperature_avg=13.608333333333334, timestamp='2024-10-13 14:41:48'),\n",
              " Row(city='ZAWIERCIE', humidity_avg=82.47500000000001, latitude='50.4934888', longitude='19.4911184', name='SZKOŁA PODSTAWOWA NR 13 W ZAWIERCIU', pm10_avg=4.458333333333333, pm25_avg=4.458333333333333, post_code='42-400', pressure_avg=960.5333333333333, street='UL. FILARETÓW', temperature_avg=12.333333333333334, timestamp='2024-10-13 14:41:48'),\n",
              " Row(city='ZAWIERCIE', humidity_avg=64.16666666666667, latitude='50.486569', longitude='19.4092199', name='SZKOŁA PODSTAWOWA NR 8 W ZAWIERCIU', pm10_avg=6.191666666666666, pm25_avg=5.2250000000000005, post_code='42-400', pressure_avg=971.2833333333333, street='UL. WOJSKA POLSKIEGO', temperature_avg=16.116666666666667, timestamp='2024-10-13 14:41:48'),\n",
              " Row(city='ZAWIERCIE', humidity_avg=84.325, latitude='50.4838354', longitude='19.4267169', name='SZKOŁA PODSTAWOWA NR 4 IM. MIKOŁAJA KOPERNIKA W ZAWIERCIU', pm10_avg=8.65, pm25_avg=7.983333333333333, post_code='42-400', pressure_avg=969.225, street='UL. POWSTAŃCÓW ŚLĄSKICH', temperature_avg=11.366666666666667, timestamp='2024-10-13 14:41:48'),\n",
              " Row(city='ZAWIERCIE', humidity_avg=82.60000000000001, latitude='50.4773682', longitude='19.5150167', name='SZKOŁA PODSTAWOWA NR 7 IM. MARII KONOPNICKIEJ W ZAWIERCIU', pm10_avg=14.816666666666668, pm25_avg=11.308333333333332, post_code='42-400', pressure_avg=969.5916666666667, street='UL. OŚWIATOWA', temperature_avg=11.875, timestamp='2024-10-13 14:41:48'),\n",
              " Row(city='ZAWIERCIE', humidity_avg=82.23333333333333, latitude='50.4796517', longitude='19.4347172', name='SZKOŁA PODSTAWOWA NR 3 W ZAWIERCIU', pm10_avg=3.9916666666666667, pm25_avg=2.7583333333333333, post_code='42-400', pressure_avg=968.8916666666665, street='UL. MARII SKŁODOWSKIEJ-CURIE', temperature_avg=12.133333333333333, timestamp='2024-10-13 14:41:48'),\n",
              " Row(city='BIELSKO-BIAŁA', humidity_avg=73.89166666666667, latitude='49.8094065', longitude='19.0635478', name='II LICEUM OGÓLNOKSZTAŁCĄCE IM. ADAMA ASNYKA W BIELSKU-BIAŁEJ', pm10_avg=2.3666666666666667, pm25_avg=2.3666666666666667, post_code='43-300', pressure_avg=964.025, street='UL. JUTRZENKI', temperature_avg=13.674999999999999, timestamp='2024-10-13 14:41:48'),\n",
              " Row(city='ZAWIERCIE', humidity_avg=80.25833333333334, latitude='50.487743', longitude='19.4166259', name='SZKOŁA PODSTAWOWA NR 2 IM. STANISŁAWA SZYMAŃSKIEGO W ZAWIERCIU', pm10_avg=6.0249999999999995, pm25_avg=6.108333333333333, post_code='42-400', pressure_avg=986.5416666666666, street='UL. MIECZYSŁAWA NIEDZIAŁKOWSKIEGO', temperature_avg=13.008333333333333, timestamp='2024-10-13 14:41:48'),\n",
              " Row(city='BIECZ', humidity_avg=73.91666666666667, latitude='49.730338', longitude='21.252429', name='SZKOŁA PODSTAWOWA NR 1 IM.BPA MARCINA KROMERA W BIECZU', pm10_avg=4.708333333333333, pm25_avg=3.9583333333333335, post_code='38-340', pressure_avg=980.4166666666666, street='UL. GRODZKA', temperature_avg=13.875, timestamp='2024-10-13 14:41:48'),\n",
              " Row(city='BIELSKO-BIAŁA', humidity_avg=76.18333333333332, latitude='49.81358619233011', longitude='19.00410767116404', name='SZKOŁA PODSTAWOWA NR 1 IM. BOHATERÓW WESTERPLATTE W BIELSKU-BIAŁEJ', pm10_avg=2.283333333333333, pm25_avg=2.283333333333333, post_code='43-300', pressure_avg=963.3916666666668, street='UL. DYWIZJI KOŚCIUSZKOWSKIEJ', temperature_avg=13.158333333333333, timestamp='2024-10-13 14:41:48'),\n",
              " Row(city='BIELSKO-BIAŁA', humidity_avg=75.67272727272727, latitude='49.8223768', longitude='19.0583845', name='SZKOŁA PODSTAWOWA NR 4 W BIELSKU-BIAŁEJ', pm10_avg=2.6636363636363636, pm25_avg=2.6454545454545455, post_code='43-300', pressure_avg=962.8454545454545, street='UL. EMILII PLATER', temperature_avg=13.1, timestamp='2024-10-13 14:41:48'),\n",
              " Row(city='DOBRYSZYCE', humidity_avg=79.80833333333334, latitude='51.1463112', longitude='19.4126126', name='PUBLICZNA SZKOŁA PODSTAWOWA IM. JANA KOCHANOWSKIEGO W DOBRYSZYCACH', pm10_avg=4.55, pm25_avg=4.541666666666667, post_code='97-505', pressure_avg=978.4833333333332, street='UL. LEŚNA', temperature_avg=10.725, timestamp='2024-10-13 14:41:48'),\n",
              " Row(city='BOBOWA', humidity_avg=67.71818181818182, latitude='49.7102798', longitude='20.9509659', name='SZKOŁA PODSTAWOWA IM. STANISŁAWA STASZICA W BOBOWEJ', pm10_avg=5.954545454545454, pm25_avg=5.181818181818182, post_code='38-350', pressure_avg=975.7636363636364, street='UL. BOHATERÓW BOBOWEJ', temperature_avg=15.618181818181817, timestamp='2024-10-13 14:41:48'),\n",
              " Row(city='WOLA', humidity_avg=76.97500000000001, latitude='52.9391449', longitude='19.066111', name='SZKOŁA PODSTAWOWA IM. IRENY SENDLEROWEJ W WOLI', pm10_avg=17.241666666666667, pm25_avg=17.033333333333335, post_code='87-620', pressure_avg=988.8583333333332, street=None, temperature_avg=10.333333333333334, timestamp='2024-10-13 14:41:48'),\n",
              " Row(city='ŚWIDNICA', humidity_avg=51.05833333333334, latitude='50.8375136', longitude='16.4865532', name='SZKOŁA PODSTAWOWA NR 14 W ZAKŁADZIE POPRAWCZYM I SCHRONISKU DLA NIELETNICH W ŚWIDNICY', pm10_avg=1.2, pm25_avg=1.2, post_code='58-100', pressure_avg=977.9833333333332, street='UL. SPRZYMIERZEŃCÓW', temperature_avg=13.641666666666666, timestamp='2024-10-13 14:41:48'),\n",
              " Row(city='WINOWNO', humidity_avg=84.22, latitude='50.575152', longitude='19.2179609', name='SZKOŁA PODSTAWOWA W WINOWNIE', pm10_avg=5.1899999999999995, pm25_avg=5.16, post_code='42-350', pressure_avg=965.89, street='UL. SZKOLNA', temperature_avg=10.440000000000001, timestamp='2024-10-13 14:41:48'),\n",
              " Row(city='RZEPIN', humidity_avg=65.91666666666667, latitude='52.34727052', longitude='14.83966983', name='LICEUM OGÓLNOKSZTAŁCĄCE IM. STANISŁAWA STASZICA W RZEPINIE', pm10_avg=1.8416666666666668, pm25_avg=1.6583333333333332, post_code='69-110', pressure_avg=976.1916666666666, street='UL. WOJSKA POLSKIEGO', temperature_avg=11.633333333333333, timestamp='2024-10-13 14:41:48'),\n",
              " Row(city='WOJSZCZYCE', humidity_avg=86.11666666666667, latitude='52.494382', longitude='20.6139434', name='SZKOŁA PODSTAWOWA IM. FRYDERYKA CHOPINA W WOJSZCZYCACH', pm10_avg=26.008333333333336, pm25_avg=24.96666666666667, post_code='05-180', pressure_avg=989.4583333333334, street=None, temperature_avg=10.325000000000001, timestamp='2024-10-13 14:41:48'),\n",
              " Row(city='ŁĄŻYN', humidity_avg=80.40833333333333, latitude='51.919438', longitude='19.145136', name='SZKOŁA PODSTAWOWA IM.MIKOŁAJA KOPERNIKA W ŁĄŻYNIE II', pm10_avg=2.1999999999999997, pm25_avg=2.1416666666666666, post_code='87-123', pressure_avg=988.1999999999999, street=None, temperature_avg=10.450000000000001, timestamp='2024-10-13 14:41:48'),\n",
              " Row(city='NAKONOWO', humidity_avg=79.17777777777778, latitude='52.5562316', longitude='19.0568663', name='NIEPUBLICZNA SZKOŁA PODSTAWOWA \"GALILEO\" NR 1 W NAKONOWIE', pm10_avg=0.7444444444444445, pm25_avg=0.3444444444444444, post_code='87-853', pressure_avg=994.7444444444445, street=None, temperature_avg=8.977777777777778, timestamp='2024-10-13 14:41:48'),\n",
              " Row(city='MYSŁOWICE', humidity_avg=84.72500000000001, latitude='50.2080466', longitude='19.1660513', name='SZKOŁA PODSTAWOWA NR 7 Z ODDZIAŁAMI DWUJĘZYCZNYMI IM. KORNELA MAKUSZYŃSKIEGO W MYSŁOWICACH', pm10_avg=3.0749999999999997, pm25_avg=3.0749999999999997, post_code='41-400', pressure_avg=973.3583333333332, street='UL. GÓRNICZA', temperature_avg=12.291666666666666, timestamp='2024-10-13 14:41:48'),\n",
              " Row(city='OSSALA', humidity_avg=65.27499999999999, latitude='50.4840431', longitude='21.3789417', name='PUBLICZNA SZKOŁA PODSTAWOWA IM. HELENY I JÓZEFA ŚWIĄTYŃSKICH W OSSALI', pm10_avg=11.333333333333334, pm25_avg=10.625, post_code='28-221', pressure_avg=988.1750000000001, street=None, temperature_avg=14.158333333333333, timestamp='2024-10-13 14:41:48'),\n",
              " Row(city='KORZONEK', humidity_avg=82.65454545454544, latitude='50.712784', longitude='18.9878115', name='SZKOŁA PODSTAWOWA IM. MARII KONOPNICKIEJ W JAMKACH-KORZONKU', pm10_avg=1.309090909090909, pm25_avg=1.309090909090909, post_code='42-274', pressure_avg=971.0454545454545, street=None, temperature_avg=8.481818181818182, timestamp='2024-10-13 14:41:48'),\n",
              " Row(city='CZĘSTOCHOWA', humidity_avg=80.85454545454546, latitude='50.835792530242145', longitude='19.137204428836377', name='SZKOŁA PODSTAWOWA NR 54 Z ODDZIAŁAMI INTEGRACYJNYMI W CZĘSTOCHOWIE', pm10_avg=2.1818181818181817, pm25_avg=2.1818181818181817, post_code='42-224', pressure_avg=976.0090909090909, street='UL. JERZEGO KUKUCZKI', temperature_avg=10.027272727272727, timestamp='2024-10-13 14:41:48'),\n",
              " Row(city='MSZANA DOLNA', humidity_avg=66.45, latitude='49.6670619', longitude='20.0783649', name='TECHNIKUM W ZESPOLE SZKÓŁ PONADPODSTAWOWYCH IM. INŻ. JÓZEFA MARKA W MSZANIE DOLNEJ', pm10_avg=0.19999999999999998, pm25_avg=0.0, post_code='34-730', pressure_avg=963.5, street='UL. JÓZEFA MARKA', temperature_avg=15.008333333333333, timestamp='2024-10-13 14:41:48'),\n",
              " Row(city='DĄBIE', humidity_avg=83.05833333333334, latitude='52.0891079', longitude='18.8198211', name='SZKOŁA PODSTAWOWA IM. JANA PAWŁA II W DĄBIU', pm10_avg=3.8666666666666667, pm25_avg=3.8333333333333335, post_code='62-660', pressure_avg=990.4166666666666, street='UL. 3 MAJA', temperature_avg=9.691666666666666, timestamp='2024-10-13 14:41:48'),\n",
              " Row(city='KOSMÓW-KOLONIA', humidity_avg=84.1, latitude='51.8848855', longitude='18.2652533', name='SZKOŁA PODSTAWOWA W KOSMOWIE', pm10_avg=6.225, pm25_avg=5.25, post_code='62-834', pressure_avg=990.825, street=None, temperature_avg=9.975, timestamp='2024-10-13 14:41:48'),\n",
              " Row(city='HUTA STARA B', humidity_avg=82.35000000000001, latitude='50.7370817', longitude='19.138718', name='SZKOŁA PODSTAWOWA IM.KAZIMIERZA WIELKIEGO W HUCIE STAREJ B', pm10_avg=9.341666666666667, pm25_avg=9.125, post_code='42-263', pressure_avg=971.9166666666666, street='UL. ADAMA MICKIEWICZA', temperature_avg=10.191666666666666, timestamp='2024-10-13 14:41:48'),\n",
              " Row(city='SOSNOWIEC', humidity_avg=85.11666666666666, latitude='50.2862638', longitude='19.1040791', name='III PRYWATNE LICEUM OGÓLNOKSZTAŁCĄCE \"SZKOŁY OTWARTEGO MYŚLENIA\" W SOSNOWCU', pm10_avg=14.975, pm25_avg=13.674999999999999, post_code='41-200', pressure_avg=978.9, street='UL. RACŁAWICKA', temperature_avg=12.808333333333332, timestamp='2024-10-13 14:41:48'),\n",
              " Row(city='KAMIENICA POLSKA', humidity_avg=83.82222222222222, latitude='50.6705877', longitude='19.1305413', name='SZKOŁA PODSTAWOWA IM.HENRYKA SIENKIEWICZA W KAMIENICY POLSKIEJ', pm10_avg=3.066666666666667, pm25_avg=3.066666666666667, post_code='42-260', pressure_avg=971.7444444444445, street='UL. ADAMA FERENSA', temperature_avg=9.911111111111111, timestamp='2024-10-13 14:41:48'),\n",
              " Row(city='LGOCZANKA', humidity_avg=81.93333333333332, latitude='50.7040577', longitude='19.538226', name='SZKOŁA PODSTAWOWA IM. ŚW. STANISŁAWA KOSTKI W LGOCZANCE', pm10_avg=4.058333333333334, pm25_avg=3.858333333333333, post_code='42-253', pressure_avg=977.1, street=None, temperature_avg=12.200000000000001, timestamp='2024-10-13 14:41:48'),\n",
              " Row(city='MYSZKÓW', humidity_avg=78.72857142857143, latitude='50.5706845', longitude='19.3144637', name='SZKOŁA PODSTAWOWA Z ODDZIAŁAMI INTEGRACYJNYMI NR 5 IM. HENRYKA SIENKIEWICZA W MYSZKOWIE', pm10_avg=4.142857142857143, pm25_avg=4.142857142857143, post_code='42-300', pressure_avg=969.6857142857143, street='UL. SIKORSKIEGO', temperature_avg=11.528571428571427, timestamp='2024-10-13 14:41:48'),\n",
              " Row(city='KASINKA MAŁA', humidity_avg=43.85833333333333, latitude='49.7296904', longitude='20.0902484', name='SZKOŁA PODSTAWOWA NR 3, IM. JANA PAWŁA II W KASINCE MAŁEJ', pm10_avg=5.8999999999999995, pm25_avg=5.341666666666666, post_code='34-734', pressure_avg=957.0500000000001, street=None, temperature_avg=18.483333333333334, timestamp='2024-10-13 14:41:48'),\n",
              " Row(city='CIECHANÓW', humidity_avg=95.075, latitude='52.87824598', longitude='20.60584577', name='SZKOŁA PODSTAWOWA NR 6 IM. TADEUSZA KOŚCIUSZKI W CIECHANOWIE', pm10_avg=15.258333333333333, pm25_avg=12.383333333333333, post_code='06-400', pressure_avg=990.9333333333334, street='UL. WIKLINOWA', temperature_avg=8.958333333333334, timestamp='2024-10-13 14:41:48'),\n",
              " Row(city='JELNA', humidity_avg=64.35833333333333, latitude='50.2962689', longitude='22.3518669', name='SZKOŁA PODSTAWOWA IM. ŚW. FRANCISZKA Z ASYŻU W JELNEJ', pm10_avg=7.441666666666666, pm25_avg=6.95, post_code='37-310', pressure_avg=987.0333333333333, street=None, temperature_avg=15.108333333333334, timestamp='2024-10-13 14:41:48'),\n",
              " Row(city='TARNOWSKIE GÓRY', humidity_avg=81.13333333333334, latitude='50.4472968', longitude='18.8608006', name='BRANŻOWA SZKOŁA I STOPNIA NR 3 W TARNOWSKICH GÓRACH', pm10_avg=18.65, pm25_avg=19.966666666666665, post_code='42-600', pressure_avg=973.8666666666667, street='UL. HENRYKA SIENKIEWICZA', temperature_avg=10.366666666666667, timestamp='2024-10-13 14:41:48'),\n",
              " Row(city='KRZESZÓW GÓRNY', humidity_avg=66.56666666666668, latitude='50.419185', longitude='22.384137', name='PUBLICZNA SZKOŁA PODSTAWOWA W KRZESZOWIE GÓRNYM', pm10_avg=3.6916666666666664, pm25_avg=3.6916666666666664, post_code='37-413', pressure_avg=985.5416666666666, street=None, temperature_avg=14.666666666666666, timestamp='2024-10-13 14:41:48'),\n",
              " Row(city='RYBNIK', humidity_avg=79.50833333333334, latitude='50.0607178', longitude='18.4969188', name='TECHNIKUM NR 5 W RYBNIKU', pm10_avg=17.358333333333334, pm25_avg=14.441666666666668, post_code='44-270', pressure_avg=980.4583333333334, street='UL. JÓZEFA RYMERA', temperature_avg=12.700000000000001, timestamp='2024-10-13 14:41:48'),\n",
              " Row(city='RYBNIK', humidity_avg=77.43333333333334, latitude='50.097143', longitude='18.5519661', name='I LICEUM OGÓLNOKSZTAŁCĄCE Z ODDZIAŁAMI DWUJĘZYCZNYMI IM. POWSTAŃCÓW ŚLĄSKICH W RYBNIKU', pm10_avg=7.7, pm25_avg=7.066666666666666, post_code='44-200', pressure_avg=980.625, street='UL. TADEUSZA KOŚCIUSZKI', temperature_avg=12.716666666666667, timestamp='2024-10-13 14:41:48'),\n",
              " Row(city='RYBNIK', humidity_avg=79.4, latitude='50.097862', longitude='18.541821', name='SZKOŁA PODSTAWOWA Z ODDZIAŁAMI MISTRZOSTWA SPORTOWEGO NR 9 IM. ADAMA MICKIEWICZA W RYBNIKU', pm10_avg=6.15, pm25_avg=5.5, post_code='44-200', pressure_avg=983.55, street='UL. CMENTARNA', temperature_avg=12.8, timestamp='2024-10-13 14:41:48'),\n",
              " Row(city='RYBNIK', humidity_avg=81.85833333333333, latitude='50.0486975', longitude='18.6059321', name='SZKOŁA PODSTAWOWA Z ODDZIAŁAMI INTEGRACYJNYMI NR 18 IM. JANA BRZECHWY W RYBNIKU', pm10_avg=3.1833333333333336, pm25_avg=2.6999999999999997, post_code='44-253', pressure_avg=977.0416666666666, street='UL. JÓZEFA LOMPY', temperature_avg=11.774999999999999, timestamp='2024-10-13 14:41:48'),\n",
              " Row(city='BĘDZIN', humidity_avg=81.53999999999999, latitude='50.3262993', longitude='19.1387173', name='II LICEUM OGÓLNOKSZTAŁCĄCE IM. STANISŁAWA WYSPIAŃSKIEGO W BĘDZINIE', pm10_avg=9.790000000000001, pm25_avg=9.78, post_code='42-500', pressure_avg=974.04, street='UL. TEATRALNA', temperature_avg=12.72, timestamp='2024-10-13 14:41:48'),\n",
              " Row(city='ŚWIDNICA', humidity_avg=46.43333333333334, latitude='50.8345375', longitude='16.4766735', name='SZKOŁA PODSTAWOWA NR 8 IM. KAWALERÓW ORDERU UŚMIECHU W ŚWIDNICY', pm10_avg=1.2916666666666667, pm25_avg=1.2666666666666666, post_code='58-100', pressure_avg=977.1416666666668, street='UL. WAŁBRZYSKA', temperature_avg=14.049999999999999, timestamp='2024-10-13 14:41:48'),\n",
              " Row(city='WIADRÓW', humidity_avg=46.44, latitude='50.978719', longitude='16.177058', name='SZKOŁA PODSTAWOWA W WIADROWIE', pm10_avg=1.3699999999999999, pm25_avg=1.35, post_code='59-411', pressure_avg=979.1899999999999, street=None, temperature_avg=14.930000000000001, timestamp='2024-10-13 14:41:48'),\n",
              " Row(city='RUDA ŚLĄSKA', humidity_avg=76.49166666666666, latitude='50.280234', longitude='18.857316', name='TECHNIKUM NR 2 IM. STANISŁAWA LIGONIA W RUDZIE ŚLĄSKIEJ', pm10_avg=9.216666666666667, pm25_avg=9.1, post_code='41-711', pressure_avg=970.7333333333332, street='UL. GLINIANA', temperature_avg=12.358333333333334, timestamp='2024-10-13 14:41:48'),\n",
              " Row(city='ZABRZE', humidity_avg=78.88181818181819, latitude='50.3787192', longitude='18.8038211', name='SZKOŁA PODSTAWOWA NR 30 W ZABRZU', pm10_avg=4.118181818181818, pm25_avg=4.109090909090909, post_code='41-813', pressure_avg=972.1, street='UL. LUDWIKI WAWRZYŃSKIEJ', temperature_avg=10.381818181818183, timestamp='2024-10-13 14:41:48'),\n",
              " Row(city='ZABRZE', humidity_avg=77.55714285714285, latitude='50.293402', longitude='18.6721773', name='SZKOŁA PODSTAWOWA NR 28 IM. MIŁOŚNIKÓW ROKITNICY W ZABRZU', pm10_avg=4.8428571428571425, pm25_avg=4.8428571428571425, post_code='41-813', pressure_avg=973.1428571428571, street='UL. IRENY KOSMOWSKIEJ', temperature_avg=11.642857142857142, timestamp='2024-10-13 14:41:48'),\n",
              " Row(city='TYCHY', humidity_avg=86.84166666666665, latitude='50.133349896354915 ', longitude='18.967428851534244', name='SZKOŁA PODSTAWOWA NR 3 IM. JANA KOCHANOWSKIEGO W TYCHACH', pm10_avg=3.5583333333333336, pm25_avg=3.5583333333333336, post_code='43-100', pressure_avg=976.1333333333333, street='UL. WOJSKA POLSKIEGO', temperature_avg=12.258333333333333, timestamp='2024-10-13 14:41:48'),\n",
              " Row(city='KOŚCIELEC', humidity_avg=66.89999999999999, latitude='51.14836', longitude='16.13685', name='SZKOŁA PODSTAWOWAW IM. HENRYKA SIENKIEWICZA W KOŚCIELCU', pm10_avg=1.018181818181818, pm25_avg=0.9636363636363636, post_code='59-223', pressure_avg=986.2272727272727, street=None, temperature_avg=11.245454545454546, timestamp='2024-10-13 14:41:48'),\n",
              " Row(city='RYBNIK', humidity_avg=80.05, latitude='50.09058', longitude='18.52614', name='SZKOŁA PODSTAWOWA Z ODDZIAŁAMI INTEGRACYJNYMI NR 34 IM. IRENY SENDLEROWEJ W RYBNIKU', pm10_avg=5.875, pm25_avg=4.316666666666666, post_code='44-200', pressure_avg=978.7083333333334, street='UL. WŁADYSŁAWA STANISŁAWA REYMONTA', temperature_avg=12.433333333333332, timestamp='2024-10-13 14:41:48'),\n",
              " Row(city='RYBNIK', humidity_avg=86.69166666666666, latitude='50.1021742', longitude='18.5462847', name='SZKOŁA PODSTAWOWA NR 26 W RYBNIKU', pm10_avg=7.508333333333333, pm25_avg=5.566666666666666, post_code='44-273', pressure_avg=973.9166666666666, street='UL. GUSTAWA MORCINKA', temperature_avg=11.658333333333333, timestamp='2024-10-13 14:41:48'),\n",
              " Row(city='WILCZKÓW', humidity_avg=63.24545454545455, latitude='50.9665118', longitude='16.9893963', name='SZKOŁA PODSTAWOWA IM. JANA PAWŁA II W WILCZKOWIE', pm10_avg=1.1454545454545455, pm25_avg=0.7090909090909091, post_code='55-020', pressure_avg=1006.0545454545455, street='UL. MIKOŁAJA KOPERNIKA', temperature_avg=11.554545454545455, timestamp='2024-10-13 14:41:48'),\n",
              " Row(city='CZELADŹ', humidity_avg=81.60833333333333, latitude='50.3091799', longitude='19.073488', name='SZKOŁA PODSTAWOWA NR 1 IM. STANISŁAWY ŁAKOMIK W CZELADZI', pm10_avg=5.891666666666667, pm25_avg=5.883333333333333, post_code='41-250', pressure_avg=975.15, street='UL. WŁADYSŁAWA REYMONTA', temperature_avg=12.891666666666666, timestamp='2024-10-13 14:41:48'),\n",
              " Row(city='ŚWIERADÓW-ZDRÓJ', humidity_avg=68.85833333333333, latitude='50.9269757', longitude='15.3071925', name='SZKOŁA PODSTAWOWA NR 2 IM. JANA PAWŁA II W ŚWIERADOWIE-ZDROJU', pm10_avg=1.2666666666666666, pm25_avg=1.0833333333333333, post_code='59-850', pressure_avg=953.125, street='UL. SANATORYJNA', temperature_avg=9.191666666666666, timestamp='2024-10-13 14:41:48'),\n",
              " Row(city='BIELSKO-BIAŁA', humidity_avg=71.81666666666666, latitude='49.7952988', longitude='19.0578358', name='TECHNIKUM NR 2 W ZESPOLE SZKÓŁ BUDOWLANYCH IM. GENERAŁA STANISŁAWA MACZKA W BIELSKU-BIAŁEJ', pm10_avg=2.3333333333333335, pm25_avg=2.3333333333333335, post_code='43-300', pressure_avg=970.8583333333332, street='UL. BUDOWLANYCH', temperature_avg=14.066666666666668, timestamp='2024-10-13 14:41:48'),\n",
              " Row(city='BIELSKO-BIAŁA', humidity_avg=70.89166666666667, latitude='49.819524', longitude='19.054075', name='SZKOŁA PODSTAWOWA ZGROMADZENIA CÓREK BOŻEJ MIŁOŚCI IM. FRANCISZKI LECHNER W BIELSKU-BIAŁEJ', pm10_avg=1.5083333333333335, pm25_avg=1.3666666666666665, post_code='43-300', pressure_avg=970.875, street='UL. WŁADYSŁAWA BRONIEWSKIEGO', temperature_avg=13.299999999999999, timestamp='2024-10-13 14:41:48'),\n",
              " Row(city='CZELADŹ', humidity_avg=79.06666666666666, latitude='50.3289091', longitude='19.0754521', name='SZKOŁA PODSTAWOWA NR 6 SPECJALNA IM. PROF. MARII GRZEGORZEWSKIEJ W CZELADZI', pm10_avg=7.708333333333333, pm25_avg=7.708333333333333, post_code='41-250', pressure_avg=973.0833333333334, street='UL. SZPITALNA', temperature_avg=12.424999999999999, timestamp='2024-10-13 14:41:48'),\n",
              " Row(city='ROPCZYCE', humidity_avg=62.23333333333333, latitude='50.0517769', longitude='21.6153479', name='SZKOŁA PODSTAWOWA NR 1 IM. MIKOŁAJA KOPERNIKA W ROPCZYCACH', pm10_avg=4.716666666666667, pm25_avg=3.85, post_code='39-100', pressure_avg=984.5666666666666, street='UL. WYSPIAŃSKIEGO', temperature_avg=15.933333333333332, timestamp='2024-10-13 14:41:48'),\n",
              " Row(city='GILOWICE', humidity_avg=85.30833333333334, latitude='49.7122409', longitude='19.3085572', name='LICEUM OGÓLNOKSZTAŁACĄCE IM. PROF. ZBIGNIEWA RELIGI W GILOWICACH', pm10_avg=22.691666666666666, pm25_avg=18.73333333333333, post_code='43-227', pressure_avg=979.9083333333333, street='UL. WOJCIECHA KORFANTEGO', temperature_avg=12.141666666666666, timestamp='2024-10-13 14:41:48'),\n",
              " Row(city='CZERNICA', humidity_avg=56.75, latitude='51.0457859', longitude='17.2449367', name='SZKOŁA PODSTAWOWA W CZERNICY', pm10_avg=1.9166666666666667, pm25_avg=1.9166666666666667, post_code='58-521', pressure_avg=969.2833333333333, street=None, temperature_avg=12.283333333333333, timestamp='2024-10-13 14:41:48'),\n",
              " Row(city='SIEMIATYCZE', humidity_avg=72.175, latitude='52.4289637', longitude='22.8845728', name='SZKOŁA PODSTAWOWA NR 3 IM. JANA PAWŁA II W SIEMIATYCZACH', pm10_avg=4.258333333333334, pm25_avg=4.25, post_code='17-300', pressure_avg=985.5416666666666, street='UL. GEN. WŁADYSŁAWA ANDERSA', temperature_avg=11.616666666666667, timestamp='2024-10-13 14:41:48'),\n",
              " Row(city='SIEDLISKA', humidity_avg=67.875, latitude='49.8686222', longitude='21.0117541', name='SZKOŁA PODSTAWOWA IM.KARDYNAŁA STEFANA WYSZYŃSKIEGO W SIEDLISKACH', pm10_avg=0.9416666666666668, pm25_avg=0.6166666666666666, post_code='33-172', pressure_avg=981.0500000000001, street=None, temperature_avg=15.583333333333334, timestamp='2024-10-13 14:41:48'),\n",
              " Row(city='TYCHY', humidity_avg=86.35000000000001, latitude='50.1218007', longitude='19.0200022', name='NIEPUBLICZNE LICEUM SZTUK PLASTYCZNYCH IM. ORLĄT LWOWSKICH W TYCHACH', pm10_avg=3.0500000000000003, pm25_avg=3.0500000000000003, post_code='43-100', pressure_avg=976.2583333333333, street='UL. BUDOWLANYCH', temperature_avg=12.391666666666667, timestamp='2024-10-13 14:41:48'),\n",
              " Row(city='BOBOWA', humidity_avg=64.90833333333333, latitude='49.7102798', longitude='20.9509659', name='LICEUM OGÓLNOKSZTAŁCĄCE IM. HENRYKA SIENKIEWICZA W BOBOWEJ', pm10_avg=2.566666666666667, pm25_avg=1.8166666666666667, post_code='38-350', pressure_avg=976.6666666666666, street='UL. DŁUGOSZOWSKICH', temperature_avg=15.924999999999999, timestamp='2024-10-13 14:41:48'),\n",
              " Row(city='WILKOWIECKO', humidity_avg=79.49090909090908, latitude='50.9513279', longitude='18.8698338', name='SZKOŁA PODSTAWOWA IM. TADEUSZA KOŚCIUSZKI W WILKOWIECKU', pm10_avg=1.6636363636363638, pm25_avg=1.6636363636363638, post_code='42-152', pressure_avg=977.0727272727272, street='UL. SZKOLNA', temperature_avg=8.745454545454546, timestamp='2024-10-13 14:41:48'),\n",
              " Row(city='ANDRYCHÓW', humidity_avg=73.20833333333333, latitude='49.8548934', longitude='19.3412842', name='TECHNIKUM NR 2 W ZESPOLE SZKÓŁ NR 2 IM.ŚW.JADWIGI KRÓLOWEJ W ANDRYCHOWIE ', pm10_avg=2.4499999999999997, pm25_avg=2.4499999999999997, post_code='34-120', pressure_avg=969.7166666666667, street='UL. STEFANA BATOREGO', temperature_avg=13.358333333333334, timestamp='2024-10-13 14:41:48'),\n",
              " Row(city='JAROSŁAW', humidity_avg=54.800000000000004, latitude='50.044337', longitude='22.680698', name='SZKOŁA PODSTAWOWA NR 7 IM. KS. STANISŁAWA STASZICA W JAROSŁAWIU', pm10_avg=4.133333333333334, pm25_avg=3.275, post_code='37-500', pressure_avg=990.375, street='UL. DOLNOLEŻAJSKA', temperature_avg=16.0, timestamp='2024-10-13 14:41:48'),\n",
              " Row(city='UŚCIE GORLICKIE', humidity_avg=62.699999999999996, latitude='49.5218473', longitude='21.1384131', name='SZKOŁA PODSTAWOWA W UŚCIU GORLICKIM', pm10_avg=5.916666666666667, pm25_avg=5.541666666666667, post_code='38-315', pressure_avg=963.8499999999999, street=None, temperature_avg=13.183333333333332, timestamp='2024-10-13 14:41:48'),\n",
              " Row(city='HAJNÓWKA', humidity_avg=70.2, latitude='52.735871', longitude='23.592226', name='II LICEUM OGÓLNOKSZTAŁCĄCE Z DODATKOWĄ NAUKĄ JĘZYKA BIAŁORUSKIEGO W HAJNÓWCE', pm10_avg=5.358333333333333, pm25_avg=4.683333333333334, post_code='17-200', pressure_avg=987.8916666666668, street='UL. MARSZAŁKA JÓZEFA PIŁSUDSKIEGO', temperature_avg=11.808333333333332, timestamp='2024-10-13 14:41:48'),\n",
              " Row(city='KĘTY', humidity_avg=71.06666666666666, latitude='49.8807299', longitude='19.2228003', name='TECHNIKUM W KĘTACH ZAKŁADU DOSKONALENIA ZAWODOWEGO W KATOWICACH', pm10_avg=1.9749999999999999, pm25_avg=1.7333333333333334, post_code='32-650', pressure_avg=976.1999999999999, street='UL. ŻWIRKI I WIGURY', temperature_avg=13.6, timestamp='2024-10-13 14:41:48'),\n",
              " Row(city='RYBNIK', humidity_avg=79.08333333333333, latitude='50.10136552503232 ', longitude='18.531808211060092', name='SPOŁECZNA SZKOŁA PODSTAWOWA Z ODDZIAŁAMI DWUJĘZYCZNYMI IM. JERZEGO KUKUCZKI W RYBNIKU', pm10_avg=9.891666666666667, pm25_avg=8.908333333333333, post_code='44-217', pressure_avg=982.2666666666668, street='UL. ŚW. JÓZEFA', temperature_avg=12.549999999999999, timestamp='2024-10-13 14:41:48'),\n",
              " Row(city='RYBNIK', humidity_avg=80.625, latitude='50.0787546', longitude='18.61219957', name='SZKOŁA PODSTAWOWA Z ODDZIAŁAMI INTEGRACYJNYMI NR 20 IM. HARCERZY BUCHALIKÓW W RYBNIKU', pm10_avg=12.683333333333332, pm25_avg=12.041666666666666, post_code='44-251', pressure_avg=979.9166666666666, street='UL. ZIOŁOWA', temperature_avg=12.183333333333332, timestamp='2024-10-13 14:41:48'),\n",
              " Row(city='RYBNIK', humidity_avg=73.29166666666667, latitude='50.1021742', longitude='18.5462847', name='SZKOŁA PODSTAWOWA NR 8 IM. WŁADYSŁAWA WEBERA W ZESPOLE SZKOLNO-PRZEDSZKOLNYM Z ODDZIAŁAMI INTEGRACYJNYMI NR 1 W RYBNIKU', pm10_avg=5.641666666666667, pm25_avg=4.325, post_code='44-207', pressure_avg=981.0500000000001, street='UL. GLIWICKA', temperature_avg=15.225, timestamp='2024-10-13 14:41:48'),\n",
              " Row(city='RYBNIK', humidity_avg=81.10000000000001, latitude='50.1108233', longitude='18.5162417', name='SZKOŁA PODSTAWOWA NR 32 IM. ALFREDA SZKLARSKIEGO W RYBNIKU', pm10_avg=3.9916666666666667, pm25_avg=3.5083333333333333, post_code='44-200', pressure_avg=981.35, street='UL. BORKI', temperature_avg=12.025, timestamp='2024-10-13 14:41:48'),\n",
              " Row(city='RYBNIK', humidity_avg=77.86666666666666, latitude='50.0946384', longitude='18.5490429', name='TECHNIKUM NR 2 W RYBNIKU', pm10_avg=6.191666666666666, pm25_avg=5.108333333333333, post_code='44-200', pressure_avg=980.0333333333333, street='UL. TADEUSZA KOŚCIUSZKI', temperature_avg=12.491666666666667, timestamp='2024-10-13 14:41:48'),\n",
              " Row(city='NOWA SÓL', humidity_avg=54.449999999999996, latitude='51.80344', longitude='15.71707', name='SZKOŁA PODSTAWOWA NR 1 IM. TADEUSZA KOŚCIUSZKI W NOWEJ SOLI', pm10_avg=2.091666666666667, pm25_avg=1.9666666666666668, post_code='67-100', pressure_avg=996.9833333333332, street='UL. SZKOLNA', temperature_avg=13.450000000000001, timestamp='2024-10-13 14:41:48'),\n",
              " Row(city='PIERŚCIEC', humidity_avg=80.23333333333333, latitude='49.8369', longitude='18.8202885', name='SZKOŁA PODSTAWOWA IM. ZOFII KOSSAK W PIERŚĆCU', pm10_avg=5.3, pm25_avg=5.283333333333333, post_code='43-430', pressure_avg=973.6083333333332, street='UL. JERZEGO TOMANKA', temperature_avg=12.700000000000001, timestamp='2024-10-13 14:41:48'),\n",
              " Row(city='ŁOJKI', humidity_avg=79.47500000000001, latitude='50.7962799', longitude='19.005388', name='SZKOŁA PODSTAWOWA IM. KORNELA MAKUSZYŃSKIEGO W ZESPOLE SZKOLNO - PRZEDSZKOLNYM W ŁOJKACH', pm10_avg=2.6166666666666667, pm25_avg=2.6083333333333334, post_code='42-290', pressure_avg=975.525, street='UL. DŁUGA', temperature_avg=9.691666666666666, timestamp='2024-10-13 14:41:48'),\n",
              " Row(city='RYBNIK', humidity_avg=82.92, latitude='50.1021742', longitude='18.5462847', name='SZKOŁA PODSTAWOWA Z ODDZIAŁAMI INTEGRACYJNYMI NR 1 IM. JANUSZA KORCZAKA W RYBNIKU', pm10_avg=6.0, pm25_avg=5.18, post_code='44-200', pressure_avg=979.86, street='UL. BOLESŁAWA CHROBREGO', temperature_avg=12.24, timestamp='2024-10-13 14:41:48'),\n",
              " Row(city='PSARY', humidity_avg=85.45833333333333, latitude='50.3794553', longitude='19.1137897', name='SZKOŁA PODSTAWOWA IM. JANA PAWŁA II W PSARACH', pm10_avg=3.483333333333333, pm25_avg=3.466666666666667, post_code='42-287', pressure_avg=968.7833333333333, street='UL. GŁÓWNA', temperature_avg=9.283333333333333, timestamp='2024-10-13 14:41:48'),\n",
              " Row(city='ŻAGAŃ', humidity_avg=60.09166666666667, latitude='51.6151339', longitude='15.3248642', name='LICEUM OGÓLNOKSZTAŁCĄCE IM. GEN. WŁADYSŁAWA ANDERSA W ŻAGANIU', pm10_avg=1.7916666666666667, pm25_avg=1.575, post_code='68-100', pressure_avg=992.6083333333335, street='UL. GIMNAZJALNA', temperature_avg=12.491666666666667, timestamp='2024-10-13 14:41:48'),\n",
              " Row(city='SZPROTAWA', humidity_avg=51.541666666666664, latitude='51.5647296', longitude='15.5298967', name='LICEUM OGÓLNOKSZTAŁCĄCE Z ODDZIAŁAMI DWUJĘZYCZNYMI W SZPROTAWIE', pm10_avg=1.5083333333333335, pm25_avg=1.3666666666666665, post_code='67-300', pressure_avg=990.4833333333332, street='UL. NIEPODLEGŁOŚCI', temperature_avg=13.783333333333333, timestamp='2024-10-13 14:41:48'),\n",
              " Row(city='RYBNIK', humidity_avg=83.60000000000001, latitude='50.0967328', longitude='18.5456179', name='TECHNIKUM NR 1 IM. STANISŁAWA STASZICA W RYBNIKU', pm10_avg=7.158333333333332, pm25_avg=6.55, post_code='44-200', pressure_avg=979.0500000000001, street='UL. TADEUSZA KOŚCIUSZKI', temperature_avg=11.808333333333332, timestamp='2024-10-13 14:41:48'),\n",
              " Row(city='ZAWIERCIE', humidity_avg=85.45, latitude='50.487743', longitude='19.4166259', name='SZKOŁA PODSTAWOWA NR 6 IM. JANUSZA KORCZAKA W ZAWIERCIU', pm10_avg=7.391666666666667, pm25_avg=6.483333333333333, post_code='42-400', pressure_avg=968.8416666666667, street='UL. WIERZBOWA', temperature_avg=12.225, timestamp='2024-10-13 14:41:48'),\n",
              " Row(city='DOBRODZIEŃ', humidity_avg=83.14999999999999, latitude='50.72184475', longitude='18.44702463', name='SZKOŁA PODSTAWOWA SPECJALNA W DOBRODZIENIU', pm10_avg=1.7999999999999998, pm25_avg=1.7750000000000001, post_code='46-380', pressure_avg=1100.0, street='UL. PIASTOWSKA', temperature_avg=8.766666666666667, timestamp='2024-10-13 14:41:48'),\n",
              " Row(city='RYBNIK', humidity_avg=100.0, latitude='50.05483', longitude='18.62631', name='SZKOŁA PODSTAWOWA NR 19 W RYBNIKU', pm10_avg=13.158333333333333, pm25_avg=10.833333333333334, post_code='44-251', pressure_avg=1093.5, street='UL. WŁOŚCIAŃSKA', temperature_avg=-40.0, timestamp='2024-10-13 14:41:48'),\n",
              " Row(city='HOCZEW', humidity_avg=67.16666666666667, latitude='49.4275648', longitude='22.3277466', name='ZESPÓŁ SZKÓŁ SAMORZĄDOWYCH W HOCZWI SZKOŁA PODSTAWOWA W HOCZWI', pm10_avg=3.483333333333333, pm25_avg=3.3166666666666664, post_code='38-604', pressure_avg=972.75, street=None, temperature_avg=13.1, timestamp='2024-10-13 14:41:48'),\n",
              " Row(city='NIEBIESZCZANY', humidity_avg=62.166666666666664, latitude='49.5008701', longitude='22.1593098', name='SZKOŁA PODSTAWOWA W NIEBIESZCZANACH', pm10_avg=4.183333333333334, pm25_avg=3.3000000000000003, post_code='38-504', pressure_avg=969.25, street=None, temperature_avg=12.566666666666668, timestamp='2024-10-13 14:41:48'),\n",
              " Row(city='KOSTAROWCE', humidity_avg=58.93333333333334, latitude='49.5876781', longitude='22.1133372', name='SZKOŁA PODSTAWOWA IM. ŚWIĘTEGO ANDRZEJA BOBOLI W KOSTAROWCACH', pm10_avg=7.425, pm25_avg=7.333333333333333, post_code='38-507', pressure_avg=972.35, street=None, temperature_avg=14.441666666666668, timestamp='2024-10-13 14:41:48'),\n",
              " Row(city='KOŃCZYCE MAŁE', humidity_avg=83.21000000000001, latitude='49.8522537', longitude='18.6292714', name='SZKOŁA PODSTAWOWA IM. JAROSŁAWA DĄBROWSKIEGO W KOŃCZYCACH MAŁYCH', pm10_avg=3.84, pm25_avg=3.84, post_code='43-410', pressure_avg=978.2299999999999, street='UL. JAGIELLOŃSKA', temperature_avg=13.51, timestamp='2024-10-13 14:41:48'),\n",
              " Row(city='RYBNIK', humidity_avg=81.72222222222223, latitude='50.052555', longitude='18.5866335', name='BRANŻOWA SZKOŁA I STOPNIA SPECJALNA W RYBNIKU', pm10_avg=4.088888888888889, pm25_avg=4.0, post_code='44-251', pressure_avg=976.5555555555555, street='UL. STANISŁAWA MAŁACHOWSKIEGO', temperature_avg=12.266666666666667, timestamp='2024-10-13 14:41:48'),\n",
              " Row(city='MILICZ', humidity_avg=62.949999999999996, latitude='51.5302895', longitude='17.2664553', name='TECHNIKUM LEŚNE W MILICZU', pm10_avg=2.0083333333333333, pm25_avg=1.9583333333333333, post_code='56-300', pressure_avg=992.1166666666667, street='UL. KASZTELAŃSKA', temperature_avg=13.108333333333333, timestamp='2024-10-13 14:41:48'),\n",
              " Row(city='KOŚMIDRY', humidity_avg=89.13333333333333, latitude='50.6647589', longitude='18.5679671', name='SZKOŁA PODSTAWOWA IM. WANDY KAWY I BRONISŁAWY KAWY W KOŚMIDRACH', pm10_avg=1.2916666666666667, pm25_avg=1.2833333333333334, post_code='42-772', pressure_avg=981.9833333333332, street='UL. SZKOLNA', temperature_avg=8.208333333333334, timestamp='2024-10-13 14:41:48'),\n",
              " Row(city='CIECHANÓW', humidity_avg=85.125, latitude='52.8633337', longitude='20.630814', name='SZKOŁA PODSTAWOWA NR 4 IM 21. WARSZAWSKIEGO PUŁKU PIECHOTY \"DZIECI WARSZAWY\" W CIECHANOWIE', pm10_avg=10.991666666666667, pm25_avg=9.166666666666666, post_code='06-400', pressure_avg=991.3083333333334, street='UL. PŁOŃSKA', temperature_avg=9.508333333333333, timestamp='2024-10-13 14:41:48'),\n",
              " Row(city='LUBIN', humidity_avg=57.800000000000004, latitude='51.4014027', longitude='16.208145', name='TECHNIKUM NR 1 IM. PROF. BOLESŁAWA KRUPIŃSKIEGO W LUBINIE', pm10_avg=1.1166666666666667, pm25_avg=0.9833333333333334, post_code='59-300', pressure_avg=990.3083333333334, street='UL. TADEUSZA KOŚCIUSZKI', temperature_avg=12.933333333333332, timestamp='2024-10-13 14:41:48'),\n",
              " Row(city='GUBIN', humidity_avg=62.1, latitude='51.9489824', longitude='14.7284576', name='SZKOŁA PODSTAWOWA NR 1 IM. MIKOŁAJA KOPERNIKA W GUBINIE', pm10_avg=1.6714285714285713, pm25_avg=1.5285714285714285, post_code='66-620', pressure_avg=998.8714285714286, street='UL. RACŁAWICKA', temperature_avg=12.728571428571428, timestamp='2024-10-13 14:41:48'),\n",
              " Row(city='LIMANOWA', humidity_avg=68.61666666666666, latitude='49.7185471', longitude='20.4080007', name='IV LICEUM OGÓLNOKSZTAŁCĄCE IM. KARD. STEFANA WYSZYŃSKIEGO W ZESPOLE SZKÓŁ NR 1 IM. JÓZEFA PIŁSUDSKIEGO W LIMANOWEJ ', pm10_avg=2.733333333333333, pm25_avg=2.0833333333333335, post_code='34-600', pressure_avg=965.775, street='UL. WINCENTEGO WITOSA', temperature_avg=14.825000000000001, timestamp='2024-10-13 14:41:48'),\n",
              " Row(city='KNURÓW', humidity_avg=77.0, latitude='50.2109434', longitude='18.6452996', name='MIEJSKA SZKOŁA PODSTAWOWA NR 3 W KNUROWIE', pm10_avg=5.3500000000000005, pm25_avg=5.325, post_code='44-193', pressure_avg=979.2833333333333, street='UL. FELIKSA MICHALSKIEGO', temperature_avg=12.875, timestamp='2024-10-13 14:41:48'),\n",
              " Row(city='CEGŁÓW', humidity_avg=75.27777777777777, latitude='52.1469857', longitude='21.7379077', name='PUBLICZNA SZKOŁA PODSTAWOWA IM. BOHATERSKICH HARCERZY CEGŁOWA W CEGŁOWIE', pm10_avg=11.211111111111112, pm25_avg=10.38888888888889, post_code='05-319', pressure_avg=986.3555555555556, street='UL. POPRZECZNA', temperature_avg=11.322222222222223, timestamp='2024-10-13 14:41:48'),\n",
              " Row(city='KOCHCICE', humidity_avg=81.09166666666667, latitude='50.7082443', longitude='18.6821575', name='PUBLICZNA SZKOŁA PODSTAWOWA W KOCHCICACH', pm10_avg=1.4833333333333334, pm25_avg=1.4833333333333334, post_code='42-283', pressure_avg=974.85, street='UL. PARKOWA', temperature_avg=8.75, timestamp='2024-10-13 14:41:48'),\n",
              " Row(city='SZÓWSKO', humidity_avg=68.71666666666667, latitude='50.04758822852888 ', longitude='22.710251184075926', name='SZKOŁA PODSTAWOWA IM.JANA KOCHANOWSKIEGO W SZÓWSKU', pm10_avg=7.183333333333334, pm25_avg=6.591666666666666, post_code='37-522', pressure_avg=991.1, street='UL. LUBELSKA', temperature_avg=15.991666666666667, timestamp='2024-10-13 14:41:48'),\n",
              " Row(city='POSKWITÓW (WIEŚ)', humidity_avg=68.00833333333334, latitude='50.2236024', longitude='20.0004568', name='SZKOŁA PODSTAWOWA Z ODDZIAŁEM PRZEDSZKOLNYM W POSKWITOWIE', pm10_avg=2.183333333333333, pm25_avg=2.1333333333333333, post_code='32-095', pressure_avg=985.6750000000001, street='POSKWITÓW', temperature_avg=11.441666666666668, timestamp='2024-10-13 14:41:48'),\n",
              " Row(city='RYBARZOWICE', humidity_avg=74.58333333333333, latitude='49.7294784', longitude='19.1030526', name='SZKOŁA PODSTAWOWA IM. B.CHROBREGO W RYBARZOWICACH', pm10_avg=8.866666666666667, pm25_avg=8.75, post_code='43-378', pressure_avg=958.7333333333332, street='UL. BESKIDZKA', temperature_avg=13.341666666666667, timestamp='2024-10-13 14:41:48'),\n",
              " Row(city='HERBY', humidity_avg=83.35000000000001, latitude='50.743272', longitude='18.880949', name='SZKOŁA PODSTAWOWA IM. JULIUSZA SŁOWACKIEGO W HERBACH', pm10_avg=1.4749999999999999, pm25_avg=1.075, post_code='42-284', pressure_avg=975.1916666666666, street='UL. KATOWICKA', temperature_avg=7.791666666666667, timestamp='2024-10-13 14:41:48'),\n",
              " Row(city='MARKLOWICE GÓRNE', humidity_avg=80.61, latitude='49.890108', longitude='18.5829587', name='SZKOŁA PODSTAWOWA W MARKLOWICACH GÓRNYCH', pm10_avg=2.8600000000000003, pm25_avg=2.8600000000000003, post_code='43-410', pressure_avg=980.3700000000001, street='UL. SZKOLNA', temperature_avg=13.65, timestamp='2024-10-13 14:41:48'),\n",
              " Row(city='DĄBROWA', humidity_avg=79.29166666666667, latitude='50.9711671', longitude='17.799011', name='SZKOŁA PODSTAWOWA W DĄBROWIE', pm10_avg=3.8083333333333336, pm25_avg=2.9166666666666665, post_code='46-112', pressure_avg=992.2083333333334, street='UL. PARKOWA', temperature_avg=8.858333333333333, timestamp='2024-10-13 14:41:48'),\n",
              " Row(city='MIEDŹNO', humidity_avg=78.64999999999999, latitude='50.9680679', longitude='18.9868811', name='SZKOŁA PODSTAWOWA IM. WOŁYŃSKIEJ BRYGADY KAWALERII W MIEDŹNIE', pm10_avg=3.0500000000000003, pm25_avg=3.033333333333333, post_code='42-120', pressure_avg=979.725, street='UL. SZKOLNA', temperature_avg=9.125, timestamp='2024-10-13 14:41:48'),\n",
              " Row(city='TARNOWSKIE GÓRY', humidity_avg=82.30833333333334, latitude='50.446684', longitude='18.849052', name='TECHNIKUM NR 1 W TARNOWSKICH GÓRACH', pm10_avg=2.975, pm25_avg=2.966666666666667, post_code='42-600', pressure_avg=970.6833333333334, street='UL. OPOLSKA', temperature_avg=10.575000000000001, timestamp='2024-10-13 14:41:48'),\n",
              " Row(city='WYSZKÓW', humidity_avg=81.60000000000001, latitude='52.5928523', longitude='21.458395', name='SZKOŁA PODSTAWOWA NR 3 IM. JANA HEMPLA W WYSZKOWIE', pm10_avg=5.7250000000000005, pm25_avg=5.175, post_code='07-201', pressure_avg=996.775, street='UL. STEFANA BATOREGO', temperature_avg=10.1, timestamp='2024-10-13 14:41:48'),\n",
              " Row(city='ZAŁUŻE', humidity_avg=59.25, latitude='50.1994769', longitude='23.170994', name='SPOŁECZNA SZKOŁA PODSTAWOWA Z ODDZIAŁEM PRZEDSZKOLNYM W ZAŁUŻU', pm10_avg=2.6083333333333334, pm25_avg=2.6666666666666665, post_code='37-600', pressure_avg=985.3916666666668, street=None, temperature_avg=15.516666666666666, timestamp='2024-10-13 14:41:48'),\n",
              " Row(city='LUBATOWA', humidity_avg=64.08333333333333, latitude='49.5404048', longitude='21.76125', name='SZKOŁA PODSTAWOWA IM. JANA PAWŁA II W LUBATOWEJ', pm10_avg=5.375, pm25_avg=4.383333333333334, post_code='38-440', pressure_avg=963.9416666666666, street=None, temperature_avg=12.108333333333334, timestamp='2024-10-13 14:41:48'),\n",
              " Row(city='ROPCZYCE', humidity_avg=64.51666666666667, latitude='50.0775233', longitude='21.5863232', name='SZKOŁA PODSTAWOWA NR 2 W ROPCZYCACH', pm10_avg=6.991666666666667, pm25_avg=6.008333333333333, post_code='39-100', pressure_avg=984.3249999999999, street='UL. ROBOTNICZA', temperature_avg=14.691666666666668, timestamp='2024-10-13 14:41:48'),\n",
              " Row(city='DĄBRÓWKA', humidity_avg=78.175, latitude='52.4866867', longitude='21.2966041', name='SZKOŁA PODSTAWOWA IM. C.K. NORWIDA W DĄBRÓWCE', pm10_avg=12.191666666666668, pm25_avg=9.558333333333334, post_code='05-252', pressure_avg=995.7666666666668, street='UL. TADEUSZA KOŚCIUSZKI', temperature_avg=10.25, timestamp='2024-10-13 14:41:48'),\n",
              " Row(city='SARNÓWEK DUŻY', humidity_avg=72.14166666666667, latitude='51.006609', longitude='21.436512', name='PUBLICZNA SZKOŁA PODSTAWOWA IM. JANA PAWŁA II W SARNÓWKU', pm10_avg=10.216666666666667, pm25_avg=7.9750000000000005, post_code='27-400', pressure_avg=984.8916666666668, street=None, temperature_avg=12.733333333333334, timestamp='2024-10-13 14:41:48'),\n",
              " Row(city='PILCHOWICE', humidity_avg=79.39999999999999, latitude='50.21769552978952', longitude='18.55892249999911', name='SZKOŁA PODSTAWOWA W PILCHOWICACH', pm10_avg=4.058333333333334, pm25_avg=3.0, post_code='44-145', pressure_avg=982.0, street='UL. SZKOLNA', temperature_avg=11.833333333333334, timestamp='2024-10-13 14:41:48'),\n",
              " Row(city='ROGOWICE', humidity_avg=89.80833333333334, latitude='51.03562685582885 ', longitude='20.558991380964468', name='SZKOŁA PODSTAWOWA W ROGOWICACH', pm10_avg=12.658333333333333, pm25_avg=11.991666666666667, post_code='26-080', pressure_avg=972.6500000000001, street=None, temperature_avg=10.299999999999999, timestamp='2024-10-13 14:41:48'),\n",
              " Row(city='CZARNA BIAŁOSTOCKA', humidity_avg=70.27499999999999, latitude='53.3015522', longitude='23.2856814', name='SZKOŁA PODSTAWOWA NR 2 IM. ROMUALDA TRAUGUTTA W CZARNEJ BIAŁOSTOCKIEJ', pm10_avg=2.1999999999999997, pm25_avg=1.8499999999999999, post_code='16-020', pressure_avg=988.4833333333332, street='UL. TRAUGUTTA', temperature_avg=11.083333333333334, timestamp='2024-10-13 14:41:48'),\n",
              " Row(city='LUBSZA', humidity_avg=89.41666666666667, latitude='50.6125221', longitude='18.9962539', name='SZKOŁA PODSTAWOWA IM. JÓZEFA LOMPY W LUBSZY', pm10_avg=3.0833333333333335, pm25_avg=2.4166666666666665, post_code='42-287', pressure_avg=967.2916666666666, street='UL. SZKOLNA', temperature_avg=8.333333333333334, timestamp='2024-10-13 14:41:48'),\n",
              " Row(city='BYDGOSZCZ', humidity_avg=79.46363636363637, latitude='53.13014', longitude='18.006526', name='SZKOŁA PODSTAWOWA NR 58 IM. IRENY SENDLEROWEJ W BYDGOSZCZY', pm10_avg=4.336363636363637, pm25_avg=4.309090909090909, post_code='85-005', pressure_avg=996.3909090909091, street='UL. GDAŃSKA', temperature_avg=11.236363636363636, timestamp='2024-10-13 14:41:48'),\n",
              " Row(city='WARSZAWA', humidity_avg=84.77499999999999, latitude='52.16464066', longitude='21.20527549', name='ZESPÓŁ SZKÓŁ SPECJALNYCH NR 102 W WARSZAWIE', pm10_avg=8.85, pm25_avg=8.816666666666666, post_code='04-963', pressure_avg=991.975, street='UL. DERKACZY', temperature_avg=10.65, timestamp='2024-10-13 14:41:48'),\n",
              " Row(city='RADZYMIN', humidity_avg=79.85833333333333, latitude='52.4148957', longitude='21.1891905', name='BRANŻOWA SZKOŁA I STOPNIA IM. KPT. STEFANA POGONOWSKIEGO W RADZYMINIE', pm10_avg=8.808333333333334, pm25_avg=8.174999999999999, post_code='05-250', pressure_avg=996.0416666666666, street='UL. KOMUNALNA', temperature_avg=10.1, timestamp='2024-10-13 14:41:48'),\n",
              " Row(city='RADOM', humidity_avg=80.10909090909091, latitude='51.41283841', longitude='21.1619916', name='PUBLICZNA SZKOŁA PODSTAWOWA NR 5 IM.MARII DĄBROWSKIEJ W RADOMIU', pm10_avg=9.9, pm25_avg=9.89090909090909, post_code='26-600', pressure_avg=984.1545454545455, street='UL. GEN. JÓZEFA SOWIŃSKIEGO', temperature_avg=11.645454545454545, timestamp='2024-10-13 14:41:48'),\n",
              " Row(city='DYDNIA', humidity_avg=51.85, latitude='49.6854658', longitude='22.1746713', name='SZKOŁA PODSTAWOWA IM. ŚWIĘTEJ KRÓLOWEJ JADWIGI W DYDNI', pm10_avg=5.291666666666667, pm25_avg=4.875, post_code='36-204', pressure_avg=1005.2916666666666, street=None, temperature_avg=9.6, timestamp='2024-10-13 14:41:48'),\n",
              " Row(city='SZCZEKOCINY', humidity_avg=79.375, latitude='50.619208', longitude='19.823275', name='LICEUM OGÓLNOKSZTAŁCĄCE IM. ROMANA CZERNECKIEGO W SZCZEKOCINACH', pm10_avg=2.6916666666666664, pm25_avg=2.3000000000000003, post_code='42-445', pressure_avg=976.15, street='UL. SPACEROWA', temperature_avg=13.066666666666668, timestamp='2024-10-13 14:41:48'),\n",
              " Row(city='SIERAKÓW ŚLĄSKI', humidity_avg=81.175, latitude='50.8012616', longitude='18.577074', name='ZESPÓŁ SZKOLNO-PRZEDSZKOLNY W SIERAKOWIE ŚLĄSKIM-SZKOŁA PODSTAWOWA W SIERAKOWIE ŚLĄSKIM', pm10_avg=2.1999999999999997, pm25_avg=2.183333333333333, post_code='42-793', pressure_avg=977.2666666666668, street='UL. SZKOLNA', temperature_avg=8.833333333333334, timestamp='2024-10-13 14:41:48'),\n",
              " Row(city='PIASECZNO', humidity_avg=73.99166666666667, latitude='52.1363862', longitude='21.7213942', name='PUBLICZNA SZKOŁA PODSTAWOWA W CEGŁOWIE - FILIA W PIASECZNIE', pm10_avg=6.533333333333334, pm25_avg=5.408333333333334, post_code='05-319', pressure_avg=987.8333333333334, street=None, temperature_avg=11.725, timestamp='2024-10-13 14:41:48'),\n",
              " Row(city='BIAŁYSTOK', humidity_avg=67.39166666666667, latitude='53.11937961459712', longitude='23.20856832883596', name='SZKOŁA PODSTAWOWA NR 20 IM. GEN. WŁADYSŁAWA SIKORSKIEGO W BIAŁYMSTOKU', pm10_avg=4.558333333333334, pm25_avg=4.45, post_code='15-559', pressure_avg=987.6333333333333, street='UL. LEŚNA', temperature_avg=12.041666666666666, timestamp='2024-10-13 14:41:48'),\n",
              " Row(city='STOCZEK', humidity_avg=78.13333333333334, latitude='52.5429093', longitude='21.9001015', name='SZKOŁA PODSTAWOWA IM. EDWARDA SZYMAŃSKIEGO W STOCZKU', pm10_avg=8.233333333333334, pm25_avg=8.183333333333334, post_code='07-104', pressure_avg=988.2916666666666, street='UL. WĘGROWSKA', temperature_avg=10.491666666666667, timestamp='2024-10-13 14:41:48'),\n",
              " Row(city='DĘBINKI', humidity_avg=81.075, latitude='52.4770923', longitude='21.4224042', name='SZKOŁA PODSTAWOWA IM. C.K. NORWIDA W DĘBINKACH', pm10_avg=21.0, pm25_avg=16.491666666666667, post_code='07-230', pressure_avg=994.4166666666666, street='UL. C. K. NORWIDA', temperature_avg=10.258333333333333, timestamp='2024-10-13 14:41:48'),\n",
              " Row(city='ZABRZE', humidity_avg=72.77499999999999, latitude='50.3132502', longitude='18.768076', name='TECHNIKUM NR 5 W ZABRZU W ZESPOLE SZKÓŁ SPOŻYWCZYCH IM. DR BRONISŁAWA HAGERA W ZABRZU', pm10_avg=4.191666666666666, pm25_avg=4.191666666666666, post_code='41-819', pressure_avg=978.3000000000001, street='UL. FRANCISZKAŃSKA', temperature_avg=12.158333333333333, timestamp='2024-10-13 14:41:48'),\n",
              " Row(city='KOPIENICA', humidity_avg=88.5909090909091, latitude='50.4496034', longitude='18.6504282', name='SZKOŁA PODSTAWOWA W KOPIENICY', pm10_avg=2.1818181818181817, pm25_avg=1.3818181818181818, post_code='42-674', pressure_avg=976.3727272727273, street='UL. 1 MAJA', temperature_avg=7.472727272727273, timestamp='2024-10-13 14:41:48'),\n",
              " Row(city='GROMADKA', humidity_avg=76.60000000000001, latitude='51.35525115', longitude='15.76266314', name='SZKOŁA PODSTAWOWA W GROMADCE', pm10_avg=4.833333333333333, pm25_avg=2.67, post_code='59-706', pressure_avg=992.9, street='UL. GEN. WŁ. SIKORSKIEGO', temperature_avg=13.0, timestamp='2024-10-13 14:41:48'),\n",
              " Row(city='SZCZECIN', humidity_avg=82.8, latitude=' 53.38566007', longitude='14.7642087', name='SZKOŁA PODSTAWOWA NR 13 IM. ORLĄT LWOWSKICH W SZCZECINIE', pm10_avg=1.9833333333333334, pm25_avg=1.7583333333333335, post_code='70-880', pressure_avg=1002.0666666666666, street='UL. BAŁTYCKA', temperature_avg=9.0, timestamp='2024-10-13 14:41:48'),\n",
              " Row(city='GOLENIÓW', humidity_avg=85.20833333333333, latitude='53.570509', longitude='14.8193', name='BRANŻOWA SZKOŁA I STOPNIA SPECJALNA NR 1 W GOLENIOWIE', pm10_avg=0.6583333333333333, pm25_avg=0.3416666666666666, post_code='72-100', pressure_avg=1001.2916666666666, street='UL. NIEPODLEGŁOŚCI', temperature_avg=8.883333333333333, timestamp='2024-10-13 14:41:48'),\n",
              " Row(city='ZŁOCIENIEC', humidity_avg=83.27499999999999, latitude='53.541936', longitude='16.048539', name='SZKOŁA PODSTAWOWA NR 3 IM.ŻOŁNIERZA POLSKIEGO UL.CZWARTAKÓW 2 W ZŁOCIEŃCU', pm10_avg=0.4583333333333333, pm25_avg=0.19999999999999998, post_code='78-524', pressure_avg=988.5916666666667, street='UL. CZWARTAKÓW', temperature_avg=7.8, timestamp='2024-10-13 14:41:48'),\n",
              " Row(city='IŃSKO', humidity_avg=86.91666666666667, latitude='53.43606', longitude='15.55039', name='SZKOŁA PODSTAWOWA IM. KRZYSZTOFA KAMILA BACZYŃSKIEGO W IŃSKU', pm10_avg=1.4749999999999999, pm25_avg=1.1166666666666667, post_code='73-140', pressure_avg=988.7416666666667, street='UL. POPRZECZNA', temperature_avg=8.133333333333333, timestamp='2024-10-13 14:41:48'),\n",
              " Row(city='BRZESKO', humidity_avg=70.09166666666667, latitude='49.97275', longitude='20.612038', name='PUBLICZNA SZKOŁA PODSTAWOWA NR 3 IM. MIKOŁAJA KOPERNIKA W BRZESKU', pm10_avg=2.6333333333333333, pm25_avg=2.441666666666667, post_code='32-800', pressure_avg=983.4416666666666, street='UL. LEGIONÓW PIŁSUDSKIEGO', temperature_avg=16.133333333333336, timestamp='2024-10-13 14:41:48'),\n",
              " Row(city='KADZIDŁO', humidity_avg=87.11, latitude='53.23041', longitude='21.464272', name='TECHNIKUM W KADZIDLE', pm10_avg=15.4, pm25_avg=14.36, post_code='07-420', pressure_avg=991.76, street='UL. SŁONECZNA', temperature_avg=8.74, timestamp='2024-10-13 14:41:48'),\n",
              " Row(city='RÓŻAN', humidity_avg=88.02499999999999, latitude='52.88777', longitude='21.391333', name='LICEUM OGÓLNOKSZTAŁCĄCE W ZESPOLE SZKÓŁ W RÓŻANIE', pm10_avg=12.316666666666668, pm25_avg=10.533333333333333, post_code='06-320', pressure_avg=991.6166666666667, street='UL. WARSZAWSKA', temperature_avg=8.891666666666667, timestamp='2024-10-13 14:41:48'),\n",
              " Row(city='ZABRZE', humidity_avg=73.95833333333333, latitude='50.32397', longitude='18.829083', name='SZKOŁA PODSTAWOWA SPECJALNA NR 40 W ZABRZU', pm10_avg=17.583333333333332, pm25_avg=17.325, post_code='41-803', pressure_avg=976.2916666666666, street='UL. BYTOMSKA', temperature_avg=12.125, timestamp='2024-10-13 14:41:48'),\n",
              " Row(city='PABIANICE', humidity_avg=84.89999999999999, latitude='51.66500025', longitude='19.36155263', name='III LICEUM OGÓLNOKSZTAŁCĄCE W PABIANICACH', pm10_avg=4.391666666666667, pm25_avg=4.383333333333333, post_code='95-200', pressure_avg=983.1583333333333, street='UL. GDAŃSKA', temperature_avg=9.833333333333334, timestamp='2024-10-13 14:41:48'),\n",
              " Row(city='SZYMANÓW', humidity_avg=83.04166666666667, latitude='52.16117', longitude='20.37452291', name='SZKOŁA PODSTAWOWA IM. MIKOŁAJA KOPERNIKA W SZYMANOWIE', pm10_avg=7.533333333333334, pm25_avg=7.491666666666667, post_code='96-516', pressure_avg=991.6333333333333, street='UL. SZKOLNA', temperature_avg=11.316666666666668, timestamp='2024-10-13 14:41:48'),\n",
              " Row(city='MIKOŁAJOWICE', humidity_avg=71.98333333333333, latitude='49.979718', longitude='20.869079', name='SZKOŁA PODSTAWOWA IM. MIKOŁAJA KOPERNIKA W MIKOŁAJOWICACH', pm10_avg=5.141666666666667, pm25_avg=4.6000000000000005, post_code='33-121', pressure_avg=986.8333333333334, street=None, temperature_avg=16.558333333333334, timestamp='2024-10-13 14:41:48'),\n",
              " Row(city='BUDKI PIASECKIE', humidity_avg=82.11666666666666, latitude='52.19724553', longitude='20.33231767', name='SZKOŁA PODSTAWOWA IM. FRYDERYKA CHOPINA W BUDKACH PIASECKICH', pm10_avg=8.083333333333334, pm25_avg=8.075000000000001, post_code='96-516', pressure_avg=990.9583333333334, street=None, temperature_avg=11.391666666666666, timestamp='2024-10-13 14:41:48'),\n",
              " Row(city='SOCHACZEW', humidity_avg=82.60000000000001, latitude='52.21990386', longitude='20.24313864', name='BRANŻOWA SZKOŁA I STOPNIA W SOCHACZEWIE', pm10_avg=9.700000000000001, pm25_avg=9.616666666666667, post_code='96-500', pressure_avg=991.6333333333333, street='UL. MARSZAŁKA JÓZEFA PIŁSUDSKIEGO', temperature_avg=11.333333333333334, timestamp='2024-10-13 14:41:48'),\n",
              " Row(city='GNIECHOWICE', humidity_avg=51.4, latitude='50.990853', longitude='16.832592', name='SZKOŁA PODSTAWOWA W GNIECHOWICACH', pm10_avg=3.4, pm25_avg=3.1750000000000003, post_code='55-080', pressure_avg=988.9583333333334, street='UL. SZKOLNA', temperature_avg=14.791666666666666, timestamp='2024-10-13 14:41:48'),\n",
              " Row(city='SIERADZ', humidity_avg=81.64999999999999, latitude='51.5908083', longitude='18.71710516', name='SZKOŁA PODSTAWOWA  NR 10 IM. BOLESŁAWA ZWOLIŃSKIEGO  W SIERADZU', pm10_avg=1.6500000000000001, pm25_avg=1.6416666666666666, post_code='98-200', pressure_avg=987.4499999999999, street='UL. ALEJA GRUNWALDZKA', temperature_avg=9.291666666666666, timestamp='2024-10-13 14:41:48'),\n",
              " Row(city='CZĘSTOCHOWA', humidity_avg=79.47500000000001, latitude='50.80589628', longitude='19.1516031', name='SZKOŁA PODSTAWOWA SPECJALNA NR 23 W CZĘSTOCHOWIE', pm10_avg=3.841666666666667, pm25_avg=3.8166666666666664, post_code='42-202', pressure_avg=977.0749999999999, street='UL. LEGIONÓW', temperature_avg=10.441666666666666, timestamp='2024-10-13 14:41:48'),\n",
              " Row(city='KRUSZYNA', humidity_avg=83.80833333333334, latitude='50.96725877', longitude='19.27871369', name='SZKOŁA PODSTAWOWA IM. POWSTAŃCÓW STYCZNIOWYCH W KRUSZYNIE', pm10_avg=6.733333333333333, pm25_avg=6.6499999999999995, post_code='42-282', pressure_avg=977.5416666666666, street='UL. POCZTOWA', temperature_avg=10.275, timestamp='2024-10-13 14:41:48'),\n",
              " Row(city='GLIWICE', humidity_avg=73.39999999999999, latitude='50.28995971', longitude='18.68979652', name='SZKOŁA PODSTAWOWA NR 36 IM. JOHNA BAILDONA W GLIWICACH', pm10_avg=2.6333333333333333, pm25_avg=2.6166666666666667, post_code='44-100', pressure_avg=980.4, street='UL. ROBOTNICZA', temperature_avg=12.4, timestamp='2024-10-13 14:41:48'),\n",
              " Row(city='ŁĘCZYCA', humidity_avg=89.47500000000001, latitude='52.05959', longitude='19.19969', name='BRANŻOWA SZKOŁA SPECJALNA I STOPNIA W ŁĘCZYCY', pm10_avg=5.116666666666666, pm25_avg=5.1000000000000005, post_code='99-100', pressure_avg=986.3583333333332, street='UL. KALISKA', temperature_avg=10.0, timestamp='2024-10-13 14:41:48'),\n",
              " Row(city='KONSTANTYNÓW ŁÓDZKI', humidity_avg=84.54166666666667, latitude='51.748192', longitude='19.354178', name='SZKOŁA PODSTAWOWA NR 1 IM. KRÓLOWEJ JADWIGI W KONSTANTYNOWIE ŁÓDZKIM', pm10_avg=3.716666666666667, pm25_avg=3.6999999999999997, post_code='95-050', pressure_avg=983.8416666666667, street='UL. ŁÓDZKA', temperature_avg=9.25, timestamp='2024-10-13 14:41:48'),\n",
              " Row(city='SŁOWIK', humidity_avg=83.48333333333333, latitude='50.7475999', longitude='19.1785632', name='SZKOŁA PODSTAWOWA W SŁOWIKU W ZESPOLE SZKOLNO-PRZEDSZKOLNYM W SŁOWIKU', pm10_avg=3.5500000000000003, pm25_avg=3.5416666666666665, post_code='42-263', pressure_avg=975.8916666666668, street='UL. PODLASKA', temperature_avg=10.4, timestamp='2024-10-13 14:41:48'),\n",
              " Row(city='NOWY TARG', humidity_avg=66.94545454545455, latitude='49.472942', longitude='20.025719', name='BRANŻOWA SZKOŁA I STOPNIA NR 1 W ZESPOLE SZKÓŁ TECHNICZNYCH I PLACÓWEK IM. STANISŁAWA STASZICA W NOWYM TARGU', pm10_avg=4.0181818181818185, pm25_avg=4.0181818181818185, post_code='34-400', pressure_avg=938.2090909090911, street='UL. WOJSKA POLSKIEGO', temperature_avg=13.345454545454546, timestamp='2024-10-13 14:41:48'),\n",
              " Row(city='ZASKALE', humidity_avg=70.96666666666667, latitude='49.4457208', longitude='19.9956008', name='SZKOŁA PODSTAWOWA IM. KARDYNAŁA KAROLA WOJTYŁY W ZASKALU', pm10_avg=6.458333333333333, pm25_avg=6.416666666666667, post_code='34-424', pressure_avg=934.8666666666667, street='UL. KARDYNAŁA KAROLA WOJTYŁY', temperature_avg=12.708333333333334, timestamp='2024-10-13 14:41:48'),\n",
              " Row(city='BIAŁYSTOK', humidity_avg=66.45833333333333, latitude='53.14087454', longitude='23.14176339', name='SZKOŁA PODSTAWOWA NR 7 IM. HUGONA KOŁŁĄTAJA W BIAŁYMSTOKU', pm10_avg=4.266666666666667, pm25_avg=4.241666666666666, post_code='15-827', pressure_avg=987.9583333333334, street='UL. WIATRAKOWA', temperature_avg=12.183333333333332, timestamp='2024-10-13 14:41:48'),\n",
              " Row(city='KRAKÓW-NOWA HUTA', humidity_avg=70.94166666666666, latitude='50.09770523236809 ', longitude='20.000041997569085', name='SZKOŁA PODSTAWOWA NR 85 IM. KS. KAZIMIERZA JANCARZA W KRAKOWIE', pm10_avg=0.9416666666666668, pm25_avg=0.7833333333333333, post_code='31-615', pressure_avg=979.6833333333334, street='OS. OSIEDLE ZŁOTEGO WIEKU', temperature_avg=15.366666666666667, timestamp='2024-10-13 14:41:48'),\n",
              " Row(city='KRAKÓW-ŚRÓDMIEŚCIE', humidity_avg=70.10833333333333, latitude='50.0758688', longitude='20.0454464', name='RZEMIEŚLNICZA BRANŻOWA SZKOŁA I STOPNIA MAŁOPOLSKIEJ IZBY RZEMIOSŁA I PRZEDSIĘBIORCZOŚCI W KRAKOWIE', pm10_avg=2.966666666666667, pm25_avg=2.7083333333333335, post_code='31-540', pressure_avg=986.4833333333332, street='UL. RZEŹNICZA', temperature_avg=14.508333333333333, timestamp='2024-10-13 14:41:48'),\n",
              " Row(city='ZABRZE', humidity_avg=82.05, latitude='50.3004748', longitude='18.7678691', name='SZKOŁA PODSTAWOWA SPECJALNA NR 38 W ZABRZU', pm10_avg=4.316666666666666, pm25_avg=4.316666666666666, post_code='41-800', pressure_avg=978.7583333333333, street='UL. KS. KONSTANTEGO DAMROTA', temperature_avg=12.891666666666666, timestamp='2024-10-13 14:41:48'),\n",
              " Row(city='JUGÓW', humidity_avg=52.25833333333333, latitude='50.6269273', longitude='16.517636', name='SZKOŁA PODSTAWOWA W JUGOWIE', pm10_avg=2.841666666666667, pm25_avg=2.8249999999999997, post_code='57-430', pressure_avg=952.2583333333333, street='UL. GŁÓWNA', temperature_avg=14.758333333333333, timestamp='2024-10-13 14:41:48'),\n",
              " Row(city='OSTROSZOWICE', humidity_avg=62.86363636363637, latitude='50.6466927', longitude='16.639145', name='SZKOŁA PODSTAWOWA IM. MIKOŁAJA KOPERNIKA W OSTROSZOWICACH', pm10_avg=3.2363636363636363, pm25_avg=3.2, post_code='58-262', pressure_avg=962.5636363636364, street='UL. BIELAWSKA', temperature_avg=12.009090909090908, timestamp='2024-10-13 14:41:48'),\n",
              " Row(city='KLIMONTÓW', humidity_avg=66.29166666666667, latitude='50.6567655', longitude='21.4510357', name='SZKOŁA PODSTAWOWA IM. ŚWIĘTEJ JADWIGI KRÓLOWEJ W KLIMONTOWIE', pm10_avg=4.741666666666667, pm25_avg=3.9499999999999997, post_code='32-112', pressure_avg=983.0166666666668, street=None, temperature_avg=15.058333333333332, timestamp='2024-10-13 14:41:48'),\n",
              " Row(city='ZGORZELEC', humidity_avg=52.644444444444446, latitude='51.15037275', longitude='15.0098556', name='PAŃSTWOWA SZKOŁA MUZYCZNA I ST. W ZGORZELCU', pm10_avg=0.9888888888888889, pm25_avg=0.9888888888888889, post_code='59-900', pressure_avg=980.9333333333333, street='UL. MARIANA LANGIEWICZA', temperature_avg=12.322222222222223, timestamp='2024-10-13 14:41:48'),\n",
              " Row(city='ZGORZELEC', humidity_avg=51.199999999999996, latitude='51.13437552', longitude='15.004683', name='LICEUM OGÓLNOKSZTAŁCĄCE COGITO Z ODDZIAŁAMI DWUJĘZYCZNYMI W ZGORZELCU', pm10_avg=1.2333333333333334, pm25_avg=1.125, post_code='59-900', pressure_avg=984.4083333333333, street='UL. MARSZ. JÓZEFA PIŁSUDSKIEGO', temperature_avg=12.758333333333333, timestamp='2024-10-13 14:41:48'),\n",
              " Row(city='MILICZ', humidity_avg=62.06666666666666, latitude='51.52472079301254', longitude='17.2632671', name='SZKOŁA PODSTAWOWA NR 2 W MILICZU', pm10_avg=1.175, pm25_avg=1.05, post_code='56-300', pressure_avg=991.8666666666667, street='UL. MIKOŁAJA KOPERNIKA', temperature_avg=13.533333333333333, timestamp='2024-10-13 14:41:48'),\n",
              " Row(city='JELENIA GÓRA', humidity_avg=46.31666666666666, latitude='50.9069298', longitude='15.7290772', name='TECHNIKUM W ZESPOLE SZKÓŁ TECHNICZNYCH \"MECHANIK\" W JELENIEJ GÓRZE', pm10_avg=1.4166666666666667, pm25_avg=1.375, post_code='58-500', pressure_avg=967.7416666666667, street='UL. OBROŃCÓW POKOJU', temperature_avg=14.933333333333335, timestamp='2024-10-13 14:41:48'),\n",
              " Row(city='OLEŚNICA', humidity_avg=64.71666666666667, latitude='51.2134346', longitude='17.3898504', name='KATOLICKA SZKOŁA PODSTAWOWA IM. ŚW. JANA APOSTOŁA I EWANGELISTY W OLEŚNICY', pm10_avg=1.3833333333333335, pm25_avg=0.9166666666666666, post_code='56-400', pressure_avg=989.3583333333332, street='UL. PÓŁNOCNA', temperature_avg=13.65, timestamp='2024-10-13 14:41:48'),\n",
              " Row(city='PAROWA', humidity_avg=74.20833333333333, latitude='51.36334255', longitude='15.2803958', name='SZKOŁA PODSTAWOWA W PAROWEJ', pm10_avg=4.566666666666666, pm25_avg=4.375, post_code='59-724', pressure_avg=987.1500000000001, street=None, temperature_avg=10.366666666666667, timestamp='2024-10-13 14:41:48'),\n",
              " Row(city='PRÓSZKÓW', humidity_avg=90.81818181818181, latitude='50.6691291', longitude='17.9210844', name='PUBLICZNA SZKOŁA PODSTAWOWA IM. BRONISŁAWA KORASZEWSKIEGO W PRÓSZKOWIE', pm10_avg=18.62727272727273, pm25_avg=18.027272727272727, post_code='46-060', pressure_avg=989.4272727272728, street='UL. SZKOLNA', temperature_avg=7.354545454545455, timestamp='2024-10-13 14:41:48'),\n",
              " Row(city='ZAWIERCIE', humidity_avg=81.95833333333333, latitude='50.4929809', longitude='19.4338741', name='TECHNIKUM NR 5 W ZAWIERCIU', pm10_avg=3.875, pm25_avg=2.716666666666667, post_code='42-400', pressure_avg=969.4166666666666, street='UL. PARKOWA', temperature_avg=12.091666666666667, timestamp='2024-10-13 14:41:48'),\n",
              " Row(city='KOLONOWSKIE', humidity_avg=82.24545454545455, latitude='50.662892819423945', longitude='18.35300127116459', name='PUBLICZNA SZKOŁA PODSTAWOWA STANISZCZE WIELKIE-KOLONOWSKIE 3', pm10_avg=7.809090909090909, pm25_avg=7.0, post_code='47-113', pressure_avg=986.8636363636364, street='UL. JANA PAWŁA II', temperature_avg=8.518181818181818, timestamp='2024-10-13 14:41:48'),\n",
              " Row(city='RADOM', humidity_avg=81.3, latitude='51.3713463', longitude='21.1308802', name='PUBLICZNA SZKOŁA PODSTAWOWA NR 17 IM. PRZYJACIÓŁ DZIECI W RADOMIU', pm10_avg=7.875, pm25_avg=7.866666666666667, post_code='26-600', pressure_avg=983.9333333333334, street='UL. CZARNOLESKA', temperature_avg=11.525, timestamp='2024-10-13 14:41:48'),\n",
              " Row(city='WIERZCHOWO', humidity_avg=78.89166666666667, latitude='53.4559625', longitude='16.0968376', name='SZKOŁA PODSTAWOWA W WIERZCHOWIE', pm10_avg=0.6, pm25_avg=0.4666666666666666, post_code='78-411', pressure_avg=984.9416666666666, street=None, temperature_avg=8.033333333333333, timestamp='2024-10-13 14:41:48'),\n",
              " Row(city='KUTNO', humidity_avg=83.99166666666666, latitude='52.23517579', longitude='19.34721901', name='II LICEUM OGÓLNOKSZTAŁCĄCE IM. JANA KASPROWICZA W KUTNIE', pm10_avg=2.1666666666666665, pm25_avg=2.158333333333333, post_code='99-300', pressure_avg=989.7333333333332, street='UL. OKRZEI', temperature_avg=9.491666666666667, timestamp='2024-10-13 14:41:48'),\n",
              " Row(city='BRUDNOWO', humidity_avg=76.77499999999999, latitude='52.8109379', longitude='18.8099861', name='SZKOŁA PODSTAWOWA W BRUDNOWIE', pm10_avg=2.1416666666666666, pm25_avg=2.1333333333333333, post_code='87-731', pressure_avg=989.9583333333334, street=None, temperature_avg=10.25, timestamp='2024-10-13 14:41:48'),\n",
              " Row(city='RACIĄŻEK', humidity_avg=78.50833333333334, latitude='52.856485', longitude='18.8133859', name='SZKOŁA PODSTAWOWA IM. KOMISJI EDUKACJI NARODOWEJ W RACIĄŻKU', pm10_avg=3.7916666666666665, pm25_avg=3.7416666666666667, post_code='87-721', pressure_avg=990.1333333333333, street='UL. SZKOLNA', temperature_avg=10.483333333333333, timestamp='2024-10-13 14:41:48'),\n",
              " Row(city='ROGOZINO', humidity_avg=86.20833333333333, latitude='52.5668522', longitude='19.8050343', name='SZKOŁA PODSTAWOWA IM. CZESŁAWA HIŃCAW ROGOZINIE', pm10_avg=9.566666666666666, pm25_avg=9.125, post_code='09-442', pressure_avg=991.275, street='UL. MAZOWIECKA', temperature_avg=10.566666666666666, timestamp='2024-10-13 14:41:48'),\n",
              " Row(city='GASZOWICE', humidity_avg=78.60833333333333, latitude='50.1081405', longitude='18.4281481', name='SZKOŁA PODSTAWOWA IM. TADEUSZA KOŚCIUSZKI W GASZOWICACH', pm10_avg=4.191666666666666, pm25_avg=4.175, post_code='44-293', pressure_avg=1005.0, street='UL. RYDUŁTOWSKA', temperature_avg=9.6, timestamp='2024-10-13 14:41:48'),\n",
              " Row(city='CZYŻOWICE', humidity_avg=86.425, latitude='49.98451', longitude='18.404863', name='SZKOŁA PODSTAWOWA IM. WINCENTEGO WOŹNIAKA W CZYŻOWICACH', pm10_avg=7.616666666666667, pm25_avg=6.141666666666667, post_code='44-352', pressure_avg=978.3166666666666, street='UL. WODZISŁAWSKA', temperature_avg=12.133333333333333, timestamp='2024-10-13 14:41:48'),\n",
              " Row(city='RYDUŁTOWY', humidity_avg=67.73333333333333, latitude='50.0757421', longitude='18.429921', name='SZKOŁA PODSTAWOWA NR 2 W RYDUŁTOWACH', pm10_avg=4.7, pm25_avg=3.516666666666667, post_code='44-280', pressure_avg=976.4083333333333, street='UL. RACIBORSKA', temperature_avg=14.683333333333332, timestamp='2024-10-13 14:41:48'),\n",
              " Row(city='ZWONOWICE', humidity_avg=80.925, latitude='50.1433165', longitude='18.4378208', name='SZKOŁA PODSTAWOWA IM. KS. KONSTANTEGO DAMROTA W ZESPOLE SZKOLNO-PRZEDSZKOLNYM W ZWONOWICACH', pm10_avg=3.6, pm25_avg=2.7583333333333333, post_code='44-292', pressure_avg=1001.0, street='UL. SUMIŃSKA', temperature_avg=11.433333333333332, timestamp='2024-10-13 14:41:48'),\n",
              " Row(city='TYCHY', humidity_avg=86.7, latitude='50.10091564', longitude='18.99160757', name='SZKOŁA PODSTAWOWA NR 7 IM. POWSTAŃCÓW ŚLĄSKICH W TYCHACH', pm10_avg=3.8285714285714287, pm25_avg=3.8, post_code='43-100', pressure_avg=976.4, street='UL. LWA TOŁSTOJA', temperature_avg=12.585714285714285, timestamp='2024-10-13 14:41:48'),\n",
              " Row(city='BYTOM', humidity_avg=75.86666666666666, latitude='50.33890828', longitude='18.90117439', name='SPOŁECZNA SZKOŁA PODSTAWOWA SPOŁECZNEGO TOWARZYSTWA OŚWIATOWEGO W BYTOMIU', pm10_avg=5.566666666666666, pm25_avg=5.55, post_code='41-907', pressure_avg=974.0166666666668, street='UL. SKRAJNA', temperature_avg=11.983333333333334, timestamp='2024-10-13 14:41:48'),\n",
              " Row(city='KONARY', humidity_avg=88.16666666666667, latitude='50.9175298', longitude='19.40616951', name='SZKOŁA PODSTAWOWA IM.JANA PAWŁA II W KONARACH', pm10_avg=6.366666666666667, pm25_avg=6.366666666666667, post_code='42-270', pressure_avg=977.8666666666667, street='UL. SZKOLNA', temperature_avg=12.0, timestamp='2024-10-13 14:41:48'),\n",
              " Row(city='GOSTYNIN', humidity_avg=80.13333333333334, latitude='52.4262601', longitude='19.4606299', name='LICEUM OGÓLNOKSZTAŁCĄCE Z ODDZIAŁAMI DWUJĘZYCZNYMI IM. TADEUSZA KOŚCIUSZKI W GOSTYNINIE', pm10_avg=4.233333333333333, pm25_avg=4.2, post_code='09-500', pressure_avg=991.3583333333332, street='UL. 3 MAJA', temperature_avg=10.65, timestamp='2024-10-13 14:41:48'),\n",
              " Row(city='PAPROTNIA', humidity_avg=75.86666666666666, latitude='52.1744156', longitude='18.4210458', name='SZKOŁA PODSTAWOWA IM. JANA BRZECHWY W PAPROTNI', pm10_avg=1.375, pm25_avg=1.3499999999999999, post_code='62-513', pressure_avg=992.0500000000001, street='UL. ZIELONA', temperature_avg=11.208333333333334, timestamp='2024-10-13 14:41:48'),\n",
              " Row(city='STARY BRONISZEW', humidity_avg=83.93333333333334, latitude='50.98367124', longitude='19.16268476', name='SZKOŁA PODSTAWOWA IM. 6 PUŁKU PIECHOTY W STARYM BRONISZEWIE', pm10_avg=4.8500000000000005, pm25_avg=4.766666666666667, post_code='42-231', pressure_avg=979.3833333333333, street='UL. KWIATOWA', temperature_avg=9.799999999999999, timestamp='2024-10-13 14:41:48'),\n",
              " Row(city='WIDZÓW', humidity_avg=84.175, latitude='50.97281325', longitude='19.38109774', name='SZKOŁA PODSTAWOWA IM. OJCA ŚWIĘTEGO JANA PAWŁA II W WIDZOWIE', pm10_avg=6.958333333333333, pm25_avg=6.683333333333334, post_code='42-282', pressure_avg=979.4666666666667, street='UL. ŻWIRKI I WIGURY', temperature_avg=10.65, timestamp='2024-10-13 14:41:48'),\n",
              " Row(city='ROZDZIELE', humidity_avg=61.15, latitude='49.78856719', longitude='20.44490879', name='SZKOŁA PODSTAWOWA IM. BŁOGOSŁAWIONEJ KAROLINY KÓZKÓWNY W ROZDZIELU', pm10_avg=2.8666666666666667, pm25_avg=2.8666666666666667, post_code='32-731', pressure_avg=950.3499999999999, street=None, temperature_avg=14.458333333333334, timestamp='2024-10-13 14:41:48'),\n",
              " Row(city='ROBAKOWO', humidity_avg=81.50833333333334, latitude='53.3593873', longitude='18.6632422', name='SZKOŁA PODSTAWOWA IM. WOJSKA POLSKIEGO W ROBAKOWIE', pm10_avg=2.9916666666666667, pm25_avg=2.9000000000000004, post_code='86-212', pressure_avg=987.8916666666668, street=None, temperature_avg=10.166666666666666, timestamp='2024-10-13 14:41:48'),\n",
              " Row(city='GRZECHYNIA', humidity_avg=63.14166666666667, latitude='49.713197', longitude='19.637399', name='SZKOŁA PODSTAWOWA IM. MIKOŁAJA REJA W GRZECHYNI', pm10_avg=2.1333333333333333, pm25_avg=2.1333333333333333, post_code='34-220', pressure_avg=956.9250000000001, street=None, temperature_avg=14.975, timestamp='2024-10-13 14:41:48'),\n",
              " Row(city='MYSZKÓW', humidity_avg=82.21111111111111, latitude='50.5546354', longitude='19.2969718', name='ZESPÓŁ SZKÓŁ NR 2 IM. H. KOŁŁĄTAJA TECHNIKUM NR 2 W MYSZKOWIE', pm10_avg=6.055555555555555, pm25_avg=5.822222222222222, post_code='42-300', pressure_avg=971.3777777777777, street='UL. PUŁASKIEGO', temperature_avg=11.722222222222221, timestamp='2024-10-13 14:41:48'),\n",
              " Row(city='WODZISŁAW ŚLĄSKI', humidity_avg=95.20833333333333, latitude='50.01082844379947', longitude='18.410009471165118', name='SZKOŁA PODSTAWOWA NR 15 W WODZISŁAWIU ŚLĄSKIM', pm10_avg=3.0, pm25_avg=2.35, post_code='44-373', pressure_avg=1008.9, street='UL. MŁODZIEŻOWA', temperature_avg=9.6, timestamp='2024-10-13 14:41:48'),\n",
              " Row(city='OZIMEK', humidity_avg=72.80833333333334, latitude='50.68532728', longitude='18.22029921', name='PUBLICZNE TECHNIKUM ZESPOŁU SZKÓŁ W OZIMKU', pm10_avg=1.9166666666666667, pm25_avg=1.5, post_code='46-040', pressure_avg=988.6416666666668, street='UL. CZĘSTOCHOWSKA', temperature_avg=9.450000000000001, timestamp='2024-10-13 14:41:48'),\n",
              " Row(city='SOSNÓWKA', humidity_avg=53.291666666666664, latitude='50.8177069', longitude='15.7230035', name='SZKOŁA PODSTAWOWA IM. MARII KONOPNICKIEJ W SOSNÓWCE', pm10_avg=0.9583333333333334, pm25_avg=0.9416666666666668, post_code='58-564', pressure_avg=962.1, street='UL. STRAŻACKA', temperature_avg=11.658333333333333, timestamp='2024-10-13 14:41:48'),\n",
              " Row(city='GŁĘBOWICE', humidity_avg=66.71666666666667, latitude='51.4489007', longitude='16.7360843', name='SZKOŁA PODSTAWOWA IM. JANA ADAMA DE GARNIER W GŁĘBOWICACH', pm10_avg=1.3666666666666665, pm25_avg=1.3333333333333333, post_code='56-160', pressure_avg=991.025, street=None, temperature_avg=13.766666666666666, timestamp='2024-10-13 14:41:48'),\n",
              " Row(city='WIŃSKO', humidity_avg=59.59166666666667, latitude='51.469753', longitude='16.6079403', name='SZKOŁA PODSTAWOWA W WIŃSKU', pm10_avg=1.1833333333333333, pm25_avg=1.0, post_code='56-160', pressure_avg=984.7583333333333, street='UL. NOWA', temperature_avg=13.266666666666666, timestamp='2024-10-13 14:41:48'),\n",
              " Row(city='LEONCIN', humidity_avg=84.60000000000001, latitude='52.3951342', longitude='20.5369966', name='SZKOŁA PODSTAWOWA IM. JANA PAWŁA II W LEONCINIE', pm10_avg=9.233333333333333, pm25_avg=9.200000000000001, post_code='05-155', pressure_avg=993.6999999999999, street='UL. ISAACA BASHEVISA SINGERA', temperature_avg=10.183333333333332, timestamp='2024-10-13 14:41:48'),\n",
              " Row(city='OGRODZIENIEC', humidity_avg=84.69166666666666, latitude='50.4512905', longitude='19.5171628', name='SZKOŁA PODSTAWOWA IM. STEFANA ŻEROMSKIEGO W OGRODZIEŃCU', pm10_avg=6.0, pm25_avg=5.858333333333333, post_code='42-440', pressure_avg=962.5083333333333, street='UL. KOŚCIUSZKI', temperature_avg=12.0, timestamp='2024-10-13 14:41:48'),\n",
              " Row(city='ŚWIDNICA', humidity_avg=45.544444444444444, latitude='51.0740481', longitude='16.677532', name='LICEUM OGÓLNOKSZTAŁCĄCE SZKOŁA MISTRZOSTWA SPORTOWEGO W KOLARSTWIE W ŚWIDNICY', pm10_avg=0.911111111111111, pm25_avg=0.8888888888888888, post_code='58-100', pressure_avg=976.8555555555556, street='UL. ROMUALDA TRAUGUTTA', temperature_avg=14.666666666666666, timestamp='2024-10-13 14:41:48'),\n",
              " Row(city='MILICZ', humidity_avg=50.00833333333333, latitude='51.52735', longitude='17.27622', name='SZKOŁA PODSTAWOWA NR 1 IM. MIKOŁAJA KOPERNIKA W MILICZU', pm10_avg=1.3583333333333334, pm25_avg=1.2333333333333334, post_code='56-300', pressure_avg=992.0500000000001, street='UL. ARMII KRAJOWEJ', temperature_avg=16.833333333333332, timestamp='2024-10-13 14:41:48'),\n",
              " Row(city='BOLESŁAWIEC', humidity_avg=81.36666666666666, latitude='51.2597212', longitude='15.5673211', name='SZKOŁA PODSTAWOWA NR 4 IM. JANA MATEJKI W BOLESŁAWCU', pm10_avg=2.1416666666666666, pm25_avg=2.066666666666667, post_code='59-700', pressure_avg=983.1750000000001, street='UL. MIKOŁAJA BRODY', temperature_avg=8.525, timestamp='2024-10-13 14:41:48'),\n",
              " Row(city='PECNA', humidity_avg=68.70833333333333, latitude='52.17923244553197', longitude='16.800542699999998', name='SZKOŁA PODSTAWOWA W PECNEJ', pm10_avg=2.5166666666666666, pm25_avg=2.4583333333333335, post_code='62-053', pressure_avg=995.6666666666666, street='UL. SZKOLNA', temperature_avg=11.583333333333334, timestamp='2024-10-13 14:41:48'),\n",
              " Row(city='SKRZATUSZ', humidity_avg=77.31666666666666, latitude='53.2047989', longitude='16.579039', name='SZKOŁA PODSTAWOWA IM. BOHATERÓW WYZWOLENIA ZIEMI WAŁECKIEJ W SKRZATUSZU', pm10_avg=0.7000000000000001, pm25_avg=0.6333333333333333, post_code='64-930', pressure_avg=982.9833333333332, street=None, temperature_avg=8.65, timestamp='2024-10-13 14:41:48'),\n",
              " Row(city='LUBIN', humidity_avg=55.34166666666667, latitude='51.397703', longitude='16.202913', name='TECHNIKUM TEB EDUKACJA W LUBINIE', pm10_avg=1.2, pm25_avg=1.0416666666666667, post_code='59-300', pressure_avg=990.7333333333332, street='UL. MIKOŁAJA KOPERNIKA', temperature_avg=13.258333333333333, timestamp='2024-10-13 14:41:48'),\n",
              " Row(city='GRĘBÓW', humidity_avg=63.839999999999996, latitude='50.5448996', longitude='21.89609263', name='SZKOŁA PODSTAWOWA NR 1 SPECJALNA W GRĘBOWIE', pm10_avg=4.68, pm25_avg=4.16, post_code='39-410', pressure_avg=992.2, street='UL. DOLAŃSKICH', temperature_avg=15.0, timestamp='2024-10-13 14:41:48'),\n",
              " Row(city='ZABRZE', humidity_avg=72.75, latitude='50.3344451', longitude='18.7812902', name='VII LICEUM OGÓLNOKSZTAŁCĄCE W ZABRZU W ZESPOLE SZKÓŁ NR 10 IM. PROF. JANUSZA GROSZKOWSKIEGO W ZABRZU', pm10_avg=7.516666666666666, pm25_avg=7.416666666666667, post_code='41-807', pressure_avg=976.4833333333332, street='UL. FRYDERYKA CHOPINA', temperature_avg=11.883333333333333, timestamp='2024-10-13 14:41:48'),\n",
              " Row(city='WYSOKA', humidity_avg=86.91111111111111, latitude='50.4243729', longitude='19.355767', name='SZKOŁA PODSTAWOWA IM. JÓZEFY JABCZYŃSKIEJ W WYSOKIEJ', pm10_avg=6.088888888888889, pm25_avg=5.699999999999999, post_code='42-450', pressure_avg=969.4111111111112, street='UL. ADAMA MICKIEWICZA', temperature_avg=11.777777777777779, timestamp='2024-10-13 14:41:48'),\n",
              " Row(city='BANIE', humidity_avg=80.68333333333334, latitude='53.10223694', longitude='14.66324506', name='SZKOŁA PODSTAWOWA IM. MARII SKŁODOWSKIEJ-CURIE W BANIACH', pm10_avg=1.8333333333333333, pm25_avg=1.2666666666666666, post_code='74-110', pressure_avg=998.1916666666666, street='UL. SPORTOWA', temperature_avg=10.058333333333334, timestamp='2024-10-13 14:41:48'),\n",
              " Row(city='DUDY', humidity_avg=80.63636363636364, latitude='52.75442246', longitude='21.88516495', name='PUBLICZNA SZKOŁA PODSTAWOWA IM.MARII DĄBROWSKIEJ W DUDACH', pm10_avg=6.4818181818181815, pm25_avg=6.454545454545454, post_code='07-300', pressure_avg=989.4727272727273, street=None, temperature_avg=10.263636363636364, timestamp='2024-10-13 14:41:48'),\n",
              " Row(city='ZGORZELEC', humidity_avg=54.050000000000004, latitude='51.15077998', longitude='15.0022784', name='SZKOŁA PODSTAWOWA COGITO Z ODDZIAŁAMI DWUJĘZYCZNYMI W ZGORZELCU', pm10_avg=1.45, pm25_avg=1.3916666666666666, post_code='59-900', pressure_avg=984.4416666666666, street='UL. MARSZ. JÓZEFA PIŁSUDSKIEGO', temperature_avg=12.841666666666667, timestamp='2024-10-13 14:41:48'),\n",
              " Row(city='RZESZÓW', humidity_avg=49.93333333333334, latitude='50.0348962', longitude='22.0170526', name='VII LICEUM OGÓLNOKSZTAŁCACE W RZESZOWIE', pm10_avg=3.6666666666666665, pm25_avg=3.6666666666666665, post_code='35-326', pressure_avg=984.3833333333333, street='AL. TADEUSZA REJTANA', temperature_avg=16.95, timestamp='2024-10-13 14:41:48'),\n",
              " Row(city='DZIERŻONIÓW', humidity_avg=59.44166666666666, latitude='50.72557241', longitude='16.65669399', name='TECHNIKUM NR 3 W DZIERŻONIOWIE - ZESPÓŁ SZKÓŁ NR 3 IM. KOMBATANTÓW RZECZYPOSPOLITEJ POLSKIEJ W DZIERŻONIOWIE', pm10_avg=2.75, pm25_avg=2.6999999999999997, post_code='58-200', pressure_avg=975.5083333333333, street='UL. SŁOWIAŃSKA', temperature_avg=12.5, timestamp='2024-10-13 14:41:48'),\n",
              " Row(city='MIĘDZYLESIE', humidity_avg=68.36666666666666, latitude='50.1477491', longitude='16.6670843', name='SAMORZĄDOWA SZKOŁA PODSTAWOWA W MIĘDZYLESIU', pm10_avg=3.1916666666666664, pm25_avg=3.158333333333333, post_code='57-530', pressure_avg=955.4499999999999, street='UL. BOLESŁAWA CHROBREGO', temperature_avg=11.541666666666666, timestamp='2024-10-13 14:41:48'),\n",
              " Row(city='CZELADŹ', humidity_avg=82.64999999999999, latitude='50.317273', longitude='19.0704415', name='TECHNIKUM NR 1 IM. MARII SKŁODOWSKIEJ-CURIE W CZELADZI', pm10_avg=5.75, pm25_avg=4.866666666666666, post_code='41-250', pressure_avg=975.5666666666666, street='UL. GRODZIECKA', temperature_avg=12.025, timestamp='2024-10-13 14:41:48'),\n",
              " Row(city='BIELAWA', humidity_avg=50.46, latitude='50.68265975', longitude='16.61694446', name='SZKOŁA PODSTAWOWA NR 10 Z ODDZIAŁAMI SPORTOWYMI W BIELAWIE', pm10_avg=2.58, pm25_avg=2.4799999999999995, post_code='58-260', pressure_avg=969.5200000000001, street='UL. GEN. GROTA ROWECKIEGO', temperature_avg=12.440000000000001, timestamp='2024-10-13 14:41:48'),\n",
              " Row(city='STARE BOSEWO', humidity_avg=82.85000000000001, latitude='52.7177827', longitude='21.3657086', name='SZKOŁA PODSTAWOWA  IM.KS.JANA TWARDOWSKIEGO  W STARYM BOSEWIE', pm10_avg=6.9750000000000005, pm25_avg=6.841666666666666, post_code='07-210', pressure_avg=995.1166666666667, street='UL. ROZWOJOWA', temperature_avg=9.4, timestamp='2024-10-13 14:41:48'),\n",
              " Row(city='MIĄSOWA', humidity_avg=77.45833333333333, latitude='50.7122903', longitude='20.3810297', name='SZKOŁA PODSTAWOWA W MIĄSOWEJ', pm10_avg=6.316666666666666, pm25_avg=5.208333333333333, post_code='28-305', pressure_avg=977.775, street=None, temperature_avg=12.658333333333333, timestamp='2024-10-13 14:41:48'),\n",
              " Row(city='JANKOWICE WIELKIE', humidity_avg=83.40833333333333, latitude='50.7669935', longitude='17.442356', name='PUBLICZNA SZKOŁA PODSTAWOWA JANKOWICE WIELKIE', pm10_avg=2.3000000000000003, pm25_avg=2.0166666666666666, post_code='49-332', pressure_avg=1003.0, street=None, temperature_avg=9.6, timestamp='2024-10-13 14:41:48'),\n",
              " Row(city='ZABRANIEC', humidity_avg=85.425, latitude='52.2989045', longitude='21.3365645', name='SZKOŁA PODSTAWOWA IM. MJR. HENRYKA DOBRZAŃSKIEGO \"HUBALA\" W ZABRAŃCU', pm10_avg=12.383333333333333, pm25_avg=9.616666666666667, post_code='05-079', pressure_avg=993.4666666666667, street='UL. KS. WŁ. SKONIECKIEGO', temperature_avg=9.875, timestamp='2024-10-13 14:41:48'),\n",
              " Row(city='CHORZÓW', humidity_avg=79.95833333333333, latitude='50.2802518', longitude='18.9554203', name='TECHNIKUM ELEKTRONICZNE W ZESPOLE SZKÓŁ TECHNICZNYCH NR 1 IM. WOJCIECHA KORFANTEGO W CHORZOWIE', pm10_avg=6.25, pm25_avg=6.25, post_code='41-506', pressure_avg=974.0666666666666, street='UL. SPORTOWA', temperature_avg=12.583333333333334, timestamp='2024-10-13 14:41:48'),\n",
              " Row(city='GORZYCE', humidity_avg=66.84166666666667, latitude='50.65740322', longitude='21.84007287', name='BRANŻOWA SZKOŁA I STOPNIA W GORZYCACH', pm10_avg=4.908333333333333, pm25_avg=4.033333333333333, post_code='39-432', pressure_avg=992.0500000000001, street='UL. ŻWIRKI I WIGURY', temperature_avg=14.966666666666667, timestamp='2024-10-13 14:41:48'),\n",
              " Row(city='PAWONKÓW', humidity_avg=82.875, latitude='50.6943842', longitude='18.5817496', name='SZKOŁA PODSTAWOWA IM. TADEUSZA KOŚCIUSZKI W PAWONKOWIE', pm10_avg=1.3083333333333333, pm25_avg=1.0999999999999999, post_code='42-772', pressure_avg=977.625, street='UL. SZKOLNA', temperature_avg=8.158333333333333, timestamp='2024-10-13 14:41:48'),\n",
              " ...]"
            ]
          },
          "metadata": {},
          "execution_count": 20
        }
      ]
    },
    {
      "cell_type": "markdown",
      "source": [
        "**Viewing DataFrame Columns**"
      ],
      "metadata": {
        "id": "LGiA9rLBPLz-"
      }
    },
    {
      "cell_type": "code",
      "source": [
        "smog_df.columns"
      ],
      "metadata": {
        "id": "LROUoF-cRUfz",
        "colab": {
          "base_uri": "https://localhost:8080/"
        },
        "outputId": "c9fc4eb5-81d9-4338-8ca9-5dee2cfe92c0"
      },
      "execution_count": null,
      "outputs": [
        {
          "output_type": "execute_result",
          "data": {
            "text/plain": [
              "['city',\n",
              " 'humidity_avg',\n",
              " 'latitude',\n",
              " 'longitude',\n",
              " 'name',\n",
              " 'pm10_avg',\n",
              " 'pm25_avg',\n",
              " 'post_code',\n",
              " 'pressure_avg',\n",
              " 'street',\n",
              " 'temperature_avg',\n",
              " 'timestamp']"
            ]
          },
          "metadata": {},
          "execution_count": 21
        }
      ]
    },
    {
      "cell_type": "markdown",
      "source": [
        "**Dataframe schema**  \n",
        "There ate two methods commonly used to view the data types of a dataframe:"
      ],
      "metadata": {
        "id": "ESeJfknGRlZk"
      }
    },
    {
      "cell_type": "code",
      "source": [
        "smog_df.dtypes"
      ],
      "metadata": {
        "colab": {
          "base_uri": "https://localhost:8080/"
        },
        "id": "XVtSdYvhVTvf",
        "outputId": "b599f3c3-d719-4e8c-8cb9-2a1c4713d189"
      },
      "execution_count": null,
      "outputs": [
        {
          "output_type": "execute_result",
          "data": {
            "text/plain": [
              "[('city', 'string'),\n",
              " ('humidity_avg', 'double'),\n",
              " ('latitude', 'string'),\n",
              " ('longitude', 'string'),\n",
              " ('name', 'string'),\n",
              " ('pm10_avg', 'double'),\n",
              " ('pm25_avg', 'double'),\n",
              " ('post_code', 'string'),\n",
              " ('pressure_avg', 'double'),\n",
              " ('street', 'string'),\n",
              " ('temperature_avg', 'double'),\n",
              " ('timestamp', 'string')]"
            ]
          },
          "metadata": {},
          "execution_count": 22
        }
      ]
    },
    {
      "cell_type": "code",
      "source": [
        "smog_df.printSchema()"
      ],
      "metadata": {
        "colab": {
          "base_uri": "https://localhost:8080/"
        },
        "id": "e0PpyuLGVtYA",
        "outputId": "7bc10077-4698-4040-9d94-41bd95fcce3e"
      },
      "execution_count": null,
      "outputs": [
        {
          "output_type": "stream",
          "name": "stdout",
          "text": [
            "root\n",
            " |-- city: string (nullable = true)\n",
            " |-- humidity_avg: double (nullable = true)\n",
            " |-- latitude: string (nullable = true)\n",
            " |-- longitude: string (nullable = true)\n",
            " |-- name: string (nullable = true)\n",
            " |-- pm10_avg: double (nullable = true)\n",
            " |-- pm25_avg: double (nullable = true)\n",
            " |-- post_code: string (nullable = true)\n",
            " |-- pressure_avg: double (nullable = true)\n",
            " |-- street: string (nullable = true)\n",
            " |-- temperature_avg: double (nullable = true)\n",
            " |-- timestamp: string (nullable = true)\n",
            "\n"
          ]
        }
      ]
    },
    {
      "cell_type": "markdown",
      "source": [
        "**Selecting data**"
      ],
      "metadata": {
        "id": "-feCwE5pV3fG"
      }
    },
    {
      "cell_type": "code",
      "source": [
        "smog_df.select(\"*\")"
      ],
      "metadata": {
        "id": "7L1AiO6SpwAT",
        "colab": {
          "base_uri": "https://localhost:8080/",
          "height": 875
        },
        "outputId": "4bc89718-ad23-4c13-f78f-ee6e2841cfd1"
      },
      "execution_count": null,
      "outputs": [
        {
          "output_type": "execute_result",
          "data": {
            "text/plain": [
              "+--------------------+-----------------+----------+----------+--------------------+-------------------+--------------------+---------+------------------+--------------------+------------------+-------------------+\n",
              "|                city|     humidity_avg|  latitude| longitude|                name|           pm10_avg|            pm25_avg|post_code|      pressure_avg|              street|   temperature_avg|          timestamp|\n",
              "+--------------------+-----------------+----------+----------+--------------------+-------------------+--------------------+---------+------------------+--------------------+------------------+-------------------+\n",
              "|          KRASZEWICE|91.98333333333333|  51.51563|  18.22403|SZKOŁA PODSTAWOWA...|               3.99|  2.3166666666666664|   63-522| 992.9533333333334|         UL. SZKOLNA|11.676666666666668|2024-10-13 14:41:48|\n",
              "|          WRZĄSOWICE|             69.7|  49.96103|  19.94282|SZKOŁA PODSTAWOWA...| 2.1999999999999997|  2.1999999999999997|   32-040| 970.1666666666666|         UL. SZKOLNA|            14.775|2024-10-13 14:41:48|\n",
              "|   STRZELCE OPOLSKIE|99.90000000000002| 50.503431| 18.314889|PUBLICZNA SZKOŁA ...|                1.0|  0.5366666666666666|   47-100|1023.9333333333334|UL. WAWRZYŃCA ŚWI...|6.8999999999999995|2024-10-13 14:41:48|\n",
              "|            PSZCZYNA|            91.67| 49.965883|18.9457058|ZESPÓŁ SZKÓŁ NR 1...|               5.66|   3.513333333333333|   43-200| 978.3033333333333|UL. KAZIMIERZA WI...|             12.57|2024-10-13 14:41:48|\n",
              "|   JANKÓW PRZYGODZKI|             99.7| 51.596172|17.7889069|ZESPÓŁ SZKÓŁ IM. ...| 13.799999999999999|                7.68|   63-421| 991.3333333333334|             SZKOLNA|              10.1|2024-10-13 14:41:48|\n",
              "|            ĆWIKLICE|             99.7| 49.971937| 18.989839|SZKOŁA PODSTAWOWA...|  6.766666666666667|  3.7066666666666666|   43-229|             978.9|UL. MĘCZENNIKÓW O...|              12.5|2024-10-13 14:41:48|\n",
              "|          STUDZIONKA|99.20333333333333|49.9603559| 18.774985|SZKOŁA PODSTAWOWA...|  8.209999999999999|                4.57|   43-245| 981.5533333333333|         UL. JORDANA|11.973333333333334|2024-10-13 14:41:48|\n",
              "|              PIASEK|99.90000000000002|  50.00955|  18.94634|ZESPÓŁ SZKOLNO-PR...|0.03333333333333333|0.016666666666666666|   43-211| 986.2666666666668|             SZKOLNA|12.433333333333332|2024-10-13 14:41:48|\n",
              "|                ŁĄKA|91.88999999999999|49.9582444| 18.906757|ZESPÓŁ SZKOLNO-PR...| 5.6000000000000005|  3.3033333333333332|   43-241| 983.7366666666667|          FITELBERGA|12.366666666666667|2024-10-13 14:41:48|\n",
              "|               LUBOŃ|99.13333333333333|   52.3481|   16.8968|SZKOŁA PODSTAWOWA...| 1.5666666666666667|  0.8700000000000001|   62-030| 989.1333333333333|        ARMII POZNAŃ|11.666666666666666|2024-10-13 14:41:48|\n",
              "|OSTROWIEC ŚWIĘTOK...|          82.2525|   50.9312| 21.418144|SPECJALNY OŚRODEK...|  9.584999999999999|                5.49|   27-400|           976.825|             SZKOLNA|           11.8775|2024-10-13 14:41:48|\n",
              "|         PRZYGODZICE|             99.9|  51.59023| 17.822685|ZESPÓŁ SZKÓŁ PONA...|              2.875|              1.6175|   63-421|             992.5|                 PTR|               9.3|2024-10-13 14:41:48|\n",
              "|            ODOLANÓW|81.66666666666667|  51.58063|  17.66024|LICEUM OGÓLNOKSZT...|                2.6|  1.4666666666666668|   63-430| 990.5666666666666|        KROTOSZYŃSKA|              10.1|2024-10-13 14:41:48|\n",
              "|             PIOTRÓW|75.63333333333333|  51.81570|  18.05485|ZESPÓŁ SZKÓŁ W PI...|                1.5|  0.7933333333333333|   62-814|             991.5|                NULL|              12.1|2024-10-13 14:41:48|\n",
              "|           CZARNYLAS|99.90000000000002| 51.508366| 17.762604|SZKOŁA PODSTAWOWA...| 21.833333333333332|               12.42|   63-421| 988.3666666666667|                NULL|10.299999999999999|2024-10-13 14:41:48|\n",
              "|               LUBOŃ|79.23333333333333| 52.346672| 16.878431|SZKOŁA PODSTAWOWA...| 1.5666666666666667|  0.9266666666666667|   62-030| 997.8000000000001|          ŻABIKOWSKA|11.933333333333332|2024-10-13 14:41:48|\n",
              "|            DORUCHÓW|92.17666666666666|   51.4189|   18.0786|SZKOŁA PODSTAWOWA...| 4.0200000000000005|   2.123333333333333|   63-505| 992.3466666666667|             KALISKA|11.586666666666666|2024-10-13 14:41:48|\n",
              "|            BUKOWIEC|99.90000000000002|   51.6918|   19.6757|SZKOŁA PODSTAWOWA...|  8.733333333333333|   4.846666666666667|   95-006|             976.6|             SZKOLNA|              10.0|2024-10-13 14:41:48|\n",
              "|              KOTLIN|87.65666666666668|  51.91866| 17.645437|SZKOŁA PODSTAWOWA...|  4.483333333333333|   2.466666666666667|   63-220| 993.6233333333333|  MARII KONOPNICKIEJ|11.833333333333334|2024-10-13 14:41:48|\n",
              "|            OTMUCHÓW|99.90000000000002|  50.46535|    17.213|SZKOŁA PODSTAWOWA...| 1.7666666666666666|  0.9533333333333333|   48-385| 988.4333333333334|            KALINOWA| 9.200000000000001|2024-10-13 14:41:48|\n",
              "+--------------------+-----------------+----------+----------+--------------------+-------------------+--------------------+---------+------------------+--------------------+------------------+-------------------+\n",
              "only showing top 20 rows"
            ],
            "text/html": [
              "<table border='1'>\n",
              "<tr><th>city</th><th>humidity_avg</th><th>latitude</th><th>longitude</th><th>name</th><th>pm10_avg</th><th>pm25_avg</th><th>post_code</th><th>pressure_avg</th><th>street</th><th>temperature_avg</th><th>timestamp</th></tr>\n",
              "<tr><td>KRASZEWICE</td><td>91.98333333333333</td><td>51.51563</td><td>18.22403</td><td>SZKOŁA PODSTAWOWA...</td><td>3.99</td><td>2.3166666666666664</td><td>63-522</td><td>992.9533333333334</td><td>UL. SZKOLNA</td><td>11.676666666666668</td><td>2024-10-13 14:41:48</td></tr>\n",
              "<tr><td>WRZĄSOWICE</td><td>69.7</td><td>49.96103</td><td>19.94282</td><td>SZKOŁA PODSTAWOWA...</td><td>2.1999999999999997</td><td>2.1999999999999997</td><td>32-040</td><td>970.1666666666666</td><td>UL. SZKOLNA</td><td>14.775</td><td>2024-10-13 14:41:48</td></tr>\n",
              "<tr><td>STRZELCE OPOLSKIE</td><td>99.90000000000002</td><td>50.503431</td><td>18.314889</td><td>PUBLICZNA SZKOŁA ...</td><td>1.0</td><td>0.5366666666666666</td><td>47-100</td><td>1023.9333333333334</td><td>UL. WAWRZYŃCA ŚWI...</td><td>6.8999999999999995</td><td>2024-10-13 14:41:48</td></tr>\n",
              "<tr><td>PSZCZYNA</td><td>91.67</td><td>49.965883</td><td>18.9457058</td><td>ZESP&Oacute;Ł SZK&Oacute;Ł NR 1...</td><td>5.66</td><td>3.513333333333333</td><td>43-200</td><td>978.3033333333333</td><td>UL. KAZIMIERZA WI...</td><td>12.57</td><td>2024-10-13 14:41:48</td></tr>\n",
              "<tr><td>JANK&Oacute;W PRZYGODZKI</td><td>99.7</td><td>51.596172</td><td>17.7889069</td><td>ZESP&Oacute;Ł SZK&Oacute;Ł IM. ...</td><td>13.799999999999999</td><td>7.68</td><td>63-421</td><td>991.3333333333334</td><td>SZKOLNA</td><td>10.1</td><td>2024-10-13 14:41:48</td></tr>\n",
              "<tr><td>ĆWIKLICE</td><td>99.7</td><td>49.971937</td><td>18.989839</td><td>SZKOŁA PODSTAWOWA...</td><td>6.766666666666667</td><td>3.7066666666666666</td><td>43-229</td><td>978.9</td><td>UL. MĘCZENNIK&Oacute;W O...</td><td>12.5</td><td>2024-10-13 14:41:48</td></tr>\n",
              "<tr><td>STUDZIONKA</td><td>99.20333333333333</td><td>49.9603559</td><td>18.774985</td><td>SZKOŁA PODSTAWOWA...</td><td>8.209999999999999</td><td>4.57</td><td>43-245</td><td>981.5533333333333</td><td>UL. JORDANA</td><td>11.973333333333334</td><td>2024-10-13 14:41:48</td></tr>\n",
              "<tr><td>PIASEK</td><td>99.90000000000002</td><td>50.00955</td><td>18.94634</td><td>ZESP&Oacute;Ł SZKOLNO-PR...</td><td>0.03333333333333333</td><td>0.016666666666666666</td><td>43-211</td><td>986.2666666666668</td><td>SZKOLNA</td><td>12.433333333333332</td><td>2024-10-13 14:41:48</td></tr>\n",
              "<tr><td>ŁĄKA</td><td>91.88999999999999</td><td>49.9582444</td><td>18.906757</td><td>ZESP&Oacute;Ł SZKOLNO-PR...</td><td>5.6000000000000005</td><td>3.3033333333333332</td><td>43-241</td><td>983.7366666666667</td><td>FITELBERGA</td><td>12.366666666666667</td><td>2024-10-13 14:41:48</td></tr>\n",
              "<tr><td>LUBOŃ</td><td>99.13333333333333</td><td>52.3481</td><td>16.8968</td><td>SZKOŁA PODSTAWOWA...</td><td>1.5666666666666667</td><td>0.8700000000000001</td><td>62-030</td><td>989.1333333333333</td><td>ARMII POZNAŃ</td><td>11.666666666666666</td><td>2024-10-13 14:41:48</td></tr>\n",
              "<tr><td>OSTROWIEC ŚWIĘTOK...</td><td>82.2525</td><td>50.9312</td><td>21.418144</td><td>SPECJALNY OŚRODEK...</td><td>9.584999999999999</td><td>5.49</td><td>27-400</td><td>976.825</td><td>SZKOLNA</td><td>11.8775</td><td>2024-10-13 14:41:48</td></tr>\n",
              "<tr><td>PRZYGODZICE</td><td>99.9</td><td>51.59023</td><td>17.822685</td><td>ZESP&Oacute;Ł SZK&Oacute;Ł PONA...</td><td>2.875</td><td>1.6175</td><td>63-421</td><td>992.5</td><td>PTR</td><td>9.3</td><td>2024-10-13 14:41:48</td></tr>\n",
              "<tr><td>ODOLAN&Oacute;W</td><td>81.66666666666667</td><td>51.58063</td><td>17.66024</td><td>LICEUM OG&Oacute;LNOKSZT...</td><td>2.6</td><td>1.4666666666666668</td><td>63-430</td><td>990.5666666666666</td><td>KROTOSZYŃSKA</td><td>10.1</td><td>2024-10-13 14:41:48</td></tr>\n",
              "<tr><td>PIOTR&Oacute;W</td><td>75.63333333333333</td><td>51.81570</td><td>18.05485</td><td>ZESP&Oacute;Ł SZK&Oacute;Ł W PI...</td><td>1.5</td><td>0.7933333333333333</td><td>62-814</td><td>991.5</td><td>NULL</td><td>12.1</td><td>2024-10-13 14:41:48</td></tr>\n",
              "<tr><td>CZARNYLAS</td><td>99.90000000000002</td><td>51.508366</td><td>17.762604</td><td>SZKOŁA PODSTAWOWA...</td><td>21.833333333333332</td><td>12.42</td><td>63-421</td><td>988.3666666666667</td><td>NULL</td><td>10.299999999999999</td><td>2024-10-13 14:41:48</td></tr>\n",
              "<tr><td>LUBOŃ</td><td>79.23333333333333</td><td>52.346672</td><td>16.878431</td><td>SZKOŁA PODSTAWOWA...</td><td>1.5666666666666667</td><td>0.9266666666666667</td><td>62-030</td><td>997.8000000000001</td><td>ŻABIKOWSKA</td><td>11.933333333333332</td><td>2024-10-13 14:41:48</td></tr>\n",
              "<tr><td>DORUCH&Oacute;W</td><td>92.17666666666666</td><td>51.4189</td><td>18.0786</td><td>SZKOŁA PODSTAWOWA...</td><td>4.0200000000000005</td><td>2.123333333333333</td><td>63-505</td><td>992.3466666666667</td><td>KALISKA</td><td>11.586666666666666</td><td>2024-10-13 14:41:48</td></tr>\n",
              "<tr><td>BUKOWIEC</td><td>99.90000000000002</td><td>51.6918</td><td>19.6757</td><td>SZKOŁA PODSTAWOWA...</td><td>8.733333333333333</td><td>4.846666666666667</td><td>95-006</td><td>976.6</td><td>SZKOLNA</td><td>10.0</td><td>2024-10-13 14:41:48</td></tr>\n",
              "<tr><td>KOTLIN</td><td>87.65666666666668</td><td>51.91866</td><td>17.645437</td><td>SZKOŁA PODSTAWOWA...</td><td>4.483333333333333</td><td>2.466666666666667</td><td>63-220</td><td>993.6233333333333</td><td>MARII KONOPNICKIEJ</td><td>11.833333333333334</td><td>2024-10-13 14:41:48</td></tr>\n",
              "<tr><td>OTMUCH&Oacute;W</td><td>99.90000000000002</td><td>50.46535</td><td>17.213</td><td>SZKOŁA PODSTAWOWA...</td><td>1.7666666666666666</td><td>0.9533333333333333</td><td>48-385</td><td>988.4333333333334</td><td>KALINOWA</td><td>9.200000000000001</td><td>2024-10-13 14:41:48</td></tr>\n",
              "</table>\n",
              "only showing top 20 rows\n"
            ]
          },
          "metadata": {},
          "execution_count": 24
        }
      ]
    },
    {
      "cell_type": "code",
      "source": [
        "df_of_cities = smog_df.select(\"city\")"
      ],
      "metadata": {
        "id": "Ai9CEiGiWGpD"
      },
      "execution_count": null,
      "outputs": []
    },
    {
      "cell_type": "markdown",
      "source": [
        "**Count of cities**"
      ],
      "metadata": {
        "id": "pieL8Js2ZZtu"
      }
    },
    {
      "cell_type": "code",
      "source": [
        "df_of_cities.count()"
      ],
      "metadata": {
        "colab": {
          "base_uri": "https://localhost:8080/"
        },
        "id": "HCwZvXtcWSfQ",
        "outputId": "7b41f9f0-d795-41c5-dde7-cce32b8b85e3"
      },
      "execution_count": null,
      "outputs": [
        {
          "output_type": "execute_result",
          "data": {
            "text/plain": [
              "1320"
            ]
          },
          "metadata": {},
          "execution_count": 26
        }
      ]
    },
    {
      "cell_type": "code",
      "source": [
        "df_of_cities.distinct().count()"
      ],
      "metadata": {
        "colab": {
          "base_uri": "https://localhost:8080/"
        },
        "id": "ddzynKkEXHBz",
        "outputId": "755a0a6a-ea6d-4a18-ed90-5c5794adeea8"
      },
      "execution_count": null,
      "outputs": [
        {
          "output_type": "execute_result",
          "data": {
            "text/plain": [
              "989"
            ]
          },
          "metadata": {},
          "execution_count": 27
        }
      ]
    },
    {
      "cell_type": "code",
      "source": [
        "df_of_cities.groupBy(\"city\").count().orderBy(\"count\", ascending=False)"
      ],
      "metadata": {
        "colab": {
          "base_uri": "https://localhost:8080/",
          "height": 511
        },
        "id": "AUPl5dQYXLBK",
        "outputId": "8038267c-86f0-40ba-bfcb-378e3c6773c6"
      },
      "execution_count": null,
      "outputs": [
        {
          "output_type": "execute_result",
          "data": {
            "text/plain": [
              "+---------------+-----+\n",
              "|           city|count|\n",
              "+---------------+-----+\n",
              "|         ZABRZE|   19|\n",
              "|         RYBNIK|   18|\n",
              "|    CZĘSTOCHOWA|   12|\n",
              "|        GLIWICE|   11|\n",
              "|      WAŁBRZYCH|   10|\n",
              "|        RZESZÓW|    8|\n",
              "|          CHEŁM|    8|\n",
              "|      ZAWIERCIE|    8|\n",
              "|KRAKÓW-PODGÓRZE|    7|\n",
              "|  BIELSKO-BIAŁA|    7|\n",
              "|         TARNÓW|    7|\n",
              "|       PSZCZYNA|    7|\n",
              "|       WARSZAWA|    7|\n",
              "|        BIELAWA|    6|\n",
              "|          TYCHY|    6|\n",
              "|    BOLESŁAWIEC|    6|\n",
              "|        KŁODZKO|    5|\n",
              "|      NOWY SĄCZ|    5|\n",
              "|       NOWA SÓL|    5|\n",
              "|   ZIELONA GÓRA|    5|\n",
              "+---------------+-----+\n",
              "only showing top 20 rows"
            ],
            "text/html": [
              "<table border='1'>\n",
              "<tr><th>city</th><th>count</th></tr>\n",
              "<tr><td>ZABRZE</td><td>19</td></tr>\n",
              "<tr><td>RYBNIK</td><td>18</td></tr>\n",
              "<tr><td>CZĘSTOCHOWA</td><td>12</td></tr>\n",
              "<tr><td>GLIWICE</td><td>11</td></tr>\n",
              "<tr><td>WAŁBRZYCH</td><td>10</td></tr>\n",
              "<tr><td>RZESZ&Oacute;W</td><td>8</td></tr>\n",
              "<tr><td>CHEŁM</td><td>8</td></tr>\n",
              "<tr><td>ZAWIERCIE</td><td>8</td></tr>\n",
              "<tr><td>KRAK&Oacute;W-PODG&Oacute;RZE</td><td>7</td></tr>\n",
              "<tr><td>BIELSKO-BIAŁA</td><td>7</td></tr>\n",
              "<tr><td>TARN&Oacute;W</td><td>7</td></tr>\n",
              "<tr><td>PSZCZYNA</td><td>7</td></tr>\n",
              "<tr><td>WARSZAWA</td><td>7</td></tr>\n",
              "<tr><td>BIELAWA</td><td>6</td></tr>\n",
              "<tr><td>TYCHY</td><td>6</td></tr>\n",
              "<tr><td>BOLESŁAWIEC</td><td>6</td></tr>\n",
              "<tr><td>KŁODZKO</td><td>5</td></tr>\n",
              "<tr><td>NOWY SĄCZ</td><td>5</td></tr>\n",
              "<tr><td>NOWA S&Oacute;L</td><td>5</td></tr>\n",
              "<tr><td>ZIELONA G&Oacute;RA</td><td>5</td></tr>\n",
              "</table>\n",
              "only showing top 20 rows\n"
            ]
          },
          "metadata": {},
          "execution_count": 28
        }
      ]
    },
    {
      "cell_type": "code",
      "source": [
        "df_cities_count_5 = df_of_cities.groupBy(\"city\").count().orderBy(\"count\", ascending=False).limit(5)"
      ],
      "metadata": {
        "id": "uFlH5FCEXSiZ"
      },
      "execution_count": null,
      "outputs": []
    },
    {
      "cell_type": "markdown",
      "source": [
        "### UDF (User defined functions)\n",
        "- PySpark User-Defined Functions (UDFs) help you convert your python code into a scalable version. UDFs are less performanced compare it with pyspark functions.  \n",
        "\n",
        "- When UDF is running in PySpark, each executor creates a python process. Data will be serialised and deserialised between each executor and python process.\n",
        "\n",
        "- This leads to lots of performance impact and overhead on spark jobs, making it less efficent. The Python worker consumes huge off-heap memory and so it often leads to memoryOverhead.\n",
        "\n",
        "\n",
        "**Register a function as UDF**\n",
        "\n",
        "```python\n",
        "def squared(x):\n",
        "  return x * x\n",
        "\n",
        "spark.udf.register(squaredWithPython, squared)\n",
        "```  \n",
        "\n",
        "```python\n",
        "def squared_typed(x):\n",
        "  return x * x\n",
        "spark.udf.register(\"squaredWithPython\", squared_typed, LongType())\n",
        "```  \n",
        "\n",
        "```python\n",
        "from pyspark.sql.functions import udf\n",
        "@udf(\"long\")\n",
        "def squared_udf(x):\n",
        "  return x * x\n",
        "```\n"
      ],
      "metadata": {
        "id": "1w1QEkm2Znnd"
      }
    },
    {
      "cell_type": "code",
      "source": [
        "from pyspark.sql.functions import udf\n",
        "@udf(\"long\")\n",
        "def squared_udf(x):\n",
        "  return x * x\n",
        "\n",
        "df_cities_count_5.select(\"city\", \"count\", squared_udf(\"count\").alias(\"count squared\"))"
      ],
      "metadata": {
        "colab": {
          "base_uri": "https://localhost:8080/",
          "height": 156
        },
        "id": "Uk-3XucAmtFj",
        "outputId": "a7a40852-2a65-4406-ae55-908fd85ff1fc"
      },
      "execution_count": null,
      "outputs": [
        {
          "output_type": "execute_result",
          "data": {
            "text/plain": [
              "+-----------+-----+-------------+\n",
              "|       city|count|count squared|\n",
              "+-----------+-----+-------------+\n",
              "|     ZABRZE|   19|          361|\n",
              "|     RYBNIK|   18|          324|\n",
              "|CZĘSTOCHOWA|   12|          144|\n",
              "|    GLIWICE|   11|          121|\n",
              "|  WAŁBRZYCH|   10|          100|\n",
              "+-----------+-----+-------------+"
            ],
            "text/html": [
              "<table border='1'>\n",
              "<tr><th>city</th><th>count</th><th>count squared</th></tr>\n",
              "<tr><td>ZABRZE</td><td>19</td><td>361</td></tr>\n",
              "<tr><td>RYBNIK</td><td>18</td><td>324</td></tr>\n",
              "<tr><td>CZĘSTOCHOWA</td><td>12</td><td>144</td></tr>\n",
              "<tr><td>GLIWICE</td><td>11</td><td>121</td></tr>\n",
              "<tr><td>WAŁBRZYCH</td><td>10</td><td>100</td></tr>\n",
              "</table>\n"
            ]
          },
          "metadata": {},
          "execution_count": 30
        }
      ]
    },
    {
      "cell_type": "code",
      "source": [
        "from pyspark.sql.types import LongType, IntegerType\n",
        "from pyspark.sql.functions import udf\n",
        "\n",
        "def identity(x):\n",
        "  return x\n",
        "\n",
        "spark.udf.register(\"squared_typed\", identity)"
      ],
      "metadata": {
        "colab": {
          "base_uri": "https://localhost:8080/",
          "height": 103
        },
        "id": "mRnRb2JsnPPG",
        "outputId": "5876b07c-592e-4897-be48-aeb7ffd9a81d"
      },
      "execution_count": null,
      "outputs": [
        {
          "output_type": "execute_result",
          "data": {
            "text/plain": [
              "<function __main__.identity(x)>"
            ],
            "text/html": [
              "<div style=\"max-width:800px; border: 1px solid var(--colab-border-color);\"><style>\n",
              "      pre.function-repr-contents {\n",
              "        overflow-x: auto;\n",
              "        padding: 8px 12px;\n",
              "        max-height: 500px;\n",
              "      }\n",
              "\n",
              "      pre.function-repr-contents.function-repr-contents-collapsed {\n",
              "        cursor: pointer;\n",
              "        max-height: 100px;\n",
              "      }\n",
              "    </style>\n",
              "    <pre style=\"white-space: initial; background:\n",
              "         var(--colab-secondary-surface-color); padding: 8px 12px;\n",
              "         border-bottom: 1px solid var(--colab-border-color);\"><b>identity</b><br/>def identity(x)</pre><pre class=\"function-repr-contents function-repr-contents-collapsed\" style=\"\"><a class=\"filepath\" style=\"display:none\" href=\"#\">/content/&lt;ipython-input-63-8f4b26d6017c&gt;</a>&lt;no docstring&gt;</pre></div>"
            ]
          },
          "metadata": {},
          "execution_count": 63
        }
      ]
    },
    {
      "cell_type": "code",
      "source": [
        "df_cities_count_5.select(\"city\", \"count\", identity(\"count\"))"
      ],
      "metadata": {
        "colab": {
          "base_uri": "https://localhost:8080/",
          "height": 156
        },
        "id": "EZUPygNan4CR",
        "outputId": "e9fc15fb-eaac-4362-93ed-e46b452ad055"
      },
      "execution_count": null,
      "outputs": [
        {
          "output_type": "execute_result",
          "data": {
            "text/plain": [
              "+-----------+-----+-----+\n",
              "|       city|count|count|\n",
              "+-----------+-----+-----+\n",
              "|     ZABRZE|   19|   19|\n",
              "|     RYBNIK|   18|   18|\n",
              "|CZĘSTOCHOWA|   12|   12|\n",
              "|    GLIWICE|   11|   11|\n",
              "|  WAŁBRZYCH|   10|   10|\n",
              "+-----------+-----+-----+"
            ],
            "text/html": [
              "<table border='1'>\n",
              "<tr><th>city</th><th>count</th><th>count</th></tr>\n",
              "<tr><td>ZABRZE</td><td>19</td><td>19</td></tr>\n",
              "<tr><td>RYBNIK</td><td>18</td><td>18</td></tr>\n",
              "<tr><td>CZĘSTOCHOWA</td><td>12</td><td>12</td></tr>\n",
              "<tr><td>GLIWICE</td><td>11</td><td>11</td></tr>\n",
              "<tr><td>WAŁBRZYCH</td><td>10</td><td>10</td></tr>\n",
              "</table>\n"
            ]
          },
          "metadata": {},
          "execution_count": 64
        }
      ]
    },
    {
      "cell_type": "markdown",
      "source": [
        "**List all of udfs**  \n",
        "In PySpark, once a UDF is registered, you can't directly retrieve or display its code. This is because the UDF is serialized and sent to the executors, but the original Python function used to create it isn't stored within the Spark environment. Therefore, there is no built-in functionality to display the code of a UDF after it's registered.\n",
        "\n"
      ],
      "metadata": {
        "id": "JygZq0SB7eLX"
      }
    },
    {
      "cell_type": "code",
      "source": [
        "functions = spark.catalog.listFunctions()\n",
        "for fun in functions:\n",
        "  if str(fun.className).startswith(\"org.apache.spark.sql.UDFRegistration\"):\n",
        "    print(fun)"
      ],
      "metadata": {
        "colab": {
          "base_uri": "https://localhost:8080/"
        },
        "id": "y7D2Ike97mpr",
        "outputId": "5025b33d-8c44-4892-9344-2455df35393e"
      },
      "execution_count": null,
      "outputs": [
        {
          "output_type": "stream",
          "name": "stdout",
          "text": [
            "Function(name='sqrtpy', catalog=None, namespace=None, description='N/A.', className='org.apache.spark.sql.UDFRegistration$$Lambda$3563/1236521595', isTemporary=True)\n",
            "Function(name='squared_typed', catalog=None, namespace=None, description='N/A.', className='org.apache.spark.sql.UDFRegistration$$Lambda$3563/1236521595', isTemporary=True)\n"
          ]
        }
      ]
    },
    {
      "cell_type": "markdown",
      "source": [
        "**Round float UDF**"
      ],
      "metadata": {
        "id": "QV3idPap_Yl5"
      }
    },
    {
      "cell_type": "code",
      "source": [
        "from pyspark.sql.types import IntegerType, FloatType\n",
        "from pyspark.sql.functions import udf\n",
        "\n",
        "def round_float_down(x: float) -> FloatType:\n",
        "  return round(x,2)\n",
        "\n",
        "round_float_down_udf = udf(round_float_down, FloatType())"
      ],
      "metadata": {
        "id": "R0RBBBkIAlWP"
      },
      "execution_count": null,
      "outputs": []
    },
    {
      "cell_type": "code",
      "source": [
        "smog_df = smog_df \\\n",
        ".withColumn(\"humidity_avg\", round_float_down_udf(\"humidity_avg\")) \\\n",
        ".withColumn(\"pm10_avg\", round_float_down_udf(\"pm10_avg\")) \\\n",
        ".withColumn(\"pm25_avg\", round_float_down_udf(\"pm25_avg\")) \\\n",
        ".withColumn(\"pressure_avg\", round_float_down_udf(\"pressure_avg\")) \\\n",
        ".withColumn(\"temperature_avg\", round_float_down_udf(\"temperature_avg\"))\n",
        "\n",
        "smog_df"
      ],
      "metadata": {
        "colab": {
          "base_uri": "https://localhost:8080/",
          "height": 511
        },
        "id": "9FBESbiG_el-",
        "outputId": "cada2fb7-84d6-40e8-c5a0-5062171082ed"
      },
      "execution_count": null,
      "outputs": [
        {
          "output_type": "execute_result",
          "data": {
            "text/plain": [
              "+--------------------+------------+----------+----------+--------------------+--------+--------+---------+------------+--------------------+---------------+-------------------+\n",
              "|                city|humidity_avg|  latitude| longitude|                name|pm10_avg|pm25_avg|post_code|pressure_avg|              street|temperature_avg|          timestamp|\n",
              "+--------------------+------------+----------+----------+--------------------+--------+--------+---------+------------+--------------------+---------------+-------------------+\n",
              "|          KRASZEWICE|       91.98|  51.51563|  18.22403|SZKOŁA PODSTAWOWA...|    3.99|    2.32|   63-522|      992.95|         UL. SZKOLNA|          11.68|2024-10-13 15:06:28|\n",
              "|          WRZĄSOWICE|        69.7|  49.96103|  19.94282|SZKOŁA PODSTAWOWA...|     2.2|     2.2|   32-040|      970.17|         UL. SZKOLNA|          14.78|2024-10-13 15:06:28|\n",
              "|   STRZELCE OPOLSKIE|        99.9| 50.503431| 18.314889|PUBLICZNA SZKOŁA ...|     1.0|    0.54|   47-100|     1023.93|UL. WAWRZYŃCA ŚWI...|            6.9|2024-10-13 15:06:28|\n",
              "|            PSZCZYNA|       91.67| 49.965883|18.9457058|ZESPÓŁ SZKÓŁ NR 1...|    5.66|    3.51|   43-200|       978.3|UL. KAZIMIERZA WI...|          12.57|2024-10-13 15:06:28|\n",
              "|   JANKÓW PRZYGODZKI|        99.7| 51.596172|17.7889069|ZESPÓŁ SZKÓŁ IM. ...|    13.8|    7.68|   63-421|      991.33|             SZKOLNA|           10.1|2024-10-13 15:06:28|\n",
              "|            ĆWIKLICE|        99.7| 49.971937| 18.989839|SZKOŁA PODSTAWOWA...|    6.77|    3.71|   43-229|       978.9|UL. MĘCZENNIKÓW O...|           12.5|2024-10-13 15:06:28|\n",
              "|          STUDZIONKA|        99.2|49.9603559| 18.774985|SZKOŁA PODSTAWOWA...|    8.21|    4.57|   43-245|      981.55|         UL. JORDANA|          11.97|2024-10-13 15:06:28|\n",
              "|              PIASEK|        99.9|  50.00955|  18.94634|ZESPÓŁ SZKOLNO-PR...|    0.03|    0.02|   43-211|      986.27|             SZKOLNA|          12.43|2024-10-13 15:06:28|\n",
              "|                ŁĄKA|       91.89|49.9582444| 18.906757|ZESPÓŁ SZKOLNO-PR...|     5.6|     3.3|   43-241|      983.74|          FITELBERGA|          12.37|2024-10-13 15:06:28|\n",
              "|               LUBOŃ|       99.13|   52.3481|   16.8968|SZKOŁA PODSTAWOWA...|    1.57|    0.87|   62-030|      989.13|        ARMII POZNAŃ|          11.67|2024-10-13 15:06:28|\n",
              "|OSTROWIEC ŚWIĘTOK...|       82.25|   50.9312| 21.418144|SPECJALNY OŚRODEK...|    9.58|    5.49|   27-400|      976.83|             SZKOLNA|          11.88|2024-10-13 15:06:28|\n",
              "|         PRZYGODZICE|        99.9|  51.59023| 17.822685|ZESPÓŁ SZKÓŁ PONA...|    2.88|    1.62|   63-421|       992.5|                 PTR|            9.3|2024-10-13 15:06:28|\n",
              "|            ODOLANÓW|       81.67|  51.58063|  17.66024|LICEUM OGÓLNOKSZT...|     2.6|    1.47|   63-430|      990.57|        KROTOSZYŃSKA|           10.1|2024-10-13 15:06:28|\n",
              "|             PIOTRÓW|       75.63|  51.81570|  18.05485|ZESPÓŁ SZKÓŁ W PI...|     1.5|    0.79|   62-814|       991.5|                NULL|           12.1|2024-10-13 15:06:28|\n",
              "|           CZARNYLAS|        99.9| 51.508366| 17.762604|SZKOŁA PODSTAWOWA...|   21.83|   12.42|   63-421|      988.37|                NULL|           10.3|2024-10-13 15:06:28|\n",
              "|               LUBOŃ|       79.23| 52.346672| 16.878431|SZKOŁA PODSTAWOWA...|    1.57|    0.93|   62-030|       997.8|          ŻABIKOWSKA|          11.93|2024-10-13 15:06:28|\n",
              "|            DORUCHÓW|       92.18|   51.4189|   18.0786|SZKOŁA PODSTAWOWA...|    4.02|    2.12|   63-505|      992.35|             KALISKA|          11.59|2024-10-13 15:06:28|\n",
              "|            BUKOWIEC|        99.9|   51.6918|   19.6757|SZKOŁA PODSTAWOWA...|    8.73|    4.85|   95-006|       976.6|             SZKOLNA|           10.0|2024-10-13 15:06:28|\n",
              "|              KOTLIN|       87.66|  51.91866| 17.645437|SZKOŁA PODSTAWOWA...|    4.48|    2.47|   63-220|      993.62|  MARII KONOPNICKIEJ|          11.83|2024-10-13 15:06:28|\n",
              "|            OTMUCHÓW|        99.9|  50.46535|    17.213|SZKOŁA PODSTAWOWA...|    1.77|    0.95|   48-385|      988.43|            KALINOWA|            9.2|2024-10-13 15:06:28|\n",
              "+--------------------+------------+----------+----------+--------------------+--------+--------+---------+------------+--------------------+---------------+-------------------+\n",
              "only showing top 20 rows"
            ],
            "text/html": [
              "<table border='1'>\n",
              "<tr><th>city</th><th>humidity_avg</th><th>latitude</th><th>longitude</th><th>name</th><th>pm10_avg</th><th>pm25_avg</th><th>post_code</th><th>pressure_avg</th><th>street</th><th>temperature_avg</th><th>timestamp</th></tr>\n",
              "<tr><td>KRASZEWICE</td><td>91.98</td><td>51.51563</td><td>18.22403</td><td>SZKOŁA PODSTAWOWA...</td><td>3.99</td><td>2.32</td><td>63-522</td><td>992.95</td><td>UL. SZKOLNA</td><td>11.68</td><td>2024-10-13 15:06:28</td></tr>\n",
              "<tr><td>WRZĄSOWICE</td><td>69.7</td><td>49.96103</td><td>19.94282</td><td>SZKOŁA PODSTAWOWA...</td><td>2.2</td><td>2.2</td><td>32-040</td><td>970.17</td><td>UL. SZKOLNA</td><td>14.78</td><td>2024-10-13 15:06:28</td></tr>\n",
              "<tr><td>STRZELCE OPOLSKIE</td><td>99.9</td><td>50.503431</td><td>18.314889</td><td>PUBLICZNA SZKOŁA ...</td><td>1.0</td><td>0.54</td><td>47-100</td><td>1023.93</td><td>UL. WAWRZYŃCA ŚWI...</td><td>6.9</td><td>2024-10-13 15:06:28</td></tr>\n",
              "<tr><td>PSZCZYNA</td><td>91.67</td><td>49.965883</td><td>18.9457058</td><td>ZESP&Oacute;Ł SZK&Oacute;Ł NR 1...</td><td>5.66</td><td>3.51</td><td>43-200</td><td>978.3</td><td>UL. KAZIMIERZA WI...</td><td>12.57</td><td>2024-10-13 15:06:28</td></tr>\n",
              "<tr><td>JANK&Oacute;W PRZYGODZKI</td><td>99.7</td><td>51.596172</td><td>17.7889069</td><td>ZESP&Oacute;Ł SZK&Oacute;Ł IM. ...</td><td>13.8</td><td>7.68</td><td>63-421</td><td>991.33</td><td>SZKOLNA</td><td>10.1</td><td>2024-10-13 15:06:28</td></tr>\n",
              "<tr><td>ĆWIKLICE</td><td>99.7</td><td>49.971937</td><td>18.989839</td><td>SZKOŁA PODSTAWOWA...</td><td>6.77</td><td>3.71</td><td>43-229</td><td>978.9</td><td>UL. MĘCZENNIK&Oacute;W O...</td><td>12.5</td><td>2024-10-13 15:06:28</td></tr>\n",
              "<tr><td>STUDZIONKA</td><td>99.2</td><td>49.9603559</td><td>18.774985</td><td>SZKOŁA PODSTAWOWA...</td><td>8.21</td><td>4.57</td><td>43-245</td><td>981.55</td><td>UL. JORDANA</td><td>11.97</td><td>2024-10-13 15:06:28</td></tr>\n",
              "<tr><td>PIASEK</td><td>99.9</td><td>50.00955</td><td>18.94634</td><td>ZESP&Oacute;Ł SZKOLNO-PR...</td><td>0.03</td><td>0.02</td><td>43-211</td><td>986.27</td><td>SZKOLNA</td><td>12.43</td><td>2024-10-13 15:06:28</td></tr>\n",
              "<tr><td>ŁĄKA</td><td>91.89</td><td>49.9582444</td><td>18.906757</td><td>ZESP&Oacute;Ł SZKOLNO-PR...</td><td>5.6</td><td>3.3</td><td>43-241</td><td>983.74</td><td>FITELBERGA</td><td>12.37</td><td>2024-10-13 15:06:28</td></tr>\n",
              "<tr><td>LUBOŃ</td><td>99.13</td><td>52.3481</td><td>16.8968</td><td>SZKOŁA PODSTAWOWA...</td><td>1.57</td><td>0.87</td><td>62-030</td><td>989.13</td><td>ARMII POZNAŃ</td><td>11.67</td><td>2024-10-13 15:06:28</td></tr>\n",
              "<tr><td>OSTROWIEC ŚWIĘTOK...</td><td>82.25</td><td>50.9312</td><td>21.418144</td><td>SPECJALNY OŚRODEK...</td><td>9.58</td><td>5.49</td><td>27-400</td><td>976.83</td><td>SZKOLNA</td><td>11.88</td><td>2024-10-13 15:06:28</td></tr>\n",
              "<tr><td>PRZYGODZICE</td><td>99.9</td><td>51.59023</td><td>17.822685</td><td>ZESP&Oacute;Ł SZK&Oacute;Ł PONA...</td><td>2.88</td><td>1.62</td><td>63-421</td><td>992.5</td><td>PTR</td><td>9.3</td><td>2024-10-13 15:06:28</td></tr>\n",
              "<tr><td>ODOLAN&Oacute;W</td><td>81.67</td><td>51.58063</td><td>17.66024</td><td>LICEUM OG&Oacute;LNOKSZT...</td><td>2.6</td><td>1.47</td><td>63-430</td><td>990.57</td><td>KROTOSZYŃSKA</td><td>10.1</td><td>2024-10-13 15:06:28</td></tr>\n",
              "<tr><td>PIOTR&Oacute;W</td><td>75.63</td><td>51.81570</td><td>18.05485</td><td>ZESP&Oacute;Ł SZK&Oacute;Ł W PI...</td><td>1.5</td><td>0.79</td><td>62-814</td><td>991.5</td><td>NULL</td><td>12.1</td><td>2024-10-13 15:06:28</td></tr>\n",
              "<tr><td>CZARNYLAS</td><td>99.9</td><td>51.508366</td><td>17.762604</td><td>SZKOŁA PODSTAWOWA...</td><td>21.83</td><td>12.42</td><td>63-421</td><td>988.37</td><td>NULL</td><td>10.3</td><td>2024-10-13 15:06:28</td></tr>\n",
              "<tr><td>LUBOŃ</td><td>79.23</td><td>52.346672</td><td>16.878431</td><td>SZKOŁA PODSTAWOWA...</td><td>1.57</td><td>0.93</td><td>62-030</td><td>997.8</td><td>ŻABIKOWSKA</td><td>11.93</td><td>2024-10-13 15:06:28</td></tr>\n",
              "<tr><td>DORUCH&Oacute;W</td><td>92.18</td><td>51.4189</td><td>18.0786</td><td>SZKOŁA PODSTAWOWA...</td><td>4.02</td><td>2.12</td><td>63-505</td><td>992.35</td><td>KALISKA</td><td>11.59</td><td>2024-10-13 15:06:28</td></tr>\n",
              "<tr><td>BUKOWIEC</td><td>99.9</td><td>51.6918</td><td>19.6757</td><td>SZKOŁA PODSTAWOWA...</td><td>8.73</td><td>4.85</td><td>95-006</td><td>976.6</td><td>SZKOLNA</td><td>10.0</td><td>2024-10-13 15:06:28</td></tr>\n",
              "<tr><td>KOTLIN</td><td>87.66</td><td>51.91866</td><td>17.645437</td><td>SZKOŁA PODSTAWOWA...</td><td>4.48</td><td>2.47</td><td>63-220</td><td>993.62</td><td>MARII KONOPNICKIEJ</td><td>11.83</td><td>2024-10-13 15:06:28</td></tr>\n",
              "<tr><td>OTMUCH&Oacute;W</td><td>99.9</td><td>50.46535</td><td>17.213</td><td>SZKOŁA PODSTAWOWA...</td><td>1.77</td><td>0.95</td><td>48-385</td><td>988.43</td><td>KALINOWA</td><td>9.2</td><td>2024-10-13 15:06:28</td></tr>\n",
              "</table>\n",
              "only showing top 20 rows\n"
            ]
          },
          "metadata": {},
          "execution_count": 90
        }
      ]
    },
    {
      "cell_type": "code",
      "source": [
        "df.where(df.pm10_avg>45)"
      ],
      "metadata": {
        "id": "2QuZr6UCpxwK"
      },
      "execution_count": null,
      "outputs": []
    },
    {
      "cell_type": "code",
      "source": [
        "df.agg({\"pm10_avg\":'avg'})"
      ],
      "metadata": {
        "id": "uMFg3gKrqD6z"
      },
      "execution_count": null,
      "outputs": []
    },
    {
      "cell_type": "code",
      "source": [
        "df_agg = df.groupBy(\"city\").agg({\"pm10_avg\":'avg',\"city\":'count'}).orderBy(\"count(city)\",ascending=False)"
      ],
      "metadata": {
        "id": "eSV1tCd_qpV6"
      },
      "execution_count": null,
      "outputs": []
    },
    {
      "cell_type": "code",
      "source": [
        "df.filter(df.city==\"POZNAŃ\").agg({\"city\":'count'})"
      ],
      "metadata": {
        "id": "E3xXG8ATrHmC"
      },
      "execution_count": null,
      "outputs": []
    },
    {
      "cell_type": "markdown",
      "source": [
        "TempView from dataframe"
      ],
      "metadata": {
        "id": "rYdufsZLl6ta"
      }
    },
    {
      "cell_type": "code",
      "source": [
        "df_agg_round.createOrReplaceTempView(\"df_agg_round\")"
      ],
      "metadata": {
        "id": "tGEVKZRUkfWr"
      },
      "execution_count": null,
      "outputs": []
    },
    {
      "cell_type": "code",
      "source": [
        "spark.sql(\"SELECT * FROM df_agg_round\")"
      ],
      "metadata": {
        "id": "h6Nu0kYElr1H"
      },
      "execution_count": null,
      "outputs": []
    },
    {
      "cell_type": "code",
      "source": [],
      "metadata": {
        "id": "zCDBghKxlu0A"
      },
      "execution_count": null,
      "outputs": []
    }
  ]
}